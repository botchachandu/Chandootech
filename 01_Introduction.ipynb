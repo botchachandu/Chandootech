{
 "cells": [
  {
   "cell_type": "markdown",
   "metadata": {},
   "source": [
    "## Plotly\n",
    "plotly is a library that allows us  to create interactive plots - you can use in dashboards and web apps ( save them as html files or static images) "
   ]
  },
  {
   "cell_type": "code",
   "execution_count": 3,
   "metadata": {},
   "outputs": [],
   "source": [
    "import numpy as np\n",
    "import pandas as pd\n",
    "%matplotlib inline\n",
    "from plotly import __version__\n",
    "from plotly.offline import download_plotlyjs, init_notebook_mode,plot, iplot\n"
   ]
  },
  {
   "cell_type": "code",
   "execution_count": 4,
   "metadata": {},
   "outputs": [
    {
     "name": "stdout",
     "output_type": "stream",
     "text": [
      "4.5.4\n"
     ]
    }
   ],
   "source": [
    "print(__version__)"
   ]
  },
  {
   "cell_type": "code",
   "execution_count": 6,
   "metadata": {},
   "outputs": [],
   "source": [
    "import cufflinks as cf"
   ]
  },
  {
   "cell_type": "code",
   "execution_count": 7,
   "metadata": {},
   "outputs": [
    {
     "data": {
      "text/html": [
       "        <script type=\"text/javascript\">\n",
       "        window.PlotlyConfig = {MathJaxConfig: 'local'};\n",
       "        if (window.MathJax) {MathJax.Hub.Config({SVG: {font: \"STIX-Web\"}});}\n",
       "        if (typeof require !== 'undefined') {\n",
       "        require.undef(\"plotly\");\n",
       "        requirejs.config({\n",
       "            paths: {\n",
       "                'plotly': ['https://cdn.plot.ly/plotly-latest.min']\n",
       "            }\n",
       "        });\n",
       "        require(['plotly'], function(Plotly) {\n",
       "            window._Plotly = Plotly;\n",
       "        });\n",
       "        }\n",
       "        </script>\n",
       "        "
      ]
     },
     "metadata": {},
     "output_type": "display_data"
    }
   ],
   "source": [
    "# For ploting within the notebook\n",
    "init_notebook_mode(connected=True)"
   ]
  },
  {
   "cell_type": "code",
   "execution_count": 8,
   "metadata": {},
   "outputs": [
    {
     "data": {
      "text/html": [
       "        <script type=\"text/javascript\">\n",
       "        window.PlotlyConfig = {MathJaxConfig: 'local'};\n",
       "        if (window.MathJax) {MathJax.Hub.Config({SVG: {font: \"STIX-Web\"}});}\n",
       "        if (typeof require !== 'undefined') {\n",
       "        require.undef(\"plotly\");\n",
       "        requirejs.config({\n",
       "            paths: {\n",
       "                'plotly': ['https://cdn.plot.ly/plotly-latest.min']\n",
       "            }\n",
       "        });\n",
       "        require(['plotly'], function(Plotly) {\n",
       "            window._Plotly = Plotly;\n",
       "        });\n",
       "        }\n",
       "        </script>\n",
       "        "
      ]
     },
     "metadata": {},
     "output_type": "display_data"
    }
   ],
   "source": [
    "# for offline usage of cufflinks\n",
    "cf.go_offline()"
   ]
  },
  {
   "cell_type": "markdown",
   "metadata": {},
   "source": [
    "## Fake Data"
   ]
  },
  {
   "cell_type": "code",
   "execution_count": 9,
   "metadata": {},
   "outputs": [],
   "source": [
    "df = pd.DataFrame(np.random.randn(100,4),columns='A B C D'.split())"
   ]
  },
  {
   "cell_type": "code",
   "execution_count": 10,
   "metadata": {},
   "outputs": [
    {
     "data": {
      "text/html": [
       "<div>\n",
       "<style scoped>\n",
       "    .dataframe tbody tr th:only-of-type {\n",
       "        vertical-align: middle;\n",
       "    }\n",
       "\n",
       "    .dataframe tbody tr th {\n",
       "        vertical-align: top;\n",
       "    }\n",
       "\n",
       "    .dataframe thead th {\n",
       "        text-align: right;\n",
       "    }\n",
       "</style>\n",
       "<table border=\"1\" class=\"dataframe\">\n",
       "  <thead>\n",
       "    <tr style=\"text-align: right;\">\n",
       "      <th></th>\n",
       "      <th>A</th>\n",
       "      <th>B</th>\n",
       "      <th>C</th>\n",
       "      <th>D</th>\n",
       "    </tr>\n",
       "  </thead>\n",
       "  <tbody>\n",
       "    <tr>\n",
       "      <td>0</td>\n",
       "      <td>0.089444</td>\n",
       "      <td>-1.365520</td>\n",
       "      <td>-1.044392</td>\n",
       "      <td>0.491210</td>\n",
       "    </tr>\n",
       "    <tr>\n",
       "      <td>1</td>\n",
       "      <td>-1.163690</td>\n",
       "      <td>1.803895</td>\n",
       "      <td>0.576000</td>\n",
       "      <td>-0.605421</td>\n",
       "    </tr>\n",
       "    <tr>\n",
       "      <td>2</td>\n",
       "      <td>-0.142224</td>\n",
       "      <td>0.108437</td>\n",
       "      <td>0.905499</td>\n",
       "      <td>0.428613</td>\n",
       "    </tr>\n",
       "    <tr>\n",
       "      <td>3</td>\n",
       "      <td>2.077824</td>\n",
       "      <td>1.435566</td>\n",
       "      <td>0.620364</td>\n",
       "      <td>0.574979</td>\n",
       "    </tr>\n",
       "    <tr>\n",
       "      <td>4</td>\n",
       "      <td>0.007891</td>\n",
       "      <td>-0.022422</td>\n",
       "      <td>-0.069249</td>\n",
       "      <td>-1.465165</td>\n",
       "    </tr>\n",
       "  </tbody>\n",
       "</table>\n",
       "</div>"
      ],
      "text/plain": [
       "          A         B         C         D\n",
       "0  0.089444 -1.365520 -1.044392  0.491210\n",
       "1 -1.163690  1.803895  0.576000 -0.605421\n",
       "2 -0.142224  0.108437  0.905499  0.428613\n",
       "3  2.077824  1.435566  0.620364  0.574979\n",
       "4  0.007891 -0.022422 -0.069249 -1.465165"
      ]
     },
     "execution_count": 10,
     "metadata": {},
     "output_type": "execute_result"
    }
   ],
   "source": [
    "df.head()"
   ]
  },
  {
   "cell_type": "code",
   "execution_count": 11,
   "metadata": {},
   "outputs": [],
   "source": [
    "df2 = pd.DataFrame({'Category':['A','B','C'],'Values':[32,43,50]})"
   ]
  },
  {
   "cell_type": "code",
   "execution_count": 12,
   "metadata": {},
   "outputs": [
    {
     "data": {
      "text/html": [
       "<div>\n",
       "<style scoped>\n",
       "    .dataframe tbody tr th:only-of-type {\n",
       "        vertical-align: middle;\n",
       "    }\n",
       "\n",
       "    .dataframe tbody tr th {\n",
       "        vertical-align: top;\n",
       "    }\n",
       "\n",
       "    .dataframe thead th {\n",
       "        text-align: right;\n",
       "    }\n",
       "</style>\n",
       "<table border=\"1\" class=\"dataframe\">\n",
       "  <thead>\n",
       "    <tr style=\"text-align: right;\">\n",
       "      <th></th>\n",
       "      <th>Category</th>\n",
       "      <th>Values</th>\n",
       "    </tr>\n",
       "  </thead>\n",
       "  <tbody>\n",
       "    <tr>\n",
       "      <td>0</td>\n",
       "      <td>A</td>\n",
       "      <td>32</td>\n",
       "    </tr>\n",
       "    <tr>\n",
       "      <td>1</td>\n",
       "      <td>B</td>\n",
       "      <td>43</td>\n",
       "    </tr>\n",
       "    <tr>\n",
       "      <td>2</td>\n",
       "      <td>C</td>\n",
       "      <td>50</td>\n",
       "    </tr>\n",
       "  </tbody>\n",
       "</table>\n",
       "</div>"
      ],
      "text/plain": [
       "  Category  Values\n",
       "0        A      32\n",
       "1        B      43\n",
       "2        C      50"
      ]
     },
     "execution_count": 12,
     "metadata": {},
     "output_type": "execute_result"
    }
   ],
   "source": [
    "df2.head()"
   ]
  },
  {
   "cell_type": "markdown",
   "metadata": {},
   "source": [
    "# Scatter"
   ]
  },
  {
   "cell_type": "code",
   "execution_count": 13,
   "metadata": {},
   "outputs": [
    {
     "data": {
      "application/vnd.plotly.v1+json": {
       "config": {
        "linkText": "Export to plot.ly",
        "plotlyServerURL": "https://plot.ly",
        "showLink": true
       },
       "data": [
        {
         "line": {
          "color": "rgba(255, 153, 51, 1.0)",
          "dash": "solid",
          "shape": "linear",
          "width": 1.3
         },
         "marker": {
          "size": 12,
          "symbol": "circle"
         },
         "mode": "markers",
         "name": "B",
         "text": "",
         "type": "scatter",
         "x": [
          0.0894442250382196,
          -1.1636901974238956,
          -0.14222402464788517,
          2.0778243621370107,
          0.007891208853460787,
          1.5114211282301155,
          -0.5781301716748249,
          -0.6493464768341835,
          0.8804366298714607,
          -0.28659777359830724,
          -1.5497540650436465,
          0.06842940166910959,
          -0.8432149839111754,
          0.3625754416965515,
          1.7444769159705618,
          -1.7432789276671714,
          0.8127035469807969,
          0.03540155607319169,
          1.3149034064472398,
          -0.8091799746687368,
          0.5944092099911594,
          0.03851348232570403,
          0.5753884431301269,
          -0.14955590357202014,
          0.006847168151190288,
          -0.4779403451771194,
          -0.5121962485105361,
          0.39522619677635673,
          -0.7774209665066977,
          0.2010098882993933,
          -0.413765603541961,
          -1.837127240885446,
          -0.7430045491018606,
          0.3817020317037981,
          -2.2971459526257667,
          -0.930848336285178,
          -0.059242497738331006,
          -0.7226483965722095,
          0.9331620841320196,
          -0.007067825779079438,
          -0.24593939584039556,
          -0.23069547894684309,
          1.0131302346093156,
          2.16057042620193,
          0.12158079292653799,
          1.9895997640116458,
          0.8383931024137476,
          -0.008374359246434421,
          1.4147381393816199,
          -0.7975371494374897,
          1.6005923733589194,
          0.8461877996382429,
          0.6049372106916631,
          0.6167289385603898,
          -0.9841922062555499,
          -0.7090223222393144,
          -0.20062344927579204,
          -0.21840508922074062,
          0.46574555484211694,
          0.901984420014373,
          0.2751723113873585,
          -0.7373810854520237,
          1.2959580631458174,
          1.3275372519280928,
          -0.14695123385579606,
          -0.9368085763045358,
          0.4789197351621965,
          0.6776401387760087,
          0.5397652861837627,
          0.13821965496865166,
          -0.6589820202089064,
          -0.17053658113319353,
          -1.1714716606227185,
          -0.6338918773750294,
          1.4530407842838158,
          -0.3677987470750953,
          -0.578155120774312,
          2.1707062080560133,
          -0.035509206884830384,
          -0.8735811264138856,
          0.3147312144581037,
          0.4965454858722151,
          1.8680870347309269,
          0.6875958421101073,
          -1.2340194983831576,
          -1.0017507758501363,
          -0.24547889804649828,
          -1.5561944000977719,
          -1.2255841958311244,
          -1.8797420996939276,
          -1.1416902067245454,
          -0.8550160927407154,
          -0.48042608219442223,
          -0.27799480490922684,
          1.3749139157097308,
          0.27300356286191324,
          -0.8159390980627154,
          -0.01673684419022112,
          -1.126958887272344,
          0.1649610079367353
         ],
         "y": [
          -1.3655200158258656,
          1.8038949899218248,
          0.10843718531566045,
          1.4355657023969033,
          -0.022422383228524325,
          -0.11741546053121543,
          0.6385468531906983,
          -0.08348409080065669,
          -0.650770612339167,
          0.3565848106287523,
          1.594711505005319,
          -1.014433488127197,
          0.6890127651066934,
          0.3977818554815641,
          -1.341690125875958,
          -0.6988102568559302,
          -0.36712508794464865,
          -1.0522588585848436,
          1.3882909633804152,
          -1.6094941778442455,
          -0.33120523917734057,
          -1.6903848972611626,
          0.2843131685488693,
          2.0035637132125133,
          -0.19697092284664577,
          -0.1514736478519328,
          -1.3298873967560545,
          0.8235919879503149,
          -0.8030815481501907,
          -1.7409748037034218,
          1.209499887557365,
          2.1416193669136336,
          1.4512468981049529,
          -0.5240122074515902,
          -0.37520021469507336,
          1.4354493635068033,
          1.0685554307252807,
          -0.8168828279085346,
          -1.5838185817713528,
          -0.4387628603968676,
          0.03990606955832411,
          2.6493819629058453,
          -1.1626131670879876,
          0.01333459287637117,
          -0.7313883942559631,
          0.8343779478478394,
          0.8029890061540522,
          -1.412959274261139,
          1.073032685859393,
          0.2267015121459549,
          1.143345332830039,
          2.496603362120481,
          0.9793209297274629,
          0.8583954260892992,
          -1.2895959623160749,
          0.2489351926348663,
          1.4711880643513884,
          0.9657769617053209,
          1.583826612796633,
          -0.4454618003166316,
          0.7445328747000158,
          1.0616834457354132,
          -1.3195277669201264,
          0.5047985700119586,
          -1.8297770264924418,
          -0.5786800269282291,
          1.9202916269657508,
          -1.0730822622527767,
          0.150800146046857,
          -1.2739672247693878,
          -0.8728613885960235,
          0.8914441421994455,
          1.5761950339719883,
          -1.3717201448056051,
          1.3337188675745775,
          -0.022728635798502476,
          2.1905772534661017,
          0.6312529720703588,
          -1.0380398690782615,
          1.6329567828998433,
          0.20035279599071623,
          -0.7784045068351377,
          1.2532029356440353,
          -0.7709214851815889,
          -0.15009567530999388,
          -0.16439602171750148,
          0.15408902677376046,
          -0.30995291488325527,
          -0.11498077746145126,
          0.4083918780301276,
          -0.36918189473767477,
          1.415344496215347,
          -0.21976358236558427,
          2.6148405210002705,
          -1.5097530168154465,
          0.44936574046642674,
          0.07000168611707176,
          0.08650081185933392,
          0.9203281370471121,
          1.5903200193556177
         ]
        }
       ],
       "layout": {
        "legend": {
         "bgcolor": "#F5F6F9",
         "font": {
          "color": "#4D5663"
         }
        },
        "paper_bgcolor": "#F5F6F9",
        "plot_bgcolor": "#F5F6F9",
        "template": {
         "data": {
          "bar": [
           {
            "error_x": {
             "color": "#2a3f5f"
            },
            "error_y": {
             "color": "#2a3f5f"
            },
            "marker": {
             "line": {
              "color": "#E5ECF6",
              "width": 0.5
             }
            },
            "type": "bar"
           }
          ],
          "barpolar": [
           {
            "marker": {
             "line": {
              "color": "#E5ECF6",
              "width": 0.5
             }
            },
            "type": "barpolar"
           }
          ],
          "carpet": [
           {
            "aaxis": {
             "endlinecolor": "#2a3f5f",
             "gridcolor": "white",
             "linecolor": "white",
             "minorgridcolor": "white",
             "startlinecolor": "#2a3f5f"
            },
            "baxis": {
             "endlinecolor": "#2a3f5f",
             "gridcolor": "white",
             "linecolor": "white",
             "minorgridcolor": "white",
             "startlinecolor": "#2a3f5f"
            },
            "type": "carpet"
           }
          ],
          "choropleth": [
           {
            "colorbar": {
             "outlinewidth": 0,
             "ticks": ""
            },
            "type": "choropleth"
           }
          ],
          "contour": [
           {
            "colorbar": {
             "outlinewidth": 0,
             "ticks": ""
            },
            "colorscale": [
             [
              0,
              "#0d0887"
             ],
             [
              0.1111111111111111,
              "#46039f"
             ],
             [
              0.2222222222222222,
              "#7201a8"
             ],
             [
              0.3333333333333333,
              "#9c179e"
             ],
             [
              0.4444444444444444,
              "#bd3786"
             ],
             [
              0.5555555555555556,
              "#d8576b"
             ],
             [
              0.6666666666666666,
              "#ed7953"
             ],
             [
              0.7777777777777778,
              "#fb9f3a"
             ],
             [
              0.8888888888888888,
              "#fdca26"
             ],
             [
              1,
              "#f0f921"
             ]
            ],
            "type": "contour"
           }
          ],
          "contourcarpet": [
           {
            "colorbar": {
             "outlinewidth": 0,
             "ticks": ""
            },
            "type": "contourcarpet"
           }
          ],
          "heatmap": [
           {
            "colorbar": {
             "outlinewidth": 0,
             "ticks": ""
            },
            "colorscale": [
             [
              0,
              "#0d0887"
             ],
             [
              0.1111111111111111,
              "#46039f"
             ],
             [
              0.2222222222222222,
              "#7201a8"
             ],
             [
              0.3333333333333333,
              "#9c179e"
             ],
             [
              0.4444444444444444,
              "#bd3786"
             ],
             [
              0.5555555555555556,
              "#d8576b"
             ],
             [
              0.6666666666666666,
              "#ed7953"
             ],
             [
              0.7777777777777778,
              "#fb9f3a"
             ],
             [
              0.8888888888888888,
              "#fdca26"
             ],
             [
              1,
              "#f0f921"
             ]
            ],
            "type": "heatmap"
           }
          ],
          "heatmapgl": [
           {
            "colorbar": {
             "outlinewidth": 0,
             "ticks": ""
            },
            "colorscale": [
             [
              0,
              "#0d0887"
             ],
             [
              0.1111111111111111,
              "#46039f"
             ],
             [
              0.2222222222222222,
              "#7201a8"
             ],
             [
              0.3333333333333333,
              "#9c179e"
             ],
             [
              0.4444444444444444,
              "#bd3786"
             ],
             [
              0.5555555555555556,
              "#d8576b"
             ],
             [
              0.6666666666666666,
              "#ed7953"
             ],
             [
              0.7777777777777778,
              "#fb9f3a"
             ],
             [
              0.8888888888888888,
              "#fdca26"
             ],
             [
              1,
              "#f0f921"
             ]
            ],
            "type": "heatmapgl"
           }
          ],
          "histogram": [
           {
            "marker": {
             "colorbar": {
              "outlinewidth": 0,
              "ticks": ""
             }
            },
            "type": "histogram"
           }
          ],
          "histogram2d": [
           {
            "colorbar": {
             "outlinewidth": 0,
             "ticks": ""
            },
            "colorscale": [
             [
              0,
              "#0d0887"
             ],
             [
              0.1111111111111111,
              "#46039f"
             ],
             [
              0.2222222222222222,
              "#7201a8"
             ],
             [
              0.3333333333333333,
              "#9c179e"
             ],
             [
              0.4444444444444444,
              "#bd3786"
             ],
             [
              0.5555555555555556,
              "#d8576b"
             ],
             [
              0.6666666666666666,
              "#ed7953"
             ],
             [
              0.7777777777777778,
              "#fb9f3a"
             ],
             [
              0.8888888888888888,
              "#fdca26"
             ],
             [
              1,
              "#f0f921"
             ]
            ],
            "type": "histogram2d"
           }
          ],
          "histogram2dcontour": [
           {
            "colorbar": {
             "outlinewidth": 0,
             "ticks": ""
            },
            "colorscale": [
             [
              0,
              "#0d0887"
             ],
             [
              0.1111111111111111,
              "#46039f"
             ],
             [
              0.2222222222222222,
              "#7201a8"
             ],
             [
              0.3333333333333333,
              "#9c179e"
             ],
             [
              0.4444444444444444,
              "#bd3786"
             ],
             [
              0.5555555555555556,
              "#d8576b"
             ],
             [
              0.6666666666666666,
              "#ed7953"
             ],
             [
              0.7777777777777778,
              "#fb9f3a"
             ],
             [
              0.8888888888888888,
              "#fdca26"
             ],
             [
              1,
              "#f0f921"
             ]
            ],
            "type": "histogram2dcontour"
           }
          ],
          "mesh3d": [
           {
            "colorbar": {
             "outlinewidth": 0,
             "ticks": ""
            },
            "type": "mesh3d"
           }
          ],
          "parcoords": [
           {
            "line": {
             "colorbar": {
              "outlinewidth": 0,
              "ticks": ""
             }
            },
            "type": "parcoords"
           }
          ],
          "pie": [
           {
            "automargin": true,
            "type": "pie"
           }
          ],
          "scatter": [
           {
            "marker": {
             "colorbar": {
              "outlinewidth": 0,
              "ticks": ""
             }
            },
            "type": "scatter"
           }
          ],
          "scatter3d": [
           {
            "line": {
             "colorbar": {
              "outlinewidth": 0,
              "ticks": ""
             }
            },
            "marker": {
             "colorbar": {
              "outlinewidth": 0,
              "ticks": ""
             }
            },
            "type": "scatter3d"
           }
          ],
          "scattercarpet": [
           {
            "marker": {
             "colorbar": {
              "outlinewidth": 0,
              "ticks": ""
             }
            },
            "type": "scattercarpet"
           }
          ],
          "scattergeo": [
           {
            "marker": {
             "colorbar": {
              "outlinewidth": 0,
              "ticks": ""
             }
            },
            "type": "scattergeo"
           }
          ],
          "scattergl": [
           {
            "marker": {
             "colorbar": {
              "outlinewidth": 0,
              "ticks": ""
             }
            },
            "type": "scattergl"
           }
          ],
          "scattermapbox": [
           {
            "marker": {
             "colorbar": {
              "outlinewidth": 0,
              "ticks": ""
             }
            },
            "type": "scattermapbox"
           }
          ],
          "scatterpolar": [
           {
            "marker": {
             "colorbar": {
              "outlinewidth": 0,
              "ticks": ""
             }
            },
            "type": "scatterpolar"
           }
          ],
          "scatterpolargl": [
           {
            "marker": {
             "colorbar": {
              "outlinewidth": 0,
              "ticks": ""
             }
            },
            "type": "scatterpolargl"
           }
          ],
          "scatterternary": [
           {
            "marker": {
             "colorbar": {
              "outlinewidth": 0,
              "ticks": ""
             }
            },
            "type": "scatterternary"
           }
          ],
          "surface": [
           {
            "colorbar": {
             "outlinewidth": 0,
             "ticks": ""
            },
            "colorscale": [
             [
              0,
              "#0d0887"
             ],
             [
              0.1111111111111111,
              "#46039f"
             ],
             [
              0.2222222222222222,
              "#7201a8"
             ],
             [
              0.3333333333333333,
              "#9c179e"
             ],
             [
              0.4444444444444444,
              "#bd3786"
             ],
             [
              0.5555555555555556,
              "#d8576b"
             ],
             [
              0.6666666666666666,
              "#ed7953"
             ],
             [
              0.7777777777777778,
              "#fb9f3a"
             ],
             [
              0.8888888888888888,
              "#fdca26"
             ],
             [
              1,
              "#f0f921"
             ]
            ],
            "type": "surface"
           }
          ],
          "table": [
           {
            "cells": {
             "fill": {
              "color": "#EBF0F8"
             },
             "line": {
              "color": "white"
             }
            },
            "header": {
             "fill": {
              "color": "#C8D4E3"
             },
             "line": {
              "color": "white"
             }
            },
            "type": "table"
           }
          ]
         },
         "layout": {
          "annotationdefaults": {
           "arrowcolor": "#2a3f5f",
           "arrowhead": 0,
           "arrowwidth": 1
          },
          "coloraxis": {
           "colorbar": {
            "outlinewidth": 0,
            "ticks": ""
           }
          },
          "colorscale": {
           "diverging": [
            [
             0,
             "#8e0152"
            ],
            [
             0.1,
             "#c51b7d"
            ],
            [
             0.2,
             "#de77ae"
            ],
            [
             0.3,
             "#f1b6da"
            ],
            [
             0.4,
             "#fde0ef"
            ],
            [
             0.5,
             "#f7f7f7"
            ],
            [
             0.6,
             "#e6f5d0"
            ],
            [
             0.7,
             "#b8e186"
            ],
            [
             0.8,
             "#7fbc41"
            ],
            [
             0.9,
             "#4d9221"
            ],
            [
             1,
             "#276419"
            ]
           ],
           "sequential": [
            [
             0,
             "#0d0887"
            ],
            [
             0.1111111111111111,
             "#46039f"
            ],
            [
             0.2222222222222222,
             "#7201a8"
            ],
            [
             0.3333333333333333,
             "#9c179e"
            ],
            [
             0.4444444444444444,
             "#bd3786"
            ],
            [
             0.5555555555555556,
             "#d8576b"
            ],
            [
             0.6666666666666666,
             "#ed7953"
            ],
            [
             0.7777777777777778,
             "#fb9f3a"
            ],
            [
             0.8888888888888888,
             "#fdca26"
            ],
            [
             1,
             "#f0f921"
            ]
           ],
           "sequentialminus": [
            [
             0,
             "#0d0887"
            ],
            [
             0.1111111111111111,
             "#46039f"
            ],
            [
             0.2222222222222222,
             "#7201a8"
            ],
            [
             0.3333333333333333,
             "#9c179e"
            ],
            [
             0.4444444444444444,
             "#bd3786"
            ],
            [
             0.5555555555555556,
             "#d8576b"
            ],
            [
             0.6666666666666666,
             "#ed7953"
            ],
            [
             0.7777777777777778,
             "#fb9f3a"
            ],
            [
             0.8888888888888888,
             "#fdca26"
            ],
            [
             1,
             "#f0f921"
            ]
           ]
          },
          "colorway": [
           "#636efa",
           "#EF553B",
           "#00cc96",
           "#ab63fa",
           "#FFA15A",
           "#19d3f3",
           "#FF6692",
           "#B6E880",
           "#FF97FF",
           "#FECB52"
          ],
          "font": {
           "color": "#2a3f5f"
          },
          "geo": {
           "bgcolor": "white",
           "lakecolor": "white",
           "landcolor": "#E5ECF6",
           "showlakes": true,
           "showland": true,
           "subunitcolor": "white"
          },
          "hoverlabel": {
           "align": "left"
          },
          "hovermode": "closest",
          "mapbox": {
           "style": "light"
          },
          "paper_bgcolor": "white",
          "plot_bgcolor": "#E5ECF6",
          "polar": {
           "angularaxis": {
            "gridcolor": "white",
            "linecolor": "white",
            "ticks": ""
           },
           "bgcolor": "#E5ECF6",
           "radialaxis": {
            "gridcolor": "white",
            "linecolor": "white",
            "ticks": ""
           }
          },
          "scene": {
           "xaxis": {
            "backgroundcolor": "#E5ECF6",
            "gridcolor": "white",
            "gridwidth": 2,
            "linecolor": "white",
            "showbackground": true,
            "ticks": "",
            "zerolinecolor": "white"
           },
           "yaxis": {
            "backgroundcolor": "#E5ECF6",
            "gridcolor": "white",
            "gridwidth": 2,
            "linecolor": "white",
            "showbackground": true,
            "ticks": "",
            "zerolinecolor": "white"
           },
           "zaxis": {
            "backgroundcolor": "#E5ECF6",
            "gridcolor": "white",
            "gridwidth": 2,
            "linecolor": "white",
            "showbackground": true,
            "ticks": "",
            "zerolinecolor": "white"
           }
          },
          "shapedefaults": {
           "line": {
            "color": "#2a3f5f"
           }
          },
          "ternary": {
           "aaxis": {
            "gridcolor": "white",
            "linecolor": "white",
            "ticks": ""
           },
           "baxis": {
            "gridcolor": "white",
            "linecolor": "white",
            "ticks": ""
           },
           "bgcolor": "#E5ECF6",
           "caxis": {
            "gridcolor": "white",
            "linecolor": "white",
            "ticks": ""
           }
          },
          "title": {
           "x": 0.05
          },
          "xaxis": {
           "automargin": true,
           "gridcolor": "white",
           "linecolor": "white",
           "ticks": "",
           "title": {
            "standoff": 15
           },
           "zerolinecolor": "white",
           "zerolinewidth": 2
          },
          "yaxis": {
           "automargin": true,
           "gridcolor": "white",
           "linecolor": "white",
           "ticks": "",
           "title": {
            "standoff": 15
           },
           "zerolinecolor": "white",
           "zerolinewidth": 2
          }
         }
        },
        "title": {
         "font": {
          "color": "#4D5663"
         }
        },
        "xaxis": {
         "gridcolor": "#E1E5ED",
         "showgrid": true,
         "tickfont": {
          "color": "#4D5663"
         },
         "title": {
          "font": {
           "color": "#4D5663"
          },
          "text": ""
         },
         "zerolinecolor": "#E1E5ED"
        },
        "yaxis": {
         "gridcolor": "#E1E5ED",
         "showgrid": true,
         "tickfont": {
          "color": "#4D5663"
         },
         "title": {
          "font": {
           "color": "#4D5663"
          },
          "text": ""
         },
         "zerolinecolor": "#E1E5ED"
        }
       }
      },
      "text/html": [
       "<div>\n",
       "        \n",
       "        \n",
       "            <div id=\"912d5a38-056f-4079-b75c-acd04b548489\" class=\"plotly-graph-div\" style=\"height:525px; width:100%;\"></div>\n",
       "            <script type=\"text/javascript\">\n",
       "                require([\"plotly\"], function(Plotly) {\n",
       "                    window.PLOTLYENV=window.PLOTLYENV || {};\n",
       "                    window.PLOTLYENV.BASE_URL='https://plot.ly';\n",
       "                    \n",
       "                if (document.getElementById(\"912d5a38-056f-4079-b75c-acd04b548489\")) {\n",
       "                    Plotly.newPlot(\n",
       "                        '912d5a38-056f-4079-b75c-acd04b548489',\n",
       "                        [{\"line\": {\"color\": \"rgba(255, 153, 51, 1.0)\", \"dash\": \"solid\", \"shape\": \"linear\", \"width\": 1.3}, \"marker\": {\"size\": 12, \"symbol\": \"circle\"}, \"mode\": \"markers\", \"name\": \"B\", \"text\": \"\", \"type\": \"scatter\", \"x\": [0.0894442250382196, -1.1636901974238956, -0.14222402464788517, 2.0778243621370107, 0.007891208853460787, 1.5114211282301155, -0.5781301716748249, -0.6493464768341835, 0.8804366298714607, -0.28659777359830724, -1.5497540650436465, 0.06842940166910959, -0.8432149839111754, 0.3625754416965515, 1.7444769159705618, -1.7432789276671714, 0.8127035469807969, 0.03540155607319169, 1.3149034064472398, -0.8091799746687368, 0.5944092099911594, 0.03851348232570403, 0.5753884431301269, -0.14955590357202014, 0.006847168151190288, -0.4779403451771194, -0.5121962485105361, 0.39522619677635673, -0.7774209665066977, 0.2010098882993933, -0.413765603541961, -1.837127240885446, -0.7430045491018606, 0.3817020317037981, -2.2971459526257667, -0.930848336285178, -0.059242497738331006, -0.7226483965722095, 0.9331620841320196, -0.007067825779079438, -0.24593939584039556, -0.23069547894684309, 1.0131302346093156, 2.16057042620193, 0.12158079292653799, 1.9895997640116458, 0.8383931024137476, -0.008374359246434421, 1.4147381393816199, -0.7975371494374897, 1.6005923733589194, 0.8461877996382429, 0.6049372106916631, 0.6167289385603898, -0.9841922062555499, -0.7090223222393144, -0.20062344927579204, -0.21840508922074062, 0.46574555484211694, 0.901984420014373, 0.2751723113873585, -0.7373810854520237, 1.2959580631458174, 1.3275372519280928, -0.14695123385579606, -0.9368085763045358, 0.4789197351621965, 0.6776401387760087, 0.5397652861837627, 0.13821965496865166, -0.6589820202089064, -0.17053658113319353, -1.1714716606227185, -0.6338918773750294, 1.4530407842838158, -0.3677987470750953, -0.578155120774312, 2.1707062080560133, -0.035509206884830384, -0.8735811264138856, 0.3147312144581037, 0.4965454858722151, 1.8680870347309269, 0.6875958421101073, -1.2340194983831576, -1.0017507758501363, -0.24547889804649828, -1.5561944000977719, -1.2255841958311244, -1.8797420996939276, -1.1416902067245454, -0.8550160927407154, -0.48042608219442223, -0.27799480490922684, 1.3749139157097308, 0.27300356286191324, -0.8159390980627154, -0.01673684419022112, -1.126958887272344, 0.1649610079367353], \"y\": [-1.3655200158258656, 1.8038949899218248, 0.10843718531566045, 1.4355657023969033, -0.022422383228524325, -0.11741546053121543, 0.6385468531906983, -0.08348409080065669, -0.650770612339167, 0.3565848106287523, 1.594711505005319, -1.014433488127197, 0.6890127651066934, 0.3977818554815641, -1.341690125875958, -0.6988102568559302, -0.36712508794464865, -1.0522588585848436, 1.3882909633804152, -1.6094941778442455, -0.33120523917734057, -1.6903848972611626, 0.2843131685488693, 2.0035637132125133, -0.19697092284664577, -0.1514736478519328, -1.3298873967560545, 0.8235919879503149, -0.8030815481501907, -1.7409748037034218, 1.209499887557365, 2.1416193669136336, 1.4512468981049529, -0.5240122074515902, -0.37520021469507336, 1.4354493635068033, 1.0685554307252807, -0.8168828279085346, -1.5838185817713528, -0.4387628603968676, 0.03990606955832411, 2.6493819629058453, -1.1626131670879876, 0.01333459287637117, -0.7313883942559631, 0.8343779478478394, 0.8029890061540522, -1.412959274261139, 1.073032685859393, 0.2267015121459549, 1.143345332830039, 2.496603362120481, 0.9793209297274629, 0.8583954260892992, -1.2895959623160749, 0.2489351926348663, 1.4711880643513884, 0.9657769617053209, 1.583826612796633, -0.4454618003166316, 0.7445328747000158, 1.0616834457354132, -1.3195277669201264, 0.5047985700119586, -1.8297770264924418, -0.5786800269282291, 1.9202916269657508, -1.0730822622527767, 0.150800146046857, -1.2739672247693878, -0.8728613885960235, 0.8914441421994455, 1.5761950339719883, -1.3717201448056051, 1.3337188675745775, -0.022728635798502476, 2.1905772534661017, 0.6312529720703588, -1.0380398690782615, 1.6329567828998433, 0.20035279599071623, -0.7784045068351377, 1.2532029356440353, -0.7709214851815889, -0.15009567530999388, -0.16439602171750148, 0.15408902677376046, -0.30995291488325527, -0.11498077746145126, 0.4083918780301276, -0.36918189473767477, 1.415344496215347, -0.21976358236558427, 2.6148405210002705, -1.5097530168154465, 0.44936574046642674, 0.07000168611707176, 0.08650081185933392, 0.9203281370471121, 1.5903200193556177]}],\n",
       "                        {\"legend\": {\"bgcolor\": \"#F5F6F9\", \"font\": {\"color\": \"#4D5663\"}}, \"paper_bgcolor\": \"#F5F6F9\", \"plot_bgcolor\": \"#F5F6F9\", \"template\": {\"data\": {\"bar\": [{\"error_x\": {\"color\": \"#2a3f5f\"}, \"error_y\": {\"color\": \"#2a3f5f\"}, \"marker\": {\"line\": {\"color\": \"#E5ECF6\", \"width\": 0.5}}, \"type\": \"bar\"}], \"barpolar\": [{\"marker\": {\"line\": {\"color\": \"#E5ECF6\", \"width\": 0.5}}, \"type\": \"barpolar\"}], \"carpet\": [{\"aaxis\": {\"endlinecolor\": \"#2a3f5f\", \"gridcolor\": \"white\", \"linecolor\": \"white\", \"minorgridcolor\": \"white\", \"startlinecolor\": \"#2a3f5f\"}, \"baxis\": {\"endlinecolor\": \"#2a3f5f\", \"gridcolor\": \"white\", \"linecolor\": \"white\", \"minorgridcolor\": \"white\", \"startlinecolor\": \"#2a3f5f\"}, \"type\": \"carpet\"}], \"choropleth\": [{\"colorbar\": {\"outlinewidth\": 0, \"ticks\": \"\"}, \"type\": \"choropleth\"}], \"contour\": [{\"colorbar\": {\"outlinewidth\": 0, \"ticks\": \"\"}, \"colorscale\": [[0.0, \"#0d0887\"], [0.1111111111111111, \"#46039f\"], [0.2222222222222222, \"#7201a8\"], [0.3333333333333333, \"#9c179e\"], [0.4444444444444444, \"#bd3786\"], [0.5555555555555556, \"#d8576b\"], [0.6666666666666666, \"#ed7953\"], [0.7777777777777778, \"#fb9f3a\"], [0.8888888888888888, \"#fdca26\"], [1.0, \"#f0f921\"]], \"type\": \"contour\"}], \"contourcarpet\": [{\"colorbar\": {\"outlinewidth\": 0, \"ticks\": \"\"}, \"type\": \"contourcarpet\"}], \"heatmap\": [{\"colorbar\": {\"outlinewidth\": 0, \"ticks\": \"\"}, \"colorscale\": [[0.0, \"#0d0887\"], [0.1111111111111111, \"#46039f\"], [0.2222222222222222, \"#7201a8\"], [0.3333333333333333, \"#9c179e\"], [0.4444444444444444, \"#bd3786\"], [0.5555555555555556, \"#d8576b\"], [0.6666666666666666, \"#ed7953\"], [0.7777777777777778, \"#fb9f3a\"], [0.8888888888888888, \"#fdca26\"], [1.0, \"#f0f921\"]], \"type\": \"heatmap\"}], \"heatmapgl\": [{\"colorbar\": {\"outlinewidth\": 0, \"ticks\": \"\"}, \"colorscale\": [[0.0, \"#0d0887\"], [0.1111111111111111, \"#46039f\"], [0.2222222222222222, \"#7201a8\"], [0.3333333333333333, \"#9c179e\"], [0.4444444444444444, \"#bd3786\"], [0.5555555555555556, \"#d8576b\"], [0.6666666666666666, \"#ed7953\"], [0.7777777777777778, \"#fb9f3a\"], [0.8888888888888888, \"#fdca26\"], [1.0, \"#f0f921\"]], \"type\": \"heatmapgl\"}], \"histogram\": [{\"marker\": {\"colorbar\": {\"outlinewidth\": 0, \"ticks\": \"\"}}, \"type\": \"histogram\"}], \"histogram2d\": [{\"colorbar\": {\"outlinewidth\": 0, \"ticks\": \"\"}, \"colorscale\": [[0.0, \"#0d0887\"], [0.1111111111111111, \"#46039f\"], [0.2222222222222222, \"#7201a8\"], [0.3333333333333333, \"#9c179e\"], [0.4444444444444444, \"#bd3786\"], [0.5555555555555556, \"#d8576b\"], [0.6666666666666666, \"#ed7953\"], [0.7777777777777778, \"#fb9f3a\"], [0.8888888888888888, \"#fdca26\"], [1.0, \"#f0f921\"]], \"type\": \"histogram2d\"}], \"histogram2dcontour\": [{\"colorbar\": {\"outlinewidth\": 0, \"ticks\": \"\"}, \"colorscale\": [[0.0, \"#0d0887\"], [0.1111111111111111, \"#46039f\"], [0.2222222222222222, \"#7201a8\"], [0.3333333333333333, \"#9c179e\"], [0.4444444444444444, \"#bd3786\"], [0.5555555555555556, \"#d8576b\"], [0.6666666666666666, \"#ed7953\"], [0.7777777777777778, \"#fb9f3a\"], [0.8888888888888888, \"#fdca26\"], [1.0, \"#f0f921\"]], \"type\": \"histogram2dcontour\"}], \"mesh3d\": [{\"colorbar\": {\"outlinewidth\": 0, \"ticks\": \"\"}, \"type\": \"mesh3d\"}], \"parcoords\": [{\"line\": {\"colorbar\": {\"outlinewidth\": 0, \"ticks\": \"\"}}, \"type\": \"parcoords\"}], \"pie\": [{\"automargin\": true, \"type\": \"pie\"}], \"scatter\": [{\"marker\": {\"colorbar\": {\"outlinewidth\": 0, \"ticks\": \"\"}}, \"type\": \"scatter\"}], \"scatter3d\": [{\"line\": {\"colorbar\": {\"outlinewidth\": 0, \"ticks\": \"\"}}, \"marker\": {\"colorbar\": {\"outlinewidth\": 0, \"ticks\": \"\"}}, \"type\": \"scatter3d\"}], \"scattercarpet\": [{\"marker\": {\"colorbar\": {\"outlinewidth\": 0, \"ticks\": \"\"}}, \"type\": \"scattercarpet\"}], \"scattergeo\": [{\"marker\": {\"colorbar\": {\"outlinewidth\": 0, \"ticks\": \"\"}}, \"type\": \"scattergeo\"}], \"scattergl\": [{\"marker\": {\"colorbar\": {\"outlinewidth\": 0, \"ticks\": \"\"}}, \"type\": \"scattergl\"}], \"scattermapbox\": [{\"marker\": {\"colorbar\": {\"outlinewidth\": 0, \"ticks\": \"\"}}, \"type\": \"scattermapbox\"}], \"scatterpolar\": [{\"marker\": {\"colorbar\": {\"outlinewidth\": 0, \"ticks\": \"\"}}, \"type\": \"scatterpolar\"}], \"scatterpolargl\": [{\"marker\": {\"colorbar\": {\"outlinewidth\": 0, \"ticks\": \"\"}}, \"type\": \"scatterpolargl\"}], \"scatterternary\": [{\"marker\": {\"colorbar\": {\"outlinewidth\": 0, \"ticks\": \"\"}}, \"type\": \"scatterternary\"}], \"surface\": [{\"colorbar\": {\"outlinewidth\": 0, \"ticks\": \"\"}, \"colorscale\": [[0.0, \"#0d0887\"], [0.1111111111111111, \"#46039f\"], [0.2222222222222222, \"#7201a8\"], [0.3333333333333333, \"#9c179e\"], [0.4444444444444444, \"#bd3786\"], [0.5555555555555556, \"#d8576b\"], [0.6666666666666666, \"#ed7953\"], [0.7777777777777778, \"#fb9f3a\"], [0.8888888888888888, \"#fdca26\"], [1.0, \"#f0f921\"]], \"type\": \"surface\"}], \"table\": [{\"cells\": {\"fill\": {\"color\": \"#EBF0F8\"}, \"line\": {\"color\": \"white\"}}, \"header\": {\"fill\": {\"color\": \"#C8D4E3\"}, \"line\": {\"color\": \"white\"}}, \"type\": \"table\"}]}, \"layout\": {\"annotationdefaults\": {\"arrowcolor\": \"#2a3f5f\", \"arrowhead\": 0, \"arrowwidth\": 1}, \"coloraxis\": {\"colorbar\": {\"outlinewidth\": 0, \"ticks\": \"\"}}, \"colorscale\": {\"diverging\": [[0, \"#8e0152\"], [0.1, \"#c51b7d\"], [0.2, \"#de77ae\"], [0.3, \"#f1b6da\"], [0.4, \"#fde0ef\"], [0.5, \"#f7f7f7\"], [0.6, \"#e6f5d0\"], [0.7, \"#b8e186\"], [0.8, \"#7fbc41\"], [0.9, \"#4d9221\"], [1, \"#276419\"]], \"sequential\": [[0.0, \"#0d0887\"], [0.1111111111111111, \"#46039f\"], [0.2222222222222222, \"#7201a8\"], [0.3333333333333333, \"#9c179e\"], [0.4444444444444444, \"#bd3786\"], [0.5555555555555556, \"#d8576b\"], [0.6666666666666666, \"#ed7953\"], [0.7777777777777778, \"#fb9f3a\"], [0.8888888888888888, \"#fdca26\"], [1.0, \"#f0f921\"]], \"sequentialminus\": [[0.0, \"#0d0887\"], [0.1111111111111111, \"#46039f\"], [0.2222222222222222, \"#7201a8\"], [0.3333333333333333, \"#9c179e\"], [0.4444444444444444, \"#bd3786\"], [0.5555555555555556, \"#d8576b\"], [0.6666666666666666, \"#ed7953\"], [0.7777777777777778, \"#fb9f3a\"], [0.8888888888888888, \"#fdca26\"], [1.0, \"#f0f921\"]]}, \"colorway\": [\"#636efa\", \"#EF553B\", \"#00cc96\", \"#ab63fa\", \"#FFA15A\", \"#19d3f3\", \"#FF6692\", \"#B6E880\", \"#FF97FF\", \"#FECB52\"], \"font\": {\"color\": \"#2a3f5f\"}, \"geo\": {\"bgcolor\": \"white\", \"lakecolor\": \"white\", \"landcolor\": \"#E5ECF6\", \"showlakes\": true, \"showland\": true, \"subunitcolor\": \"white\"}, \"hoverlabel\": {\"align\": \"left\"}, \"hovermode\": \"closest\", \"mapbox\": {\"style\": \"light\"}, \"paper_bgcolor\": \"white\", \"plot_bgcolor\": \"#E5ECF6\", \"polar\": {\"angularaxis\": {\"gridcolor\": \"white\", \"linecolor\": \"white\", \"ticks\": \"\"}, \"bgcolor\": \"#E5ECF6\", \"radialaxis\": {\"gridcolor\": \"white\", \"linecolor\": \"white\", \"ticks\": \"\"}}, \"scene\": {\"xaxis\": {\"backgroundcolor\": \"#E5ECF6\", \"gridcolor\": \"white\", \"gridwidth\": 2, \"linecolor\": \"white\", \"showbackground\": true, \"ticks\": \"\", \"zerolinecolor\": \"white\"}, \"yaxis\": {\"backgroundcolor\": \"#E5ECF6\", \"gridcolor\": \"white\", \"gridwidth\": 2, \"linecolor\": \"white\", \"showbackground\": true, \"ticks\": \"\", \"zerolinecolor\": \"white\"}, \"zaxis\": {\"backgroundcolor\": \"#E5ECF6\", \"gridcolor\": \"white\", \"gridwidth\": 2, \"linecolor\": \"white\", \"showbackground\": true, \"ticks\": \"\", \"zerolinecolor\": \"white\"}}, \"shapedefaults\": {\"line\": {\"color\": \"#2a3f5f\"}}, \"ternary\": {\"aaxis\": {\"gridcolor\": \"white\", \"linecolor\": \"white\", \"ticks\": \"\"}, \"baxis\": {\"gridcolor\": \"white\", \"linecolor\": \"white\", \"ticks\": \"\"}, \"bgcolor\": \"#E5ECF6\", \"caxis\": {\"gridcolor\": \"white\", \"linecolor\": \"white\", \"ticks\": \"\"}}, \"title\": {\"x\": 0.05}, \"xaxis\": {\"automargin\": true, \"gridcolor\": \"white\", \"linecolor\": \"white\", \"ticks\": \"\", \"title\": {\"standoff\": 15}, \"zerolinecolor\": \"white\", \"zerolinewidth\": 2}, \"yaxis\": {\"automargin\": true, \"gridcolor\": \"white\", \"linecolor\": \"white\", \"ticks\": \"\", \"title\": {\"standoff\": 15}, \"zerolinecolor\": \"white\", \"zerolinewidth\": 2}}}, \"title\": {\"font\": {\"color\": \"#4D5663\"}}, \"xaxis\": {\"gridcolor\": \"#E1E5ED\", \"showgrid\": true, \"tickfont\": {\"color\": \"#4D5663\"}, \"title\": {\"font\": {\"color\": \"#4D5663\"}, \"text\": \"\"}, \"zerolinecolor\": \"#E1E5ED\"}, \"yaxis\": {\"gridcolor\": \"#E1E5ED\", \"showgrid\": true, \"tickfont\": {\"color\": \"#4D5663\"}, \"title\": {\"font\": {\"color\": \"#4D5663\"}, \"text\": \"\"}, \"zerolinecolor\": \"#E1E5ED\"}},\n",
       "                        {\"showLink\": true, \"linkText\": \"Export to plot.ly\", \"plotlyServerURL\": \"https://plot.ly\", \"responsive\": true}\n",
       "                    ).then(function(){\n",
       "                            \n",
       "var gd = document.getElementById('912d5a38-056f-4079-b75c-acd04b548489');\n",
       "var x = new MutationObserver(function (mutations, observer) {{\n",
       "        var display = window.getComputedStyle(gd).display;\n",
       "        if (!display || display === 'none') {{\n",
       "            console.log([gd, 'removed!']);\n",
       "            Plotly.purge(gd);\n",
       "            observer.disconnect();\n",
       "        }}\n",
       "}});\n",
       "\n",
       "// Listen for the removal of the full notebook cells\n",
       "var notebookContainer = gd.closest('#notebook-container');\n",
       "if (notebookContainer) {{\n",
       "    x.observe(notebookContainer, {childList: true});\n",
       "}}\n",
       "\n",
       "// Listen for the clearing of the current output cell\n",
       "var outputEl = gd.closest('.output');\n",
       "if (outputEl) {{\n",
       "    x.observe(outputEl, {childList: true});\n",
       "}}\n",
       "\n",
       "                        })\n",
       "                };\n",
       "                });\n",
       "            </script>\n",
       "        </div>"
      ]
     },
     "metadata": {},
     "output_type": "display_data"
    }
   ],
   "source": [
    "df.iplot(kind='scatter',mode='markers', x= 'A', y = 'B')"
   ]
  },
  {
   "cell_type": "markdown",
   "metadata": {},
   "source": [
    "# Bar Plots\n"
   ]
  },
  {
   "cell_type": "code",
   "execution_count": 14,
   "metadata": {},
   "outputs": [
    {
     "data": {
      "application/vnd.plotly.v1+json": {
       "config": {
        "linkText": "Export to plot.ly",
        "plotlyServerURL": "https://plot.ly",
        "showLink": true
       },
       "data": [
        {
         "marker": {
          "color": "rgba(255, 153, 51, 0.6)",
          "line": {
           "color": "rgba(255, 153, 51, 1.0)",
           "width": 1
          }
         },
         "name": "Values",
         "orientation": "v",
         "text": "",
         "type": "bar",
         "x": [
          "A",
          "B",
          "C"
         ],
         "y": [
          32,
          43,
          50
         ]
        }
       ],
       "layout": {
        "legend": {
         "bgcolor": "#F5F6F9",
         "font": {
          "color": "#4D5663"
         }
        },
        "paper_bgcolor": "#F5F6F9",
        "plot_bgcolor": "#F5F6F9",
        "template": {
         "data": {
          "bar": [
           {
            "error_x": {
             "color": "#2a3f5f"
            },
            "error_y": {
             "color": "#2a3f5f"
            },
            "marker": {
             "line": {
              "color": "#E5ECF6",
              "width": 0.5
             }
            },
            "type": "bar"
           }
          ],
          "barpolar": [
           {
            "marker": {
             "line": {
              "color": "#E5ECF6",
              "width": 0.5
             }
            },
            "type": "barpolar"
           }
          ],
          "carpet": [
           {
            "aaxis": {
             "endlinecolor": "#2a3f5f",
             "gridcolor": "white",
             "linecolor": "white",
             "minorgridcolor": "white",
             "startlinecolor": "#2a3f5f"
            },
            "baxis": {
             "endlinecolor": "#2a3f5f",
             "gridcolor": "white",
             "linecolor": "white",
             "minorgridcolor": "white",
             "startlinecolor": "#2a3f5f"
            },
            "type": "carpet"
           }
          ],
          "choropleth": [
           {
            "colorbar": {
             "outlinewidth": 0,
             "ticks": ""
            },
            "type": "choropleth"
           }
          ],
          "contour": [
           {
            "colorbar": {
             "outlinewidth": 0,
             "ticks": ""
            },
            "colorscale": [
             [
              0,
              "#0d0887"
             ],
             [
              0.1111111111111111,
              "#46039f"
             ],
             [
              0.2222222222222222,
              "#7201a8"
             ],
             [
              0.3333333333333333,
              "#9c179e"
             ],
             [
              0.4444444444444444,
              "#bd3786"
             ],
             [
              0.5555555555555556,
              "#d8576b"
             ],
             [
              0.6666666666666666,
              "#ed7953"
             ],
             [
              0.7777777777777778,
              "#fb9f3a"
             ],
             [
              0.8888888888888888,
              "#fdca26"
             ],
             [
              1,
              "#f0f921"
             ]
            ],
            "type": "contour"
           }
          ],
          "contourcarpet": [
           {
            "colorbar": {
             "outlinewidth": 0,
             "ticks": ""
            },
            "type": "contourcarpet"
           }
          ],
          "heatmap": [
           {
            "colorbar": {
             "outlinewidth": 0,
             "ticks": ""
            },
            "colorscale": [
             [
              0,
              "#0d0887"
             ],
             [
              0.1111111111111111,
              "#46039f"
             ],
             [
              0.2222222222222222,
              "#7201a8"
             ],
             [
              0.3333333333333333,
              "#9c179e"
             ],
             [
              0.4444444444444444,
              "#bd3786"
             ],
             [
              0.5555555555555556,
              "#d8576b"
             ],
             [
              0.6666666666666666,
              "#ed7953"
             ],
             [
              0.7777777777777778,
              "#fb9f3a"
             ],
             [
              0.8888888888888888,
              "#fdca26"
             ],
             [
              1,
              "#f0f921"
             ]
            ],
            "type": "heatmap"
           }
          ],
          "heatmapgl": [
           {
            "colorbar": {
             "outlinewidth": 0,
             "ticks": ""
            },
            "colorscale": [
             [
              0,
              "#0d0887"
             ],
             [
              0.1111111111111111,
              "#46039f"
             ],
             [
              0.2222222222222222,
              "#7201a8"
             ],
             [
              0.3333333333333333,
              "#9c179e"
             ],
             [
              0.4444444444444444,
              "#bd3786"
             ],
             [
              0.5555555555555556,
              "#d8576b"
             ],
             [
              0.6666666666666666,
              "#ed7953"
             ],
             [
              0.7777777777777778,
              "#fb9f3a"
             ],
             [
              0.8888888888888888,
              "#fdca26"
             ],
             [
              1,
              "#f0f921"
             ]
            ],
            "type": "heatmapgl"
           }
          ],
          "histogram": [
           {
            "marker": {
             "colorbar": {
              "outlinewidth": 0,
              "ticks": ""
             }
            },
            "type": "histogram"
           }
          ],
          "histogram2d": [
           {
            "colorbar": {
             "outlinewidth": 0,
             "ticks": ""
            },
            "colorscale": [
             [
              0,
              "#0d0887"
             ],
             [
              0.1111111111111111,
              "#46039f"
             ],
             [
              0.2222222222222222,
              "#7201a8"
             ],
             [
              0.3333333333333333,
              "#9c179e"
             ],
             [
              0.4444444444444444,
              "#bd3786"
             ],
             [
              0.5555555555555556,
              "#d8576b"
             ],
             [
              0.6666666666666666,
              "#ed7953"
             ],
             [
              0.7777777777777778,
              "#fb9f3a"
             ],
             [
              0.8888888888888888,
              "#fdca26"
             ],
             [
              1,
              "#f0f921"
             ]
            ],
            "type": "histogram2d"
           }
          ],
          "histogram2dcontour": [
           {
            "colorbar": {
             "outlinewidth": 0,
             "ticks": ""
            },
            "colorscale": [
             [
              0,
              "#0d0887"
             ],
             [
              0.1111111111111111,
              "#46039f"
             ],
             [
              0.2222222222222222,
              "#7201a8"
             ],
             [
              0.3333333333333333,
              "#9c179e"
             ],
             [
              0.4444444444444444,
              "#bd3786"
             ],
             [
              0.5555555555555556,
              "#d8576b"
             ],
             [
              0.6666666666666666,
              "#ed7953"
             ],
             [
              0.7777777777777778,
              "#fb9f3a"
             ],
             [
              0.8888888888888888,
              "#fdca26"
             ],
             [
              1,
              "#f0f921"
             ]
            ],
            "type": "histogram2dcontour"
           }
          ],
          "mesh3d": [
           {
            "colorbar": {
             "outlinewidth": 0,
             "ticks": ""
            },
            "type": "mesh3d"
           }
          ],
          "parcoords": [
           {
            "line": {
             "colorbar": {
              "outlinewidth": 0,
              "ticks": ""
             }
            },
            "type": "parcoords"
           }
          ],
          "pie": [
           {
            "automargin": true,
            "type": "pie"
           }
          ],
          "scatter": [
           {
            "marker": {
             "colorbar": {
              "outlinewidth": 0,
              "ticks": ""
             }
            },
            "type": "scatter"
           }
          ],
          "scatter3d": [
           {
            "line": {
             "colorbar": {
              "outlinewidth": 0,
              "ticks": ""
             }
            },
            "marker": {
             "colorbar": {
              "outlinewidth": 0,
              "ticks": ""
             }
            },
            "type": "scatter3d"
           }
          ],
          "scattercarpet": [
           {
            "marker": {
             "colorbar": {
              "outlinewidth": 0,
              "ticks": ""
             }
            },
            "type": "scattercarpet"
           }
          ],
          "scattergeo": [
           {
            "marker": {
             "colorbar": {
              "outlinewidth": 0,
              "ticks": ""
             }
            },
            "type": "scattergeo"
           }
          ],
          "scattergl": [
           {
            "marker": {
             "colorbar": {
              "outlinewidth": 0,
              "ticks": ""
             }
            },
            "type": "scattergl"
           }
          ],
          "scattermapbox": [
           {
            "marker": {
             "colorbar": {
              "outlinewidth": 0,
              "ticks": ""
             }
            },
            "type": "scattermapbox"
           }
          ],
          "scatterpolar": [
           {
            "marker": {
             "colorbar": {
              "outlinewidth": 0,
              "ticks": ""
             }
            },
            "type": "scatterpolar"
           }
          ],
          "scatterpolargl": [
           {
            "marker": {
             "colorbar": {
              "outlinewidth": 0,
              "ticks": ""
             }
            },
            "type": "scatterpolargl"
           }
          ],
          "scatterternary": [
           {
            "marker": {
             "colorbar": {
              "outlinewidth": 0,
              "ticks": ""
             }
            },
            "type": "scatterternary"
           }
          ],
          "surface": [
           {
            "colorbar": {
             "outlinewidth": 0,
             "ticks": ""
            },
            "colorscale": [
             [
              0,
              "#0d0887"
             ],
             [
              0.1111111111111111,
              "#46039f"
             ],
             [
              0.2222222222222222,
              "#7201a8"
             ],
             [
              0.3333333333333333,
              "#9c179e"
             ],
             [
              0.4444444444444444,
              "#bd3786"
             ],
             [
              0.5555555555555556,
              "#d8576b"
             ],
             [
              0.6666666666666666,
              "#ed7953"
             ],
             [
              0.7777777777777778,
              "#fb9f3a"
             ],
             [
              0.8888888888888888,
              "#fdca26"
             ],
             [
              1,
              "#f0f921"
             ]
            ],
            "type": "surface"
           }
          ],
          "table": [
           {
            "cells": {
             "fill": {
              "color": "#EBF0F8"
             },
             "line": {
              "color": "white"
             }
            },
            "header": {
             "fill": {
              "color": "#C8D4E3"
             },
             "line": {
              "color": "white"
             }
            },
            "type": "table"
           }
          ]
         },
         "layout": {
          "annotationdefaults": {
           "arrowcolor": "#2a3f5f",
           "arrowhead": 0,
           "arrowwidth": 1
          },
          "coloraxis": {
           "colorbar": {
            "outlinewidth": 0,
            "ticks": ""
           }
          },
          "colorscale": {
           "diverging": [
            [
             0,
             "#8e0152"
            ],
            [
             0.1,
             "#c51b7d"
            ],
            [
             0.2,
             "#de77ae"
            ],
            [
             0.3,
             "#f1b6da"
            ],
            [
             0.4,
             "#fde0ef"
            ],
            [
             0.5,
             "#f7f7f7"
            ],
            [
             0.6,
             "#e6f5d0"
            ],
            [
             0.7,
             "#b8e186"
            ],
            [
             0.8,
             "#7fbc41"
            ],
            [
             0.9,
             "#4d9221"
            ],
            [
             1,
             "#276419"
            ]
           ],
           "sequential": [
            [
             0,
             "#0d0887"
            ],
            [
             0.1111111111111111,
             "#46039f"
            ],
            [
             0.2222222222222222,
             "#7201a8"
            ],
            [
             0.3333333333333333,
             "#9c179e"
            ],
            [
             0.4444444444444444,
             "#bd3786"
            ],
            [
             0.5555555555555556,
             "#d8576b"
            ],
            [
             0.6666666666666666,
             "#ed7953"
            ],
            [
             0.7777777777777778,
             "#fb9f3a"
            ],
            [
             0.8888888888888888,
             "#fdca26"
            ],
            [
             1,
             "#f0f921"
            ]
           ],
           "sequentialminus": [
            [
             0,
             "#0d0887"
            ],
            [
             0.1111111111111111,
             "#46039f"
            ],
            [
             0.2222222222222222,
             "#7201a8"
            ],
            [
             0.3333333333333333,
             "#9c179e"
            ],
            [
             0.4444444444444444,
             "#bd3786"
            ],
            [
             0.5555555555555556,
             "#d8576b"
            ],
            [
             0.6666666666666666,
             "#ed7953"
            ],
            [
             0.7777777777777778,
             "#fb9f3a"
            ],
            [
             0.8888888888888888,
             "#fdca26"
            ],
            [
             1,
             "#f0f921"
            ]
           ]
          },
          "colorway": [
           "#636efa",
           "#EF553B",
           "#00cc96",
           "#ab63fa",
           "#FFA15A",
           "#19d3f3",
           "#FF6692",
           "#B6E880",
           "#FF97FF",
           "#FECB52"
          ],
          "font": {
           "color": "#2a3f5f"
          },
          "geo": {
           "bgcolor": "white",
           "lakecolor": "white",
           "landcolor": "#E5ECF6",
           "showlakes": true,
           "showland": true,
           "subunitcolor": "white"
          },
          "hoverlabel": {
           "align": "left"
          },
          "hovermode": "closest",
          "mapbox": {
           "style": "light"
          },
          "paper_bgcolor": "white",
          "plot_bgcolor": "#E5ECF6",
          "polar": {
           "angularaxis": {
            "gridcolor": "white",
            "linecolor": "white",
            "ticks": ""
           },
           "bgcolor": "#E5ECF6",
           "radialaxis": {
            "gridcolor": "white",
            "linecolor": "white",
            "ticks": ""
           }
          },
          "scene": {
           "xaxis": {
            "backgroundcolor": "#E5ECF6",
            "gridcolor": "white",
            "gridwidth": 2,
            "linecolor": "white",
            "showbackground": true,
            "ticks": "",
            "zerolinecolor": "white"
           },
           "yaxis": {
            "backgroundcolor": "#E5ECF6",
            "gridcolor": "white",
            "gridwidth": 2,
            "linecolor": "white",
            "showbackground": true,
            "ticks": "",
            "zerolinecolor": "white"
           },
           "zaxis": {
            "backgroundcolor": "#E5ECF6",
            "gridcolor": "white",
            "gridwidth": 2,
            "linecolor": "white",
            "showbackground": true,
            "ticks": "",
            "zerolinecolor": "white"
           }
          },
          "shapedefaults": {
           "line": {
            "color": "#2a3f5f"
           }
          },
          "ternary": {
           "aaxis": {
            "gridcolor": "white",
            "linecolor": "white",
            "ticks": ""
           },
           "baxis": {
            "gridcolor": "white",
            "linecolor": "white",
            "ticks": ""
           },
           "bgcolor": "#E5ECF6",
           "caxis": {
            "gridcolor": "white",
            "linecolor": "white",
            "ticks": ""
           }
          },
          "title": {
           "x": 0.05
          },
          "xaxis": {
           "automargin": true,
           "gridcolor": "white",
           "linecolor": "white",
           "ticks": "",
           "title": {
            "standoff": 15
           },
           "zerolinecolor": "white",
           "zerolinewidth": 2
          },
          "yaxis": {
           "automargin": true,
           "gridcolor": "white",
           "linecolor": "white",
           "ticks": "",
           "title": {
            "standoff": 15
           },
           "zerolinecolor": "white",
           "zerolinewidth": 2
          }
         }
        },
        "title": {
         "font": {
          "color": "#4D5663"
         }
        },
        "xaxis": {
         "gridcolor": "#E1E5ED",
         "showgrid": true,
         "tickfont": {
          "color": "#4D5663"
         },
         "title": {
          "font": {
           "color": "#4D5663"
          },
          "text": ""
         },
         "zerolinecolor": "#E1E5ED"
        },
        "yaxis": {
         "gridcolor": "#E1E5ED",
         "showgrid": true,
         "tickfont": {
          "color": "#4D5663"
         },
         "title": {
          "font": {
           "color": "#4D5663"
          },
          "text": ""
         },
         "zerolinecolor": "#E1E5ED"
        }
       }
      },
      "text/html": [
       "<div>\n",
       "        \n",
       "        \n",
       "            <div id=\"5a4d725f-ece9-403a-a07a-af829d83bf0d\" class=\"plotly-graph-div\" style=\"height:525px; width:100%;\"></div>\n",
       "            <script type=\"text/javascript\">\n",
       "                require([\"plotly\"], function(Plotly) {\n",
       "                    window.PLOTLYENV=window.PLOTLYENV || {};\n",
       "                    window.PLOTLYENV.BASE_URL='https://plot.ly';\n",
       "                    \n",
       "                if (document.getElementById(\"5a4d725f-ece9-403a-a07a-af829d83bf0d\")) {\n",
       "                    Plotly.newPlot(\n",
       "                        '5a4d725f-ece9-403a-a07a-af829d83bf0d',\n",
       "                        [{\"marker\": {\"color\": \"rgba(255, 153, 51, 0.6)\", \"line\": {\"color\": \"rgba(255, 153, 51, 1.0)\", \"width\": 1}}, \"name\": \"Values\", \"orientation\": \"v\", \"text\": \"\", \"type\": \"bar\", \"x\": [\"A\", \"B\", \"C\"], \"y\": [32, 43, 50]}],\n",
       "                        {\"legend\": {\"bgcolor\": \"#F5F6F9\", \"font\": {\"color\": \"#4D5663\"}}, \"paper_bgcolor\": \"#F5F6F9\", \"plot_bgcolor\": \"#F5F6F9\", \"template\": {\"data\": {\"bar\": [{\"error_x\": {\"color\": \"#2a3f5f\"}, \"error_y\": {\"color\": \"#2a3f5f\"}, \"marker\": {\"line\": {\"color\": \"#E5ECF6\", \"width\": 0.5}}, \"type\": \"bar\"}], \"barpolar\": [{\"marker\": {\"line\": {\"color\": \"#E5ECF6\", \"width\": 0.5}}, \"type\": \"barpolar\"}], \"carpet\": [{\"aaxis\": {\"endlinecolor\": \"#2a3f5f\", \"gridcolor\": \"white\", \"linecolor\": \"white\", \"minorgridcolor\": \"white\", \"startlinecolor\": \"#2a3f5f\"}, \"baxis\": {\"endlinecolor\": \"#2a3f5f\", \"gridcolor\": \"white\", \"linecolor\": \"white\", \"minorgridcolor\": \"white\", \"startlinecolor\": \"#2a3f5f\"}, \"type\": \"carpet\"}], \"choropleth\": [{\"colorbar\": {\"outlinewidth\": 0, \"ticks\": \"\"}, \"type\": \"choropleth\"}], \"contour\": [{\"colorbar\": {\"outlinewidth\": 0, \"ticks\": \"\"}, \"colorscale\": [[0.0, \"#0d0887\"], [0.1111111111111111, \"#46039f\"], [0.2222222222222222, \"#7201a8\"], [0.3333333333333333, \"#9c179e\"], [0.4444444444444444, \"#bd3786\"], [0.5555555555555556, \"#d8576b\"], [0.6666666666666666, \"#ed7953\"], [0.7777777777777778, \"#fb9f3a\"], [0.8888888888888888, \"#fdca26\"], [1.0, \"#f0f921\"]], \"type\": \"contour\"}], \"contourcarpet\": [{\"colorbar\": {\"outlinewidth\": 0, \"ticks\": \"\"}, \"type\": \"contourcarpet\"}], \"heatmap\": [{\"colorbar\": {\"outlinewidth\": 0, \"ticks\": \"\"}, \"colorscale\": [[0.0, \"#0d0887\"], [0.1111111111111111, \"#46039f\"], [0.2222222222222222, \"#7201a8\"], [0.3333333333333333, \"#9c179e\"], [0.4444444444444444, \"#bd3786\"], [0.5555555555555556, \"#d8576b\"], [0.6666666666666666, \"#ed7953\"], [0.7777777777777778, \"#fb9f3a\"], [0.8888888888888888, \"#fdca26\"], [1.0, \"#f0f921\"]], \"type\": \"heatmap\"}], \"heatmapgl\": [{\"colorbar\": {\"outlinewidth\": 0, \"ticks\": \"\"}, \"colorscale\": [[0.0, \"#0d0887\"], [0.1111111111111111, \"#46039f\"], [0.2222222222222222, \"#7201a8\"], [0.3333333333333333, \"#9c179e\"], [0.4444444444444444, \"#bd3786\"], [0.5555555555555556, \"#d8576b\"], [0.6666666666666666, \"#ed7953\"], [0.7777777777777778, \"#fb9f3a\"], [0.8888888888888888, \"#fdca26\"], [1.0, \"#f0f921\"]], \"type\": \"heatmapgl\"}], \"histogram\": [{\"marker\": {\"colorbar\": {\"outlinewidth\": 0, \"ticks\": \"\"}}, \"type\": \"histogram\"}], \"histogram2d\": [{\"colorbar\": {\"outlinewidth\": 0, \"ticks\": \"\"}, \"colorscale\": [[0.0, \"#0d0887\"], [0.1111111111111111, \"#46039f\"], [0.2222222222222222, \"#7201a8\"], [0.3333333333333333, \"#9c179e\"], [0.4444444444444444, \"#bd3786\"], [0.5555555555555556, \"#d8576b\"], [0.6666666666666666, \"#ed7953\"], [0.7777777777777778, \"#fb9f3a\"], [0.8888888888888888, \"#fdca26\"], [1.0, \"#f0f921\"]], \"type\": \"histogram2d\"}], \"histogram2dcontour\": [{\"colorbar\": {\"outlinewidth\": 0, \"ticks\": \"\"}, \"colorscale\": [[0.0, \"#0d0887\"], [0.1111111111111111, \"#46039f\"], [0.2222222222222222, \"#7201a8\"], [0.3333333333333333, \"#9c179e\"], [0.4444444444444444, \"#bd3786\"], [0.5555555555555556, \"#d8576b\"], [0.6666666666666666, \"#ed7953\"], [0.7777777777777778, \"#fb9f3a\"], [0.8888888888888888, \"#fdca26\"], [1.0, \"#f0f921\"]], \"type\": \"histogram2dcontour\"}], \"mesh3d\": [{\"colorbar\": {\"outlinewidth\": 0, \"ticks\": \"\"}, \"type\": \"mesh3d\"}], \"parcoords\": [{\"line\": {\"colorbar\": {\"outlinewidth\": 0, \"ticks\": \"\"}}, \"type\": \"parcoords\"}], \"pie\": [{\"automargin\": true, \"type\": \"pie\"}], \"scatter\": [{\"marker\": {\"colorbar\": {\"outlinewidth\": 0, \"ticks\": \"\"}}, \"type\": \"scatter\"}], \"scatter3d\": [{\"line\": {\"colorbar\": {\"outlinewidth\": 0, \"ticks\": \"\"}}, \"marker\": {\"colorbar\": {\"outlinewidth\": 0, \"ticks\": \"\"}}, \"type\": \"scatter3d\"}], \"scattercarpet\": [{\"marker\": {\"colorbar\": {\"outlinewidth\": 0, \"ticks\": \"\"}}, \"type\": \"scattercarpet\"}], \"scattergeo\": [{\"marker\": {\"colorbar\": {\"outlinewidth\": 0, \"ticks\": \"\"}}, \"type\": \"scattergeo\"}], \"scattergl\": [{\"marker\": {\"colorbar\": {\"outlinewidth\": 0, \"ticks\": \"\"}}, \"type\": \"scattergl\"}], \"scattermapbox\": [{\"marker\": {\"colorbar\": {\"outlinewidth\": 0, \"ticks\": \"\"}}, \"type\": \"scattermapbox\"}], \"scatterpolar\": [{\"marker\": {\"colorbar\": {\"outlinewidth\": 0, \"ticks\": \"\"}}, \"type\": \"scatterpolar\"}], \"scatterpolargl\": [{\"marker\": {\"colorbar\": {\"outlinewidth\": 0, \"ticks\": \"\"}}, \"type\": \"scatterpolargl\"}], \"scatterternary\": [{\"marker\": {\"colorbar\": {\"outlinewidth\": 0, \"ticks\": \"\"}}, \"type\": \"scatterternary\"}], \"surface\": [{\"colorbar\": {\"outlinewidth\": 0, \"ticks\": \"\"}, \"colorscale\": [[0.0, \"#0d0887\"], [0.1111111111111111, \"#46039f\"], [0.2222222222222222, \"#7201a8\"], [0.3333333333333333, \"#9c179e\"], [0.4444444444444444, \"#bd3786\"], [0.5555555555555556, \"#d8576b\"], [0.6666666666666666, \"#ed7953\"], [0.7777777777777778, \"#fb9f3a\"], [0.8888888888888888, \"#fdca26\"], [1.0, \"#f0f921\"]], \"type\": \"surface\"}], \"table\": [{\"cells\": {\"fill\": {\"color\": \"#EBF0F8\"}, \"line\": {\"color\": \"white\"}}, \"header\": {\"fill\": {\"color\": \"#C8D4E3\"}, \"line\": {\"color\": \"white\"}}, \"type\": \"table\"}]}, \"layout\": {\"annotationdefaults\": {\"arrowcolor\": \"#2a3f5f\", \"arrowhead\": 0, \"arrowwidth\": 1}, \"coloraxis\": {\"colorbar\": {\"outlinewidth\": 0, \"ticks\": \"\"}}, \"colorscale\": {\"diverging\": [[0, \"#8e0152\"], [0.1, \"#c51b7d\"], [0.2, \"#de77ae\"], [0.3, \"#f1b6da\"], [0.4, \"#fde0ef\"], [0.5, \"#f7f7f7\"], [0.6, \"#e6f5d0\"], [0.7, \"#b8e186\"], [0.8, \"#7fbc41\"], [0.9, \"#4d9221\"], [1, \"#276419\"]], \"sequential\": [[0.0, \"#0d0887\"], [0.1111111111111111, \"#46039f\"], [0.2222222222222222, \"#7201a8\"], [0.3333333333333333, \"#9c179e\"], [0.4444444444444444, \"#bd3786\"], [0.5555555555555556, \"#d8576b\"], [0.6666666666666666, \"#ed7953\"], [0.7777777777777778, \"#fb9f3a\"], [0.8888888888888888, \"#fdca26\"], [1.0, \"#f0f921\"]], \"sequentialminus\": [[0.0, \"#0d0887\"], [0.1111111111111111, \"#46039f\"], [0.2222222222222222, \"#7201a8\"], [0.3333333333333333, \"#9c179e\"], [0.4444444444444444, \"#bd3786\"], [0.5555555555555556, \"#d8576b\"], [0.6666666666666666, \"#ed7953\"], [0.7777777777777778, \"#fb9f3a\"], [0.8888888888888888, \"#fdca26\"], [1.0, \"#f0f921\"]]}, \"colorway\": [\"#636efa\", \"#EF553B\", \"#00cc96\", \"#ab63fa\", \"#FFA15A\", \"#19d3f3\", \"#FF6692\", \"#B6E880\", \"#FF97FF\", \"#FECB52\"], \"font\": {\"color\": \"#2a3f5f\"}, \"geo\": {\"bgcolor\": \"white\", \"lakecolor\": \"white\", \"landcolor\": \"#E5ECF6\", \"showlakes\": true, \"showland\": true, \"subunitcolor\": \"white\"}, \"hoverlabel\": {\"align\": \"left\"}, \"hovermode\": \"closest\", \"mapbox\": {\"style\": \"light\"}, \"paper_bgcolor\": \"white\", \"plot_bgcolor\": \"#E5ECF6\", \"polar\": {\"angularaxis\": {\"gridcolor\": \"white\", \"linecolor\": \"white\", \"ticks\": \"\"}, \"bgcolor\": \"#E5ECF6\", \"radialaxis\": {\"gridcolor\": \"white\", \"linecolor\": \"white\", \"ticks\": \"\"}}, \"scene\": {\"xaxis\": {\"backgroundcolor\": \"#E5ECF6\", \"gridcolor\": \"white\", \"gridwidth\": 2, \"linecolor\": \"white\", \"showbackground\": true, \"ticks\": \"\", \"zerolinecolor\": \"white\"}, \"yaxis\": {\"backgroundcolor\": \"#E5ECF6\", \"gridcolor\": \"white\", \"gridwidth\": 2, \"linecolor\": \"white\", \"showbackground\": true, \"ticks\": \"\", \"zerolinecolor\": \"white\"}, \"zaxis\": {\"backgroundcolor\": \"#E5ECF6\", \"gridcolor\": \"white\", \"gridwidth\": 2, \"linecolor\": \"white\", \"showbackground\": true, \"ticks\": \"\", \"zerolinecolor\": \"white\"}}, \"shapedefaults\": {\"line\": {\"color\": \"#2a3f5f\"}}, \"ternary\": {\"aaxis\": {\"gridcolor\": \"white\", \"linecolor\": \"white\", \"ticks\": \"\"}, \"baxis\": {\"gridcolor\": \"white\", \"linecolor\": \"white\", \"ticks\": \"\"}, \"bgcolor\": \"#E5ECF6\", \"caxis\": {\"gridcolor\": \"white\", \"linecolor\": \"white\", \"ticks\": \"\"}}, \"title\": {\"x\": 0.05}, \"xaxis\": {\"automargin\": true, \"gridcolor\": \"white\", \"linecolor\": \"white\", \"ticks\": \"\", \"title\": {\"standoff\": 15}, \"zerolinecolor\": \"white\", \"zerolinewidth\": 2}, \"yaxis\": {\"automargin\": true, \"gridcolor\": \"white\", \"linecolor\": \"white\", \"ticks\": \"\", \"title\": {\"standoff\": 15}, \"zerolinecolor\": \"white\", \"zerolinewidth\": 2}}}, \"title\": {\"font\": {\"color\": \"#4D5663\"}}, \"xaxis\": {\"gridcolor\": \"#E1E5ED\", \"showgrid\": true, \"tickfont\": {\"color\": \"#4D5663\"}, \"title\": {\"font\": {\"color\": \"#4D5663\"}, \"text\": \"\"}, \"zerolinecolor\": \"#E1E5ED\"}, \"yaxis\": {\"gridcolor\": \"#E1E5ED\", \"showgrid\": true, \"tickfont\": {\"color\": \"#4D5663\"}, \"title\": {\"font\": {\"color\": \"#4D5663\"}, \"text\": \"\"}, \"zerolinecolor\": \"#E1E5ED\"}},\n",
       "                        {\"showLink\": true, \"linkText\": \"Export to plot.ly\", \"plotlyServerURL\": \"https://plot.ly\", \"responsive\": true}\n",
       "                    ).then(function(){\n",
       "                            \n",
       "var gd = document.getElementById('5a4d725f-ece9-403a-a07a-af829d83bf0d');\n",
       "var x = new MutationObserver(function (mutations, observer) {{\n",
       "        var display = window.getComputedStyle(gd).display;\n",
       "        if (!display || display === 'none') {{\n",
       "            console.log([gd, 'removed!']);\n",
       "            Plotly.purge(gd);\n",
       "            observer.disconnect();\n",
       "        }}\n",
       "}});\n",
       "\n",
       "// Listen for the removal of the full notebook cells\n",
       "var notebookContainer = gd.closest('#notebook-container');\n",
       "if (notebookContainer) {{\n",
       "    x.observe(notebookContainer, {childList: true});\n",
       "}}\n",
       "\n",
       "// Listen for the clearing of the current output cell\n",
       "var outputEl = gd.closest('.output');\n",
       "if (outputEl) {{\n",
       "    x.observe(outputEl, {childList: true});\n",
       "}}\n",
       "\n",
       "                        })\n",
       "                };\n",
       "                });\n",
       "            </script>\n",
       "        </div>"
      ]
     },
     "metadata": {},
     "output_type": "display_data"
    }
   ],
   "source": [
    "df2.iplot(kind='bar', x='Category', y='Values')"
   ]
  },
  {
   "cell_type": "code",
   "execution_count": 15,
   "metadata": {},
   "outputs": [
    {
     "data": {
      "application/vnd.plotly.v1+json": {
       "config": {
        "linkText": "Export to plot.ly",
        "plotlyServerURL": "https://plot.ly",
        "showLink": true
       },
       "data": [
        {
         "boxpoints": false,
         "line": {
          "width": 1.3
         },
         "marker": {
          "color": "rgba(255, 153, 51, 1.0)"
         },
         "name": "A",
         "orientation": "v",
         "type": "box",
         "y": [
          0.0894442250382196,
          -1.1636901974238956,
          -0.14222402464788517,
          2.0778243621370107,
          0.007891208853460787,
          1.5114211282301155,
          -0.5781301716748249,
          -0.6493464768341835,
          0.8804366298714607,
          -0.28659777359830724,
          -1.5497540650436465,
          0.06842940166910959,
          -0.8432149839111754,
          0.3625754416965515,
          1.7444769159705618,
          -1.7432789276671714,
          0.8127035469807969,
          0.03540155607319169,
          1.3149034064472398,
          -0.8091799746687368,
          0.5944092099911594,
          0.03851348232570403,
          0.5753884431301269,
          -0.14955590357202014,
          0.006847168151190288,
          -0.4779403451771194,
          -0.5121962485105361,
          0.39522619677635673,
          -0.7774209665066977,
          0.2010098882993933,
          -0.413765603541961,
          -1.837127240885446,
          -0.7430045491018606,
          0.3817020317037981,
          -2.2971459526257667,
          -0.930848336285178,
          -0.059242497738331006,
          -0.7226483965722095,
          0.9331620841320196,
          -0.007067825779079438,
          -0.24593939584039556,
          -0.23069547894684309,
          1.0131302346093156,
          2.16057042620193,
          0.12158079292653799,
          1.9895997640116458,
          0.8383931024137476,
          -0.008374359246434421,
          1.4147381393816199,
          -0.7975371494374897,
          1.6005923733589194,
          0.8461877996382429,
          0.6049372106916631,
          0.6167289385603898,
          -0.9841922062555499,
          -0.7090223222393144,
          -0.20062344927579204,
          -0.21840508922074062,
          0.46574555484211694,
          0.901984420014373,
          0.2751723113873585,
          -0.7373810854520237,
          1.2959580631458174,
          1.3275372519280928,
          -0.14695123385579606,
          -0.9368085763045358,
          0.4789197351621965,
          0.6776401387760087,
          0.5397652861837627,
          0.13821965496865166,
          -0.6589820202089064,
          -0.17053658113319353,
          -1.1714716606227185,
          -0.6338918773750294,
          1.4530407842838158,
          -0.3677987470750953,
          -0.578155120774312,
          2.1707062080560133,
          -0.035509206884830384,
          -0.8735811264138856,
          0.3147312144581037,
          0.4965454858722151,
          1.8680870347309269,
          0.6875958421101073,
          -1.2340194983831576,
          -1.0017507758501363,
          -0.24547889804649828,
          -1.5561944000977719,
          -1.2255841958311244,
          -1.8797420996939276,
          -1.1416902067245454,
          -0.8550160927407154,
          -0.48042608219442223,
          -0.27799480490922684,
          1.3749139157097308,
          0.27300356286191324,
          -0.8159390980627154,
          -0.01673684419022112,
          -1.126958887272344,
          0.1649610079367353
         ]
        },
        {
         "boxpoints": false,
         "line": {
          "width": 1.3
         },
         "marker": {
          "color": "rgba(55, 128, 191, 1.0)"
         },
         "name": "B",
         "orientation": "v",
         "type": "box",
         "y": [
          -1.3655200158258656,
          1.8038949899218248,
          0.10843718531566045,
          1.4355657023969033,
          -0.022422383228524325,
          -0.11741546053121543,
          0.6385468531906983,
          -0.08348409080065669,
          -0.650770612339167,
          0.3565848106287523,
          1.594711505005319,
          -1.014433488127197,
          0.6890127651066934,
          0.3977818554815641,
          -1.341690125875958,
          -0.6988102568559302,
          -0.36712508794464865,
          -1.0522588585848436,
          1.3882909633804152,
          -1.6094941778442455,
          -0.33120523917734057,
          -1.6903848972611626,
          0.2843131685488693,
          2.0035637132125133,
          -0.19697092284664577,
          -0.1514736478519328,
          -1.3298873967560545,
          0.8235919879503149,
          -0.8030815481501907,
          -1.7409748037034218,
          1.209499887557365,
          2.1416193669136336,
          1.4512468981049529,
          -0.5240122074515902,
          -0.37520021469507336,
          1.4354493635068033,
          1.0685554307252807,
          -0.8168828279085346,
          -1.5838185817713528,
          -0.4387628603968676,
          0.03990606955832411,
          2.6493819629058453,
          -1.1626131670879876,
          0.01333459287637117,
          -0.7313883942559631,
          0.8343779478478394,
          0.8029890061540522,
          -1.412959274261139,
          1.073032685859393,
          0.2267015121459549,
          1.143345332830039,
          2.496603362120481,
          0.9793209297274629,
          0.8583954260892992,
          -1.2895959623160749,
          0.2489351926348663,
          1.4711880643513884,
          0.9657769617053209,
          1.583826612796633,
          -0.4454618003166316,
          0.7445328747000158,
          1.0616834457354132,
          -1.3195277669201264,
          0.5047985700119586,
          -1.8297770264924418,
          -0.5786800269282291,
          1.9202916269657508,
          -1.0730822622527767,
          0.150800146046857,
          -1.2739672247693878,
          -0.8728613885960235,
          0.8914441421994455,
          1.5761950339719883,
          -1.3717201448056051,
          1.3337188675745775,
          -0.022728635798502476,
          2.1905772534661017,
          0.6312529720703588,
          -1.0380398690782615,
          1.6329567828998433,
          0.20035279599071623,
          -0.7784045068351377,
          1.2532029356440353,
          -0.7709214851815889,
          -0.15009567530999388,
          -0.16439602171750148,
          0.15408902677376046,
          -0.30995291488325527,
          -0.11498077746145126,
          0.4083918780301276,
          -0.36918189473767477,
          1.415344496215347,
          -0.21976358236558427,
          2.6148405210002705,
          -1.5097530168154465,
          0.44936574046642674,
          0.07000168611707176,
          0.08650081185933392,
          0.9203281370471121,
          1.5903200193556177
         ]
        },
        {
         "boxpoints": false,
         "line": {
          "width": 1.3
         },
         "marker": {
          "color": "rgba(50, 171, 96, 1.0)"
         },
         "name": "C",
         "orientation": "v",
         "type": "box",
         "y": [
          -1.0443923988550883,
          0.5759995529236465,
          0.9054989998491968,
          0.6203644361671303,
          -0.06924857428643545,
          0.02450828462246479,
          0.829083324418259,
          -0.8179730543177922,
          1.287131551246612,
          2.35528249916397,
          0.6248232285928756,
          -0.9797254984790027,
          0.9098143402760405,
          0.3346415659201809,
          0.09350815869751432,
          -0.09885958176882112,
          0.09915361248980409,
          -0.5970247720274051,
          -1.6496275868366244,
          -1.9395735343061775,
          -0.9973024489511103,
          -0.16547273659582543,
          0.3945415979397608,
          -0.0416585702958144,
          -0.5265133052913373,
          -0.25915431437378605,
          -0.45914539801171333,
          0.3635293135932887,
          -1.9291580431323683,
          -0.6169138440693483,
          -0.7881260295130461,
          -0.7646199713213452,
          2.222560477265973,
          -0.736085636806195,
          0.19511887226317776,
          0.3930289680255666,
          1.164892302752009,
          0.7289276728446223,
          -0.10737424906375048,
          0.34697764144859505,
          1.4308048085034748,
          -0.10532418477598272,
          -0.3922722938914601,
          -0.2863748856102306,
          1.1679381125666788,
          -1.081180250408216,
          -0.5678364865562925,
          0.564016520048274,
          0.4952489232462605,
          -1.4171433403855391,
          -0.3039000655850409,
          -0.674666037911358,
          -1.6238999536508272,
          -0.6199556263538619,
          -0.15410436516655085,
          -0.3816543899426865,
          0.3095246620251357,
          0.18213390126551693,
          4.492097801899369e-05,
          0.954889837001447,
          -2.0180651247606236,
          0.5011430832113065,
          0.7019375990548377,
          -0.35420764781397024,
          0.02623113210256715,
          1.1800455384696376,
          -1.319921582094915,
          -0.6470961059887294,
          1.816145096173063,
          1.112974648388055,
          0.0701925987129905,
          0.21086210054882606,
          0.5295678049372673,
          -0.008261532654117363,
          -0.06907710975239476,
          0.9666428400665696,
          0.8687300425468045,
          -1.1217964199023274,
          -1.5739327047228504,
          0.6308878903193936,
          0.6317464761335823,
          0.14958164561674128,
          0.04132433833840389,
          -0.022922727963336456,
          -0.9517559263680294,
          1.4015792917121408,
          0.6038466356348323,
          0.26694932448701914,
          -0.1577614823606639,
          0.6886607585304464,
          -1.7766292844292435,
          -0.709652134541324,
          0.5700151717259795,
          1.236679805364241,
          1.0084774597557262,
          -0.18967335841858876,
          -0.17454619447005082,
          0.06888575607696995,
          -1.9019657294659444,
          -1.6073233387377233
         ]
        },
        {
         "boxpoints": false,
         "line": {
          "width": 1.3
         },
         "marker": {
          "color": "rgba(128, 0, 128, 1.0)"
         },
         "name": "D",
         "orientation": "v",
         "type": "box",
         "y": [
          0.49121024915659534,
          -0.6054208280330104,
          0.4286133751507561,
          0.5749791299996299,
          -1.4651647654724183,
          1.5091235424591303,
          -1.9028446965144412,
          0.8556574037290288,
          1.0184410347708033,
          0.16975296591159805,
          -1.0819803297839774,
          2.2897431306900065,
          1.5275189159802138,
          0.548235816602612,
          0.5189169567447889,
          0.225315009495835,
          0.5325987480959407,
          0.664647475231488,
          1.4104501919810468,
          -1.0471501792872175,
          0.7748136152235511,
          0.3867417476639088,
          -0.28077710498348185,
          -1.6231256705971266,
          -0.285245216581967,
          0.3981051276950406,
          -1.0612838474336348,
          0.4022015086996178,
          -0.8322587093790262,
          0.6651191410496203,
          1.2579646460569598,
          0.01684876411202814,
          0.45152140974726257,
          -2.136011881929804,
          -0.07110882406206066,
          -0.8350381719926955,
          -0.7096150691234179,
          0.0833020807038666,
          -1.2810627177009017,
          -0.5627280130124556,
          0.3423593122646959,
          -0.38033636926180336,
          -2.4683585500783534,
          1.4915813469249055,
          0.23922250306859477,
          1.0417385489456086,
          0.6521999486033947,
          1.4655723982644033,
          -1.8355261359209765,
          0.013260204635078612,
          -0.9888656867572325,
          0.8225639406761003,
          -2.6833171397996676,
          -0.6609511765107219,
          -0.745568929564417,
          1.746436407878108,
          -0.4053585682370533,
          -0.28814461539863484,
          0.7502246863560132,
          1.2099094927051703,
          0.7767443473779333,
          -0.9653578660164819,
          1.1780862842340172,
          -0.4905071894476108,
          1.5358221313058311,
          -0.7151415875177684,
          -0.1735930908244306,
          -0.09704506911224087,
          0.8231424686940455,
          1.199028806085445,
          -1.188384939751405,
          -0.40143860096391515,
          -0.12640927825109832,
          0.8614192962420617,
          -1.2342541720865574,
          0.21648117015489163,
          1.6235951677327358,
          0.4467158869038937,
          0.1563263832875724,
          0.11919124064187522,
          -1.5373422092171551,
          -1.5125276057454,
          -1.328436814796126,
          -0.6673350516205485,
          0.9296382051593038,
          -0.706515671269773,
          -0.3177655840393208,
          0.3073804944759816,
          -0.9851963314047077,
          1.6905939706242712,
          0.1281989805328292,
          0.31804404398677755,
          1.2562240009626575,
          -0.08291136730888701,
          0.17879678765892845,
          -2.7675719398666687,
          0.8889994754497441,
          2.325165108614538,
          2.368083968830104,
          0.8826354593944352
         ]
        }
       ],
       "layout": {
        "legend": {
         "bgcolor": "#F5F6F9",
         "font": {
          "color": "#4D5663"
         }
        },
        "paper_bgcolor": "#F5F6F9",
        "plot_bgcolor": "#F5F6F9",
        "template": {
         "data": {
          "bar": [
           {
            "error_x": {
             "color": "#2a3f5f"
            },
            "error_y": {
             "color": "#2a3f5f"
            },
            "marker": {
             "line": {
              "color": "#E5ECF6",
              "width": 0.5
             }
            },
            "type": "bar"
           }
          ],
          "barpolar": [
           {
            "marker": {
             "line": {
              "color": "#E5ECF6",
              "width": 0.5
             }
            },
            "type": "barpolar"
           }
          ],
          "carpet": [
           {
            "aaxis": {
             "endlinecolor": "#2a3f5f",
             "gridcolor": "white",
             "linecolor": "white",
             "minorgridcolor": "white",
             "startlinecolor": "#2a3f5f"
            },
            "baxis": {
             "endlinecolor": "#2a3f5f",
             "gridcolor": "white",
             "linecolor": "white",
             "minorgridcolor": "white",
             "startlinecolor": "#2a3f5f"
            },
            "type": "carpet"
           }
          ],
          "choropleth": [
           {
            "colorbar": {
             "outlinewidth": 0,
             "ticks": ""
            },
            "type": "choropleth"
           }
          ],
          "contour": [
           {
            "colorbar": {
             "outlinewidth": 0,
             "ticks": ""
            },
            "colorscale": [
             [
              0,
              "#0d0887"
             ],
             [
              0.1111111111111111,
              "#46039f"
             ],
             [
              0.2222222222222222,
              "#7201a8"
             ],
             [
              0.3333333333333333,
              "#9c179e"
             ],
             [
              0.4444444444444444,
              "#bd3786"
             ],
             [
              0.5555555555555556,
              "#d8576b"
             ],
             [
              0.6666666666666666,
              "#ed7953"
             ],
             [
              0.7777777777777778,
              "#fb9f3a"
             ],
             [
              0.8888888888888888,
              "#fdca26"
             ],
             [
              1,
              "#f0f921"
             ]
            ],
            "type": "contour"
           }
          ],
          "contourcarpet": [
           {
            "colorbar": {
             "outlinewidth": 0,
             "ticks": ""
            },
            "type": "contourcarpet"
           }
          ],
          "heatmap": [
           {
            "colorbar": {
             "outlinewidth": 0,
             "ticks": ""
            },
            "colorscale": [
             [
              0,
              "#0d0887"
             ],
             [
              0.1111111111111111,
              "#46039f"
             ],
             [
              0.2222222222222222,
              "#7201a8"
             ],
             [
              0.3333333333333333,
              "#9c179e"
             ],
             [
              0.4444444444444444,
              "#bd3786"
             ],
             [
              0.5555555555555556,
              "#d8576b"
             ],
             [
              0.6666666666666666,
              "#ed7953"
             ],
             [
              0.7777777777777778,
              "#fb9f3a"
             ],
             [
              0.8888888888888888,
              "#fdca26"
             ],
             [
              1,
              "#f0f921"
             ]
            ],
            "type": "heatmap"
           }
          ],
          "heatmapgl": [
           {
            "colorbar": {
             "outlinewidth": 0,
             "ticks": ""
            },
            "colorscale": [
             [
              0,
              "#0d0887"
             ],
             [
              0.1111111111111111,
              "#46039f"
             ],
             [
              0.2222222222222222,
              "#7201a8"
             ],
             [
              0.3333333333333333,
              "#9c179e"
             ],
             [
              0.4444444444444444,
              "#bd3786"
             ],
             [
              0.5555555555555556,
              "#d8576b"
             ],
             [
              0.6666666666666666,
              "#ed7953"
             ],
             [
              0.7777777777777778,
              "#fb9f3a"
             ],
             [
              0.8888888888888888,
              "#fdca26"
             ],
             [
              1,
              "#f0f921"
             ]
            ],
            "type": "heatmapgl"
           }
          ],
          "histogram": [
           {
            "marker": {
             "colorbar": {
              "outlinewidth": 0,
              "ticks": ""
             }
            },
            "type": "histogram"
           }
          ],
          "histogram2d": [
           {
            "colorbar": {
             "outlinewidth": 0,
             "ticks": ""
            },
            "colorscale": [
             [
              0,
              "#0d0887"
             ],
             [
              0.1111111111111111,
              "#46039f"
             ],
             [
              0.2222222222222222,
              "#7201a8"
             ],
             [
              0.3333333333333333,
              "#9c179e"
             ],
             [
              0.4444444444444444,
              "#bd3786"
             ],
             [
              0.5555555555555556,
              "#d8576b"
             ],
             [
              0.6666666666666666,
              "#ed7953"
             ],
             [
              0.7777777777777778,
              "#fb9f3a"
             ],
             [
              0.8888888888888888,
              "#fdca26"
             ],
             [
              1,
              "#f0f921"
             ]
            ],
            "type": "histogram2d"
           }
          ],
          "histogram2dcontour": [
           {
            "colorbar": {
             "outlinewidth": 0,
             "ticks": ""
            },
            "colorscale": [
             [
              0,
              "#0d0887"
             ],
             [
              0.1111111111111111,
              "#46039f"
             ],
             [
              0.2222222222222222,
              "#7201a8"
             ],
             [
              0.3333333333333333,
              "#9c179e"
             ],
             [
              0.4444444444444444,
              "#bd3786"
             ],
             [
              0.5555555555555556,
              "#d8576b"
             ],
             [
              0.6666666666666666,
              "#ed7953"
             ],
             [
              0.7777777777777778,
              "#fb9f3a"
             ],
             [
              0.8888888888888888,
              "#fdca26"
             ],
             [
              1,
              "#f0f921"
             ]
            ],
            "type": "histogram2dcontour"
           }
          ],
          "mesh3d": [
           {
            "colorbar": {
             "outlinewidth": 0,
             "ticks": ""
            },
            "type": "mesh3d"
           }
          ],
          "parcoords": [
           {
            "line": {
             "colorbar": {
              "outlinewidth": 0,
              "ticks": ""
             }
            },
            "type": "parcoords"
           }
          ],
          "pie": [
           {
            "automargin": true,
            "type": "pie"
           }
          ],
          "scatter": [
           {
            "marker": {
             "colorbar": {
              "outlinewidth": 0,
              "ticks": ""
             }
            },
            "type": "scatter"
           }
          ],
          "scatter3d": [
           {
            "line": {
             "colorbar": {
              "outlinewidth": 0,
              "ticks": ""
             }
            },
            "marker": {
             "colorbar": {
              "outlinewidth": 0,
              "ticks": ""
             }
            },
            "type": "scatter3d"
           }
          ],
          "scattercarpet": [
           {
            "marker": {
             "colorbar": {
              "outlinewidth": 0,
              "ticks": ""
             }
            },
            "type": "scattercarpet"
           }
          ],
          "scattergeo": [
           {
            "marker": {
             "colorbar": {
              "outlinewidth": 0,
              "ticks": ""
             }
            },
            "type": "scattergeo"
           }
          ],
          "scattergl": [
           {
            "marker": {
             "colorbar": {
              "outlinewidth": 0,
              "ticks": ""
             }
            },
            "type": "scattergl"
           }
          ],
          "scattermapbox": [
           {
            "marker": {
             "colorbar": {
              "outlinewidth": 0,
              "ticks": ""
             }
            },
            "type": "scattermapbox"
           }
          ],
          "scatterpolar": [
           {
            "marker": {
             "colorbar": {
              "outlinewidth": 0,
              "ticks": ""
             }
            },
            "type": "scatterpolar"
           }
          ],
          "scatterpolargl": [
           {
            "marker": {
             "colorbar": {
              "outlinewidth": 0,
              "ticks": ""
             }
            },
            "type": "scatterpolargl"
           }
          ],
          "scatterternary": [
           {
            "marker": {
             "colorbar": {
              "outlinewidth": 0,
              "ticks": ""
             }
            },
            "type": "scatterternary"
           }
          ],
          "surface": [
           {
            "colorbar": {
             "outlinewidth": 0,
             "ticks": ""
            },
            "colorscale": [
             [
              0,
              "#0d0887"
             ],
             [
              0.1111111111111111,
              "#46039f"
             ],
             [
              0.2222222222222222,
              "#7201a8"
             ],
             [
              0.3333333333333333,
              "#9c179e"
             ],
             [
              0.4444444444444444,
              "#bd3786"
             ],
             [
              0.5555555555555556,
              "#d8576b"
             ],
             [
              0.6666666666666666,
              "#ed7953"
             ],
             [
              0.7777777777777778,
              "#fb9f3a"
             ],
             [
              0.8888888888888888,
              "#fdca26"
             ],
             [
              1,
              "#f0f921"
             ]
            ],
            "type": "surface"
           }
          ],
          "table": [
           {
            "cells": {
             "fill": {
              "color": "#EBF0F8"
             },
             "line": {
              "color": "white"
             }
            },
            "header": {
             "fill": {
              "color": "#C8D4E3"
             },
             "line": {
              "color": "white"
             }
            },
            "type": "table"
           }
          ]
         },
         "layout": {
          "annotationdefaults": {
           "arrowcolor": "#2a3f5f",
           "arrowhead": 0,
           "arrowwidth": 1
          },
          "coloraxis": {
           "colorbar": {
            "outlinewidth": 0,
            "ticks": ""
           }
          },
          "colorscale": {
           "diverging": [
            [
             0,
             "#8e0152"
            ],
            [
             0.1,
             "#c51b7d"
            ],
            [
             0.2,
             "#de77ae"
            ],
            [
             0.3,
             "#f1b6da"
            ],
            [
             0.4,
             "#fde0ef"
            ],
            [
             0.5,
             "#f7f7f7"
            ],
            [
             0.6,
             "#e6f5d0"
            ],
            [
             0.7,
             "#b8e186"
            ],
            [
             0.8,
             "#7fbc41"
            ],
            [
             0.9,
             "#4d9221"
            ],
            [
             1,
             "#276419"
            ]
           ],
           "sequential": [
            [
             0,
             "#0d0887"
            ],
            [
             0.1111111111111111,
             "#46039f"
            ],
            [
             0.2222222222222222,
             "#7201a8"
            ],
            [
             0.3333333333333333,
             "#9c179e"
            ],
            [
             0.4444444444444444,
             "#bd3786"
            ],
            [
             0.5555555555555556,
             "#d8576b"
            ],
            [
             0.6666666666666666,
             "#ed7953"
            ],
            [
             0.7777777777777778,
             "#fb9f3a"
            ],
            [
             0.8888888888888888,
             "#fdca26"
            ],
            [
             1,
             "#f0f921"
            ]
           ],
           "sequentialminus": [
            [
             0,
             "#0d0887"
            ],
            [
             0.1111111111111111,
             "#46039f"
            ],
            [
             0.2222222222222222,
             "#7201a8"
            ],
            [
             0.3333333333333333,
             "#9c179e"
            ],
            [
             0.4444444444444444,
             "#bd3786"
            ],
            [
             0.5555555555555556,
             "#d8576b"
            ],
            [
             0.6666666666666666,
             "#ed7953"
            ],
            [
             0.7777777777777778,
             "#fb9f3a"
            ],
            [
             0.8888888888888888,
             "#fdca26"
            ],
            [
             1,
             "#f0f921"
            ]
           ]
          },
          "colorway": [
           "#636efa",
           "#EF553B",
           "#00cc96",
           "#ab63fa",
           "#FFA15A",
           "#19d3f3",
           "#FF6692",
           "#B6E880",
           "#FF97FF",
           "#FECB52"
          ],
          "font": {
           "color": "#2a3f5f"
          },
          "geo": {
           "bgcolor": "white",
           "lakecolor": "white",
           "landcolor": "#E5ECF6",
           "showlakes": true,
           "showland": true,
           "subunitcolor": "white"
          },
          "hoverlabel": {
           "align": "left"
          },
          "hovermode": "closest",
          "mapbox": {
           "style": "light"
          },
          "paper_bgcolor": "white",
          "plot_bgcolor": "#E5ECF6",
          "polar": {
           "angularaxis": {
            "gridcolor": "white",
            "linecolor": "white",
            "ticks": ""
           },
           "bgcolor": "#E5ECF6",
           "radialaxis": {
            "gridcolor": "white",
            "linecolor": "white",
            "ticks": ""
           }
          },
          "scene": {
           "xaxis": {
            "backgroundcolor": "#E5ECF6",
            "gridcolor": "white",
            "gridwidth": 2,
            "linecolor": "white",
            "showbackground": true,
            "ticks": "",
            "zerolinecolor": "white"
           },
           "yaxis": {
            "backgroundcolor": "#E5ECF6",
            "gridcolor": "white",
            "gridwidth": 2,
            "linecolor": "white",
            "showbackground": true,
            "ticks": "",
            "zerolinecolor": "white"
           },
           "zaxis": {
            "backgroundcolor": "#E5ECF6",
            "gridcolor": "white",
            "gridwidth": 2,
            "linecolor": "white",
            "showbackground": true,
            "ticks": "",
            "zerolinecolor": "white"
           }
          },
          "shapedefaults": {
           "line": {
            "color": "#2a3f5f"
           }
          },
          "ternary": {
           "aaxis": {
            "gridcolor": "white",
            "linecolor": "white",
            "ticks": ""
           },
           "baxis": {
            "gridcolor": "white",
            "linecolor": "white",
            "ticks": ""
           },
           "bgcolor": "#E5ECF6",
           "caxis": {
            "gridcolor": "white",
            "linecolor": "white",
            "ticks": ""
           }
          },
          "title": {
           "x": 0.05
          },
          "xaxis": {
           "automargin": true,
           "gridcolor": "white",
           "linecolor": "white",
           "ticks": "",
           "title": {
            "standoff": 15
           },
           "zerolinecolor": "white",
           "zerolinewidth": 2
          },
          "yaxis": {
           "automargin": true,
           "gridcolor": "white",
           "linecolor": "white",
           "ticks": "",
           "title": {
            "standoff": 15
           },
           "zerolinecolor": "white",
           "zerolinewidth": 2
          }
         }
        },
        "title": {
         "font": {
          "color": "#4D5663"
         }
        },
        "xaxis": {
         "gridcolor": "#E1E5ED",
         "showgrid": true,
         "tickfont": {
          "color": "#4D5663"
         },
         "title": {
          "font": {
           "color": "#4D5663"
          },
          "text": ""
         },
         "zerolinecolor": "#E1E5ED"
        },
        "yaxis": {
         "gridcolor": "#E1E5ED",
         "showgrid": true,
         "tickfont": {
          "color": "#4D5663"
         },
         "title": {
          "font": {
           "color": "#4D5663"
          },
          "text": ""
         },
         "zerolinecolor": "#E1E5ED"
        }
       }
      },
      "text/html": [
       "<div>\n",
       "        \n",
       "        \n",
       "            <div id=\"f5ef8c8f-6313-4aff-9a33-02600db15ca4\" class=\"plotly-graph-div\" style=\"height:525px; width:100%;\"></div>\n",
       "            <script type=\"text/javascript\">\n",
       "                require([\"plotly\"], function(Plotly) {\n",
       "                    window.PLOTLYENV=window.PLOTLYENV || {};\n",
       "                    window.PLOTLYENV.BASE_URL='https://plot.ly';\n",
       "                    \n",
       "                if (document.getElementById(\"f5ef8c8f-6313-4aff-9a33-02600db15ca4\")) {\n",
       "                    Plotly.newPlot(\n",
       "                        'f5ef8c8f-6313-4aff-9a33-02600db15ca4',\n",
       "                        [{\"boxpoints\": false, \"line\": {\"width\": 1.3}, \"marker\": {\"color\": \"rgba(255, 153, 51, 1.0)\"}, \"name\": \"A\", \"orientation\": \"v\", \"type\": \"box\", \"y\": [0.0894442250382196, -1.1636901974238956, -0.14222402464788517, 2.0778243621370107, 0.007891208853460787, 1.5114211282301155, -0.5781301716748249, -0.6493464768341835, 0.8804366298714607, -0.28659777359830724, -1.5497540650436465, 0.06842940166910959, -0.8432149839111754, 0.3625754416965515, 1.7444769159705618, -1.7432789276671714, 0.8127035469807969, 0.03540155607319169, 1.3149034064472398, -0.8091799746687368, 0.5944092099911594, 0.03851348232570403, 0.5753884431301269, -0.14955590357202014, 0.006847168151190288, -0.4779403451771194, -0.5121962485105361, 0.39522619677635673, -0.7774209665066977, 0.2010098882993933, -0.413765603541961, -1.837127240885446, -0.7430045491018606, 0.3817020317037981, -2.2971459526257667, -0.930848336285178, -0.059242497738331006, -0.7226483965722095, 0.9331620841320196, -0.007067825779079438, -0.24593939584039556, -0.23069547894684309, 1.0131302346093156, 2.16057042620193, 0.12158079292653799, 1.9895997640116458, 0.8383931024137476, -0.008374359246434421, 1.4147381393816199, -0.7975371494374897, 1.6005923733589194, 0.8461877996382429, 0.6049372106916631, 0.6167289385603898, -0.9841922062555499, -0.7090223222393144, -0.20062344927579204, -0.21840508922074062, 0.46574555484211694, 0.901984420014373, 0.2751723113873585, -0.7373810854520237, 1.2959580631458174, 1.3275372519280928, -0.14695123385579606, -0.9368085763045358, 0.4789197351621965, 0.6776401387760087, 0.5397652861837627, 0.13821965496865166, -0.6589820202089064, -0.17053658113319353, -1.1714716606227185, -0.6338918773750294, 1.4530407842838158, -0.3677987470750953, -0.578155120774312, 2.1707062080560133, -0.035509206884830384, -0.8735811264138856, 0.3147312144581037, 0.4965454858722151, 1.8680870347309269, 0.6875958421101073, -1.2340194983831576, -1.0017507758501363, -0.24547889804649828, -1.5561944000977719, -1.2255841958311244, -1.8797420996939276, -1.1416902067245454, -0.8550160927407154, -0.48042608219442223, -0.27799480490922684, 1.3749139157097308, 0.27300356286191324, -0.8159390980627154, -0.01673684419022112, -1.126958887272344, 0.1649610079367353]}, {\"boxpoints\": false, \"line\": {\"width\": 1.3}, \"marker\": {\"color\": \"rgba(55, 128, 191, 1.0)\"}, \"name\": \"B\", \"orientation\": \"v\", \"type\": \"box\", \"y\": [-1.3655200158258656, 1.8038949899218248, 0.10843718531566045, 1.4355657023969033, -0.022422383228524325, -0.11741546053121543, 0.6385468531906983, -0.08348409080065669, -0.650770612339167, 0.3565848106287523, 1.594711505005319, -1.014433488127197, 0.6890127651066934, 0.3977818554815641, -1.341690125875958, -0.6988102568559302, -0.36712508794464865, -1.0522588585848436, 1.3882909633804152, -1.6094941778442455, -0.33120523917734057, -1.6903848972611626, 0.2843131685488693, 2.0035637132125133, -0.19697092284664577, -0.1514736478519328, -1.3298873967560545, 0.8235919879503149, -0.8030815481501907, -1.7409748037034218, 1.209499887557365, 2.1416193669136336, 1.4512468981049529, -0.5240122074515902, -0.37520021469507336, 1.4354493635068033, 1.0685554307252807, -0.8168828279085346, -1.5838185817713528, -0.4387628603968676, 0.03990606955832411, 2.6493819629058453, -1.1626131670879876, 0.01333459287637117, -0.7313883942559631, 0.8343779478478394, 0.8029890061540522, -1.412959274261139, 1.073032685859393, 0.2267015121459549, 1.143345332830039, 2.496603362120481, 0.9793209297274629, 0.8583954260892992, -1.2895959623160749, 0.2489351926348663, 1.4711880643513884, 0.9657769617053209, 1.583826612796633, -0.4454618003166316, 0.7445328747000158, 1.0616834457354132, -1.3195277669201264, 0.5047985700119586, -1.8297770264924418, -0.5786800269282291, 1.9202916269657508, -1.0730822622527767, 0.150800146046857, -1.2739672247693878, -0.8728613885960235, 0.8914441421994455, 1.5761950339719883, -1.3717201448056051, 1.3337188675745775, -0.022728635798502476, 2.1905772534661017, 0.6312529720703588, -1.0380398690782615, 1.6329567828998433, 0.20035279599071623, -0.7784045068351377, 1.2532029356440353, -0.7709214851815889, -0.15009567530999388, -0.16439602171750148, 0.15408902677376046, -0.30995291488325527, -0.11498077746145126, 0.4083918780301276, -0.36918189473767477, 1.415344496215347, -0.21976358236558427, 2.6148405210002705, -1.5097530168154465, 0.44936574046642674, 0.07000168611707176, 0.08650081185933392, 0.9203281370471121, 1.5903200193556177]}, {\"boxpoints\": false, \"line\": {\"width\": 1.3}, \"marker\": {\"color\": \"rgba(50, 171, 96, 1.0)\"}, \"name\": \"C\", \"orientation\": \"v\", \"type\": \"box\", \"y\": [-1.0443923988550883, 0.5759995529236465, 0.9054989998491968, 0.6203644361671303, -0.06924857428643545, 0.02450828462246479, 0.829083324418259, -0.8179730543177922, 1.287131551246612, 2.35528249916397, 0.6248232285928756, -0.9797254984790027, 0.9098143402760405, 0.3346415659201809, 0.09350815869751432, -0.09885958176882112, 0.09915361248980409, -0.5970247720274051, -1.6496275868366244, -1.9395735343061775, -0.9973024489511103, -0.16547273659582543, 0.3945415979397608, -0.0416585702958144, -0.5265133052913373, -0.25915431437378605, -0.45914539801171333, 0.3635293135932887, -1.9291580431323683, -0.6169138440693483, -0.7881260295130461, -0.7646199713213452, 2.222560477265973, -0.736085636806195, 0.19511887226317776, 0.3930289680255666, 1.164892302752009, 0.7289276728446223, -0.10737424906375048, 0.34697764144859505, 1.4308048085034748, -0.10532418477598272, -0.3922722938914601, -0.2863748856102306, 1.1679381125666788, -1.081180250408216, -0.5678364865562925, 0.564016520048274, 0.4952489232462605, -1.4171433403855391, -0.3039000655850409, -0.674666037911358, -1.6238999536508272, -0.6199556263538619, -0.15410436516655085, -0.3816543899426865, 0.3095246620251357, 0.18213390126551693, 4.492097801899369e-05, 0.954889837001447, -2.0180651247606236, 0.5011430832113065, 0.7019375990548377, -0.35420764781397024, 0.02623113210256715, 1.1800455384696376, -1.319921582094915, -0.6470961059887294, 1.816145096173063, 1.112974648388055, 0.0701925987129905, 0.21086210054882606, 0.5295678049372673, -0.008261532654117363, -0.06907710975239476, 0.9666428400665696, 0.8687300425468045, -1.1217964199023274, -1.5739327047228504, 0.6308878903193936, 0.6317464761335823, 0.14958164561674128, 0.04132433833840389, -0.022922727963336456, -0.9517559263680294, 1.4015792917121408, 0.6038466356348323, 0.26694932448701914, -0.1577614823606639, 0.6886607585304464, -1.7766292844292435, -0.709652134541324, 0.5700151717259795, 1.236679805364241, 1.0084774597557262, -0.18967335841858876, -0.17454619447005082, 0.06888575607696995, -1.9019657294659444, -1.6073233387377233]}, {\"boxpoints\": false, \"line\": {\"width\": 1.3}, \"marker\": {\"color\": \"rgba(128, 0, 128, 1.0)\"}, \"name\": \"D\", \"orientation\": \"v\", \"type\": \"box\", \"y\": [0.49121024915659534, -0.6054208280330104, 0.4286133751507561, 0.5749791299996299, -1.4651647654724183, 1.5091235424591303, -1.9028446965144412, 0.8556574037290288, 1.0184410347708033, 0.16975296591159805, -1.0819803297839774, 2.2897431306900065, 1.5275189159802138, 0.548235816602612, 0.5189169567447889, 0.225315009495835, 0.5325987480959407, 0.664647475231488, 1.4104501919810468, -1.0471501792872175, 0.7748136152235511, 0.3867417476639088, -0.28077710498348185, -1.6231256705971266, -0.285245216581967, 0.3981051276950406, -1.0612838474336348, 0.4022015086996178, -0.8322587093790262, 0.6651191410496203, 1.2579646460569598, 0.01684876411202814, 0.45152140974726257, -2.136011881929804, -0.07110882406206066, -0.8350381719926955, -0.7096150691234179, 0.0833020807038666, -1.2810627177009017, -0.5627280130124556, 0.3423593122646959, -0.38033636926180336, -2.4683585500783534, 1.4915813469249055, 0.23922250306859477, 1.0417385489456086, 0.6521999486033947, 1.4655723982644033, -1.8355261359209765, 0.013260204635078612, -0.9888656867572325, 0.8225639406761003, -2.6833171397996676, -0.6609511765107219, -0.745568929564417, 1.746436407878108, -0.4053585682370533, -0.28814461539863484, 0.7502246863560132, 1.2099094927051703, 0.7767443473779333, -0.9653578660164819, 1.1780862842340172, -0.4905071894476108, 1.5358221313058311, -0.7151415875177684, -0.1735930908244306, -0.09704506911224087, 0.8231424686940455, 1.199028806085445, -1.188384939751405, -0.40143860096391515, -0.12640927825109832, 0.8614192962420617, -1.2342541720865574, 0.21648117015489163, 1.6235951677327358, 0.4467158869038937, 0.1563263832875724, 0.11919124064187522, -1.5373422092171551, -1.5125276057454, -1.328436814796126, -0.6673350516205485, 0.9296382051593038, -0.706515671269773, -0.3177655840393208, 0.3073804944759816, -0.9851963314047077, 1.6905939706242712, 0.1281989805328292, 0.31804404398677755, 1.2562240009626575, -0.08291136730888701, 0.17879678765892845, -2.7675719398666687, 0.8889994754497441, 2.325165108614538, 2.368083968830104, 0.8826354593944352]}],\n",
       "                        {\"legend\": {\"bgcolor\": \"#F5F6F9\", \"font\": {\"color\": \"#4D5663\"}}, \"paper_bgcolor\": \"#F5F6F9\", \"plot_bgcolor\": \"#F5F6F9\", \"template\": {\"data\": {\"bar\": [{\"error_x\": {\"color\": \"#2a3f5f\"}, \"error_y\": {\"color\": \"#2a3f5f\"}, \"marker\": {\"line\": {\"color\": \"#E5ECF6\", \"width\": 0.5}}, \"type\": \"bar\"}], \"barpolar\": [{\"marker\": {\"line\": {\"color\": \"#E5ECF6\", \"width\": 0.5}}, \"type\": \"barpolar\"}], \"carpet\": [{\"aaxis\": {\"endlinecolor\": \"#2a3f5f\", \"gridcolor\": \"white\", \"linecolor\": \"white\", \"minorgridcolor\": \"white\", \"startlinecolor\": \"#2a3f5f\"}, \"baxis\": {\"endlinecolor\": \"#2a3f5f\", \"gridcolor\": \"white\", \"linecolor\": \"white\", \"minorgridcolor\": \"white\", \"startlinecolor\": \"#2a3f5f\"}, \"type\": \"carpet\"}], \"choropleth\": [{\"colorbar\": {\"outlinewidth\": 0, \"ticks\": \"\"}, \"type\": \"choropleth\"}], \"contour\": [{\"colorbar\": {\"outlinewidth\": 0, \"ticks\": \"\"}, \"colorscale\": [[0.0, \"#0d0887\"], [0.1111111111111111, \"#46039f\"], [0.2222222222222222, \"#7201a8\"], [0.3333333333333333, \"#9c179e\"], [0.4444444444444444, \"#bd3786\"], [0.5555555555555556, \"#d8576b\"], [0.6666666666666666, \"#ed7953\"], [0.7777777777777778, \"#fb9f3a\"], [0.8888888888888888, \"#fdca26\"], [1.0, \"#f0f921\"]], \"type\": \"contour\"}], \"contourcarpet\": [{\"colorbar\": {\"outlinewidth\": 0, \"ticks\": \"\"}, \"type\": \"contourcarpet\"}], \"heatmap\": [{\"colorbar\": {\"outlinewidth\": 0, \"ticks\": \"\"}, \"colorscale\": [[0.0, \"#0d0887\"], [0.1111111111111111, \"#46039f\"], [0.2222222222222222, \"#7201a8\"], [0.3333333333333333, \"#9c179e\"], [0.4444444444444444, \"#bd3786\"], [0.5555555555555556, \"#d8576b\"], [0.6666666666666666, \"#ed7953\"], [0.7777777777777778, \"#fb9f3a\"], [0.8888888888888888, \"#fdca26\"], [1.0, \"#f0f921\"]], \"type\": \"heatmap\"}], \"heatmapgl\": [{\"colorbar\": {\"outlinewidth\": 0, \"ticks\": \"\"}, \"colorscale\": [[0.0, \"#0d0887\"], [0.1111111111111111, \"#46039f\"], [0.2222222222222222, \"#7201a8\"], [0.3333333333333333, \"#9c179e\"], [0.4444444444444444, \"#bd3786\"], [0.5555555555555556, \"#d8576b\"], [0.6666666666666666, \"#ed7953\"], [0.7777777777777778, \"#fb9f3a\"], [0.8888888888888888, \"#fdca26\"], [1.0, \"#f0f921\"]], \"type\": \"heatmapgl\"}], \"histogram\": [{\"marker\": {\"colorbar\": {\"outlinewidth\": 0, \"ticks\": \"\"}}, \"type\": \"histogram\"}], \"histogram2d\": [{\"colorbar\": {\"outlinewidth\": 0, \"ticks\": \"\"}, \"colorscale\": [[0.0, \"#0d0887\"], [0.1111111111111111, \"#46039f\"], [0.2222222222222222, \"#7201a8\"], [0.3333333333333333, \"#9c179e\"], [0.4444444444444444, \"#bd3786\"], [0.5555555555555556, \"#d8576b\"], [0.6666666666666666, \"#ed7953\"], [0.7777777777777778, \"#fb9f3a\"], [0.8888888888888888, \"#fdca26\"], [1.0, \"#f0f921\"]], \"type\": \"histogram2d\"}], \"histogram2dcontour\": [{\"colorbar\": {\"outlinewidth\": 0, \"ticks\": \"\"}, \"colorscale\": [[0.0, \"#0d0887\"], [0.1111111111111111, \"#46039f\"], [0.2222222222222222, \"#7201a8\"], [0.3333333333333333, \"#9c179e\"], [0.4444444444444444, \"#bd3786\"], [0.5555555555555556, \"#d8576b\"], [0.6666666666666666, \"#ed7953\"], [0.7777777777777778, \"#fb9f3a\"], [0.8888888888888888, \"#fdca26\"], [1.0, \"#f0f921\"]], \"type\": \"histogram2dcontour\"}], \"mesh3d\": [{\"colorbar\": {\"outlinewidth\": 0, \"ticks\": \"\"}, \"type\": \"mesh3d\"}], \"parcoords\": [{\"line\": {\"colorbar\": {\"outlinewidth\": 0, \"ticks\": \"\"}}, \"type\": \"parcoords\"}], \"pie\": [{\"automargin\": true, \"type\": \"pie\"}], \"scatter\": [{\"marker\": {\"colorbar\": {\"outlinewidth\": 0, \"ticks\": \"\"}}, \"type\": \"scatter\"}], \"scatter3d\": [{\"line\": {\"colorbar\": {\"outlinewidth\": 0, \"ticks\": \"\"}}, \"marker\": {\"colorbar\": {\"outlinewidth\": 0, \"ticks\": \"\"}}, \"type\": \"scatter3d\"}], \"scattercarpet\": [{\"marker\": {\"colorbar\": {\"outlinewidth\": 0, \"ticks\": \"\"}}, \"type\": \"scattercarpet\"}], \"scattergeo\": [{\"marker\": {\"colorbar\": {\"outlinewidth\": 0, \"ticks\": \"\"}}, \"type\": \"scattergeo\"}], \"scattergl\": [{\"marker\": {\"colorbar\": {\"outlinewidth\": 0, \"ticks\": \"\"}}, \"type\": \"scattergl\"}], \"scattermapbox\": [{\"marker\": {\"colorbar\": {\"outlinewidth\": 0, \"ticks\": \"\"}}, \"type\": \"scattermapbox\"}], \"scatterpolar\": [{\"marker\": {\"colorbar\": {\"outlinewidth\": 0, \"ticks\": \"\"}}, \"type\": \"scatterpolar\"}], \"scatterpolargl\": [{\"marker\": {\"colorbar\": {\"outlinewidth\": 0, \"ticks\": \"\"}}, \"type\": \"scatterpolargl\"}], \"scatterternary\": [{\"marker\": {\"colorbar\": {\"outlinewidth\": 0, \"ticks\": \"\"}}, \"type\": \"scatterternary\"}], \"surface\": [{\"colorbar\": {\"outlinewidth\": 0, \"ticks\": \"\"}, \"colorscale\": [[0.0, \"#0d0887\"], [0.1111111111111111, \"#46039f\"], [0.2222222222222222, \"#7201a8\"], [0.3333333333333333, \"#9c179e\"], [0.4444444444444444, \"#bd3786\"], [0.5555555555555556, \"#d8576b\"], [0.6666666666666666, \"#ed7953\"], [0.7777777777777778, \"#fb9f3a\"], [0.8888888888888888, \"#fdca26\"], [1.0, \"#f0f921\"]], \"type\": \"surface\"}], \"table\": [{\"cells\": {\"fill\": {\"color\": \"#EBF0F8\"}, \"line\": {\"color\": \"white\"}}, \"header\": {\"fill\": {\"color\": \"#C8D4E3\"}, \"line\": {\"color\": \"white\"}}, \"type\": \"table\"}]}, \"layout\": {\"annotationdefaults\": {\"arrowcolor\": \"#2a3f5f\", \"arrowhead\": 0, \"arrowwidth\": 1}, \"coloraxis\": {\"colorbar\": {\"outlinewidth\": 0, \"ticks\": \"\"}}, \"colorscale\": {\"diverging\": [[0, \"#8e0152\"], [0.1, \"#c51b7d\"], [0.2, \"#de77ae\"], [0.3, \"#f1b6da\"], [0.4, \"#fde0ef\"], [0.5, \"#f7f7f7\"], [0.6, \"#e6f5d0\"], [0.7, \"#b8e186\"], [0.8, \"#7fbc41\"], [0.9, \"#4d9221\"], [1, \"#276419\"]], \"sequential\": [[0.0, \"#0d0887\"], [0.1111111111111111, \"#46039f\"], [0.2222222222222222, \"#7201a8\"], [0.3333333333333333, \"#9c179e\"], [0.4444444444444444, \"#bd3786\"], [0.5555555555555556, \"#d8576b\"], [0.6666666666666666, \"#ed7953\"], [0.7777777777777778, \"#fb9f3a\"], [0.8888888888888888, \"#fdca26\"], [1.0, \"#f0f921\"]], \"sequentialminus\": [[0.0, \"#0d0887\"], [0.1111111111111111, \"#46039f\"], [0.2222222222222222, \"#7201a8\"], [0.3333333333333333, \"#9c179e\"], [0.4444444444444444, \"#bd3786\"], [0.5555555555555556, \"#d8576b\"], [0.6666666666666666, \"#ed7953\"], [0.7777777777777778, \"#fb9f3a\"], [0.8888888888888888, \"#fdca26\"], [1.0, \"#f0f921\"]]}, \"colorway\": [\"#636efa\", \"#EF553B\", \"#00cc96\", \"#ab63fa\", \"#FFA15A\", \"#19d3f3\", \"#FF6692\", \"#B6E880\", \"#FF97FF\", \"#FECB52\"], \"font\": {\"color\": \"#2a3f5f\"}, \"geo\": {\"bgcolor\": \"white\", \"lakecolor\": \"white\", \"landcolor\": \"#E5ECF6\", \"showlakes\": true, \"showland\": true, \"subunitcolor\": \"white\"}, \"hoverlabel\": {\"align\": \"left\"}, \"hovermode\": \"closest\", \"mapbox\": {\"style\": \"light\"}, \"paper_bgcolor\": \"white\", \"plot_bgcolor\": \"#E5ECF6\", \"polar\": {\"angularaxis\": {\"gridcolor\": \"white\", \"linecolor\": \"white\", \"ticks\": \"\"}, \"bgcolor\": \"#E5ECF6\", \"radialaxis\": {\"gridcolor\": \"white\", \"linecolor\": \"white\", \"ticks\": \"\"}}, \"scene\": {\"xaxis\": {\"backgroundcolor\": \"#E5ECF6\", \"gridcolor\": \"white\", \"gridwidth\": 2, \"linecolor\": \"white\", \"showbackground\": true, \"ticks\": \"\", \"zerolinecolor\": \"white\"}, \"yaxis\": {\"backgroundcolor\": \"#E5ECF6\", \"gridcolor\": \"white\", \"gridwidth\": 2, \"linecolor\": \"white\", \"showbackground\": true, \"ticks\": \"\", \"zerolinecolor\": \"white\"}, \"zaxis\": {\"backgroundcolor\": \"#E5ECF6\", \"gridcolor\": \"white\", \"gridwidth\": 2, \"linecolor\": \"white\", \"showbackground\": true, \"ticks\": \"\", \"zerolinecolor\": \"white\"}}, \"shapedefaults\": {\"line\": {\"color\": \"#2a3f5f\"}}, \"ternary\": {\"aaxis\": {\"gridcolor\": \"white\", \"linecolor\": \"white\", \"ticks\": \"\"}, \"baxis\": {\"gridcolor\": \"white\", \"linecolor\": \"white\", \"ticks\": \"\"}, \"bgcolor\": \"#E5ECF6\", \"caxis\": {\"gridcolor\": \"white\", \"linecolor\": \"white\", \"ticks\": \"\"}}, \"title\": {\"x\": 0.05}, \"xaxis\": {\"automargin\": true, \"gridcolor\": \"white\", \"linecolor\": \"white\", \"ticks\": \"\", \"title\": {\"standoff\": 15}, \"zerolinecolor\": \"white\", \"zerolinewidth\": 2}, \"yaxis\": {\"automargin\": true, \"gridcolor\": \"white\", \"linecolor\": \"white\", \"ticks\": \"\", \"title\": {\"standoff\": 15}, \"zerolinecolor\": \"white\", \"zerolinewidth\": 2}}}, \"title\": {\"font\": {\"color\": \"#4D5663\"}}, \"xaxis\": {\"gridcolor\": \"#E1E5ED\", \"showgrid\": true, \"tickfont\": {\"color\": \"#4D5663\"}, \"title\": {\"font\": {\"color\": \"#4D5663\"}, \"text\": \"\"}, \"zerolinecolor\": \"#E1E5ED\"}, \"yaxis\": {\"gridcolor\": \"#E1E5ED\", \"showgrid\": true, \"tickfont\": {\"color\": \"#4D5663\"}, \"title\": {\"font\": {\"color\": \"#4D5663\"}, \"text\": \"\"}, \"zerolinecolor\": \"#E1E5ED\"}},\n",
       "                        {\"showLink\": true, \"linkText\": \"Export to plot.ly\", \"plotlyServerURL\": \"https://plot.ly\", \"responsive\": true}\n",
       "                    ).then(function(){\n",
       "                            \n",
       "var gd = document.getElementById('f5ef8c8f-6313-4aff-9a33-02600db15ca4');\n",
       "var x = new MutationObserver(function (mutations, observer) {{\n",
       "        var display = window.getComputedStyle(gd).display;\n",
       "        if (!display || display === 'none') {{\n",
       "            console.log([gd, 'removed!']);\n",
       "            Plotly.purge(gd);\n",
       "            observer.disconnect();\n",
       "        }}\n",
       "}});\n",
       "\n",
       "// Listen for the removal of the full notebook cells\n",
       "var notebookContainer = gd.closest('#notebook-container');\n",
       "if (notebookContainer) {{\n",
       "    x.observe(notebookContainer, {childList: true});\n",
       "}}\n",
       "\n",
       "// Listen for the clearing of the current output cell\n",
       "var outputEl = gd.closest('.output');\n",
       "if (outputEl) {{\n",
       "    x.observe(outputEl, {childList: true});\n",
       "}}\n",
       "\n",
       "                        })\n",
       "                };\n",
       "                });\n",
       "            </script>\n",
       "        </div>"
      ]
     },
     "metadata": {},
     "output_type": "display_data"
    }
   ],
   "source": [
    "df.iplot(kind='box')"
   ]
  },
  {
   "cell_type": "markdown",
   "metadata": {},
   "source": [
    "## 3D surface"
   ]
  },
  {
   "cell_type": "code",
   "execution_count": 17,
   "metadata": {},
   "outputs": [
    {
     "data": {
      "application/vnd.plotly.v1+json": {
       "config": {
        "linkText": "Export to plot.ly",
        "plotlyServerURL": "https://plot.ly",
        "showLink": true
       },
       "data": [
        {
         "colorscale": [
          [
           0,
           "rgb(165,0,38)"
          ],
          [
           0.1,
           "rgb(215,48,39)"
          ],
          [
           0.2,
           "rgb(244,109,67)"
          ],
          [
           0.3,
           "rgb(253,174,97)"
          ],
          [
           0.4,
           "rgb(254,224,144)"
          ],
          [
           0.5,
           "rgb(255,255,191)"
          ],
          [
           0.6,
           "rgb(224,243,248)"
          ],
          [
           0.7,
           "rgb(171,217,233)"
          ],
          [
           0.8,
           "rgb(116,173,209)"
          ],
          [
           0.9,
           "rgb(69,117,180)"
          ],
          [
           1,
           "rgb(49,54,149)"
          ]
         ],
         "type": "surface",
         "x": [
          0,
          1,
          2,
          3,
          4
         ],
         "y": [
          "x",
          "y",
          "z"
         ],
         "z": [
          [
           1,
           2,
           3,
           4,
           5
          ],
          [
           10,
           20,
           30,
           20,
           10
          ],
          [
           5,
           4,
           3,
           2,
           1
          ]
         ]
        }
       ],
       "layout": {
        "legend": {
         "bgcolor": "#F5F6F9",
         "font": {
          "color": "#4D5663"
         }
        },
        "paper_bgcolor": "#F5F6F9",
        "plot_bgcolor": "#F5F6F9",
        "template": {
         "data": {
          "bar": [
           {
            "error_x": {
             "color": "#2a3f5f"
            },
            "error_y": {
             "color": "#2a3f5f"
            },
            "marker": {
             "line": {
              "color": "#E5ECF6",
              "width": 0.5
             }
            },
            "type": "bar"
           }
          ],
          "barpolar": [
           {
            "marker": {
             "line": {
              "color": "#E5ECF6",
              "width": 0.5
             }
            },
            "type": "barpolar"
           }
          ],
          "carpet": [
           {
            "aaxis": {
             "endlinecolor": "#2a3f5f",
             "gridcolor": "white",
             "linecolor": "white",
             "minorgridcolor": "white",
             "startlinecolor": "#2a3f5f"
            },
            "baxis": {
             "endlinecolor": "#2a3f5f",
             "gridcolor": "white",
             "linecolor": "white",
             "minorgridcolor": "white",
             "startlinecolor": "#2a3f5f"
            },
            "type": "carpet"
           }
          ],
          "choropleth": [
           {
            "colorbar": {
             "outlinewidth": 0,
             "ticks": ""
            },
            "type": "choropleth"
           }
          ],
          "contour": [
           {
            "colorbar": {
             "outlinewidth": 0,
             "ticks": ""
            },
            "colorscale": [
             [
              0,
              "#0d0887"
             ],
             [
              0.1111111111111111,
              "#46039f"
             ],
             [
              0.2222222222222222,
              "#7201a8"
             ],
             [
              0.3333333333333333,
              "#9c179e"
             ],
             [
              0.4444444444444444,
              "#bd3786"
             ],
             [
              0.5555555555555556,
              "#d8576b"
             ],
             [
              0.6666666666666666,
              "#ed7953"
             ],
             [
              0.7777777777777778,
              "#fb9f3a"
             ],
             [
              0.8888888888888888,
              "#fdca26"
             ],
             [
              1,
              "#f0f921"
             ]
            ],
            "type": "contour"
           }
          ],
          "contourcarpet": [
           {
            "colorbar": {
             "outlinewidth": 0,
             "ticks": ""
            },
            "type": "contourcarpet"
           }
          ],
          "heatmap": [
           {
            "colorbar": {
             "outlinewidth": 0,
             "ticks": ""
            },
            "colorscale": [
             [
              0,
              "#0d0887"
             ],
             [
              0.1111111111111111,
              "#46039f"
             ],
             [
              0.2222222222222222,
              "#7201a8"
             ],
             [
              0.3333333333333333,
              "#9c179e"
             ],
             [
              0.4444444444444444,
              "#bd3786"
             ],
             [
              0.5555555555555556,
              "#d8576b"
             ],
             [
              0.6666666666666666,
              "#ed7953"
             ],
             [
              0.7777777777777778,
              "#fb9f3a"
             ],
             [
              0.8888888888888888,
              "#fdca26"
             ],
             [
              1,
              "#f0f921"
             ]
            ],
            "type": "heatmap"
           }
          ],
          "heatmapgl": [
           {
            "colorbar": {
             "outlinewidth": 0,
             "ticks": ""
            },
            "colorscale": [
             [
              0,
              "#0d0887"
             ],
             [
              0.1111111111111111,
              "#46039f"
             ],
             [
              0.2222222222222222,
              "#7201a8"
             ],
             [
              0.3333333333333333,
              "#9c179e"
             ],
             [
              0.4444444444444444,
              "#bd3786"
             ],
             [
              0.5555555555555556,
              "#d8576b"
             ],
             [
              0.6666666666666666,
              "#ed7953"
             ],
             [
              0.7777777777777778,
              "#fb9f3a"
             ],
             [
              0.8888888888888888,
              "#fdca26"
             ],
             [
              1,
              "#f0f921"
             ]
            ],
            "type": "heatmapgl"
           }
          ],
          "histogram": [
           {
            "marker": {
             "colorbar": {
              "outlinewidth": 0,
              "ticks": ""
             }
            },
            "type": "histogram"
           }
          ],
          "histogram2d": [
           {
            "colorbar": {
             "outlinewidth": 0,
             "ticks": ""
            },
            "colorscale": [
             [
              0,
              "#0d0887"
             ],
             [
              0.1111111111111111,
              "#46039f"
             ],
             [
              0.2222222222222222,
              "#7201a8"
             ],
             [
              0.3333333333333333,
              "#9c179e"
             ],
             [
              0.4444444444444444,
              "#bd3786"
             ],
             [
              0.5555555555555556,
              "#d8576b"
             ],
             [
              0.6666666666666666,
              "#ed7953"
             ],
             [
              0.7777777777777778,
              "#fb9f3a"
             ],
             [
              0.8888888888888888,
              "#fdca26"
             ],
             [
              1,
              "#f0f921"
             ]
            ],
            "type": "histogram2d"
           }
          ],
          "histogram2dcontour": [
           {
            "colorbar": {
             "outlinewidth": 0,
             "ticks": ""
            },
            "colorscale": [
             [
              0,
              "#0d0887"
             ],
             [
              0.1111111111111111,
              "#46039f"
             ],
             [
              0.2222222222222222,
              "#7201a8"
             ],
             [
              0.3333333333333333,
              "#9c179e"
             ],
             [
              0.4444444444444444,
              "#bd3786"
             ],
             [
              0.5555555555555556,
              "#d8576b"
             ],
             [
              0.6666666666666666,
              "#ed7953"
             ],
             [
              0.7777777777777778,
              "#fb9f3a"
             ],
             [
              0.8888888888888888,
              "#fdca26"
             ],
             [
              1,
              "#f0f921"
             ]
            ],
            "type": "histogram2dcontour"
           }
          ],
          "mesh3d": [
           {
            "colorbar": {
             "outlinewidth": 0,
             "ticks": ""
            },
            "type": "mesh3d"
           }
          ],
          "parcoords": [
           {
            "line": {
             "colorbar": {
              "outlinewidth": 0,
              "ticks": ""
             }
            },
            "type": "parcoords"
           }
          ],
          "pie": [
           {
            "automargin": true,
            "type": "pie"
           }
          ],
          "scatter": [
           {
            "marker": {
             "colorbar": {
              "outlinewidth": 0,
              "ticks": ""
             }
            },
            "type": "scatter"
           }
          ],
          "scatter3d": [
           {
            "line": {
             "colorbar": {
              "outlinewidth": 0,
              "ticks": ""
             }
            },
            "marker": {
             "colorbar": {
              "outlinewidth": 0,
              "ticks": ""
             }
            },
            "type": "scatter3d"
           }
          ],
          "scattercarpet": [
           {
            "marker": {
             "colorbar": {
              "outlinewidth": 0,
              "ticks": ""
             }
            },
            "type": "scattercarpet"
           }
          ],
          "scattergeo": [
           {
            "marker": {
             "colorbar": {
              "outlinewidth": 0,
              "ticks": ""
             }
            },
            "type": "scattergeo"
           }
          ],
          "scattergl": [
           {
            "marker": {
             "colorbar": {
              "outlinewidth": 0,
              "ticks": ""
             }
            },
            "type": "scattergl"
           }
          ],
          "scattermapbox": [
           {
            "marker": {
             "colorbar": {
              "outlinewidth": 0,
              "ticks": ""
             }
            },
            "type": "scattermapbox"
           }
          ],
          "scatterpolar": [
           {
            "marker": {
             "colorbar": {
              "outlinewidth": 0,
              "ticks": ""
             }
            },
            "type": "scatterpolar"
           }
          ],
          "scatterpolargl": [
           {
            "marker": {
             "colorbar": {
              "outlinewidth": 0,
              "ticks": ""
             }
            },
            "type": "scatterpolargl"
           }
          ],
          "scatterternary": [
           {
            "marker": {
             "colorbar": {
              "outlinewidth": 0,
              "ticks": ""
             }
            },
            "type": "scatterternary"
           }
          ],
          "surface": [
           {
            "colorbar": {
             "outlinewidth": 0,
             "ticks": ""
            },
            "colorscale": [
             [
              0,
              "#0d0887"
             ],
             [
              0.1111111111111111,
              "#46039f"
             ],
             [
              0.2222222222222222,
              "#7201a8"
             ],
             [
              0.3333333333333333,
              "#9c179e"
             ],
             [
              0.4444444444444444,
              "#bd3786"
             ],
             [
              0.5555555555555556,
              "#d8576b"
             ],
             [
              0.6666666666666666,
              "#ed7953"
             ],
             [
              0.7777777777777778,
              "#fb9f3a"
             ],
             [
              0.8888888888888888,
              "#fdca26"
             ],
             [
              1,
              "#f0f921"
             ]
            ],
            "type": "surface"
           }
          ],
          "table": [
           {
            "cells": {
             "fill": {
              "color": "#EBF0F8"
             },
             "line": {
              "color": "white"
             }
            },
            "header": {
             "fill": {
              "color": "#C8D4E3"
             },
             "line": {
              "color": "white"
             }
            },
            "type": "table"
           }
          ]
         },
         "layout": {
          "annotationdefaults": {
           "arrowcolor": "#2a3f5f",
           "arrowhead": 0,
           "arrowwidth": 1
          },
          "coloraxis": {
           "colorbar": {
            "outlinewidth": 0,
            "ticks": ""
           }
          },
          "colorscale": {
           "diverging": [
            [
             0,
             "#8e0152"
            ],
            [
             0.1,
             "#c51b7d"
            ],
            [
             0.2,
             "#de77ae"
            ],
            [
             0.3,
             "#f1b6da"
            ],
            [
             0.4,
             "#fde0ef"
            ],
            [
             0.5,
             "#f7f7f7"
            ],
            [
             0.6,
             "#e6f5d0"
            ],
            [
             0.7,
             "#b8e186"
            ],
            [
             0.8,
             "#7fbc41"
            ],
            [
             0.9,
             "#4d9221"
            ],
            [
             1,
             "#276419"
            ]
           ],
           "sequential": [
            [
             0,
             "#0d0887"
            ],
            [
             0.1111111111111111,
             "#46039f"
            ],
            [
             0.2222222222222222,
             "#7201a8"
            ],
            [
             0.3333333333333333,
             "#9c179e"
            ],
            [
             0.4444444444444444,
             "#bd3786"
            ],
            [
             0.5555555555555556,
             "#d8576b"
            ],
            [
             0.6666666666666666,
             "#ed7953"
            ],
            [
             0.7777777777777778,
             "#fb9f3a"
            ],
            [
             0.8888888888888888,
             "#fdca26"
            ],
            [
             1,
             "#f0f921"
            ]
           ],
           "sequentialminus": [
            [
             0,
             "#0d0887"
            ],
            [
             0.1111111111111111,
             "#46039f"
            ],
            [
             0.2222222222222222,
             "#7201a8"
            ],
            [
             0.3333333333333333,
             "#9c179e"
            ],
            [
             0.4444444444444444,
             "#bd3786"
            ],
            [
             0.5555555555555556,
             "#d8576b"
            ],
            [
             0.6666666666666666,
             "#ed7953"
            ],
            [
             0.7777777777777778,
             "#fb9f3a"
            ],
            [
             0.8888888888888888,
             "#fdca26"
            ],
            [
             1,
             "#f0f921"
            ]
           ]
          },
          "colorway": [
           "#636efa",
           "#EF553B",
           "#00cc96",
           "#ab63fa",
           "#FFA15A",
           "#19d3f3",
           "#FF6692",
           "#B6E880",
           "#FF97FF",
           "#FECB52"
          ],
          "font": {
           "color": "#2a3f5f"
          },
          "geo": {
           "bgcolor": "white",
           "lakecolor": "white",
           "landcolor": "#E5ECF6",
           "showlakes": true,
           "showland": true,
           "subunitcolor": "white"
          },
          "hoverlabel": {
           "align": "left"
          },
          "hovermode": "closest",
          "mapbox": {
           "style": "light"
          },
          "paper_bgcolor": "white",
          "plot_bgcolor": "#E5ECF6",
          "polar": {
           "angularaxis": {
            "gridcolor": "white",
            "linecolor": "white",
            "ticks": ""
           },
           "bgcolor": "#E5ECF6",
           "radialaxis": {
            "gridcolor": "white",
            "linecolor": "white",
            "ticks": ""
           }
          },
          "scene": {
           "xaxis": {
            "backgroundcolor": "#E5ECF6",
            "gridcolor": "white",
            "gridwidth": 2,
            "linecolor": "white",
            "showbackground": true,
            "ticks": "",
            "zerolinecolor": "white"
           },
           "yaxis": {
            "backgroundcolor": "#E5ECF6",
            "gridcolor": "white",
            "gridwidth": 2,
            "linecolor": "white",
            "showbackground": true,
            "ticks": "",
            "zerolinecolor": "white"
           },
           "zaxis": {
            "backgroundcolor": "#E5ECF6",
            "gridcolor": "white",
            "gridwidth": 2,
            "linecolor": "white",
            "showbackground": true,
            "ticks": "",
            "zerolinecolor": "white"
           }
          },
          "shapedefaults": {
           "line": {
            "color": "#2a3f5f"
           }
          },
          "ternary": {
           "aaxis": {
            "gridcolor": "white",
            "linecolor": "white",
            "ticks": ""
           },
           "baxis": {
            "gridcolor": "white",
            "linecolor": "white",
            "ticks": ""
           },
           "bgcolor": "#E5ECF6",
           "caxis": {
            "gridcolor": "white",
            "linecolor": "white",
            "ticks": ""
           }
          },
          "title": {
           "x": 0.05
          },
          "xaxis": {
           "automargin": true,
           "gridcolor": "white",
           "linecolor": "white",
           "ticks": "",
           "title": {
            "standoff": 15
           },
           "zerolinecolor": "white",
           "zerolinewidth": 2
          },
          "yaxis": {
           "automargin": true,
           "gridcolor": "white",
           "linecolor": "white",
           "ticks": "",
           "title": {
            "standoff": 15
           },
           "zerolinecolor": "white",
           "zerolinewidth": 2
          }
         }
        },
        "title": {
         "font": {
          "color": "#4D5663"
         }
        },
        "xaxis": {
         "gridcolor": "#E1E5ED",
         "showgrid": true,
         "tickfont": {
          "color": "#4D5663"
         },
         "title": {
          "font": {
           "color": "#4D5663"
          },
          "text": ""
         },
         "zerolinecolor": "#E1E5ED"
        },
        "yaxis": {
         "gridcolor": "#E1E5ED",
         "showgrid": true,
         "tickfont": {
          "color": "#4D5663"
         },
         "title": {
          "font": {
           "color": "#4D5663"
          },
          "text": ""
         },
         "zerolinecolor": "#E1E5ED"
        }
       }
      },
      "text/html": [
       "<div>\n",
       "        \n",
       "        \n",
       "            <div id=\"e5644eda-2d9f-4e12-88dc-7f68e067d5ae\" class=\"plotly-graph-div\" style=\"height:525px; width:100%;\"></div>\n",
       "            <script type=\"text/javascript\">\n",
       "                require([\"plotly\"], function(Plotly) {\n",
       "                    window.PLOTLYENV=window.PLOTLYENV || {};\n",
       "                    window.PLOTLYENV.BASE_URL='https://plot.ly';\n",
       "                    \n",
       "                if (document.getElementById(\"e5644eda-2d9f-4e12-88dc-7f68e067d5ae\")) {\n",
       "                    Plotly.newPlot(\n",
       "                        'e5644eda-2d9f-4e12-88dc-7f68e067d5ae',\n",
       "                        [{\"colorscale\": [[0.0, \"rgb(165,0,38)\"], [0.1, \"rgb(215,48,39)\"], [0.2, \"rgb(244,109,67)\"], [0.3, \"rgb(253,174,97)\"], [0.4, \"rgb(254,224,144)\"], [0.5, \"rgb(255,255,191)\"], [0.6, \"rgb(224,243,248)\"], [0.7, \"rgb(171,217,233)\"], [0.8, \"rgb(116,173,209)\"], [0.9, \"rgb(69,117,180)\"], [1.0, \"rgb(49,54,149)\"]], \"type\": \"surface\", \"x\": [0, 1, 2, 3, 4], \"y\": [\"x\", \"y\", \"z\"], \"z\": [[1, 2, 3, 4, 5], [10, 20, 30, 20, 10], [5, 4, 3, 2, 1]]}],\n",
       "                        {\"legend\": {\"bgcolor\": \"#F5F6F9\", \"font\": {\"color\": \"#4D5663\"}}, \"paper_bgcolor\": \"#F5F6F9\", \"plot_bgcolor\": \"#F5F6F9\", \"template\": {\"data\": {\"bar\": [{\"error_x\": {\"color\": \"#2a3f5f\"}, \"error_y\": {\"color\": \"#2a3f5f\"}, \"marker\": {\"line\": {\"color\": \"#E5ECF6\", \"width\": 0.5}}, \"type\": \"bar\"}], \"barpolar\": [{\"marker\": {\"line\": {\"color\": \"#E5ECF6\", \"width\": 0.5}}, \"type\": \"barpolar\"}], \"carpet\": [{\"aaxis\": {\"endlinecolor\": \"#2a3f5f\", \"gridcolor\": \"white\", \"linecolor\": \"white\", \"minorgridcolor\": \"white\", \"startlinecolor\": \"#2a3f5f\"}, \"baxis\": {\"endlinecolor\": \"#2a3f5f\", \"gridcolor\": \"white\", \"linecolor\": \"white\", \"minorgridcolor\": \"white\", \"startlinecolor\": \"#2a3f5f\"}, \"type\": \"carpet\"}], \"choropleth\": [{\"colorbar\": {\"outlinewidth\": 0, \"ticks\": \"\"}, \"type\": \"choropleth\"}], \"contour\": [{\"colorbar\": {\"outlinewidth\": 0, \"ticks\": \"\"}, \"colorscale\": [[0.0, \"#0d0887\"], [0.1111111111111111, \"#46039f\"], [0.2222222222222222, \"#7201a8\"], [0.3333333333333333, \"#9c179e\"], [0.4444444444444444, \"#bd3786\"], [0.5555555555555556, \"#d8576b\"], [0.6666666666666666, \"#ed7953\"], [0.7777777777777778, \"#fb9f3a\"], [0.8888888888888888, \"#fdca26\"], [1.0, \"#f0f921\"]], \"type\": \"contour\"}], \"contourcarpet\": [{\"colorbar\": {\"outlinewidth\": 0, \"ticks\": \"\"}, \"type\": \"contourcarpet\"}], \"heatmap\": [{\"colorbar\": {\"outlinewidth\": 0, \"ticks\": \"\"}, \"colorscale\": [[0.0, \"#0d0887\"], [0.1111111111111111, \"#46039f\"], [0.2222222222222222, \"#7201a8\"], [0.3333333333333333, \"#9c179e\"], [0.4444444444444444, \"#bd3786\"], [0.5555555555555556, \"#d8576b\"], [0.6666666666666666, \"#ed7953\"], [0.7777777777777778, \"#fb9f3a\"], [0.8888888888888888, \"#fdca26\"], [1.0, \"#f0f921\"]], \"type\": \"heatmap\"}], \"heatmapgl\": [{\"colorbar\": {\"outlinewidth\": 0, \"ticks\": \"\"}, \"colorscale\": [[0.0, \"#0d0887\"], [0.1111111111111111, \"#46039f\"], [0.2222222222222222, \"#7201a8\"], [0.3333333333333333, \"#9c179e\"], [0.4444444444444444, \"#bd3786\"], [0.5555555555555556, \"#d8576b\"], [0.6666666666666666, \"#ed7953\"], [0.7777777777777778, \"#fb9f3a\"], [0.8888888888888888, \"#fdca26\"], [1.0, \"#f0f921\"]], \"type\": \"heatmapgl\"}], \"histogram\": [{\"marker\": {\"colorbar\": {\"outlinewidth\": 0, \"ticks\": \"\"}}, \"type\": \"histogram\"}], \"histogram2d\": [{\"colorbar\": {\"outlinewidth\": 0, \"ticks\": \"\"}, \"colorscale\": [[0.0, \"#0d0887\"], [0.1111111111111111, \"#46039f\"], [0.2222222222222222, \"#7201a8\"], [0.3333333333333333, \"#9c179e\"], [0.4444444444444444, \"#bd3786\"], [0.5555555555555556, \"#d8576b\"], [0.6666666666666666, \"#ed7953\"], [0.7777777777777778, \"#fb9f3a\"], [0.8888888888888888, \"#fdca26\"], [1.0, \"#f0f921\"]], \"type\": \"histogram2d\"}], \"histogram2dcontour\": [{\"colorbar\": {\"outlinewidth\": 0, \"ticks\": \"\"}, \"colorscale\": [[0.0, \"#0d0887\"], [0.1111111111111111, \"#46039f\"], [0.2222222222222222, \"#7201a8\"], [0.3333333333333333, \"#9c179e\"], [0.4444444444444444, \"#bd3786\"], [0.5555555555555556, \"#d8576b\"], [0.6666666666666666, \"#ed7953\"], [0.7777777777777778, \"#fb9f3a\"], [0.8888888888888888, \"#fdca26\"], [1.0, \"#f0f921\"]], \"type\": \"histogram2dcontour\"}], \"mesh3d\": [{\"colorbar\": {\"outlinewidth\": 0, \"ticks\": \"\"}, \"type\": \"mesh3d\"}], \"parcoords\": [{\"line\": {\"colorbar\": {\"outlinewidth\": 0, \"ticks\": \"\"}}, \"type\": \"parcoords\"}], \"pie\": [{\"automargin\": true, \"type\": \"pie\"}], \"scatter\": [{\"marker\": {\"colorbar\": {\"outlinewidth\": 0, \"ticks\": \"\"}}, \"type\": \"scatter\"}], \"scatter3d\": [{\"line\": {\"colorbar\": {\"outlinewidth\": 0, \"ticks\": \"\"}}, \"marker\": {\"colorbar\": {\"outlinewidth\": 0, \"ticks\": \"\"}}, \"type\": \"scatter3d\"}], \"scattercarpet\": [{\"marker\": {\"colorbar\": {\"outlinewidth\": 0, \"ticks\": \"\"}}, \"type\": \"scattercarpet\"}], \"scattergeo\": [{\"marker\": {\"colorbar\": {\"outlinewidth\": 0, \"ticks\": \"\"}}, \"type\": \"scattergeo\"}], \"scattergl\": [{\"marker\": {\"colorbar\": {\"outlinewidth\": 0, \"ticks\": \"\"}}, \"type\": \"scattergl\"}], \"scattermapbox\": [{\"marker\": {\"colorbar\": {\"outlinewidth\": 0, \"ticks\": \"\"}}, \"type\": \"scattermapbox\"}], \"scatterpolar\": [{\"marker\": {\"colorbar\": {\"outlinewidth\": 0, \"ticks\": \"\"}}, \"type\": \"scatterpolar\"}], \"scatterpolargl\": [{\"marker\": {\"colorbar\": {\"outlinewidth\": 0, \"ticks\": \"\"}}, \"type\": \"scatterpolargl\"}], \"scatterternary\": [{\"marker\": {\"colorbar\": {\"outlinewidth\": 0, \"ticks\": \"\"}}, \"type\": \"scatterternary\"}], \"surface\": [{\"colorbar\": {\"outlinewidth\": 0, \"ticks\": \"\"}, \"colorscale\": [[0.0, \"#0d0887\"], [0.1111111111111111, \"#46039f\"], [0.2222222222222222, \"#7201a8\"], [0.3333333333333333, \"#9c179e\"], [0.4444444444444444, \"#bd3786\"], [0.5555555555555556, \"#d8576b\"], [0.6666666666666666, \"#ed7953\"], [0.7777777777777778, \"#fb9f3a\"], [0.8888888888888888, \"#fdca26\"], [1.0, \"#f0f921\"]], \"type\": \"surface\"}], \"table\": [{\"cells\": {\"fill\": {\"color\": \"#EBF0F8\"}, \"line\": {\"color\": \"white\"}}, \"header\": {\"fill\": {\"color\": \"#C8D4E3\"}, \"line\": {\"color\": \"white\"}}, \"type\": \"table\"}]}, \"layout\": {\"annotationdefaults\": {\"arrowcolor\": \"#2a3f5f\", \"arrowhead\": 0, \"arrowwidth\": 1}, \"coloraxis\": {\"colorbar\": {\"outlinewidth\": 0, \"ticks\": \"\"}}, \"colorscale\": {\"diverging\": [[0, \"#8e0152\"], [0.1, \"#c51b7d\"], [0.2, \"#de77ae\"], [0.3, \"#f1b6da\"], [0.4, \"#fde0ef\"], [0.5, \"#f7f7f7\"], [0.6, \"#e6f5d0\"], [0.7, \"#b8e186\"], [0.8, \"#7fbc41\"], [0.9, \"#4d9221\"], [1, \"#276419\"]], \"sequential\": [[0.0, \"#0d0887\"], [0.1111111111111111, \"#46039f\"], [0.2222222222222222, \"#7201a8\"], [0.3333333333333333, \"#9c179e\"], [0.4444444444444444, \"#bd3786\"], [0.5555555555555556, \"#d8576b\"], [0.6666666666666666, \"#ed7953\"], [0.7777777777777778, \"#fb9f3a\"], [0.8888888888888888, \"#fdca26\"], [1.0, \"#f0f921\"]], \"sequentialminus\": [[0.0, \"#0d0887\"], [0.1111111111111111, \"#46039f\"], [0.2222222222222222, \"#7201a8\"], [0.3333333333333333, \"#9c179e\"], [0.4444444444444444, \"#bd3786\"], [0.5555555555555556, \"#d8576b\"], [0.6666666666666666, \"#ed7953\"], [0.7777777777777778, \"#fb9f3a\"], [0.8888888888888888, \"#fdca26\"], [1.0, \"#f0f921\"]]}, \"colorway\": [\"#636efa\", \"#EF553B\", \"#00cc96\", \"#ab63fa\", \"#FFA15A\", \"#19d3f3\", \"#FF6692\", \"#B6E880\", \"#FF97FF\", \"#FECB52\"], \"font\": {\"color\": \"#2a3f5f\"}, \"geo\": {\"bgcolor\": \"white\", \"lakecolor\": \"white\", \"landcolor\": \"#E5ECF6\", \"showlakes\": true, \"showland\": true, \"subunitcolor\": \"white\"}, \"hoverlabel\": {\"align\": \"left\"}, \"hovermode\": \"closest\", \"mapbox\": {\"style\": \"light\"}, \"paper_bgcolor\": \"white\", \"plot_bgcolor\": \"#E5ECF6\", \"polar\": {\"angularaxis\": {\"gridcolor\": \"white\", \"linecolor\": \"white\", \"ticks\": \"\"}, \"bgcolor\": \"#E5ECF6\", \"radialaxis\": {\"gridcolor\": \"white\", \"linecolor\": \"white\", \"ticks\": \"\"}}, \"scene\": {\"xaxis\": {\"backgroundcolor\": \"#E5ECF6\", \"gridcolor\": \"white\", \"gridwidth\": 2, \"linecolor\": \"white\", \"showbackground\": true, \"ticks\": \"\", \"zerolinecolor\": \"white\"}, \"yaxis\": {\"backgroundcolor\": \"#E5ECF6\", \"gridcolor\": \"white\", \"gridwidth\": 2, \"linecolor\": \"white\", \"showbackground\": true, \"ticks\": \"\", \"zerolinecolor\": \"white\"}, \"zaxis\": {\"backgroundcolor\": \"#E5ECF6\", \"gridcolor\": \"white\", \"gridwidth\": 2, \"linecolor\": \"white\", \"showbackground\": true, \"ticks\": \"\", \"zerolinecolor\": \"white\"}}, \"shapedefaults\": {\"line\": {\"color\": \"#2a3f5f\"}}, \"ternary\": {\"aaxis\": {\"gridcolor\": \"white\", \"linecolor\": \"white\", \"ticks\": \"\"}, \"baxis\": {\"gridcolor\": \"white\", \"linecolor\": \"white\", \"ticks\": \"\"}, \"bgcolor\": \"#E5ECF6\", \"caxis\": {\"gridcolor\": \"white\", \"linecolor\": \"white\", \"ticks\": \"\"}}, \"title\": {\"x\": 0.05}, \"xaxis\": {\"automargin\": true, \"gridcolor\": \"white\", \"linecolor\": \"white\", \"ticks\": \"\", \"title\": {\"standoff\": 15}, \"zerolinecolor\": \"white\", \"zerolinewidth\": 2}, \"yaxis\": {\"automargin\": true, \"gridcolor\": \"white\", \"linecolor\": \"white\", \"ticks\": \"\", \"title\": {\"standoff\": 15}, \"zerolinecolor\": \"white\", \"zerolinewidth\": 2}}}, \"title\": {\"font\": {\"color\": \"#4D5663\"}}, \"xaxis\": {\"gridcolor\": \"#E1E5ED\", \"showgrid\": true, \"tickfont\": {\"color\": \"#4D5663\"}, \"title\": {\"font\": {\"color\": \"#4D5663\"}, \"text\": \"\"}, \"zerolinecolor\": \"#E1E5ED\"}, \"yaxis\": {\"gridcolor\": \"#E1E5ED\", \"showgrid\": true, \"tickfont\": {\"color\": \"#4D5663\"}, \"title\": {\"font\": {\"color\": \"#4D5663\"}, \"text\": \"\"}, \"zerolinecolor\": \"#E1E5ED\"}},\n",
       "                        {\"showLink\": true, \"linkText\": \"Export to plot.ly\", \"plotlyServerURL\": \"https://plot.ly\", \"responsive\": true}\n",
       "                    ).then(function(){\n",
       "                            \n",
       "var gd = document.getElementById('e5644eda-2d9f-4e12-88dc-7f68e067d5ae');\n",
       "var x = new MutationObserver(function (mutations, observer) {{\n",
       "        var display = window.getComputedStyle(gd).display;\n",
       "        if (!display || display === 'none') {{\n",
       "            console.log([gd, 'removed!']);\n",
       "            Plotly.purge(gd);\n",
       "            observer.disconnect();\n",
       "        }}\n",
       "}});\n",
       "\n",
       "// Listen for the removal of the full notebook cells\n",
       "var notebookContainer = gd.closest('#notebook-container');\n",
       "if (notebookContainer) {{\n",
       "    x.observe(notebookContainer, {childList: true});\n",
       "}}\n",
       "\n",
       "// Listen for the clearing of the current output cell\n",
       "var outputEl = gd.closest('.output');\n",
       "if (outputEl) {{\n",
       "    x.observe(outputEl, {childList: true});\n",
       "}}\n",
       "\n",
       "                        })\n",
       "                };\n",
       "                });\n",
       "            </script>\n",
       "        </div>"
      ]
     },
     "metadata": {},
     "output_type": "display_data"
    }
   ],
   "source": [
    "df3 = pd.DataFrame({'x': [1,2,3,4,5],'y': [10,20,30,20,10], 'z': [5,4,3,2,1]})\n",
    "df3.iplot(kind = 'surface', colorscale= 'rdylbu')"
   ]
  },
  {
   "cell_type": "code",
   "execution_count": 18,
   "metadata": {},
   "outputs": [
    {
     "data": {
      "application/vnd.plotly.v1+json": {
       "config": {
        "linkText": "Export to plot.ly",
        "plotlyServerURL": "https://plot.ly",
        "showLink": true
       },
       "data": [
        {
         "line": {
          "color": "rgba(255, 153, 51, 1.0)",
          "dash": "solid",
          "shape": "linear",
          "width": 1.3
         },
         "mode": "lines",
         "name": "A",
         "text": "",
         "type": "scatter",
         "x": [
          0,
          1,
          2,
          3,
          4,
          5,
          6,
          7,
          8,
          9,
          10,
          11,
          12,
          13,
          14,
          15,
          16,
          17,
          18,
          19,
          20,
          21,
          22,
          23,
          24,
          25,
          26,
          27,
          28,
          29,
          30,
          31,
          32,
          33,
          34,
          35,
          36,
          37,
          38,
          39,
          40,
          41,
          42,
          43,
          44,
          45,
          46,
          47,
          48,
          49,
          50,
          51,
          52,
          53,
          54,
          55,
          56,
          57,
          58,
          59,
          60,
          61,
          62,
          63,
          64,
          65,
          66,
          67,
          68,
          69,
          70,
          71,
          72,
          73,
          74,
          75,
          76,
          77,
          78,
          79,
          80,
          81,
          82,
          83,
          84,
          85,
          86,
          87,
          88,
          89,
          90,
          91,
          92,
          93,
          94,
          95,
          96,
          97,
          98,
          99
         ],
         "y": [
          0.0894442250382196,
          -1.1636901974238956,
          -0.14222402464788517,
          2.0778243621370107,
          0.007891208853460787,
          1.5114211282301155,
          -0.5781301716748249,
          -0.6493464768341835,
          0.8804366298714607,
          -0.28659777359830724,
          -1.5497540650436465,
          0.06842940166910959,
          -0.8432149839111754,
          0.3625754416965515,
          1.7444769159705618,
          -1.7432789276671714,
          0.8127035469807969,
          0.03540155607319169,
          1.3149034064472398,
          -0.8091799746687368,
          0.5944092099911594,
          0.03851348232570403,
          0.5753884431301269,
          -0.14955590357202014,
          0.006847168151190288,
          -0.4779403451771194,
          -0.5121962485105361,
          0.39522619677635673,
          -0.7774209665066977,
          0.2010098882993933,
          -0.413765603541961,
          -1.837127240885446,
          -0.7430045491018606,
          0.3817020317037981,
          -2.2971459526257667,
          -0.930848336285178,
          -0.059242497738331006,
          -0.7226483965722095,
          0.9331620841320196,
          -0.007067825779079438,
          -0.24593939584039556,
          -0.23069547894684309,
          1.0131302346093156,
          2.16057042620193,
          0.12158079292653799,
          1.9895997640116458,
          0.8383931024137476,
          -0.008374359246434421,
          1.4147381393816199,
          -0.7975371494374897,
          1.6005923733589194,
          0.8461877996382429,
          0.6049372106916631,
          0.6167289385603898,
          -0.9841922062555499,
          -0.7090223222393144,
          -0.20062344927579204,
          -0.21840508922074062,
          0.46574555484211694,
          0.901984420014373,
          0.2751723113873585,
          -0.7373810854520237,
          1.2959580631458174,
          1.3275372519280928,
          -0.14695123385579606,
          -0.9368085763045358,
          0.4789197351621965,
          0.6776401387760087,
          0.5397652861837627,
          0.13821965496865166,
          -0.6589820202089064,
          -0.17053658113319353,
          -1.1714716606227185,
          -0.6338918773750294,
          1.4530407842838158,
          -0.3677987470750953,
          -0.578155120774312,
          2.1707062080560133,
          -0.035509206884830384,
          -0.8735811264138856,
          0.3147312144581037,
          0.4965454858722151,
          1.8680870347309269,
          0.6875958421101073,
          -1.2340194983831576,
          -1.0017507758501363,
          -0.24547889804649828,
          -1.5561944000977719,
          -1.2255841958311244,
          -1.8797420996939276,
          -1.1416902067245454,
          -0.8550160927407154,
          -0.48042608219442223,
          -0.27799480490922684,
          1.3749139157097308,
          0.27300356286191324,
          -0.8159390980627154,
          -0.01673684419022112,
          -1.126958887272344,
          0.1649610079367353
         ]
        },
        {
         "line": {
          "color": "rgba(55, 128, 191, 1.0)",
          "dash": "solid",
          "shape": "linear",
          "width": 1.3
         },
         "mode": "lines",
         "name": "B",
         "text": "",
         "type": "scatter",
         "x": [
          0,
          1,
          2,
          3,
          4,
          5,
          6,
          7,
          8,
          9,
          10,
          11,
          12,
          13,
          14,
          15,
          16,
          17,
          18,
          19,
          20,
          21,
          22,
          23,
          24,
          25,
          26,
          27,
          28,
          29,
          30,
          31,
          32,
          33,
          34,
          35,
          36,
          37,
          38,
          39,
          40,
          41,
          42,
          43,
          44,
          45,
          46,
          47,
          48,
          49,
          50,
          51,
          52,
          53,
          54,
          55,
          56,
          57,
          58,
          59,
          60,
          61,
          62,
          63,
          64,
          65,
          66,
          67,
          68,
          69,
          70,
          71,
          72,
          73,
          74,
          75,
          76,
          77,
          78,
          79,
          80,
          81,
          82,
          83,
          84,
          85,
          86,
          87,
          88,
          89,
          90,
          91,
          92,
          93,
          94,
          95,
          96,
          97,
          98,
          99
         ],
         "y": [
          -1.3655200158258656,
          1.8038949899218248,
          0.10843718531566045,
          1.4355657023969033,
          -0.022422383228524325,
          -0.11741546053121543,
          0.6385468531906983,
          -0.08348409080065669,
          -0.650770612339167,
          0.3565848106287523,
          1.594711505005319,
          -1.014433488127197,
          0.6890127651066934,
          0.3977818554815641,
          -1.341690125875958,
          -0.6988102568559302,
          -0.36712508794464865,
          -1.0522588585848436,
          1.3882909633804152,
          -1.6094941778442455,
          -0.33120523917734057,
          -1.6903848972611626,
          0.2843131685488693,
          2.0035637132125133,
          -0.19697092284664577,
          -0.1514736478519328,
          -1.3298873967560545,
          0.8235919879503149,
          -0.8030815481501907,
          -1.7409748037034218,
          1.209499887557365,
          2.1416193669136336,
          1.4512468981049529,
          -0.5240122074515902,
          -0.37520021469507336,
          1.4354493635068033,
          1.0685554307252807,
          -0.8168828279085346,
          -1.5838185817713528,
          -0.4387628603968676,
          0.03990606955832411,
          2.6493819629058453,
          -1.1626131670879876,
          0.01333459287637117,
          -0.7313883942559631,
          0.8343779478478394,
          0.8029890061540522,
          -1.412959274261139,
          1.073032685859393,
          0.2267015121459549,
          1.143345332830039,
          2.496603362120481,
          0.9793209297274629,
          0.8583954260892992,
          -1.2895959623160749,
          0.2489351926348663,
          1.4711880643513884,
          0.9657769617053209,
          1.583826612796633,
          -0.4454618003166316,
          0.7445328747000158,
          1.0616834457354132,
          -1.3195277669201264,
          0.5047985700119586,
          -1.8297770264924418,
          -0.5786800269282291,
          1.9202916269657508,
          -1.0730822622527767,
          0.150800146046857,
          -1.2739672247693878,
          -0.8728613885960235,
          0.8914441421994455,
          1.5761950339719883,
          -1.3717201448056051,
          1.3337188675745775,
          -0.022728635798502476,
          2.1905772534661017,
          0.6312529720703588,
          -1.0380398690782615,
          1.6329567828998433,
          0.20035279599071623,
          -0.7784045068351377,
          1.2532029356440353,
          -0.7709214851815889,
          -0.15009567530999388,
          -0.16439602171750148,
          0.15408902677376046,
          -0.30995291488325527,
          -0.11498077746145126,
          0.4083918780301276,
          -0.36918189473767477,
          1.415344496215347,
          -0.21976358236558427,
          2.6148405210002705,
          -1.5097530168154465,
          0.44936574046642674,
          0.07000168611707176,
          0.08650081185933392,
          0.9203281370471121,
          1.5903200193556177
         ]
        },
        {
         "connectgaps": false,
         "fill": "tozeroy",
         "line": {
          "color": "green",
          "dash": "solid",
          "shape": "linear",
          "width": 0.5
         },
         "mode": "lines",
         "name": "Spread",
         "showlegend": false,
         "type": "scatter",
         "x": [
          0,
          1,
          2,
          3,
          4,
          5,
          6,
          7,
          8,
          9,
          10,
          11,
          12,
          13,
          14,
          15,
          16,
          17,
          18,
          19,
          20,
          21,
          22,
          23,
          24,
          25,
          26,
          27,
          28,
          29,
          30,
          31,
          32,
          33,
          34,
          35,
          36,
          37,
          38,
          39,
          40,
          41,
          42,
          43,
          44,
          45,
          46,
          47,
          48,
          49,
          50,
          51,
          52,
          53,
          54,
          55,
          56,
          57,
          58,
          59,
          60,
          61,
          62,
          63,
          64,
          65,
          66,
          67,
          68,
          69,
          70,
          71,
          72,
          73,
          74,
          75,
          76,
          77,
          78,
          79,
          80,
          81,
          82,
          83,
          84,
          85,
          86,
          87,
          88,
          89,
          90,
          91,
          92,
          93,
          94,
          95,
          96,
          97,
          98,
          99
         ],
         "xaxis": "x2",
         "y": [
          1.4549642408640853,
          "",
          "",
          0.6422586597401074,
          0.030313592081985113,
          1.628836588761331,
          "",
          "",
          1.5312072422106278,
          "",
          "",
          1.0828628897963066,
          "",
          "",
          3.0861670418465197,
          "",
          1.1798286349254457,
          1.0876604146580353,
          "",
          0.8003142031755087,
          0.9256144491685,
          1.7288983795868667,
          0.29107527458125765,
          "",
          0.20381809099783607,
          "",
          0.8176911482455184,
          "",
          0.025660581643493052,
          1.9419846920028152,
          "",
          "",
          "",
          0.9057142391553883,
          "",
          "",
          "",
          0.09423443133632514,
          2.5169806659033727,
          0.4316950346177882,
          "",
          "",
          2.175743401697303,
          2.147235833325559,
          0.8529691871825011,
          1.1552218161638064,
          0.03540409625969543,
          1.4045849150147045,
          0.3417054535222268,
          "",
          0.45724704052888043,
          "",
          "",
          "",
          0.30540375606052494,
          "",
          "",
          "",
          "",
          1.3474462203310045,
          "",
          "",
          2.6154858300659436,
          0.8227386819161342,
          1.6828257926366457,
          "",
          "",
          1.7507224010287854,
          0.38896514013690575,
          1.4121868797380395,
          0.21387936838711707,
          "",
          "",
          0.7378282674305757,
          0.11932191670923831,
          "",
          "",
          1.5394532359856545,
          1.0025306621934311,
          "",
          0.11437841846738747,
          1.2749499927073529,
          0.6148840990868916,
          1.458517327291696,
          "",
          "",
          "",
          "",
          "",
          "",
          "",
          "",
          "",
          "",
          2.8846669325251773,
          "",
          "",
          "",
          "",
          ""
         ],
         "yaxis": "y2"
        },
        {
         "connectgaps": false,
         "fill": "tozeroy",
         "line": {
          "color": "red",
          "dash": "solid",
          "shape": "linear",
          "width": 0.5
         },
         "mode": "lines",
         "name": "Spread",
         "showlegend": false,
         "type": "scatter",
         "x": [
          0,
          1,
          2,
          3,
          4,
          5,
          6,
          7,
          8,
          9,
          10,
          11,
          12,
          13,
          14,
          15,
          16,
          17,
          18,
          19,
          20,
          21,
          22,
          23,
          24,
          25,
          26,
          27,
          28,
          29,
          30,
          31,
          32,
          33,
          34,
          35,
          36,
          37,
          38,
          39,
          40,
          41,
          42,
          43,
          44,
          45,
          46,
          47,
          48,
          49,
          50,
          51,
          52,
          53,
          54,
          55,
          56,
          57,
          58,
          59,
          60,
          61,
          62,
          63,
          64,
          65,
          66,
          67,
          68,
          69,
          70,
          71,
          72,
          73,
          74,
          75,
          76,
          77,
          78,
          79,
          80,
          81,
          82,
          83,
          84,
          85,
          86,
          87,
          88,
          89,
          90,
          91,
          92,
          93,
          94,
          95,
          96,
          97,
          98,
          99
         ],
         "xaxis": "x2",
         "y": [
          "",
          -2.9675851873457204,
          -0.25066120996354563,
          "",
          "",
          "",
          -1.2166770248655232,
          -0.5658623860335268,
          "",
          -0.6431825842270595,
          -3.1444655700489657,
          "",
          -1.5322277490178688,
          -0.0352064137850126,
          "",
          -1.0444686708112412,
          "",
          "",
          -0.07338755693317545,
          "",
          "",
          "",
          "",
          -2.1531196167845335,
          "",
          -0.32646669732518663,
          "",
          -0.4283657911739581,
          "",
          "",
          -1.623265491099326,
          -3.9787466077990796,
          -2.1942514472068133,
          "",
          -1.9219457379306935,
          -2.366297699791981,
          -1.1277979284636117,
          "",
          "",
          "",
          -0.2858454653987197,
          -2.880077441852688,
          "",
          "",
          "",
          "",
          "",
          "",
          "",
          -1.0242386615834445,
          "",
          -1.6504155624822383,
          -0.3743837190357998,
          -0.2416664875289094,
          "",
          -0.9579575148741807,
          -1.6718115136271805,
          -1.1841820509260614,
          -1.118081057954516,
          "",
          -0.46936056331265735,
          -1.799064531187437,
          "",
          "",
          "",
          -0.3581285493763068,
          -1.4413718918035543,
          "",
          "",
          "",
          "",
          -1.061980723332639,
          -2.747666694594707,
          "",
          "",
          -0.3450701112765928,
          -2.7687323742404137,
          "",
          "",
          -2.506537909313729,
          "",
          "",
          "",
          "",
          -1.0839238230731638,
          -0.8373547541326348,
          -0.3995679248202587,
          -1.2462414852145165,
          -1.1106034183696731,
          -2.2881339777240552,
          -0.7725083119868705,
          -2.2703605889560623,
          -0.26066249982883793,
          -2.8928353259094974,
          "",
          -0.1763621776045135,
          -0.8859407841797872,
          -0.10323765604955504,
          -2.047287024319456,
          -1.4253590114188825
         ],
         "yaxis": "y2"
        }
       ],
       "layout": {
        "hovermode": "x",
        "legend": {
         "bgcolor": "#F5F6F9",
         "font": {
          "color": "#4D5663"
         }
        },
        "paper_bgcolor": "#F5F6F9",
        "plot_bgcolor": "#F5F6F9",
        "template": {
         "data": {
          "bar": [
           {
            "error_x": {
             "color": "#2a3f5f"
            },
            "error_y": {
             "color": "#2a3f5f"
            },
            "marker": {
             "line": {
              "color": "#E5ECF6",
              "width": 0.5
             }
            },
            "type": "bar"
           }
          ],
          "barpolar": [
           {
            "marker": {
             "line": {
              "color": "#E5ECF6",
              "width": 0.5
             }
            },
            "type": "barpolar"
           }
          ],
          "carpet": [
           {
            "aaxis": {
             "endlinecolor": "#2a3f5f",
             "gridcolor": "white",
             "linecolor": "white",
             "minorgridcolor": "white",
             "startlinecolor": "#2a3f5f"
            },
            "baxis": {
             "endlinecolor": "#2a3f5f",
             "gridcolor": "white",
             "linecolor": "white",
             "minorgridcolor": "white",
             "startlinecolor": "#2a3f5f"
            },
            "type": "carpet"
           }
          ],
          "choropleth": [
           {
            "colorbar": {
             "outlinewidth": 0,
             "ticks": ""
            },
            "type": "choropleth"
           }
          ],
          "contour": [
           {
            "colorbar": {
             "outlinewidth": 0,
             "ticks": ""
            },
            "colorscale": [
             [
              0,
              "#0d0887"
             ],
             [
              0.1111111111111111,
              "#46039f"
             ],
             [
              0.2222222222222222,
              "#7201a8"
             ],
             [
              0.3333333333333333,
              "#9c179e"
             ],
             [
              0.4444444444444444,
              "#bd3786"
             ],
             [
              0.5555555555555556,
              "#d8576b"
             ],
             [
              0.6666666666666666,
              "#ed7953"
             ],
             [
              0.7777777777777778,
              "#fb9f3a"
             ],
             [
              0.8888888888888888,
              "#fdca26"
             ],
             [
              1,
              "#f0f921"
             ]
            ],
            "type": "contour"
           }
          ],
          "contourcarpet": [
           {
            "colorbar": {
             "outlinewidth": 0,
             "ticks": ""
            },
            "type": "contourcarpet"
           }
          ],
          "heatmap": [
           {
            "colorbar": {
             "outlinewidth": 0,
             "ticks": ""
            },
            "colorscale": [
             [
              0,
              "#0d0887"
             ],
             [
              0.1111111111111111,
              "#46039f"
             ],
             [
              0.2222222222222222,
              "#7201a8"
             ],
             [
              0.3333333333333333,
              "#9c179e"
             ],
             [
              0.4444444444444444,
              "#bd3786"
             ],
             [
              0.5555555555555556,
              "#d8576b"
             ],
             [
              0.6666666666666666,
              "#ed7953"
             ],
             [
              0.7777777777777778,
              "#fb9f3a"
             ],
             [
              0.8888888888888888,
              "#fdca26"
             ],
             [
              1,
              "#f0f921"
             ]
            ],
            "type": "heatmap"
           }
          ],
          "heatmapgl": [
           {
            "colorbar": {
             "outlinewidth": 0,
             "ticks": ""
            },
            "colorscale": [
             [
              0,
              "#0d0887"
             ],
             [
              0.1111111111111111,
              "#46039f"
             ],
             [
              0.2222222222222222,
              "#7201a8"
             ],
             [
              0.3333333333333333,
              "#9c179e"
             ],
             [
              0.4444444444444444,
              "#bd3786"
             ],
             [
              0.5555555555555556,
              "#d8576b"
             ],
             [
              0.6666666666666666,
              "#ed7953"
             ],
             [
              0.7777777777777778,
              "#fb9f3a"
             ],
             [
              0.8888888888888888,
              "#fdca26"
             ],
             [
              1,
              "#f0f921"
             ]
            ],
            "type": "heatmapgl"
           }
          ],
          "histogram": [
           {
            "marker": {
             "colorbar": {
              "outlinewidth": 0,
              "ticks": ""
             }
            },
            "type": "histogram"
           }
          ],
          "histogram2d": [
           {
            "colorbar": {
             "outlinewidth": 0,
             "ticks": ""
            },
            "colorscale": [
             [
              0,
              "#0d0887"
             ],
             [
              0.1111111111111111,
              "#46039f"
             ],
             [
              0.2222222222222222,
              "#7201a8"
             ],
             [
              0.3333333333333333,
              "#9c179e"
             ],
             [
              0.4444444444444444,
              "#bd3786"
             ],
             [
              0.5555555555555556,
              "#d8576b"
             ],
             [
              0.6666666666666666,
              "#ed7953"
             ],
             [
              0.7777777777777778,
              "#fb9f3a"
             ],
             [
              0.8888888888888888,
              "#fdca26"
             ],
             [
              1,
              "#f0f921"
             ]
            ],
            "type": "histogram2d"
           }
          ],
          "histogram2dcontour": [
           {
            "colorbar": {
             "outlinewidth": 0,
             "ticks": ""
            },
            "colorscale": [
             [
              0,
              "#0d0887"
             ],
             [
              0.1111111111111111,
              "#46039f"
             ],
             [
              0.2222222222222222,
              "#7201a8"
             ],
             [
              0.3333333333333333,
              "#9c179e"
             ],
             [
              0.4444444444444444,
              "#bd3786"
             ],
             [
              0.5555555555555556,
              "#d8576b"
             ],
             [
              0.6666666666666666,
              "#ed7953"
             ],
             [
              0.7777777777777778,
              "#fb9f3a"
             ],
             [
              0.8888888888888888,
              "#fdca26"
             ],
             [
              1,
              "#f0f921"
             ]
            ],
            "type": "histogram2dcontour"
           }
          ],
          "mesh3d": [
           {
            "colorbar": {
             "outlinewidth": 0,
             "ticks": ""
            },
            "type": "mesh3d"
           }
          ],
          "parcoords": [
           {
            "line": {
             "colorbar": {
              "outlinewidth": 0,
              "ticks": ""
             }
            },
            "type": "parcoords"
           }
          ],
          "pie": [
           {
            "automargin": true,
            "type": "pie"
           }
          ],
          "scatter": [
           {
            "marker": {
             "colorbar": {
              "outlinewidth": 0,
              "ticks": ""
             }
            },
            "type": "scatter"
           }
          ],
          "scatter3d": [
           {
            "line": {
             "colorbar": {
              "outlinewidth": 0,
              "ticks": ""
             }
            },
            "marker": {
             "colorbar": {
              "outlinewidth": 0,
              "ticks": ""
             }
            },
            "type": "scatter3d"
           }
          ],
          "scattercarpet": [
           {
            "marker": {
             "colorbar": {
              "outlinewidth": 0,
              "ticks": ""
             }
            },
            "type": "scattercarpet"
           }
          ],
          "scattergeo": [
           {
            "marker": {
             "colorbar": {
              "outlinewidth": 0,
              "ticks": ""
             }
            },
            "type": "scattergeo"
           }
          ],
          "scattergl": [
           {
            "marker": {
             "colorbar": {
              "outlinewidth": 0,
              "ticks": ""
             }
            },
            "type": "scattergl"
           }
          ],
          "scattermapbox": [
           {
            "marker": {
             "colorbar": {
              "outlinewidth": 0,
              "ticks": ""
             }
            },
            "type": "scattermapbox"
           }
          ],
          "scatterpolar": [
           {
            "marker": {
             "colorbar": {
              "outlinewidth": 0,
              "ticks": ""
             }
            },
            "type": "scatterpolar"
           }
          ],
          "scatterpolargl": [
           {
            "marker": {
             "colorbar": {
              "outlinewidth": 0,
              "ticks": ""
             }
            },
            "type": "scatterpolargl"
           }
          ],
          "scatterternary": [
           {
            "marker": {
             "colorbar": {
              "outlinewidth": 0,
              "ticks": ""
             }
            },
            "type": "scatterternary"
           }
          ],
          "surface": [
           {
            "colorbar": {
             "outlinewidth": 0,
             "ticks": ""
            },
            "colorscale": [
             [
              0,
              "#0d0887"
             ],
             [
              0.1111111111111111,
              "#46039f"
             ],
             [
              0.2222222222222222,
              "#7201a8"
             ],
             [
              0.3333333333333333,
              "#9c179e"
             ],
             [
              0.4444444444444444,
              "#bd3786"
             ],
             [
              0.5555555555555556,
              "#d8576b"
             ],
             [
              0.6666666666666666,
              "#ed7953"
             ],
             [
              0.7777777777777778,
              "#fb9f3a"
             ],
             [
              0.8888888888888888,
              "#fdca26"
             ],
             [
              1,
              "#f0f921"
             ]
            ],
            "type": "surface"
           }
          ],
          "table": [
           {
            "cells": {
             "fill": {
              "color": "#EBF0F8"
             },
             "line": {
              "color": "white"
             }
            },
            "header": {
             "fill": {
              "color": "#C8D4E3"
             },
             "line": {
              "color": "white"
             }
            },
            "type": "table"
           }
          ]
         },
         "layout": {
          "annotationdefaults": {
           "arrowcolor": "#2a3f5f",
           "arrowhead": 0,
           "arrowwidth": 1
          },
          "coloraxis": {
           "colorbar": {
            "outlinewidth": 0,
            "ticks": ""
           }
          },
          "colorscale": {
           "diverging": [
            [
             0,
             "#8e0152"
            ],
            [
             0.1,
             "#c51b7d"
            ],
            [
             0.2,
             "#de77ae"
            ],
            [
             0.3,
             "#f1b6da"
            ],
            [
             0.4,
             "#fde0ef"
            ],
            [
             0.5,
             "#f7f7f7"
            ],
            [
             0.6,
             "#e6f5d0"
            ],
            [
             0.7,
             "#b8e186"
            ],
            [
             0.8,
             "#7fbc41"
            ],
            [
             0.9,
             "#4d9221"
            ],
            [
             1,
             "#276419"
            ]
           ],
           "sequential": [
            [
             0,
             "#0d0887"
            ],
            [
             0.1111111111111111,
             "#46039f"
            ],
            [
             0.2222222222222222,
             "#7201a8"
            ],
            [
             0.3333333333333333,
             "#9c179e"
            ],
            [
             0.4444444444444444,
             "#bd3786"
            ],
            [
             0.5555555555555556,
             "#d8576b"
            ],
            [
             0.6666666666666666,
             "#ed7953"
            ],
            [
             0.7777777777777778,
             "#fb9f3a"
            ],
            [
             0.8888888888888888,
             "#fdca26"
            ],
            [
             1,
             "#f0f921"
            ]
           ],
           "sequentialminus": [
            [
             0,
             "#0d0887"
            ],
            [
             0.1111111111111111,
             "#46039f"
            ],
            [
             0.2222222222222222,
             "#7201a8"
            ],
            [
             0.3333333333333333,
             "#9c179e"
            ],
            [
             0.4444444444444444,
             "#bd3786"
            ],
            [
             0.5555555555555556,
             "#d8576b"
            ],
            [
             0.6666666666666666,
             "#ed7953"
            ],
            [
             0.7777777777777778,
             "#fb9f3a"
            ],
            [
             0.8888888888888888,
             "#fdca26"
            ],
            [
             1,
             "#f0f921"
            ]
           ]
          },
          "colorway": [
           "#636efa",
           "#EF553B",
           "#00cc96",
           "#ab63fa",
           "#FFA15A",
           "#19d3f3",
           "#FF6692",
           "#B6E880",
           "#FF97FF",
           "#FECB52"
          ],
          "font": {
           "color": "#2a3f5f"
          },
          "geo": {
           "bgcolor": "white",
           "lakecolor": "white",
           "landcolor": "#E5ECF6",
           "showlakes": true,
           "showland": true,
           "subunitcolor": "white"
          },
          "hoverlabel": {
           "align": "left"
          },
          "hovermode": "closest",
          "mapbox": {
           "style": "light"
          },
          "paper_bgcolor": "white",
          "plot_bgcolor": "#E5ECF6",
          "polar": {
           "angularaxis": {
            "gridcolor": "white",
            "linecolor": "white",
            "ticks": ""
           },
           "bgcolor": "#E5ECF6",
           "radialaxis": {
            "gridcolor": "white",
            "linecolor": "white",
            "ticks": ""
           }
          },
          "scene": {
           "xaxis": {
            "backgroundcolor": "#E5ECF6",
            "gridcolor": "white",
            "gridwidth": 2,
            "linecolor": "white",
            "showbackground": true,
            "ticks": "",
            "zerolinecolor": "white"
           },
           "yaxis": {
            "backgroundcolor": "#E5ECF6",
            "gridcolor": "white",
            "gridwidth": 2,
            "linecolor": "white",
            "showbackground": true,
            "ticks": "",
            "zerolinecolor": "white"
           },
           "zaxis": {
            "backgroundcolor": "#E5ECF6",
            "gridcolor": "white",
            "gridwidth": 2,
            "linecolor": "white",
            "showbackground": true,
            "ticks": "",
            "zerolinecolor": "white"
           }
          },
          "shapedefaults": {
           "line": {
            "color": "#2a3f5f"
           }
          },
          "ternary": {
           "aaxis": {
            "gridcolor": "white",
            "linecolor": "white",
            "ticks": ""
           },
           "baxis": {
            "gridcolor": "white",
            "linecolor": "white",
            "ticks": ""
           },
           "bgcolor": "#E5ECF6",
           "caxis": {
            "gridcolor": "white",
            "linecolor": "white",
            "ticks": ""
           }
          },
          "title": {
           "x": 0.05
          },
          "xaxis": {
           "automargin": true,
           "gridcolor": "white",
           "linecolor": "white",
           "ticks": "",
           "title": {
            "standoff": 15
           },
           "zerolinecolor": "white",
           "zerolinewidth": 2
          },
          "yaxis": {
           "automargin": true,
           "gridcolor": "white",
           "linecolor": "white",
           "ticks": "",
           "title": {
            "standoff": 15
           },
           "zerolinecolor": "white",
           "zerolinewidth": 2
          }
         }
        },
        "title": {
         "font": {
          "color": "#4D5663"
         }
        },
        "xaxis": {
         "gridcolor": "#E1E5ED",
         "showgrid": true,
         "tickfont": {
          "color": "#4D5663"
         },
         "title": {
          "font": {
           "color": "#4D5663"
          },
          "text": ""
         },
         "zerolinecolor": "#E1E5ED"
        },
        "xaxis2": {
         "anchor": "y2",
         "gridcolor": "#E1E5ED",
         "showgrid": true,
         "showticklabels": false,
         "tickfont": {
          "color": "#4D5663"
         },
         "title": {
          "font": {
           "color": "#4D5663"
          },
          "text": ""
         },
         "zerolinecolor": "#E1E5ED"
        },
        "yaxis": {
         "domain": [
          0.3,
          1
         ],
         "gridcolor": "#E1E5ED",
         "showgrid": true,
         "tickfont": {
          "color": "#4D5663"
         },
         "title": {
          "font": {
           "color": "#4D5663"
          },
          "text": ""
         },
         "zerolinecolor": "#E1E5ED"
        },
        "yaxis2": {
         "domain": [
          0,
          0.25
         ],
         "gridcolor": "#E1E5ED",
         "showgrid": true,
         "tickfont": {
          "color": "#4D5663"
         },
         "title": {
          "font": {
           "color": "#4D5663"
          },
          "text": "Spread"
         },
         "zerolinecolor": "#E1E5ED"
        }
       }
      },
      "text/html": [
       "<div>\n",
       "        \n",
       "        \n",
       "            <div id=\"1da400f5-22bc-459f-a25b-dff131a54298\" class=\"plotly-graph-div\" style=\"height:525px; width:100%;\"></div>\n",
       "            <script type=\"text/javascript\">\n",
       "                require([\"plotly\"], function(Plotly) {\n",
       "                    window.PLOTLYENV=window.PLOTLYENV || {};\n",
       "                    window.PLOTLYENV.BASE_URL='https://plot.ly';\n",
       "                    \n",
       "                if (document.getElementById(\"1da400f5-22bc-459f-a25b-dff131a54298\")) {\n",
       "                    Plotly.newPlot(\n",
       "                        '1da400f5-22bc-459f-a25b-dff131a54298',\n",
       "                        [{\"line\": {\"color\": \"rgba(255, 153, 51, 1.0)\", \"dash\": \"solid\", \"shape\": \"linear\", \"width\": 1.3}, \"mode\": \"lines\", \"name\": \"A\", \"text\": \"\", \"type\": \"scatter\", \"x\": [0, 1, 2, 3, 4, 5, 6, 7, 8, 9, 10, 11, 12, 13, 14, 15, 16, 17, 18, 19, 20, 21, 22, 23, 24, 25, 26, 27, 28, 29, 30, 31, 32, 33, 34, 35, 36, 37, 38, 39, 40, 41, 42, 43, 44, 45, 46, 47, 48, 49, 50, 51, 52, 53, 54, 55, 56, 57, 58, 59, 60, 61, 62, 63, 64, 65, 66, 67, 68, 69, 70, 71, 72, 73, 74, 75, 76, 77, 78, 79, 80, 81, 82, 83, 84, 85, 86, 87, 88, 89, 90, 91, 92, 93, 94, 95, 96, 97, 98, 99], \"y\": [0.0894442250382196, -1.1636901974238956, -0.14222402464788517, 2.0778243621370107, 0.007891208853460787, 1.5114211282301155, -0.5781301716748249, -0.6493464768341835, 0.8804366298714607, -0.28659777359830724, -1.5497540650436465, 0.06842940166910959, -0.8432149839111754, 0.3625754416965515, 1.7444769159705618, -1.7432789276671714, 0.8127035469807969, 0.03540155607319169, 1.3149034064472398, -0.8091799746687368, 0.5944092099911594, 0.03851348232570403, 0.5753884431301269, -0.14955590357202014, 0.006847168151190288, -0.4779403451771194, -0.5121962485105361, 0.39522619677635673, -0.7774209665066977, 0.2010098882993933, -0.413765603541961, -1.837127240885446, -0.7430045491018606, 0.3817020317037981, -2.2971459526257667, -0.930848336285178, -0.059242497738331006, -0.7226483965722095, 0.9331620841320196, -0.007067825779079438, -0.24593939584039556, -0.23069547894684309, 1.0131302346093156, 2.16057042620193, 0.12158079292653799, 1.9895997640116458, 0.8383931024137476, -0.008374359246434421, 1.4147381393816199, -0.7975371494374897, 1.6005923733589194, 0.8461877996382429, 0.6049372106916631, 0.6167289385603898, -0.9841922062555499, -0.7090223222393144, -0.20062344927579204, -0.21840508922074062, 0.46574555484211694, 0.901984420014373, 0.2751723113873585, -0.7373810854520237, 1.2959580631458174, 1.3275372519280928, -0.14695123385579606, -0.9368085763045358, 0.4789197351621965, 0.6776401387760087, 0.5397652861837627, 0.13821965496865166, -0.6589820202089064, -0.17053658113319353, -1.1714716606227185, -0.6338918773750294, 1.4530407842838158, -0.3677987470750953, -0.578155120774312, 2.1707062080560133, -0.035509206884830384, -0.8735811264138856, 0.3147312144581037, 0.4965454858722151, 1.8680870347309269, 0.6875958421101073, -1.2340194983831576, -1.0017507758501363, -0.24547889804649828, -1.5561944000977719, -1.2255841958311244, -1.8797420996939276, -1.1416902067245454, -0.8550160927407154, -0.48042608219442223, -0.27799480490922684, 1.3749139157097308, 0.27300356286191324, -0.8159390980627154, -0.01673684419022112, -1.126958887272344, 0.1649610079367353]}, {\"line\": {\"color\": \"rgba(55, 128, 191, 1.0)\", \"dash\": \"solid\", \"shape\": \"linear\", \"width\": 1.3}, \"mode\": \"lines\", \"name\": \"B\", \"text\": \"\", \"type\": \"scatter\", \"x\": [0, 1, 2, 3, 4, 5, 6, 7, 8, 9, 10, 11, 12, 13, 14, 15, 16, 17, 18, 19, 20, 21, 22, 23, 24, 25, 26, 27, 28, 29, 30, 31, 32, 33, 34, 35, 36, 37, 38, 39, 40, 41, 42, 43, 44, 45, 46, 47, 48, 49, 50, 51, 52, 53, 54, 55, 56, 57, 58, 59, 60, 61, 62, 63, 64, 65, 66, 67, 68, 69, 70, 71, 72, 73, 74, 75, 76, 77, 78, 79, 80, 81, 82, 83, 84, 85, 86, 87, 88, 89, 90, 91, 92, 93, 94, 95, 96, 97, 98, 99], \"y\": [-1.3655200158258656, 1.8038949899218248, 0.10843718531566045, 1.4355657023969033, -0.022422383228524325, -0.11741546053121543, 0.6385468531906983, -0.08348409080065669, -0.650770612339167, 0.3565848106287523, 1.594711505005319, -1.014433488127197, 0.6890127651066934, 0.3977818554815641, -1.341690125875958, -0.6988102568559302, -0.36712508794464865, -1.0522588585848436, 1.3882909633804152, -1.6094941778442455, -0.33120523917734057, -1.6903848972611626, 0.2843131685488693, 2.0035637132125133, -0.19697092284664577, -0.1514736478519328, -1.3298873967560545, 0.8235919879503149, -0.8030815481501907, -1.7409748037034218, 1.209499887557365, 2.1416193669136336, 1.4512468981049529, -0.5240122074515902, -0.37520021469507336, 1.4354493635068033, 1.0685554307252807, -0.8168828279085346, -1.5838185817713528, -0.4387628603968676, 0.03990606955832411, 2.6493819629058453, -1.1626131670879876, 0.01333459287637117, -0.7313883942559631, 0.8343779478478394, 0.8029890061540522, -1.412959274261139, 1.073032685859393, 0.2267015121459549, 1.143345332830039, 2.496603362120481, 0.9793209297274629, 0.8583954260892992, -1.2895959623160749, 0.2489351926348663, 1.4711880643513884, 0.9657769617053209, 1.583826612796633, -0.4454618003166316, 0.7445328747000158, 1.0616834457354132, -1.3195277669201264, 0.5047985700119586, -1.8297770264924418, -0.5786800269282291, 1.9202916269657508, -1.0730822622527767, 0.150800146046857, -1.2739672247693878, -0.8728613885960235, 0.8914441421994455, 1.5761950339719883, -1.3717201448056051, 1.3337188675745775, -0.022728635798502476, 2.1905772534661017, 0.6312529720703588, -1.0380398690782615, 1.6329567828998433, 0.20035279599071623, -0.7784045068351377, 1.2532029356440353, -0.7709214851815889, -0.15009567530999388, -0.16439602171750148, 0.15408902677376046, -0.30995291488325527, -0.11498077746145126, 0.4083918780301276, -0.36918189473767477, 1.415344496215347, -0.21976358236558427, 2.6148405210002705, -1.5097530168154465, 0.44936574046642674, 0.07000168611707176, 0.08650081185933392, 0.9203281370471121, 1.5903200193556177]}, {\"connectgaps\": false, \"fill\": \"tozeroy\", \"line\": {\"color\": \"green\", \"dash\": \"solid\", \"shape\": \"linear\", \"width\": 0.5}, \"mode\": \"lines\", \"name\": \"Spread\", \"showlegend\": false, \"type\": \"scatter\", \"x\": [0, 1, 2, 3, 4, 5, 6, 7, 8, 9, 10, 11, 12, 13, 14, 15, 16, 17, 18, 19, 20, 21, 22, 23, 24, 25, 26, 27, 28, 29, 30, 31, 32, 33, 34, 35, 36, 37, 38, 39, 40, 41, 42, 43, 44, 45, 46, 47, 48, 49, 50, 51, 52, 53, 54, 55, 56, 57, 58, 59, 60, 61, 62, 63, 64, 65, 66, 67, 68, 69, 70, 71, 72, 73, 74, 75, 76, 77, 78, 79, 80, 81, 82, 83, 84, 85, 86, 87, 88, 89, 90, 91, 92, 93, 94, 95, 96, 97, 98, 99], \"xaxis\": \"x2\", \"y\": [1.4549642408640853, \"\", \"\", 0.6422586597401074, 0.030313592081985113, 1.628836588761331, \"\", \"\", 1.5312072422106278, \"\", \"\", 1.0828628897963066, \"\", \"\", 3.0861670418465197, \"\", 1.1798286349254457, 1.0876604146580353, \"\", 0.8003142031755087, 0.9256144491685, 1.7288983795868667, 0.29107527458125765, \"\", 0.20381809099783607, \"\", 0.8176911482455184, \"\", 0.025660581643493052, 1.9419846920028152, \"\", \"\", \"\", 0.9057142391553883, \"\", \"\", \"\", 0.09423443133632514, 2.5169806659033727, 0.4316950346177882, \"\", \"\", 2.175743401697303, 2.147235833325559, 0.8529691871825011, 1.1552218161638064, 0.03540409625969543, 1.4045849150147045, 0.3417054535222268, \"\", 0.45724704052888043, \"\", \"\", \"\", 0.30540375606052494, \"\", \"\", \"\", \"\", 1.3474462203310045, \"\", \"\", 2.6154858300659436, 0.8227386819161342, 1.6828257926366457, \"\", \"\", 1.7507224010287854, 0.38896514013690575, 1.4121868797380395, 0.21387936838711707, \"\", \"\", 0.7378282674305757, 0.11932191670923831, \"\", \"\", 1.5394532359856545, 1.0025306621934311, \"\", 0.11437841846738747, 1.2749499927073529, 0.6148840990868916, 1.458517327291696, \"\", \"\", \"\", \"\", \"\", \"\", \"\", \"\", \"\", \"\", 2.8846669325251773, \"\", \"\", \"\", \"\", \"\"], \"yaxis\": \"y2\"}, {\"connectgaps\": false, \"fill\": \"tozeroy\", \"line\": {\"color\": \"red\", \"dash\": \"solid\", \"shape\": \"linear\", \"width\": 0.5}, \"mode\": \"lines\", \"name\": \"Spread\", \"showlegend\": false, \"type\": \"scatter\", \"x\": [0, 1, 2, 3, 4, 5, 6, 7, 8, 9, 10, 11, 12, 13, 14, 15, 16, 17, 18, 19, 20, 21, 22, 23, 24, 25, 26, 27, 28, 29, 30, 31, 32, 33, 34, 35, 36, 37, 38, 39, 40, 41, 42, 43, 44, 45, 46, 47, 48, 49, 50, 51, 52, 53, 54, 55, 56, 57, 58, 59, 60, 61, 62, 63, 64, 65, 66, 67, 68, 69, 70, 71, 72, 73, 74, 75, 76, 77, 78, 79, 80, 81, 82, 83, 84, 85, 86, 87, 88, 89, 90, 91, 92, 93, 94, 95, 96, 97, 98, 99], \"xaxis\": \"x2\", \"y\": [\"\", -2.9675851873457204, -0.25066120996354563, \"\", \"\", \"\", -1.2166770248655232, -0.5658623860335268, \"\", -0.6431825842270595, -3.1444655700489657, \"\", -1.5322277490178688, -0.0352064137850126, \"\", -1.0444686708112412, \"\", \"\", -0.07338755693317545, \"\", \"\", \"\", \"\", -2.1531196167845335, \"\", -0.32646669732518663, \"\", -0.4283657911739581, \"\", \"\", -1.623265491099326, -3.9787466077990796, -2.1942514472068133, \"\", -1.9219457379306935, -2.366297699791981, -1.1277979284636117, \"\", \"\", \"\", -0.2858454653987197, -2.880077441852688, \"\", \"\", \"\", \"\", \"\", \"\", \"\", -1.0242386615834445, \"\", -1.6504155624822383, -0.3743837190357998, -0.2416664875289094, \"\", -0.9579575148741807, -1.6718115136271805, -1.1841820509260614, -1.118081057954516, \"\", -0.46936056331265735, -1.799064531187437, \"\", \"\", \"\", -0.3581285493763068, -1.4413718918035543, \"\", \"\", \"\", \"\", -1.061980723332639, -2.747666694594707, \"\", \"\", -0.3450701112765928, -2.7687323742404137, \"\", \"\", -2.506537909313729, \"\", \"\", \"\", \"\", -1.0839238230731638, -0.8373547541326348, -0.3995679248202587, -1.2462414852145165, -1.1106034183696731, -2.2881339777240552, -0.7725083119868705, -2.2703605889560623, -0.26066249982883793, -2.8928353259094974, \"\", -0.1763621776045135, -0.8859407841797872, -0.10323765604955504, -2.047287024319456, -1.4253590114188825], \"yaxis\": \"y2\"}],\n",
       "                        {\"hovermode\": \"x\", \"legend\": {\"bgcolor\": \"#F5F6F9\", \"font\": {\"color\": \"#4D5663\"}}, \"paper_bgcolor\": \"#F5F6F9\", \"plot_bgcolor\": \"#F5F6F9\", \"template\": {\"data\": {\"bar\": [{\"error_x\": {\"color\": \"#2a3f5f\"}, \"error_y\": {\"color\": \"#2a3f5f\"}, \"marker\": {\"line\": {\"color\": \"#E5ECF6\", \"width\": 0.5}}, \"type\": \"bar\"}], \"barpolar\": [{\"marker\": {\"line\": {\"color\": \"#E5ECF6\", \"width\": 0.5}}, \"type\": \"barpolar\"}], \"carpet\": [{\"aaxis\": {\"endlinecolor\": \"#2a3f5f\", \"gridcolor\": \"white\", \"linecolor\": \"white\", \"minorgridcolor\": \"white\", \"startlinecolor\": \"#2a3f5f\"}, \"baxis\": {\"endlinecolor\": \"#2a3f5f\", \"gridcolor\": \"white\", \"linecolor\": \"white\", \"minorgridcolor\": \"white\", \"startlinecolor\": \"#2a3f5f\"}, \"type\": \"carpet\"}], \"choropleth\": [{\"colorbar\": {\"outlinewidth\": 0, \"ticks\": \"\"}, \"type\": \"choropleth\"}], \"contour\": [{\"colorbar\": {\"outlinewidth\": 0, \"ticks\": \"\"}, \"colorscale\": [[0.0, \"#0d0887\"], [0.1111111111111111, \"#46039f\"], [0.2222222222222222, \"#7201a8\"], [0.3333333333333333, \"#9c179e\"], [0.4444444444444444, \"#bd3786\"], [0.5555555555555556, \"#d8576b\"], [0.6666666666666666, \"#ed7953\"], [0.7777777777777778, \"#fb9f3a\"], [0.8888888888888888, \"#fdca26\"], [1.0, \"#f0f921\"]], \"type\": \"contour\"}], \"contourcarpet\": [{\"colorbar\": {\"outlinewidth\": 0, \"ticks\": \"\"}, \"type\": \"contourcarpet\"}], \"heatmap\": [{\"colorbar\": {\"outlinewidth\": 0, \"ticks\": \"\"}, \"colorscale\": [[0.0, \"#0d0887\"], [0.1111111111111111, \"#46039f\"], [0.2222222222222222, \"#7201a8\"], [0.3333333333333333, \"#9c179e\"], [0.4444444444444444, \"#bd3786\"], [0.5555555555555556, \"#d8576b\"], [0.6666666666666666, \"#ed7953\"], [0.7777777777777778, \"#fb9f3a\"], [0.8888888888888888, \"#fdca26\"], [1.0, \"#f0f921\"]], \"type\": \"heatmap\"}], \"heatmapgl\": [{\"colorbar\": {\"outlinewidth\": 0, \"ticks\": \"\"}, \"colorscale\": [[0.0, \"#0d0887\"], [0.1111111111111111, \"#46039f\"], [0.2222222222222222, \"#7201a8\"], [0.3333333333333333, \"#9c179e\"], [0.4444444444444444, \"#bd3786\"], [0.5555555555555556, \"#d8576b\"], [0.6666666666666666, \"#ed7953\"], [0.7777777777777778, \"#fb9f3a\"], [0.8888888888888888, \"#fdca26\"], [1.0, \"#f0f921\"]], \"type\": \"heatmapgl\"}], \"histogram\": [{\"marker\": {\"colorbar\": {\"outlinewidth\": 0, \"ticks\": \"\"}}, \"type\": \"histogram\"}], \"histogram2d\": [{\"colorbar\": {\"outlinewidth\": 0, \"ticks\": \"\"}, \"colorscale\": [[0.0, \"#0d0887\"], [0.1111111111111111, \"#46039f\"], [0.2222222222222222, \"#7201a8\"], [0.3333333333333333, \"#9c179e\"], [0.4444444444444444, \"#bd3786\"], [0.5555555555555556, \"#d8576b\"], [0.6666666666666666, \"#ed7953\"], [0.7777777777777778, \"#fb9f3a\"], [0.8888888888888888, \"#fdca26\"], [1.0, \"#f0f921\"]], \"type\": \"histogram2d\"}], \"histogram2dcontour\": [{\"colorbar\": {\"outlinewidth\": 0, \"ticks\": \"\"}, \"colorscale\": [[0.0, \"#0d0887\"], [0.1111111111111111, \"#46039f\"], [0.2222222222222222, \"#7201a8\"], [0.3333333333333333, \"#9c179e\"], [0.4444444444444444, \"#bd3786\"], [0.5555555555555556, \"#d8576b\"], [0.6666666666666666, \"#ed7953\"], [0.7777777777777778, \"#fb9f3a\"], [0.8888888888888888, \"#fdca26\"], [1.0, \"#f0f921\"]], \"type\": \"histogram2dcontour\"}], \"mesh3d\": [{\"colorbar\": {\"outlinewidth\": 0, \"ticks\": \"\"}, \"type\": \"mesh3d\"}], \"parcoords\": [{\"line\": {\"colorbar\": {\"outlinewidth\": 0, \"ticks\": \"\"}}, \"type\": \"parcoords\"}], \"pie\": [{\"automargin\": true, \"type\": \"pie\"}], \"scatter\": [{\"marker\": {\"colorbar\": {\"outlinewidth\": 0, \"ticks\": \"\"}}, \"type\": \"scatter\"}], \"scatter3d\": [{\"line\": {\"colorbar\": {\"outlinewidth\": 0, \"ticks\": \"\"}}, \"marker\": {\"colorbar\": {\"outlinewidth\": 0, \"ticks\": \"\"}}, \"type\": \"scatter3d\"}], \"scattercarpet\": [{\"marker\": {\"colorbar\": {\"outlinewidth\": 0, \"ticks\": \"\"}}, \"type\": \"scattercarpet\"}], \"scattergeo\": [{\"marker\": {\"colorbar\": {\"outlinewidth\": 0, \"ticks\": \"\"}}, \"type\": \"scattergeo\"}], \"scattergl\": [{\"marker\": {\"colorbar\": {\"outlinewidth\": 0, \"ticks\": \"\"}}, \"type\": \"scattergl\"}], \"scattermapbox\": [{\"marker\": {\"colorbar\": {\"outlinewidth\": 0, \"ticks\": \"\"}}, \"type\": \"scattermapbox\"}], \"scatterpolar\": [{\"marker\": {\"colorbar\": {\"outlinewidth\": 0, \"ticks\": \"\"}}, \"type\": \"scatterpolar\"}], \"scatterpolargl\": [{\"marker\": {\"colorbar\": {\"outlinewidth\": 0, \"ticks\": \"\"}}, \"type\": \"scatterpolargl\"}], \"scatterternary\": [{\"marker\": {\"colorbar\": {\"outlinewidth\": 0, \"ticks\": \"\"}}, \"type\": \"scatterternary\"}], \"surface\": [{\"colorbar\": {\"outlinewidth\": 0, \"ticks\": \"\"}, \"colorscale\": [[0.0, \"#0d0887\"], [0.1111111111111111, \"#46039f\"], [0.2222222222222222, \"#7201a8\"], [0.3333333333333333, \"#9c179e\"], [0.4444444444444444, \"#bd3786\"], [0.5555555555555556, \"#d8576b\"], [0.6666666666666666, \"#ed7953\"], [0.7777777777777778, \"#fb9f3a\"], [0.8888888888888888, \"#fdca26\"], [1.0, \"#f0f921\"]], \"type\": \"surface\"}], \"table\": [{\"cells\": {\"fill\": {\"color\": \"#EBF0F8\"}, \"line\": {\"color\": \"white\"}}, \"header\": {\"fill\": {\"color\": \"#C8D4E3\"}, \"line\": {\"color\": \"white\"}}, \"type\": \"table\"}]}, \"layout\": {\"annotationdefaults\": {\"arrowcolor\": \"#2a3f5f\", \"arrowhead\": 0, \"arrowwidth\": 1}, \"coloraxis\": {\"colorbar\": {\"outlinewidth\": 0, \"ticks\": \"\"}}, \"colorscale\": {\"diverging\": [[0, \"#8e0152\"], [0.1, \"#c51b7d\"], [0.2, \"#de77ae\"], [0.3, \"#f1b6da\"], [0.4, \"#fde0ef\"], [0.5, \"#f7f7f7\"], [0.6, \"#e6f5d0\"], [0.7, \"#b8e186\"], [0.8, \"#7fbc41\"], [0.9, \"#4d9221\"], [1, \"#276419\"]], \"sequential\": [[0.0, \"#0d0887\"], [0.1111111111111111, \"#46039f\"], [0.2222222222222222, \"#7201a8\"], [0.3333333333333333, \"#9c179e\"], [0.4444444444444444, \"#bd3786\"], [0.5555555555555556, \"#d8576b\"], [0.6666666666666666, \"#ed7953\"], [0.7777777777777778, \"#fb9f3a\"], [0.8888888888888888, \"#fdca26\"], [1.0, \"#f0f921\"]], \"sequentialminus\": [[0.0, \"#0d0887\"], [0.1111111111111111, \"#46039f\"], [0.2222222222222222, \"#7201a8\"], [0.3333333333333333, \"#9c179e\"], [0.4444444444444444, \"#bd3786\"], [0.5555555555555556, \"#d8576b\"], [0.6666666666666666, \"#ed7953\"], [0.7777777777777778, \"#fb9f3a\"], [0.8888888888888888, \"#fdca26\"], [1.0, \"#f0f921\"]]}, \"colorway\": [\"#636efa\", \"#EF553B\", \"#00cc96\", \"#ab63fa\", \"#FFA15A\", \"#19d3f3\", \"#FF6692\", \"#B6E880\", \"#FF97FF\", \"#FECB52\"], \"font\": {\"color\": \"#2a3f5f\"}, \"geo\": {\"bgcolor\": \"white\", \"lakecolor\": \"white\", \"landcolor\": \"#E5ECF6\", \"showlakes\": true, \"showland\": true, \"subunitcolor\": \"white\"}, \"hoverlabel\": {\"align\": \"left\"}, \"hovermode\": \"closest\", \"mapbox\": {\"style\": \"light\"}, \"paper_bgcolor\": \"white\", \"plot_bgcolor\": \"#E5ECF6\", \"polar\": {\"angularaxis\": {\"gridcolor\": \"white\", \"linecolor\": \"white\", \"ticks\": \"\"}, \"bgcolor\": \"#E5ECF6\", \"radialaxis\": {\"gridcolor\": \"white\", \"linecolor\": \"white\", \"ticks\": \"\"}}, \"scene\": {\"xaxis\": {\"backgroundcolor\": \"#E5ECF6\", \"gridcolor\": \"white\", \"gridwidth\": 2, \"linecolor\": \"white\", \"showbackground\": true, \"ticks\": \"\", \"zerolinecolor\": \"white\"}, \"yaxis\": {\"backgroundcolor\": \"#E5ECF6\", \"gridcolor\": \"white\", \"gridwidth\": 2, \"linecolor\": \"white\", \"showbackground\": true, \"ticks\": \"\", \"zerolinecolor\": \"white\"}, \"zaxis\": {\"backgroundcolor\": \"#E5ECF6\", \"gridcolor\": \"white\", \"gridwidth\": 2, \"linecolor\": \"white\", \"showbackground\": true, \"ticks\": \"\", \"zerolinecolor\": \"white\"}}, \"shapedefaults\": {\"line\": {\"color\": \"#2a3f5f\"}}, \"ternary\": {\"aaxis\": {\"gridcolor\": \"white\", \"linecolor\": \"white\", \"ticks\": \"\"}, \"baxis\": {\"gridcolor\": \"white\", \"linecolor\": \"white\", \"ticks\": \"\"}, \"bgcolor\": \"#E5ECF6\", \"caxis\": {\"gridcolor\": \"white\", \"linecolor\": \"white\", \"ticks\": \"\"}}, \"title\": {\"x\": 0.05}, \"xaxis\": {\"automargin\": true, \"gridcolor\": \"white\", \"linecolor\": \"white\", \"ticks\": \"\", \"title\": {\"standoff\": 15}, \"zerolinecolor\": \"white\", \"zerolinewidth\": 2}, \"yaxis\": {\"automargin\": true, \"gridcolor\": \"white\", \"linecolor\": \"white\", \"ticks\": \"\", \"title\": {\"standoff\": 15}, \"zerolinecolor\": \"white\", \"zerolinewidth\": 2}}}, \"title\": {\"font\": {\"color\": \"#4D5663\"}}, \"xaxis\": {\"gridcolor\": \"#E1E5ED\", \"showgrid\": true, \"tickfont\": {\"color\": \"#4D5663\"}, \"title\": {\"font\": {\"color\": \"#4D5663\"}, \"text\": \"\"}, \"zerolinecolor\": \"#E1E5ED\"}, \"xaxis2\": {\"anchor\": \"y2\", \"gridcolor\": \"#E1E5ED\", \"showgrid\": true, \"showticklabels\": false, \"tickfont\": {\"color\": \"#4D5663\"}, \"title\": {\"font\": {\"color\": \"#4D5663\"}, \"text\": \"\"}, \"zerolinecolor\": \"#E1E5ED\"}, \"yaxis\": {\"domain\": [0.3, 1], \"gridcolor\": \"#E1E5ED\", \"showgrid\": true, \"tickfont\": {\"color\": \"#4D5663\"}, \"title\": {\"font\": {\"color\": \"#4D5663\"}, \"text\": \"\"}, \"zerolinecolor\": \"#E1E5ED\"}, \"yaxis2\": {\"domain\": [0, 0.25], \"gridcolor\": \"#E1E5ED\", \"showgrid\": true, \"tickfont\": {\"color\": \"#4D5663\"}, \"title\": {\"font\": {\"color\": \"#4D5663\"}, \"text\": \"Spread\"}, \"zerolinecolor\": \"#E1E5ED\"}},\n",
       "                        {\"showLink\": true, \"linkText\": \"Export to plot.ly\", \"plotlyServerURL\": \"https://plot.ly\", \"responsive\": true}\n",
       "                    ).then(function(){\n",
       "                            \n",
       "var gd = document.getElementById('1da400f5-22bc-459f-a25b-dff131a54298');\n",
       "var x = new MutationObserver(function (mutations, observer) {{\n",
       "        var display = window.getComputedStyle(gd).display;\n",
       "        if (!display || display === 'none') {{\n",
       "            console.log([gd, 'removed!']);\n",
       "            Plotly.purge(gd);\n",
       "            observer.disconnect();\n",
       "        }}\n",
       "}});\n",
       "\n",
       "// Listen for the removal of the full notebook cells\n",
       "var notebookContainer = gd.closest('#notebook-container');\n",
       "if (notebookContainer) {{\n",
       "    x.observe(notebookContainer, {childList: true});\n",
       "}}\n",
       "\n",
       "// Listen for the clearing of the current output cell\n",
       "var outputEl = gd.closest('.output');\n",
       "if (outputEl) {{\n",
       "    x.observe(outputEl, {childList: true});\n",
       "}}\n",
       "\n",
       "                        })\n",
       "                };\n",
       "                });\n",
       "            </script>\n",
       "        </div>"
      ]
     },
     "metadata": {},
     "output_type": "display_data"
    }
   ],
   "source": [
    "df[['A','B']].iplot(kind='spread')"
   ]
  },
  {
   "cell_type": "code",
   "execution_count": 22,
   "metadata": {},
   "outputs": [
    {
     "data": {
      "application/vnd.plotly.v1+json": {
       "config": {
        "linkText": "Export to plot.ly",
        "plotlyServerURL": "https://plot.ly",
        "showLink": true
       },
       "data": [
        {
         "marker": {
          "color": [
           "rgb(255, 153, 51)",
           "rgb(55, 128, 191)",
           "rgb(50, 171, 96)",
           "rgb(128, 0, 128)",
           "rgb(219, 64, 82)",
           "rgb(0, 128, 128)",
           "rgb(255, 255, 51)",
           "rgb(128, 128, 0)",
           "rgb(251, 128, 114)",
           "rgb(128, 177, 211)"
          ],
          "line": {
           "width": 1.3
          },
          "size": [
           34,
           71,
           78,
           72,
           56,
           58,
           77,
           39,
           87,
           112,
           72,
           35,
           78,
           65,
           60,
           55,
           60,
           44,
           20,
           13,
           35,
           54,
           67,
           57,
           46,
           52,
           47,
           66,
           14,
           44,
           40,
           40,
           108,
           41,
           62,
           67,
           84,
           74,
           55,
           66,
           90,
           55,
           49,
           51,
           84,
           33,
           45,
           71,
           69,
           25,
           51,
           42,
           21,
           43,
           54,
           49,
           65,
           62,
           58,
           79,
           12,
           69,
           74,
           50,
           58,
           85,
           27,
           43,
           99,
           83,
           59,
           62,
           70,
           57,
           56,
           80,
           78,
           32,
           22,
           72,
           72,
           61,
           59,
           57,
           36,
           90,
           71,
           64,
           54,
           73,
           17,
           41,
           71,
           86,
           81,
           53,
           54,
           59,
           14,
           21
          ],
          "symbol": "circle"
         },
         "mode": "markers",
         "text": "",
         "type": "scatter",
         "x": [
          0.0894442250382196,
          -1.1636901974238956,
          -0.14222402464788517,
          2.0778243621370107,
          0.007891208853460787,
          1.5114211282301155,
          -0.5781301716748249,
          -0.6493464768341835,
          0.8804366298714607,
          -0.28659777359830724,
          -1.5497540650436465,
          0.06842940166910959,
          -0.8432149839111754,
          0.3625754416965515,
          1.7444769159705618,
          -1.7432789276671714,
          0.8127035469807969,
          0.03540155607319169,
          1.3149034064472398,
          -0.8091799746687368,
          0.5944092099911594,
          0.03851348232570403,
          0.5753884431301269,
          -0.14955590357202014,
          0.006847168151190288,
          -0.4779403451771194,
          -0.5121962485105361,
          0.39522619677635673,
          -0.7774209665066977,
          0.2010098882993933,
          -0.413765603541961,
          -1.837127240885446,
          -0.7430045491018606,
          0.3817020317037981,
          -2.2971459526257667,
          -0.930848336285178,
          -0.059242497738331006,
          -0.7226483965722095,
          0.9331620841320196,
          -0.007067825779079438,
          -0.24593939584039556,
          -0.23069547894684309,
          1.0131302346093156,
          2.16057042620193,
          0.12158079292653799,
          1.9895997640116458,
          0.8383931024137476,
          -0.008374359246434421,
          1.4147381393816199,
          -0.7975371494374897,
          1.6005923733589194,
          0.8461877996382429,
          0.6049372106916631,
          0.6167289385603898,
          -0.9841922062555499,
          -0.7090223222393144,
          -0.20062344927579204,
          -0.21840508922074062,
          0.46574555484211694,
          0.901984420014373,
          0.2751723113873585,
          -0.7373810854520237,
          1.2959580631458174,
          1.3275372519280928,
          -0.14695123385579606,
          -0.9368085763045358,
          0.4789197351621965,
          0.6776401387760087,
          0.5397652861837627,
          0.13821965496865166,
          -0.6589820202089064,
          -0.17053658113319353,
          -1.1714716606227185,
          -0.6338918773750294,
          1.4530407842838158,
          -0.3677987470750953,
          -0.578155120774312,
          2.1707062080560133,
          -0.035509206884830384,
          -0.8735811264138856,
          0.3147312144581037,
          0.4965454858722151,
          1.8680870347309269,
          0.6875958421101073,
          -1.2340194983831576,
          -1.0017507758501363,
          -0.24547889804649828,
          -1.5561944000977719,
          -1.2255841958311244,
          -1.8797420996939276,
          -1.1416902067245454,
          -0.8550160927407154,
          -0.48042608219442223,
          -0.27799480490922684,
          1.3749139157097308,
          0.27300356286191324,
          -0.8159390980627154,
          -0.01673684419022112,
          -1.126958887272344,
          0.1649610079367353
         ],
         "y": [
          -1.3655200158258656,
          1.8038949899218248,
          0.10843718531566045,
          1.4355657023969033,
          -0.022422383228524325,
          -0.11741546053121543,
          0.6385468531906983,
          -0.08348409080065669,
          -0.650770612339167,
          0.3565848106287523,
          1.594711505005319,
          -1.014433488127197,
          0.6890127651066934,
          0.3977818554815641,
          -1.341690125875958,
          -0.6988102568559302,
          -0.36712508794464865,
          -1.0522588585848436,
          1.3882909633804152,
          -1.6094941778442455,
          -0.33120523917734057,
          -1.6903848972611626,
          0.2843131685488693,
          2.0035637132125133,
          -0.19697092284664577,
          -0.1514736478519328,
          -1.3298873967560545,
          0.8235919879503149,
          -0.8030815481501907,
          -1.7409748037034218,
          1.209499887557365,
          2.1416193669136336,
          1.4512468981049529,
          -0.5240122074515902,
          -0.37520021469507336,
          1.4354493635068033,
          1.0685554307252807,
          -0.8168828279085346,
          -1.5838185817713528,
          -0.4387628603968676,
          0.03990606955832411,
          2.6493819629058453,
          -1.1626131670879876,
          0.01333459287637117,
          -0.7313883942559631,
          0.8343779478478394,
          0.8029890061540522,
          -1.412959274261139,
          1.073032685859393,
          0.2267015121459549,
          1.143345332830039,
          2.496603362120481,
          0.9793209297274629,
          0.8583954260892992,
          -1.2895959623160749,
          0.2489351926348663,
          1.4711880643513884,
          0.9657769617053209,
          1.583826612796633,
          -0.4454618003166316,
          0.7445328747000158,
          1.0616834457354132,
          -1.3195277669201264,
          0.5047985700119586,
          -1.8297770264924418,
          -0.5786800269282291,
          1.9202916269657508,
          -1.0730822622527767,
          0.150800146046857,
          -1.2739672247693878,
          -0.8728613885960235,
          0.8914441421994455,
          1.5761950339719883,
          -1.3717201448056051,
          1.3337188675745775,
          -0.022728635798502476,
          2.1905772534661017,
          0.6312529720703588,
          -1.0380398690782615,
          1.6329567828998433,
          0.20035279599071623,
          -0.7784045068351377,
          1.2532029356440353,
          -0.7709214851815889,
          -0.15009567530999388,
          -0.16439602171750148,
          0.15408902677376046,
          -0.30995291488325527,
          -0.11498077746145126,
          0.4083918780301276,
          -0.36918189473767477,
          1.415344496215347,
          -0.21976358236558427,
          2.6148405210002705,
          -1.5097530168154465,
          0.44936574046642674,
          0.07000168611707176,
          0.08650081185933392,
          0.9203281370471121,
          1.5903200193556177
         ]
        }
       ],
       "layout": {
        "legend": {
         "bgcolor": "#F5F6F9",
         "font": {
          "color": "#4D5663"
         }
        },
        "paper_bgcolor": "#F5F6F9",
        "plot_bgcolor": "#F5F6F9",
        "template": {
         "data": {
          "bar": [
           {
            "error_x": {
             "color": "#2a3f5f"
            },
            "error_y": {
             "color": "#2a3f5f"
            },
            "marker": {
             "line": {
              "color": "#E5ECF6",
              "width": 0.5
             }
            },
            "type": "bar"
           }
          ],
          "barpolar": [
           {
            "marker": {
             "line": {
              "color": "#E5ECF6",
              "width": 0.5
             }
            },
            "type": "barpolar"
           }
          ],
          "carpet": [
           {
            "aaxis": {
             "endlinecolor": "#2a3f5f",
             "gridcolor": "white",
             "linecolor": "white",
             "minorgridcolor": "white",
             "startlinecolor": "#2a3f5f"
            },
            "baxis": {
             "endlinecolor": "#2a3f5f",
             "gridcolor": "white",
             "linecolor": "white",
             "minorgridcolor": "white",
             "startlinecolor": "#2a3f5f"
            },
            "type": "carpet"
           }
          ],
          "choropleth": [
           {
            "colorbar": {
             "outlinewidth": 0,
             "ticks": ""
            },
            "type": "choropleth"
           }
          ],
          "contour": [
           {
            "colorbar": {
             "outlinewidth": 0,
             "ticks": ""
            },
            "colorscale": [
             [
              0,
              "#0d0887"
             ],
             [
              0.1111111111111111,
              "#46039f"
             ],
             [
              0.2222222222222222,
              "#7201a8"
             ],
             [
              0.3333333333333333,
              "#9c179e"
             ],
             [
              0.4444444444444444,
              "#bd3786"
             ],
             [
              0.5555555555555556,
              "#d8576b"
             ],
             [
              0.6666666666666666,
              "#ed7953"
             ],
             [
              0.7777777777777778,
              "#fb9f3a"
             ],
             [
              0.8888888888888888,
              "#fdca26"
             ],
             [
              1,
              "#f0f921"
             ]
            ],
            "type": "contour"
           }
          ],
          "contourcarpet": [
           {
            "colorbar": {
             "outlinewidth": 0,
             "ticks": ""
            },
            "type": "contourcarpet"
           }
          ],
          "heatmap": [
           {
            "colorbar": {
             "outlinewidth": 0,
             "ticks": ""
            },
            "colorscale": [
             [
              0,
              "#0d0887"
             ],
             [
              0.1111111111111111,
              "#46039f"
             ],
             [
              0.2222222222222222,
              "#7201a8"
             ],
             [
              0.3333333333333333,
              "#9c179e"
             ],
             [
              0.4444444444444444,
              "#bd3786"
             ],
             [
              0.5555555555555556,
              "#d8576b"
             ],
             [
              0.6666666666666666,
              "#ed7953"
             ],
             [
              0.7777777777777778,
              "#fb9f3a"
             ],
             [
              0.8888888888888888,
              "#fdca26"
             ],
             [
              1,
              "#f0f921"
             ]
            ],
            "type": "heatmap"
           }
          ],
          "heatmapgl": [
           {
            "colorbar": {
             "outlinewidth": 0,
             "ticks": ""
            },
            "colorscale": [
             [
              0,
              "#0d0887"
             ],
             [
              0.1111111111111111,
              "#46039f"
             ],
             [
              0.2222222222222222,
              "#7201a8"
             ],
             [
              0.3333333333333333,
              "#9c179e"
             ],
             [
              0.4444444444444444,
              "#bd3786"
             ],
             [
              0.5555555555555556,
              "#d8576b"
             ],
             [
              0.6666666666666666,
              "#ed7953"
             ],
             [
              0.7777777777777778,
              "#fb9f3a"
             ],
             [
              0.8888888888888888,
              "#fdca26"
             ],
             [
              1,
              "#f0f921"
             ]
            ],
            "type": "heatmapgl"
           }
          ],
          "histogram": [
           {
            "marker": {
             "colorbar": {
              "outlinewidth": 0,
              "ticks": ""
             }
            },
            "type": "histogram"
           }
          ],
          "histogram2d": [
           {
            "colorbar": {
             "outlinewidth": 0,
             "ticks": ""
            },
            "colorscale": [
             [
              0,
              "#0d0887"
             ],
             [
              0.1111111111111111,
              "#46039f"
             ],
             [
              0.2222222222222222,
              "#7201a8"
             ],
             [
              0.3333333333333333,
              "#9c179e"
             ],
             [
              0.4444444444444444,
              "#bd3786"
             ],
             [
              0.5555555555555556,
              "#d8576b"
             ],
             [
              0.6666666666666666,
              "#ed7953"
             ],
             [
              0.7777777777777778,
              "#fb9f3a"
             ],
             [
              0.8888888888888888,
              "#fdca26"
             ],
             [
              1,
              "#f0f921"
             ]
            ],
            "type": "histogram2d"
           }
          ],
          "histogram2dcontour": [
           {
            "colorbar": {
             "outlinewidth": 0,
             "ticks": ""
            },
            "colorscale": [
             [
              0,
              "#0d0887"
             ],
             [
              0.1111111111111111,
              "#46039f"
             ],
             [
              0.2222222222222222,
              "#7201a8"
             ],
             [
              0.3333333333333333,
              "#9c179e"
             ],
             [
              0.4444444444444444,
              "#bd3786"
             ],
             [
              0.5555555555555556,
              "#d8576b"
             ],
             [
              0.6666666666666666,
              "#ed7953"
             ],
             [
              0.7777777777777778,
              "#fb9f3a"
             ],
             [
              0.8888888888888888,
              "#fdca26"
             ],
             [
              1,
              "#f0f921"
             ]
            ],
            "type": "histogram2dcontour"
           }
          ],
          "mesh3d": [
           {
            "colorbar": {
             "outlinewidth": 0,
             "ticks": ""
            },
            "type": "mesh3d"
           }
          ],
          "parcoords": [
           {
            "line": {
             "colorbar": {
              "outlinewidth": 0,
              "ticks": ""
             }
            },
            "type": "parcoords"
           }
          ],
          "pie": [
           {
            "automargin": true,
            "type": "pie"
           }
          ],
          "scatter": [
           {
            "marker": {
             "colorbar": {
              "outlinewidth": 0,
              "ticks": ""
             }
            },
            "type": "scatter"
           }
          ],
          "scatter3d": [
           {
            "line": {
             "colorbar": {
              "outlinewidth": 0,
              "ticks": ""
             }
            },
            "marker": {
             "colorbar": {
              "outlinewidth": 0,
              "ticks": ""
             }
            },
            "type": "scatter3d"
           }
          ],
          "scattercarpet": [
           {
            "marker": {
             "colorbar": {
              "outlinewidth": 0,
              "ticks": ""
             }
            },
            "type": "scattercarpet"
           }
          ],
          "scattergeo": [
           {
            "marker": {
             "colorbar": {
              "outlinewidth": 0,
              "ticks": ""
             }
            },
            "type": "scattergeo"
           }
          ],
          "scattergl": [
           {
            "marker": {
             "colorbar": {
              "outlinewidth": 0,
              "ticks": ""
             }
            },
            "type": "scattergl"
           }
          ],
          "scattermapbox": [
           {
            "marker": {
             "colorbar": {
              "outlinewidth": 0,
              "ticks": ""
             }
            },
            "type": "scattermapbox"
           }
          ],
          "scatterpolar": [
           {
            "marker": {
             "colorbar": {
              "outlinewidth": 0,
              "ticks": ""
             }
            },
            "type": "scatterpolar"
           }
          ],
          "scatterpolargl": [
           {
            "marker": {
             "colorbar": {
              "outlinewidth": 0,
              "ticks": ""
             }
            },
            "type": "scatterpolargl"
           }
          ],
          "scatterternary": [
           {
            "marker": {
             "colorbar": {
              "outlinewidth": 0,
              "ticks": ""
             }
            },
            "type": "scatterternary"
           }
          ],
          "surface": [
           {
            "colorbar": {
             "outlinewidth": 0,
             "ticks": ""
            },
            "colorscale": [
             [
              0,
              "#0d0887"
             ],
             [
              0.1111111111111111,
              "#46039f"
             ],
             [
              0.2222222222222222,
              "#7201a8"
             ],
             [
              0.3333333333333333,
              "#9c179e"
             ],
             [
              0.4444444444444444,
              "#bd3786"
             ],
             [
              0.5555555555555556,
              "#d8576b"
             ],
             [
              0.6666666666666666,
              "#ed7953"
             ],
             [
              0.7777777777777778,
              "#fb9f3a"
             ],
             [
              0.8888888888888888,
              "#fdca26"
             ],
             [
              1,
              "#f0f921"
             ]
            ],
            "type": "surface"
           }
          ],
          "table": [
           {
            "cells": {
             "fill": {
              "color": "#EBF0F8"
             },
             "line": {
              "color": "white"
             }
            },
            "header": {
             "fill": {
              "color": "#C8D4E3"
             },
             "line": {
              "color": "white"
             }
            },
            "type": "table"
           }
          ]
         },
         "layout": {
          "annotationdefaults": {
           "arrowcolor": "#2a3f5f",
           "arrowhead": 0,
           "arrowwidth": 1
          },
          "coloraxis": {
           "colorbar": {
            "outlinewidth": 0,
            "ticks": ""
           }
          },
          "colorscale": {
           "diverging": [
            [
             0,
             "#8e0152"
            ],
            [
             0.1,
             "#c51b7d"
            ],
            [
             0.2,
             "#de77ae"
            ],
            [
             0.3,
             "#f1b6da"
            ],
            [
             0.4,
             "#fde0ef"
            ],
            [
             0.5,
             "#f7f7f7"
            ],
            [
             0.6,
             "#e6f5d0"
            ],
            [
             0.7,
             "#b8e186"
            ],
            [
             0.8,
             "#7fbc41"
            ],
            [
             0.9,
             "#4d9221"
            ],
            [
             1,
             "#276419"
            ]
           ],
           "sequential": [
            [
             0,
             "#0d0887"
            ],
            [
             0.1111111111111111,
             "#46039f"
            ],
            [
             0.2222222222222222,
             "#7201a8"
            ],
            [
             0.3333333333333333,
             "#9c179e"
            ],
            [
             0.4444444444444444,
             "#bd3786"
            ],
            [
             0.5555555555555556,
             "#d8576b"
            ],
            [
             0.6666666666666666,
             "#ed7953"
            ],
            [
             0.7777777777777778,
             "#fb9f3a"
            ],
            [
             0.8888888888888888,
             "#fdca26"
            ],
            [
             1,
             "#f0f921"
            ]
           ],
           "sequentialminus": [
            [
             0,
             "#0d0887"
            ],
            [
             0.1111111111111111,
             "#46039f"
            ],
            [
             0.2222222222222222,
             "#7201a8"
            ],
            [
             0.3333333333333333,
             "#9c179e"
            ],
            [
             0.4444444444444444,
             "#bd3786"
            ],
            [
             0.5555555555555556,
             "#d8576b"
            ],
            [
             0.6666666666666666,
             "#ed7953"
            ],
            [
             0.7777777777777778,
             "#fb9f3a"
            ],
            [
             0.8888888888888888,
             "#fdca26"
            ],
            [
             1,
             "#f0f921"
            ]
           ]
          },
          "colorway": [
           "#636efa",
           "#EF553B",
           "#00cc96",
           "#ab63fa",
           "#FFA15A",
           "#19d3f3",
           "#FF6692",
           "#B6E880",
           "#FF97FF",
           "#FECB52"
          ],
          "font": {
           "color": "#2a3f5f"
          },
          "geo": {
           "bgcolor": "white",
           "lakecolor": "white",
           "landcolor": "#E5ECF6",
           "showlakes": true,
           "showland": true,
           "subunitcolor": "white"
          },
          "hoverlabel": {
           "align": "left"
          },
          "hovermode": "closest",
          "mapbox": {
           "style": "light"
          },
          "paper_bgcolor": "white",
          "plot_bgcolor": "#E5ECF6",
          "polar": {
           "angularaxis": {
            "gridcolor": "white",
            "linecolor": "white",
            "ticks": ""
           },
           "bgcolor": "#E5ECF6",
           "radialaxis": {
            "gridcolor": "white",
            "linecolor": "white",
            "ticks": ""
           }
          },
          "scene": {
           "xaxis": {
            "backgroundcolor": "#E5ECF6",
            "gridcolor": "white",
            "gridwidth": 2,
            "linecolor": "white",
            "showbackground": true,
            "ticks": "",
            "zerolinecolor": "white"
           },
           "yaxis": {
            "backgroundcolor": "#E5ECF6",
            "gridcolor": "white",
            "gridwidth": 2,
            "linecolor": "white",
            "showbackground": true,
            "ticks": "",
            "zerolinecolor": "white"
           },
           "zaxis": {
            "backgroundcolor": "#E5ECF6",
            "gridcolor": "white",
            "gridwidth": 2,
            "linecolor": "white",
            "showbackground": true,
            "ticks": "",
            "zerolinecolor": "white"
           }
          },
          "shapedefaults": {
           "line": {
            "color": "#2a3f5f"
           }
          },
          "ternary": {
           "aaxis": {
            "gridcolor": "white",
            "linecolor": "white",
            "ticks": ""
           },
           "baxis": {
            "gridcolor": "white",
            "linecolor": "white",
            "ticks": ""
           },
           "bgcolor": "#E5ECF6",
           "caxis": {
            "gridcolor": "white",
            "linecolor": "white",
            "ticks": ""
           }
          },
          "title": {
           "x": 0.05
          },
          "xaxis": {
           "automargin": true,
           "gridcolor": "white",
           "linecolor": "white",
           "ticks": "",
           "title": {
            "standoff": 15
           },
           "zerolinecolor": "white",
           "zerolinewidth": 2
          },
          "yaxis": {
           "automargin": true,
           "gridcolor": "white",
           "linecolor": "white",
           "ticks": "",
           "title": {
            "standoff": 15
           },
           "zerolinecolor": "white",
           "zerolinewidth": 2
          }
         }
        },
        "title": {
         "font": {
          "color": "#4D5663"
         }
        },
        "xaxis": {
         "gridcolor": "#E1E5ED",
         "showgrid": true,
         "tickfont": {
          "color": "#4D5663"
         },
         "title": {
          "font": {
           "color": "#4D5663"
          },
          "text": ""
         },
         "zerolinecolor": "#E1E5ED"
        },
        "yaxis": {
         "gridcolor": "#E1E5ED",
         "showgrid": true,
         "tickfont": {
          "color": "#4D5663"
         },
         "title": {
          "font": {
           "color": "#4D5663"
          },
          "text": ""
         },
         "zerolinecolor": "#E1E5ED"
        }
       }
      },
      "text/html": [
       "<div>\n",
       "        \n",
       "        \n",
       "            <div id=\"fdc7491c-f5bd-4df8-9f1d-8a0e93740fc4\" class=\"plotly-graph-div\" style=\"height:525px; width:100%;\"></div>\n",
       "            <script type=\"text/javascript\">\n",
       "                require([\"plotly\"], function(Plotly) {\n",
       "                    window.PLOTLYENV=window.PLOTLYENV || {};\n",
       "                    window.PLOTLYENV.BASE_URL='https://plot.ly';\n",
       "                    \n",
       "                if (document.getElementById(\"fdc7491c-f5bd-4df8-9f1d-8a0e93740fc4\")) {\n",
       "                    Plotly.newPlot(\n",
       "                        'fdc7491c-f5bd-4df8-9f1d-8a0e93740fc4',\n",
       "                        [{\"marker\": {\"color\": [\"rgb(255, 153, 51)\", \"rgb(55, 128, 191)\", \"rgb(50, 171, 96)\", \"rgb(128, 0, 128)\", \"rgb(219, 64, 82)\", \"rgb(0, 128, 128)\", \"rgb(255, 255, 51)\", \"rgb(128, 128, 0)\", \"rgb(251, 128, 114)\", \"rgb(128, 177, 211)\"], \"line\": {\"width\": 1.3}, \"size\": [34, 71, 78, 72, 56, 58, 77, 39, 87, 112, 72, 35, 78, 65, 60, 55, 60, 44, 20, 13, 35, 54, 67, 57, 46, 52, 47, 66, 14, 44, 40, 40, 108, 41, 62, 67, 84, 74, 55, 66, 90, 55, 49, 51, 84, 33, 45, 71, 69, 25, 51, 42, 21, 43, 54, 49, 65, 62, 58, 79, 12, 69, 74, 50, 58, 85, 27, 43, 99, 83, 59, 62, 70, 57, 56, 80, 78, 32, 22, 72, 72, 61, 59, 57, 36, 90, 71, 64, 54, 73, 17, 41, 71, 86, 81, 53, 54, 59, 14, 21], \"symbol\": \"circle\"}, \"mode\": \"markers\", \"text\": \"\", \"type\": \"scatter\", \"x\": [0.0894442250382196, -1.1636901974238956, -0.14222402464788517, 2.0778243621370107, 0.007891208853460787, 1.5114211282301155, -0.5781301716748249, -0.6493464768341835, 0.8804366298714607, -0.28659777359830724, -1.5497540650436465, 0.06842940166910959, -0.8432149839111754, 0.3625754416965515, 1.7444769159705618, -1.7432789276671714, 0.8127035469807969, 0.03540155607319169, 1.3149034064472398, -0.8091799746687368, 0.5944092099911594, 0.03851348232570403, 0.5753884431301269, -0.14955590357202014, 0.006847168151190288, -0.4779403451771194, -0.5121962485105361, 0.39522619677635673, -0.7774209665066977, 0.2010098882993933, -0.413765603541961, -1.837127240885446, -0.7430045491018606, 0.3817020317037981, -2.2971459526257667, -0.930848336285178, -0.059242497738331006, -0.7226483965722095, 0.9331620841320196, -0.007067825779079438, -0.24593939584039556, -0.23069547894684309, 1.0131302346093156, 2.16057042620193, 0.12158079292653799, 1.9895997640116458, 0.8383931024137476, -0.008374359246434421, 1.4147381393816199, -0.7975371494374897, 1.6005923733589194, 0.8461877996382429, 0.6049372106916631, 0.6167289385603898, -0.9841922062555499, -0.7090223222393144, -0.20062344927579204, -0.21840508922074062, 0.46574555484211694, 0.901984420014373, 0.2751723113873585, -0.7373810854520237, 1.2959580631458174, 1.3275372519280928, -0.14695123385579606, -0.9368085763045358, 0.4789197351621965, 0.6776401387760087, 0.5397652861837627, 0.13821965496865166, -0.6589820202089064, -0.17053658113319353, -1.1714716606227185, -0.6338918773750294, 1.4530407842838158, -0.3677987470750953, -0.578155120774312, 2.1707062080560133, -0.035509206884830384, -0.8735811264138856, 0.3147312144581037, 0.4965454858722151, 1.8680870347309269, 0.6875958421101073, -1.2340194983831576, -1.0017507758501363, -0.24547889804649828, -1.5561944000977719, -1.2255841958311244, -1.8797420996939276, -1.1416902067245454, -0.8550160927407154, -0.48042608219442223, -0.27799480490922684, 1.3749139157097308, 0.27300356286191324, -0.8159390980627154, -0.01673684419022112, -1.126958887272344, 0.1649610079367353], \"y\": [-1.3655200158258656, 1.8038949899218248, 0.10843718531566045, 1.4355657023969033, -0.022422383228524325, -0.11741546053121543, 0.6385468531906983, -0.08348409080065669, -0.650770612339167, 0.3565848106287523, 1.594711505005319, -1.014433488127197, 0.6890127651066934, 0.3977818554815641, -1.341690125875958, -0.6988102568559302, -0.36712508794464865, -1.0522588585848436, 1.3882909633804152, -1.6094941778442455, -0.33120523917734057, -1.6903848972611626, 0.2843131685488693, 2.0035637132125133, -0.19697092284664577, -0.1514736478519328, -1.3298873967560545, 0.8235919879503149, -0.8030815481501907, -1.7409748037034218, 1.209499887557365, 2.1416193669136336, 1.4512468981049529, -0.5240122074515902, -0.37520021469507336, 1.4354493635068033, 1.0685554307252807, -0.8168828279085346, -1.5838185817713528, -0.4387628603968676, 0.03990606955832411, 2.6493819629058453, -1.1626131670879876, 0.01333459287637117, -0.7313883942559631, 0.8343779478478394, 0.8029890061540522, -1.412959274261139, 1.073032685859393, 0.2267015121459549, 1.143345332830039, 2.496603362120481, 0.9793209297274629, 0.8583954260892992, -1.2895959623160749, 0.2489351926348663, 1.4711880643513884, 0.9657769617053209, 1.583826612796633, -0.4454618003166316, 0.7445328747000158, 1.0616834457354132, -1.3195277669201264, 0.5047985700119586, -1.8297770264924418, -0.5786800269282291, 1.9202916269657508, -1.0730822622527767, 0.150800146046857, -1.2739672247693878, -0.8728613885960235, 0.8914441421994455, 1.5761950339719883, -1.3717201448056051, 1.3337188675745775, -0.022728635798502476, 2.1905772534661017, 0.6312529720703588, -1.0380398690782615, 1.6329567828998433, 0.20035279599071623, -0.7784045068351377, 1.2532029356440353, -0.7709214851815889, -0.15009567530999388, -0.16439602171750148, 0.15408902677376046, -0.30995291488325527, -0.11498077746145126, 0.4083918780301276, -0.36918189473767477, 1.415344496215347, -0.21976358236558427, 2.6148405210002705, -1.5097530168154465, 0.44936574046642674, 0.07000168611707176, 0.08650081185933392, 0.9203281370471121, 1.5903200193556177]}],\n",
       "                        {\"legend\": {\"bgcolor\": \"#F5F6F9\", \"font\": {\"color\": \"#4D5663\"}}, \"paper_bgcolor\": \"#F5F6F9\", \"plot_bgcolor\": \"#F5F6F9\", \"template\": {\"data\": {\"bar\": [{\"error_x\": {\"color\": \"#2a3f5f\"}, \"error_y\": {\"color\": \"#2a3f5f\"}, \"marker\": {\"line\": {\"color\": \"#E5ECF6\", \"width\": 0.5}}, \"type\": \"bar\"}], \"barpolar\": [{\"marker\": {\"line\": {\"color\": \"#E5ECF6\", \"width\": 0.5}}, \"type\": \"barpolar\"}], \"carpet\": [{\"aaxis\": {\"endlinecolor\": \"#2a3f5f\", \"gridcolor\": \"white\", \"linecolor\": \"white\", \"minorgridcolor\": \"white\", \"startlinecolor\": \"#2a3f5f\"}, \"baxis\": {\"endlinecolor\": \"#2a3f5f\", \"gridcolor\": \"white\", \"linecolor\": \"white\", \"minorgridcolor\": \"white\", \"startlinecolor\": \"#2a3f5f\"}, \"type\": \"carpet\"}], \"choropleth\": [{\"colorbar\": {\"outlinewidth\": 0, \"ticks\": \"\"}, \"type\": \"choropleth\"}], \"contour\": [{\"colorbar\": {\"outlinewidth\": 0, \"ticks\": \"\"}, \"colorscale\": [[0.0, \"#0d0887\"], [0.1111111111111111, \"#46039f\"], [0.2222222222222222, \"#7201a8\"], [0.3333333333333333, \"#9c179e\"], [0.4444444444444444, \"#bd3786\"], [0.5555555555555556, \"#d8576b\"], [0.6666666666666666, \"#ed7953\"], [0.7777777777777778, \"#fb9f3a\"], [0.8888888888888888, \"#fdca26\"], [1.0, \"#f0f921\"]], \"type\": \"contour\"}], \"contourcarpet\": [{\"colorbar\": {\"outlinewidth\": 0, \"ticks\": \"\"}, \"type\": \"contourcarpet\"}], \"heatmap\": [{\"colorbar\": {\"outlinewidth\": 0, \"ticks\": \"\"}, \"colorscale\": [[0.0, \"#0d0887\"], [0.1111111111111111, \"#46039f\"], [0.2222222222222222, \"#7201a8\"], [0.3333333333333333, \"#9c179e\"], [0.4444444444444444, \"#bd3786\"], [0.5555555555555556, \"#d8576b\"], [0.6666666666666666, \"#ed7953\"], [0.7777777777777778, \"#fb9f3a\"], [0.8888888888888888, \"#fdca26\"], [1.0, \"#f0f921\"]], \"type\": \"heatmap\"}], \"heatmapgl\": [{\"colorbar\": {\"outlinewidth\": 0, \"ticks\": \"\"}, \"colorscale\": [[0.0, \"#0d0887\"], [0.1111111111111111, \"#46039f\"], [0.2222222222222222, \"#7201a8\"], [0.3333333333333333, \"#9c179e\"], [0.4444444444444444, \"#bd3786\"], [0.5555555555555556, \"#d8576b\"], [0.6666666666666666, \"#ed7953\"], [0.7777777777777778, \"#fb9f3a\"], [0.8888888888888888, \"#fdca26\"], [1.0, \"#f0f921\"]], \"type\": \"heatmapgl\"}], \"histogram\": [{\"marker\": {\"colorbar\": {\"outlinewidth\": 0, \"ticks\": \"\"}}, \"type\": \"histogram\"}], \"histogram2d\": [{\"colorbar\": {\"outlinewidth\": 0, \"ticks\": \"\"}, \"colorscale\": [[0.0, \"#0d0887\"], [0.1111111111111111, \"#46039f\"], [0.2222222222222222, \"#7201a8\"], [0.3333333333333333, \"#9c179e\"], [0.4444444444444444, \"#bd3786\"], [0.5555555555555556, \"#d8576b\"], [0.6666666666666666, \"#ed7953\"], [0.7777777777777778, \"#fb9f3a\"], [0.8888888888888888, \"#fdca26\"], [1.0, \"#f0f921\"]], \"type\": \"histogram2d\"}], \"histogram2dcontour\": [{\"colorbar\": {\"outlinewidth\": 0, \"ticks\": \"\"}, \"colorscale\": [[0.0, \"#0d0887\"], [0.1111111111111111, \"#46039f\"], [0.2222222222222222, \"#7201a8\"], [0.3333333333333333, \"#9c179e\"], [0.4444444444444444, \"#bd3786\"], [0.5555555555555556, \"#d8576b\"], [0.6666666666666666, \"#ed7953\"], [0.7777777777777778, \"#fb9f3a\"], [0.8888888888888888, \"#fdca26\"], [1.0, \"#f0f921\"]], \"type\": \"histogram2dcontour\"}], \"mesh3d\": [{\"colorbar\": {\"outlinewidth\": 0, \"ticks\": \"\"}, \"type\": \"mesh3d\"}], \"parcoords\": [{\"line\": {\"colorbar\": {\"outlinewidth\": 0, \"ticks\": \"\"}}, \"type\": \"parcoords\"}], \"pie\": [{\"automargin\": true, \"type\": \"pie\"}], \"scatter\": [{\"marker\": {\"colorbar\": {\"outlinewidth\": 0, \"ticks\": \"\"}}, \"type\": \"scatter\"}], \"scatter3d\": [{\"line\": {\"colorbar\": {\"outlinewidth\": 0, \"ticks\": \"\"}}, \"marker\": {\"colorbar\": {\"outlinewidth\": 0, \"ticks\": \"\"}}, \"type\": \"scatter3d\"}], \"scattercarpet\": [{\"marker\": {\"colorbar\": {\"outlinewidth\": 0, \"ticks\": \"\"}}, \"type\": \"scattercarpet\"}], \"scattergeo\": [{\"marker\": {\"colorbar\": {\"outlinewidth\": 0, \"ticks\": \"\"}}, \"type\": \"scattergeo\"}], \"scattergl\": [{\"marker\": {\"colorbar\": {\"outlinewidth\": 0, \"ticks\": \"\"}}, \"type\": \"scattergl\"}], \"scattermapbox\": [{\"marker\": {\"colorbar\": {\"outlinewidth\": 0, \"ticks\": \"\"}}, \"type\": \"scattermapbox\"}], \"scatterpolar\": [{\"marker\": {\"colorbar\": {\"outlinewidth\": 0, \"ticks\": \"\"}}, \"type\": \"scatterpolar\"}], \"scatterpolargl\": [{\"marker\": {\"colorbar\": {\"outlinewidth\": 0, \"ticks\": \"\"}}, \"type\": \"scatterpolargl\"}], \"scatterternary\": [{\"marker\": {\"colorbar\": {\"outlinewidth\": 0, \"ticks\": \"\"}}, \"type\": \"scatterternary\"}], \"surface\": [{\"colorbar\": {\"outlinewidth\": 0, \"ticks\": \"\"}, \"colorscale\": [[0.0, \"#0d0887\"], [0.1111111111111111, \"#46039f\"], [0.2222222222222222, \"#7201a8\"], [0.3333333333333333, \"#9c179e\"], [0.4444444444444444, \"#bd3786\"], [0.5555555555555556, \"#d8576b\"], [0.6666666666666666, \"#ed7953\"], [0.7777777777777778, \"#fb9f3a\"], [0.8888888888888888, \"#fdca26\"], [1.0, \"#f0f921\"]], \"type\": \"surface\"}], \"table\": [{\"cells\": {\"fill\": {\"color\": \"#EBF0F8\"}, \"line\": {\"color\": \"white\"}}, \"header\": {\"fill\": {\"color\": \"#C8D4E3\"}, \"line\": {\"color\": \"white\"}}, \"type\": \"table\"}]}, \"layout\": {\"annotationdefaults\": {\"arrowcolor\": \"#2a3f5f\", \"arrowhead\": 0, \"arrowwidth\": 1}, \"coloraxis\": {\"colorbar\": {\"outlinewidth\": 0, \"ticks\": \"\"}}, \"colorscale\": {\"diverging\": [[0, \"#8e0152\"], [0.1, \"#c51b7d\"], [0.2, \"#de77ae\"], [0.3, \"#f1b6da\"], [0.4, \"#fde0ef\"], [0.5, \"#f7f7f7\"], [0.6, \"#e6f5d0\"], [0.7, \"#b8e186\"], [0.8, \"#7fbc41\"], [0.9, \"#4d9221\"], [1, \"#276419\"]], \"sequential\": [[0.0, \"#0d0887\"], [0.1111111111111111, \"#46039f\"], [0.2222222222222222, \"#7201a8\"], [0.3333333333333333, \"#9c179e\"], [0.4444444444444444, \"#bd3786\"], [0.5555555555555556, \"#d8576b\"], [0.6666666666666666, \"#ed7953\"], [0.7777777777777778, \"#fb9f3a\"], [0.8888888888888888, \"#fdca26\"], [1.0, \"#f0f921\"]], \"sequentialminus\": [[0.0, \"#0d0887\"], [0.1111111111111111, \"#46039f\"], [0.2222222222222222, \"#7201a8\"], [0.3333333333333333, \"#9c179e\"], [0.4444444444444444, \"#bd3786\"], [0.5555555555555556, \"#d8576b\"], [0.6666666666666666, \"#ed7953\"], [0.7777777777777778, \"#fb9f3a\"], [0.8888888888888888, \"#fdca26\"], [1.0, \"#f0f921\"]]}, \"colorway\": [\"#636efa\", \"#EF553B\", \"#00cc96\", \"#ab63fa\", \"#FFA15A\", \"#19d3f3\", \"#FF6692\", \"#B6E880\", \"#FF97FF\", \"#FECB52\"], \"font\": {\"color\": \"#2a3f5f\"}, \"geo\": {\"bgcolor\": \"white\", \"lakecolor\": \"white\", \"landcolor\": \"#E5ECF6\", \"showlakes\": true, \"showland\": true, \"subunitcolor\": \"white\"}, \"hoverlabel\": {\"align\": \"left\"}, \"hovermode\": \"closest\", \"mapbox\": {\"style\": \"light\"}, \"paper_bgcolor\": \"white\", \"plot_bgcolor\": \"#E5ECF6\", \"polar\": {\"angularaxis\": {\"gridcolor\": \"white\", \"linecolor\": \"white\", \"ticks\": \"\"}, \"bgcolor\": \"#E5ECF6\", \"radialaxis\": {\"gridcolor\": \"white\", \"linecolor\": \"white\", \"ticks\": \"\"}}, \"scene\": {\"xaxis\": {\"backgroundcolor\": \"#E5ECF6\", \"gridcolor\": \"white\", \"gridwidth\": 2, \"linecolor\": \"white\", \"showbackground\": true, \"ticks\": \"\", \"zerolinecolor\": \"white\"}, \"yaxis\": {\"backgroundcolor\": \"#E5ECF6\", \"gridcolor\": \"white\", \"gridwidth\": 2, \"linecolor\": \"white\", \"showbackground\": true, \"ticks\": \"\", \"zerolinecolor\": \"white\"}, \"zaxis\": {\"backgroundcolor\": \"#E5ECF6\", \"gridcolor\": \"white\", \"gridwidth\": 2, \"linecolor\": \"white\", \"showbackground\": true, \"ticks\": \"\", \"zerolinecolor\": \"white\"}}, \"shapedefaults\": {\"line\": {\"color\": \"#2a3f5f\"}}, \"ternary\": {\"aaxis\": {\"gridcolor\": \"white\", \"linecolor\": \"white\", \"ticks\": \"\"}, \"baxis\": {\"gridcolor\": \"white\", \"linecolor\": \"white\", \"ticks\": \"\"}, \"bgcolor\": \"#E5ECF6\", \"caxis\": {\"gridcolor\": \"white\", \"linecolor\": \"white\", \"ticks\": \"\"}}, \"title\": {\"x\": 0.05}, \"xaxis\": {\"automargin\": true, \"gridcolor\": \"white\", \"linecolor\": \"white\", \"ticks\": \"\", \"title\": {\"standoff\": 15}, \"zerolinecolor\": \"white\", \"zerolinewidth\": 2}, \"yaxis\": {\"automargin\": true, \"gridcolor\": \"white\", \"linecolor\": \"white\", \"ticks\": \"\", \"title\": {\"standoff\": 15}, \"zerolinecolor\": \"white\", \"zerolinewidth\": 2}}}, \"title\": {\"font\": {\"color\": \"#4D5663\"}}, \"xaxis\": {\"gridcolor\": \"#E1E5ED\", \"showgrid\": true, \"tickfont\": {\"color\": \"#4D5663\"}, \"title\": {\"font\": {\"color\": \"#4D5663\"}, \"text\": \"\"}, \"zerolinecolor\": \"#E1E5ED\"}, \"yaxis\": {\"gridcolor\": \"#E1E5ED\", \"showgrid\": true, \"tickfont\": {\"color\": \"#4D5663\"}, \"title\": {\"font\": {\"color\": \"#4D5663\"}, \"text\": \"\"}, \"zerolinecolor\": \"#E1E5ED\"}},\n",
       "                        {\"showLink\": true, \"linkText\": \"Export to plot.ly\", \"plotlyServerURL\": \"https://plot.ly\", \"responsive\": true}\n",
       "                    ).then(function(){\n",
       "                            \n",
       "var gd = document.getElementById('fdc7491c-f5bd-4df8-9f1d-8a0e93740fc4');\n",
       "var x = new MutationObserver(function (mutations, observer) {{\n",
       "        var display = window.getComputedStyle(gd).display;\n",
       "        if (!display || display === 'none') {{\n",
       "            console.log([gd, 'removed!']);\n",
       "            Plotly.purge(gd);\n",
       "            observer.disconnect();\n",
       "        }}\n",
       "}});\n",
       "\n",
       "// Listen for the removal of the full notebook cells\n",
       "var notebookContainer = gd.closest('#notebook-container');\n",
       "if (notebookContainer) {{\n",
       "    x.observe(notebookContainer, {childList: true});\n",
       "}}\n",
       "\n",
       "// Listen for the clearing of the current output cell\n",
       "var outputEl = gd.closest('.output');\n",
       "if (outputEl) {{\n",
       "    x.observe(outputEl, {childList: true});\n",
       "}}\n",
       "\n",
       "                        })\n",
       "                };\n",
       "                });\n",
       "            </script>\n",
       "        </div>"
      ]
     },
     "metadata": {},
     "output_type": "display_data"
    }
   ],
   "source": [
    "df.iplot(kind='bubble', x = 'A', y='B',size='C')"
   ]
  },
  {
   "cell_type": "code",
   "execution_count": 23,
   "metadata": {},
   "outputs": [
    {
     "data": {
      "application/vnd.plotly.v1+json": {
       "config": {
        "linkText": "Export to plot.ly",
        "plotlyServerURL": "https://plot.ly",
        "showLink": true
       },
       "data": [
        {
         "histfunc": "count",
         "histnorm": "",
         "marker": {
          "color": "rgba(255, 153, 51, 1.0)",
          "line": {
           "color": "#4D5663",
           "width": 1.3
          }
         },
         "name": "A",
         "nbinsx": 10,
         "opacity": 0.8,
         "orientation": "v",
         "type": "histogram",
         "x": [
          0.0894442250382196,
          -1.1636901974238956,
          -0.14222402464788517,
          2.0778243621370107,
          0.007891208853460787,
          1.5114211282301155,
          -0.5781301716748249,
          -0.6493464768341835,
          0.8804366298714607,
          -0.28659777359830724,
          -1.5497540650436465,
          0.06842940166910959,
          -0.8432149839111754,
          0.3625754416965515,
          1.7444769159705618,
          -1.7432789276671714,
          0.8127035469807969,
          0.03540155607319169,
          1.3149034064472398,
          -0.8091799746687368,
          0.5944092099911594,
          0.03851348232570403,
          0.5753884431301269,
          -0.14955590357202014,
          0.006847168151190288,
          -0.4779403451771194,
          -0.5121962485105361,
          0.39522619677635673,
          -0.7774209665066977,
          0.2010098882993933,
          -0.413765603541961,
          -1.837127240885446,
          -0.7430045491018606,
          0.3817020317037981,
          -2.2971459526257667,
          -0.930848336285178,
          -0.059242497738331006,
          -0.7226483965722095,
          0.9331620841320196,
          -0.007067825779079438,
          -0.24593939584039556,
          -0.23069547894684309,
          1.0131302346093156,
          2.16057042620193,
          0.12158079292653799,
          1.9895997640116458,
          0.8383931024137476,
          -0.008374359246434421,
          1.4147381393816199,
          -0.7975371494374897,
          1.6005923733589194,
          0.8461877996382429,
          0.6049372106916631,
          0.6167289385603898,
          -0.9841922062555499,
          -0.7090223222393144,
          -0.20062344927579204,
          -0.21840508922074062,
          0.46574555484211694,
          0.901984420014373,
          0.2751723113873585,
          -0.7373810854520237,
          1.2959580631458174,
          1.3275372519280928,
          -0.14695123385579606,
          -0.9368085763045358,
          0.4789197351621965,
          0.6776401387760087,
          0.5397652861837627,
          0.13821965496865166,
          -0.6589820202089064,
          -0.17053658113319353,
          -1.1714716606227185,
          -0.6338918773750294,
          1.4530407842838158,
          -0.3677987470750953,
          -0.578155120774312,
          2.1707062080560133,
          -0.035509206884830384,
          -0.8735811264138856,
          0.3147312144581037,
          0.4965454858722151,
          1.8680870347309269,
          0.6875958421101073,
          -1.2340194983831576,
          -1.0017507758501363,
          -0.24547889804649828,
          -1.5561944000977719,
          -1.2255841958311244,
          -1.8797420996939276,
          -1.1416902067245454,
          -0.8550160927407154,
          -0.48042608219442223,
          -0.27799480490922684,
          1.3749139157097308,
          0.27300356286191324,
          -0.8159390980627154,
          -0.01673684419022112,
          -1.126958887272344,
          0.1649610079367353
         ],
         "xaxis": "x",
         "yaxis": "y"
        },
        {
         "line": {
          "color": "rgba(128, 128, 128, 1.0)",
          "dash": "solid",
          "shape": "linear",
          "width": 1.3
         },
         "marker": {
          "size": 2,
          "symbol": "circle"
         },
         "mode": "markers",
         "name": "A",
         "text": "",
         "type": "scatter",
         "x": [
          -1.3655200158258656,
          1.8038949899218248,
          0.10843718531566045,
          1.4355657023969033,
          -0.022422383228524325,
          -0.11741546053121543,
          0.6385468531906983,
          -0.08348409080065669,
          -0.650770612339167,
          0.3565848106287523,
          1.594711505005319,
          -1.014433488127197,
          0.6890127651066934,
          0.3977818554815641,
          -1.341690125875958,
          -0.6988102568559302,
          -0.36712508794464865,
          -1.0522588585848436,
          1.3882909633804152,
          -1.6094941778442455,
          -0.33120523917734057,
          -1.6903848972611626,
          0.2843131685488693,
          2.0035637132125133,
          -0.19697092284664577,
          -0.1514736478519328,
          -1.3298873967560545,
          0.8235919879503149,
          -0.8030815481501907,
          -1.7409748037034218,
          1.209499887557365,
          2.1416193669136336,
          1.4512468981049529,
          -0.5240122074515902,
          -0.37520021469507336,
          1.4354493635068033,
          1.0685554307252807,
          -0.8168828279085346,
          -1.5838185817713528,
          -0.4387628603968676,
          0.03990606955832411,
          2.6493819629058453,
          -1.1626131670879876,
          0.01333459287637117,
          -0.7313883942559631,
          0.8343779478478394,
          0.8029890061540522,
          -1.412959274261139,
          1.073032685859393,
          0.2267015121459549,
          1.143345332830039,
          2.496603362120481,
          0.9793209297274629,
          0.8583954260892992,
          -1.2895959623160749,
          0.2489351926348663,
          1.4711880643513884,
          0.9657769617053209,
          1.583826612796633,
          -0.4454618003166316,
          0.7445328747000158,
          1.0616834457354132,
          -1.3195277669201264,
          0.5047985700119586,
          -1.8297770264924418,
          -0.5786800269282291,
          1.9202916269657508,
          -1.0730822622527767,
          0.150800146046857,
          -1.2739672247693878,
          -0.8728613885960235,
          0.8914441421994455,
          1.5761950339719883,
          -1.3717201448056051,
          1.3337188675745775,
          -0.022728635798502476,
          2.1905772534661017,
          0.6312529720703588,
          -1.0380398690782615,
          1.6329567828998433,
          0.20035279599071623,
          -0.7784045068351377,
          1.2532029356440353,
          -0.7709214851815889,
          -0.15009567530999388,
          -0.16439602171750148,
          0.15408902677376046,
          -0.30995291488325527,
          -0.11498077746145126,
          0.4083918780301276,
          -0.36918189473767477,
          1.415344496215347,
          -0.21976358236558427,
          2.6148405210002705,
          -1.5097530168154465,
          0.44936574046642674,
          0.07000168611707176,
          0.08650081185933392,
          0.9203281370471121,
          1.5903200193556177
         ],
         "xaxis": "x2",
         "y": [
          0.0894442250382196,
          -1.1636901974238956,
          -0.14222402464788517,
          2.0778243621370107,
          0.007891208853460787,
          1.5114211282301155,
          -0.5781301716748249,
          -0.6493464768341835,
          0.8804366298714607,
          -0.28659777359830724,
          -1.5497540650436465,
          0.06842940166910959,
          -0.8432149839111754,
          0.3625754416965515,
          1.7444769159705618,
          -1.7432789276671714,
          0.8127035469807969,
          0.03540155607319169,
          1.3149034064472398,
          -0.8091799746687368,
          0.5944092099911594,
          0.03851348232570403,
          0.5753884431301269,
          -0.14955590357202014,
          0.006847168151190288,
          -0.4779403451771194,
          -0.5121962485105361,
          0.39522619677635673,
          -0.7774209665066977,
          0.2010098882993933,
          -0.413765603541961,
          -1.837127240885446,
          -0.7430045491018606,
          0.3817020317037981,
          -2.2971459526257667,
          -0.930848336285178,
          -0.059242497738331006,
          -0.7226483965722095,
          0.9331620841320196,
          -0.007067825779079438,
          -0.24593939584039556,
          -0.23069547894684309,
          1.0131302346093156,
          2.16057042620193,
          0.12158079292653799,
          1.9895997640116458,
          0.8383931024137476,
          -0.008374359246434421,
          1.4147381393816199,
          -0.7975371494374897,
          1.6005923733589194,
          0.8461877996382429,
          0.6049372106916631,
          0.6167289385603898,
          -0.9841922062555499,
          -0.7090223222393144,
          -0.20062344927579204,
          -0.21840508922074062,
          0.46574555484211694,
          0.901984420014373,
          0.2751723113873585,
          -0.7373810854520237,
          1.2959580631458174,
          1.3275372519280928,
          -0.14695123385579606,
          -0.9368085763045358,
          0.4789197351621965,
          0.6776401387760087,
          0.5397652861837627,
          0.13821965496865166,
          -0.6589820202089064,
          -0.17053658113319353,
          -1.1714716606227185,
          -0.6338918773750294,
          1.4530407842838158,
          -0.3677987470750953,
          -0.578155120774312,
          2.1707062080560133,
          -0.035509206884830384,
          -0.8735811264138856,
          0.3147312144581037,
          0.4965454858722151,
          1.8680870347309269,
          0.6875958421101073,
          -1.2340194983831576,
          -1.0017507758501363,
          -0.24547889804649828,
          -1.5561944000977719,
          -1.2255841958311244,
          -1.8797420996939276,
          -1.1416902067245454,
          -0.8550160927407154,
          -0.48042608219442223,
          -0.27799480490922684,
          1.3749139157097308,
          0.27300356286191324,
          -0.8159390980627154,
          -0.01673684419022112,
          -1.126958887272344,
          0.1649610079367353
         ],
         "yaxis": "y2"
        },
        {
         "line": {
          "color": "rgba(128, 128, 128, 1.0)",
          "dash": "solid",
          "shape": "linear",
          "width": 1.3
         },
         "marker": {
          "size": 2,
          "symbol": "circle"
         },
         "mode": "markers",
         "name": "A",
         "text": "",
         "type": "scatter",
         "x": [
          -1.0443923988550883,
          0.5759995529236465,
          0.9054989998491968,
          0.6203644361671303,
          -0.06924857428643545,
          0.02450828462246479,
          0.829083324418259,
          -0.8179730543177922,
          1.287131551246612,
          2.35528249916397,
          0.6248232285928756,
          -0.9797254984790027,
          0.9098143402760405,
          0.3346415659201809,
          0.09350815869751432,
          -0.09885958176882112,
          0.09915361248980409,
          -0.5970247720274051,
          -1.6496275868366244,
          -1.9395735343061775,
          -0.9973024489511103,
          -0.16547273659582543,
          0.3945415979397608,
          -0.0416585702958144,
          -0.5265133052913373,
          -0.25915431437378605,
          -0.45914539801171333,
          0.3635293135932887,
          -1.9291580431323683,
          -0.6169138440693483,
          -0.7881260295130461,
          -0.7646199713213452,
          2.222560477265973,
          -0.736085636806195,
          0.19511887226317776,
          0.3930289680255666,
          1.164892302752009,
          0.7289276728446223,
          -0.10737424906375048,
          0.34697764144859505,
          1.4308048085034748,
          -0.10532418477598272,
          -0.3922722938914601,
          -0.2863748856102306,
          1.1679381125666788,
          -1.081180250408216,
          -0.5678364865562925,
          0.564016520048274,
          0.4952489232462605,
          -1.4171433403855391,
          -0.3039000655850409,
          -0.674666037911358,
          -1.6238999536508272,
          -0.6199556263538619,
          -0.15410436516655085,
          -0.3816543899426865,
          0.3095246620251357,
          0.18213390126551693,
          4.492097801899369e-05,
          0.954889837001447,
          -2.0180651247606236,
          0.5011430832113065,
          0.7019375990548377,
          -0.35420764781397024,
          0.02623113210256715,
          1.1800455384696376,
          -1.319921582094915,
          -0.6470961059887294,
          1.816145096173063,
          1.112974648388055,
          0.0701925987129905,
          0.21086210054882606,
          0.5295678049372673,
          -0.008261532654117363,
          -0.06907710975239476,
          0.9666428400665696,
          0.8687300425468045,
          -1.1217964199023274,
          -1.5739327047228504,
          0.6308878903193936,
          0.6317464761335823,
          0.14958164561674128,
          0.04132433833840389,
          -0.022922727963336456,
          -0.9517559263680294,
          1.4015792917121408,
          0.6038466356348323,
          0.26694932448701914,
          -0.1577614823606639,
          0.6886607585304464,
          -1.7766292844292435,
          -0.709652134541324,
          0.5700151717259795,
          1.236679805364241,
          1.0084774597557262,
          -0.18967335841858876,
          -0.17454619447005082,
          0.06888575607696995,
          -1.9019657294659444,
          -1.6073233387377233
         ],
         "xaxis": "x3",
         "y": [
          0.0894442250382196,
          -1.1636901974238956,
          -0.14222402464788517,
          2.0778243621370107,
          0.007891208853460787,
          1.5114211282301155,
          -0.5781301716748249,
          -0.6493464768341835,
          0.8804366298714607,
          -0.28659777359830724,
          -1.5497540650436465,
          0.06842940166910959,
          -0.8432149839111754,
          0.3625754416965515,
          1.7444769159705618,
          -1.7432789276671714,
          0.8127035469807969,
          0.03540155607319169,
          1.3149034064472398,
          -0.8091799746687368,
          0.5944092099911594,
          0.03851348232570403,
          0.5753884431301269,
          -0.14955590357202014,
          0.006847168151190288,
          -0.4779403451771194,
          -0.5121962485105361,
          0.39522619677635673,
          -0.7774209665066977,
          0.2010098882993933,
          -0.413765603541961,
          -1.837127240885446,
          -0.7430045491018606,
          0.3817020317037981,
          -2.2971459526257667,
          -0.930848336285178,
          -0.059242497738331006,
          -0.7226483965722095,
          0.9331620841320196,
          -0.007067825779079438,
          -0.24593939584039556,
          -0.23069547894684309,
          1.0131302346093156,
          2.16057042620193,
          0.12158079292653799,
          1.9895997640116458,
          0.8383931024137476,
          -0.008374359246434421,
          1.4147381393816199,
          -0.7975371494374897,
          1.6005923733589194,
          0.8461877996382429,
          0.6049372106916631,
          0.6167289385603898,
          -0.9841922062555499,
          -0.7090223222393144,
          -0.20062344927579204,
          -0.21840508922074062,
          0.46574555484211694,
          0.901984420014373,
          0.2751723113873585,
          -0.7373810854520237,
          1.2959580631458174,
          1.3275372519280928,
          -0.14695123385579606,
          -0.9368085763045358,
          0.4789197351621965,
          0.6776401387760087,
          0.5397652861837627,
          0.13821965496865166,
          -0.6589820202089064,
          -0.17053658113319353,
          -1.1714716606227185,
          -0.6338918773750294,
          1.4530407842838158,
          -0.3677987470750953,
          -0.578155120774312,
          2.1707062080560133,
          -0.035509206884830384,
          -0.8735811264138856,
          0.3147312144581037,
          0.4965454858722151,
          1.8680870347309269,
          0.6875958421101073,
          -1.2340194983831576,
          -1.0017507758501363,
          -0.24547889804649828,
          -1.5561944000977719,
          -1.2255841958311244,
          -1.8797420996939276,
          -1.1416902067245454,
          -0.8550160927407154,
          -0.48042608219442223,
          -0.27799480490922684,
          1.3749139157097308,
          0.27300356286191324,
          -0.8159390980627154,
          -0.01673684419022112,
          -1.126958887272344,
          0.1649610079367353
         ],
         "yaxis": "y3"
        },
        {
         "line": {
          "color": "rgba(128, 128, 128, 1.0)",
          "dash": "solid",
          "shape": "linear",
          "width": 1.3
         },
         "marker": {
          "size": 2,
          "symbol": "circle"
         },
         "mode": "markers",
         "name": "A",
         "text": "",
         "type": "scatter",
         "x": [
          0.49121024915659534,
          -0.6054208280330104,
          0.4286133751507561,
          0.5749791299996299,
          -1.4651647654724183,
          1.5091235424591303,
          -1.9028446965144412,
          0.8556574037290288,
          1.0184410347708033,
          0.16975296591159805,
          -1.0819803297839774,
          2.2897431306900065,
          1.5275189159802138,
          0.548235816602612,
          0.5189169567447889,
          0.225315009495835,
          0.5325987480959407,
          0.664647475231488,
          1.4104501919810468,
          -1.0471501792872175,
          0.7748136152235511,
          0.3867417476639088,
          -0.28077710498348185,
          -1.6231256705971266,
          -0.285245216581967,
          0.3981051276950406,
          -1.0612838474336348,
          0.4022015086996178,
          -0.8322587093790262,
          0.6651191410496203,
          1.2579646460569598,
          0.01684876411202814,
          0.45152140974726257,
          -2.136011881929804,
          -0.07110882406206066,
          -0.8350381719926955,
          -0.7096150691234179,
          0.0833020807038666,
          -1.2810627177009017,
          -0.5627280130124556,
          0.3423593122646959,
          -0.38033636926180336,
          -2.4683585500783534,
          1.4915813469249055,
          0.23922250306859477,
          1.0417385489456086,
          0.6521999486033947,
          1.4655723982644033,
          -1.8355261359209765,
          0.013260204635078612,
          -0.9888656867572325,
          0.8225639406761003,
          -2.6833171397996676,
          -0.6609511765107219,
          -0.745568929564417,
          1.746436407878108,
          -0.4053585682370533,
          -0.28814461539863484,
          0.7502246863560132,
          1.2099094927051703,
          0.7767443473779333,
          -0.9653578660164819,
          1.1780862842340172,
          -0.4905071894476108,
          1.5358221313058311,
          -0.7151415875177684,
          -0.1735930908244306,
          -0.09704506911224087,
          0.8231424686940455,
          1.199028806085445,
          -1.188384939751405,
          -0.40143860096391515,
          -0.12640927825109832,
          0.8614192962420617,
          -1.2342541720865574,
          0.21648117015489163,
          1.6235951677327358,
          0.4467158869038937,
          0.1563263832875724,
          0.11919124064187522,
          -1.5373422092171551,
          -1.5125276057454,
          -1.328436814796126,
          -0.6673350516205485,
          0.9296382051593038,
          -0.706515671269773,
          -0.3177655840393208,
          0.3073804944759816,
          -0.9851963314047077,
          1.6905939706242712,
          0.1281989805328292,
          0.31804404398677755,
          1.2562240009626575,
          -0.08291136730888701,
          0.17879678765892845,
          -2.7675719398666687,
          0.8889994754497441,
          2.325165108614538,
          2.368083968830104,
          0.8826354593944352
         ],
         "xaxis": "x4",
         "y": [
          0.0894442250382196,
          -1.1636901974238956,
          -0.14222402464788517,
          2.0778243621370107,
          0.007891208853460787,
          1.5114211282301155,
          -0.5781301716748249,
          -0.6493464768341835,
          0.8804366298714607,
          -0.28659777359830724,
          -1.5497540650436465,
          0.06842940166910959,
          -0.8432149839111754,
          0.3625754416965515,
          1.7444769159705618,
          -1.7432789276671714,
          0.8127035469807969,
          0.03540155607319169,
          1.3149034064472398,
          -0.8091799746687368,
          0.5944092099911594,
          0.03851348232570403,
          0.5753884431301269,
          -0.14955590357202014,
          0.006847168151190288,
          -0.4779403451771194,
          -0.5121962485105361,
          0.39522619677635673,
          -0.7774209665066977,
          0.2010098882993933,
          -0.413765603541961,
          -1.837127240885446,
          -0.7430045491018606,
          0.3817020317037981,
          -2.2971459526257667,
          -0.930848336285178,
          -0.059242497738331006,
          -0.7226483965722095,
          0.9331620841320196,
          -0.007067825779079438,
          -0.24593939584039556,
          -0.23069547894684309,
          1.0131302346093156,
          2.16057042620193,
          0.12158079292653799,
          1.9895997640116458,
          0.8383931024137476,
          -0.008374359246434421,
          1.4147381393816199,
          -0.7975371494374897,
          1.6005923733589194,
          0.8461877996382429,
          0.6049372106916631,
          0.6167289385603898,
          -0.9841922062555499,
          -0.7090223222393144,
          -0.20062344927579204,
          -0.21840508922074062,
          0.46574555484211694,
          0.901984420014373,
          0.2751723113873585,
          -0.7373810854520237,
          1.2959580631458174,
          1.3275372519280928,
          -0.14695123385579606,
          -0.9368085763045358,
          0.4789197351621965,
          0.6776401387760087,
          0.5397652861837627,
          0.13821965496865166,
          -0.6589820202089064,
          -0.17053658113319353,
          -1.1714716606227185,
          -0.6338918773750294,
          1.4530407842838158,
          -0.3677987470750953,
          -0.578155120774312,
          2.1707062080560133,
          -0.035509206884830384,
          -0.8735811264138856,
          0.3147312144581037,
          0.4965454858722151,
          1.8680870347309269,
          0.6875958421101073,
          -1.2340194983831576,
          -1.0017507758501363,
          -0.24547889804649828,
          -1.5561944000977719,
          -1.2255841958311244,
          -1.8797420996939276,
          -1.1416902067245454,
          -0.8550160927407154,
          -0.48042608219442223,
          -0.27799480490922684,
          1.3749139157097308,
          0.27300356286191324,
          -0.8159390980627154,
          -0.01673684419022112,
          -1.126958887272344,
          0.1649610079367353
         ],
         "yaxis": "y4"
        },
        {
         "line": {
          "color": "rgba(128, 128, 128, 1.0)",
          "dash": "solid",
          "shape": "linear",
          "width": 1.3
         },
         "marker": {
          "size": 2,
          "symbol": "circle"
         },
         "mode": "markers",
         "name": "B",
         "text": "",
         "type": "scatter",
         "x": [
          0.0894442250382196,
          -1.1636901974238956,
          -0.14222402464788517,
          2.0778243621370107,
          0.007891208853460787,
          1.5114211282301155,
          -0.5781301716748249,
          -0.6493464768341835,
          0.8804366298714607,
          -0.28659777359830724,
          -1.5497540650436465,
          0.06842940166910959,
          -0.8432149839111754,
          0.3625754416965515,
          1.7444769159705618,
          -1.7432789276671714,
          0.8127035469807969,
          0.03540155607319169,
          1.3149034064472398,
          -0.8091799746687368,
          0.5944092099911594,
          0.03851348232570403,
          0.5753884431301269,
          -0.14955590357202014,
          0.006847168151190288,
          -0.4779403451771194,
          -0.5121962485105361,
          0.39522619677635673,
          -0.7774209665066977,
          0.2010098882993933,
          -0.413765603541961,
          -1.837127240885446,
          -0.7430045491018606,
          0.3817020317037981,
          -2.2971459526257667,
          -0.930848336285178,
          -0.059242497738331006,
          -0.7226483965722095,
          0.9331620841320196,
          -0.007067825779079438,
          -0.24593939584039556,
          -0.23069547894684309,
          1.0131302346093156,
          2.16057042620193,
          0.12158079292653799,
          1.9895997640116458,
          0.8383931024137476,
          -0.008374359246434421,
          1.4147381393816199,
          -0.7975371494374897,
          1.6005923733589194,
          0.8461877996382429,
          0.6049372106916631,
          0.6167289385603898,
          -0.9841922062555499,
          -0.7090223222393144,
          -0.20062344927579204,
          -0.21840508922074062,
          0.46574555484211694,
          0.901984420014373,
          0.2751723113873585,
          -0.7373810854520237,
          1.2959580631458174,
          1.3275372519280928,
          -0.14695123385579606,
          -0.9368085763045358,
          0.4789197351621965,
          0.6776401387760087,
          0.5397652861837627,
          0.13821965496865166,
          -0.6589820202089064,
          -0.17053658113319353,
          -1.1714716606227185,
          -0.6338918773750294,
          1.4530407842838158,
          -0.3677987470750953,
          -0.578155120774312,
          2.1707062080560133,
          -0.035509206884830384,
          -0.8735811264138856,
          0.3147312144581037,
          0.4965454858722151,
          1.8680870347309269,
          0.6875958421101073,
          -1.2340194983831576,
          -1.0017507758501363,
          -0.24547889804649828,
          -1.5561944000977719,
          -1.2255841958311244,
          -1.8797420996939276,
          -1.1416902067245454,
          -0.8550160927407154,
          -0.48042608219442223,
          -0.27799480490922684,
          1.3749139157097308,
          0.27300356286191324,
          -0.8159390980627154,
          -0.01673684419022112,
          -1.126958887272344,
          0.1649610079367353
         ],
         "xaxis": "x5",
         "y": [
          -1.3655200158258656,
          1.8038949899218248,
          0.10843718531566045,
          1.4355657023969033,
          -0.022422383228524325,
          -0.11741546053121543,
          0.6385468531906983,
          -0.08348409080065669,
          -0.650770612339167,
          0.3565848106287523,
          1.594711505005319,
          -1.014433488127197,
          0.6890127651066934,
          0.3977818554815641,
          -1.341690125875958,
          -0.6988102568559302,
          -0.36712508794464865,
          -1.0522588585848436,
          1.3882909633804152,
          -1.6094941778442455,
          -0.33120523917734057,
          -1.6903848972611626,
          0.2843131685488693,
          2.0035637132125133,
          -0.19697092284664577,
          -0.1514736478519328,
          -1.3298873967560545,
          0.8235919879503149,
          -0.8030815481501907,
          -1.7409748037034218,
          1.209499887557365,
          2.1416193669136336,
          1.4512468981049529,
          -0.5240122074515902,
          -0.37520021469507336,
          1.4354493635068033,
          1.0685554307252807,
          -0.8168828279085346,
          -1.5838185817713528,
          -0.4387628603968676,
          0.03990606955832411,
          2.6493819629058453,
          -1.1626131670879876,
          0.01333459287637117,
          -0.7313883942559631,
          0.8343779478478394,
          0.8029890061540522,
          -1.412959274261139,
          1.073032685859393,
          0.2267015121459549,
          1.143345332830039,
          2.496603362120481,
          0.9793209297274629,
          0.8583954260892992,
          -1.2895959623160749,
          0.2489351926348663,
          1.4711880643513884,
          0.9657769617053209,
          1.583826612796633,
          -0.4454618003166316,
          0.7445328747000158,
          1.0616834457354132,
          -1.3195277669201264,
          0.5047985700119586,
          -1.8297770264924418,
          -0.5786800269282291,
          1.9202916269657508,
          -1.0730822622527767,
          0.150800146046857,
          -1.2739672247693878,
          -0.8728613885960235,
          0.8914441421994455,
          1.5761950339719883,
          -1.3717201448056051,
          1.3337188675745775,
          -0.022728635798502476,
          2.1905772534661017,
          0.6312529720703588,
          -1.0380398690782615,
          1.6329567828998433,
          0.20035279599071623,
          -0.7784045068351377,
          1.2532029356440353,
          -0.7709214851815889,
          -0.15009567530999388,
          -0.16439602171750148,
          0.15408902677376046,
          -0.30995291488325527,
          -0.11498077746145126,
          0.4083918780301276,
          -0.36918189473767477,
          1.415344496215347,
          -0.21976358236558427,
          2.6148405210002705,
          -1.5097530168154465,
          0.44936574046642674,
          0.07000168611707176,
          0.08650081185933392,
          0.9203281370471121,
          1.5903200193556177
         ],
         "yaxis": "y5"
        },
        {
         "histfunc": "count",
         "histnorm": "",
         "marker": {
          "color": "rgba(55, 128, 191, 1.0)",
          "line": {
           "color": "#4D5663",
           "width": 1.3
          }
         },
         "name": "B",
         "nbinsx": 10,
         "opacity": 0.8,
         "orientation": "v",
         "type": "histogram",
         "x": [
          -1.3655200158258656,
          1.8038949899218248,
          0.10843718531566045,
          1.4355657023969033,
          -0.022422383228524325,
          -0.11741546053121543,
          0.6385468531906983,
          -0.08348409080065669,
          -0.650770612339167,
          0.3565848106287523,
          1.594711505005319,
          -1.014433488127197,
          0.6890127651066934,
          0.3977818554815641,
          -1.341690125875958,
          -0.6988102568559302,
          -0.36712508794464865,
          -1.0522588585848436,
          1.3882909633804152,
          -1.6094941778442455,
          -0.33120523917734057,
          -1.6903848972611626,
          0.2843131685488693,
          2.0035637132125133,
          -0.19697092284664577,
          -0.1514736478519328,
          -1.3298873967560545,
          0.8235919879503149,
          -0.8030815481501907,
          -1.7409748037034218,
          1.209499887557365,
          2.1416193669136336,
          1.4512468981049529,
          -0.5240122074515902,
          -0.37520021469507336,
          1.4354493635068033,
          1.0685554307252807,
          -0.8168828279085346,
          -1.5838185817713528,
          -0.4387628603968676,
          0.03990606955832411,
          2.6493819629058453,
          -1.1626131670879876,
          0.01333459287637117,
          -0.7313883942559631,
          0.8343779478478394,
          0.8029890061540522,
          -1.412959274261139,
          1.073032685859393,
          0.2267015121459549,
          1.143345332830039,
          2.496603362120481,
          0.9793209297274629,
          0.8583954260892992,
          -1.2895959623160749,
          0.2489351926348663,
          1.4711880643513884,
          0.9657769617053209,
          1.583826612796633,
          -0.4454618003166316,
          0.7445328747000158,
          1.0616834457354132,
          -1.3195277669201264,
          0.5047985700119586,
          -1.8297770264924418,
          -0.5786800269282291,
          1.9202916269657508,
          -1.0730822622527767,
          0.150800146046857,
          -1.2739672247693878,
          -0.8728613885960235,
          0.8914441421994455,
          1.5761950339719883,
          -1.3717201448056051,
          1.3337188675745775,
          -0.022728635798502476,
          2.1905772534661017,
          0.6312529720703588,
          -1.0380398690782615,
          1.6329567828998433,
          0.20035279599071623,
          -0.7784045068351377,
          1.2532029356440353,
          -0.7709214851815889,
          -0.15009567530999388,
          -0.16439602171750148,
          0.15408902677376046,
          -0.30995291488325527,
          -0.11498077746145126,
          0.4083918780301276,
          -0.36918189473767477,
          1.415344496215347,
          -0.21976358236558427,
          2.6148405210002705,
          -1.5097530168154465,
          0.44936574046642674,
          0.07000168611707176,
          0.08650081185933392,
          0.9203281370471121,
          1.5903200193556177
         ],
         "xaxis": "x6",
         "yaxis": "y6"
        },
        {
         "line": {
          "color": "rgba(128, 128, 128, 1.0)",
          "dash": "solid",
          "shape": "linear",
          "width": 1.3
         },
         "marker": {
          "size": 2,
          "symbol": "circle"
         },
         "mode": "markers",
         "name": "B",
         "text": "",
         "type": "scatter",
         "x": [
          -1.0443923988550883,
          0.5759995529236465,
          0.9054989998491968,
          0.6203644361671303,
          -0.06924857428643545,
          0.02450828462246479,
          0.829083324418259,
          -0.8179730543177922,
          1.287131551246612,
          2.35528249916397,
          0.6248232285928756,
          -0.9797254984790027,
          0.9098143402760405,
          0.3346415659201809,
          0.09350815869751432,
          -0.09885958176882112,
          0.09915361248980409,
          -0.5970247720274051,
          -1.6496275868366244,
          -1.9395735343061775,
          -0.9973024489511103,
          -0.16547273659582543,
          0.3945415979397608,
          -0.0416585702958144,
          -0.5265133052913373,
          -0.25915431437378605,
          -0.45914539801171333,
          0.3635293135932887,
          -1.9291580431323683,
          -0.6169138440693483,
          -0.7881260295130461,
          -0.7646199713213452,
          2.222560477265973,
          -0.736085636806195,
          0.19511887226317776,
          0.3930289680255666,
          1.164892302752009,
          0.7289276728446223,
          -0.10737424906375048,
          0.34697764144859505,
          1.4308048085034748,
          -0.10532418477598272,
          -0.3922722938914601,
          -0.2863748856102306,
          1.1679381125666788,
          -1.081180250408216,
          -0.5678364865562925,
          0.564016520048274,
          0.4952489232462605,
          -1.4171433403855391,
          -0.3039000655850409,
          -0.674666037911358,
          -1.6238999536508272,
          -0.6199556263538619,
          -0.15410436516655085,
          -0.3816543899426865,
          0.3095246620251357,
          0.18213390126551693,
          4.492097801899369e-05,
          0.954889837001447,
          -2.0180651247606236,
          0.5011430832113065,
          0.7019375990548377,
          -0.35420764781397024,
          0.02623113210256715,
          1.1800455384696376,
          -1.319921582094915,
          -0.6470961059887294,
          1.816145096173063,
          1.112974648388055,
          0.0701925987129905,
          0.21086210054882606,
          0.5295678049372673,
          -0.008261532654117363,
          -0.06907710975239476,
          0.9666428400665696,
          0.8687300425468045,
          -1.1217964199023274,
          -1.5739327047228504,
          0.6308878903193936,
          0.6317464761335823,
          0.14958164561674128,
          0.04132433833840389,
          -0.022922727963336456,
          -0.9517559263680294,
          1.4015792917121408,
          0.6038466356348323,
          0.26694932448701914,
          -0.1577614823606639,
          0.6886607585304464,
          -1.7766292844292435,
          -0.709652134541324,
          0.5700151717259795,
          1.236679805364241,
          1.0084774597557262,
          -0.18967335841858876,
          -0.17454619447005082,
          0.06888575607696995,
          -1.9019657294659444,
          -1.6073233387377233
         ],
         "xaxis": "x7",
         "y": [
          -1.3655200158258656,
          1.8038949899218248,
          0.10843718531566045,
          1.4355657023969033,
          -0.022422383228524325,
          -0.11741546053121543,
          0.6385468531906983,
          -0.08348409080065669,
          -0.650770612339167,
          0.3565848106287523,
          1.594711505005319,
          -1.014433488127197,
          0.6890127651066934,
          0.3977818554815641,
          -1.341690125875958,
          -0.6988102568559302,
          -0.36712508794464865,
          -1.0522588585848436,
          1.3882909633804152,
          -1.6094941778442455,
          -0.33120523917734057,
          -1.6903848972611626,
          0.2843131685488693,
          2.0035637132125133,
          -0.19697092284664577,
          -0.1514736478519328,
          -1.3298873967560545,
          0.8235919879503149,
          -0.8030815481501907,
          -1.7409748037034218,
          1.209499887557365,
          2.1416193669136336,
          1.4512468981049529,
          -0.5240122074515902,
          -0.37520021469507336,
          1.4354493635068033,
          1.0685554307252807,
          -0.8168828279085346,
          -1.5838185817713528,
          -0.4387628603968676,
          0.03990606955832411,
          2.6493819629058453,
          -1.1626131670879876,
          0.01333459287637117,
          -0.7313883942559631,
          0.8343779478478394,
          0.8029890061540522,
          -1.412959274261139,
          1.073032685859393,
          0.2267015121459549,
          1.143345332830039,
          2.496603362120481,
          0.9793209297274629,
          0.8583954260892992,
          -1.2895959623160749,
          0.2489351926348663,
          1.4711880643513884,
          0.9657769617053209,
          1.583826612796633,
          -0.4454618003166316,
          0.7445328747000158,
          1.0616834457354132,
          -1.3195277669201264,
          0.5047985700119586,
          -1.8297770264924418,
          -0.5786800269282291,
          1.9202916269657508,
          -1.0730822622527767,
          0.150800146046857,
          -1.2739672247693878,
          -0.8728613885960235,
          0.8914441421994455,
          1.5761950339719883,
          -1.3717201448056051,
          1.3337188675745775,
          -0.022728635798502476,
          2.1905772534661017,
          0.6312529720703588,
          -1.0380398690782615,
          1.6329567828998433,
          0.20035279599071623,
          -0.7784045068351377,
          1.2532029356440353,
          -0.7709214851815889,
          -0.15009567530999388,
          -0.16439602171750148,
          0.15408902677376046,
          -0.30995291488325527,
          -0.11498077746145126,
          0.4083918780301276,
          -0.36918189473767477,
          1.415344496215347,
          -0.21976358236558427,
          2.6148405210002705,
          -1.5097530168154465,
          0.44936574046642674,
          0.07000168611707176,
          0.08650081185933392,
          0.9203281370471121,
          1.5903200193556177
         ],
         "yaxis": "y7"
        },
        {
         "line": {
          "color": "rgba(128, 128, 128, 1.0)",
          "dash": "solid",
          "shape": "linear",
          "width": 1.3
         },
         "marker": {
          "size": 2,
          "symbol": "circle"
         },
         "mode": "markers",
         "name": "B",
         "text": "",
         "type": "scatter",
         "x": [
          0.49121024915659534,
          -0.6054208280330104,
          0.4286133751507561,
          0.5749791299996299,
          -1.4651647654724183,
          1.5091235424591303,
          -1.9028446965144412,
          0.8556574037290288,
          1.0184410347708033,
          0.16975296591159805,
          -1.0819803297839774,
          2.2897431306900065,
          1.5275189159802138,
          0.548235816602612,
          0.5189169567447889,
          0.225315009495835,
          0.5325987480959407,
          0.664647475231488,
          1.4104501919810468,
          -1.0471501792872175,
          0.7748136152235511,
          0.3867417476639088,
          -0.28077710498348185,
          -1.6231256705971266,
          -0.285245216581967,
          0.3981051276950406,
          -1.0612838474336348,
          0.4022015086996178,
          -0.8322587093790262,
          0.6651191410496203,
          1.2579646460569598,
          0.01684876411202814,
          0.45152140974726257,
          -2.136011881929804,
          -0.07110882406206066,
          -0.8350381719926955,
          -0.7096150691234179,
          0.0833020807038666,
          -1.2810627177009017,
          -0.5627280130124556,
          0.3423593122646959,
          -0.38033636926180336,
          -2.4683585500783534,
          1.4915813469249055,
          0.23922250306859477,
          1.0417385489456086,
          0.6521999486033947,
          1.4655723982644033,
          -1.8355261359209765,
          0.013260204635078612,
          -0.9888656867572325,
          0.8225639406761003,
          -2.6833171397996676,
          -0.6609511765107219,
          -0.745568929564417,
          1.746436407878108,
          -0.4053585682370533,
          -0.28814461539863484,
          0.7502246863560132,
          1.2099094927051703,
          0.7767443473779333,
          -0.9653578660164819,
          1.1780862842340172,
          -0.4905071894476108,
          1.5358221313058311,
          -0.7151415875177684,
          -0.1735930908244306,
          -0.09704506911224087,
          0.8231424686940455,
          1.199028806085445,
          -1.188384939751405,
          -0.40143860096391515,
          -0.12640927825109832,
          0.8614192962420617,
          -1.2342541720865574,
          0.21648117015489163,
          1.6235951677327358,
          0.4467158869038937,
          0.1563263832875724,
          0.11919124064187522,
          -1.5373422092171551,
          -1.5125276057454,
          -1.328436814796126,
          -0.6673350516205485,
          0.9296382051593038,
          -0.706515671269773,
          -0.3177655840393208,
          0.3073804944759816,
          -0.9851963314047077,
          1.6905939706242712,
          0.1281989805328292,
          0.31804404398677755,
          1.2562240009626575,
          -0.08291136730888701,
          0.17879678765892845,
          -2.7675719398666687,
          0.8889994754497441,
          2.325165108614538,
          2.368083968830104,
          0.8826354593944352
         ],
         "xaxis": "x8",
         "y": [
          -1.3655200158258656,
          1.8038949899218248,
          0.10843718531566045,
          1.4355657023969033,
          -0.022422383228524325,
          -0.11741546053121543,
          0.6385468531906983,
          -0.08348409080065669,
          -0.650770612339167,
          0.3565848106287523,
          1.594711505005319,
          -1.014433488127197,
          0.6890127651066934,
          0.3977818554815641,
          -1.341690125875958,
          -0.6988102568559302,
          -0.36712508794464865,
          -1.0522588585848436,
          1.3882909633804152,
          -1.6094941778442455,
          -0.33120523917734057,
          -1.6903848972611626,
          0.2843131685488693,
          2.0035637132125133,
          -0.19697092284664577,
          -0.1514736478519328,
          -1.3298873967560545,
          0.8235919879503149,
          -0.8030815481501907,
          -1.7409748037034218,
          1.209499887557365,
          2.1416193669136336,
          1.4512468981049529,
          -0.5240122074515902,
          -0.37520021469507336,
          1.4354493635068033,
          1.0685554307252807,
          -0.8168828279085346,
          -1.5838185817713528,
          -0.4387628603968676,
          0.03990606955832411,
          2.6493819629058453,
          -1.1626131670879876,
          0.01333459287637117,
          -0.7313883942559631,
          0.8343779478478394,
          0.8029890061540522,
          -1.412959274261139,
          1.073032685859393,
          0.2267015121459549,
          1.143345332830039,
          2.496603362120481,
          0.9793209297274629,
          0.8583954260892992,
          -1.2895959623160749,
          0.2489351926348663,
          1.4711880643513884,
          0.9657769617053209,
          1.583826612796633,
          -0.4454618003166316,
          0.7445328747000158,
          1.0616834457354132,
          -1.3195277669201264,
          0.5047985700119586,
          -1.8297770264924418,
          -0.5786800269282291,
          1.9202916269657508,
          -1.0730822622527767,
          0.150800146046857,
          -1.2739672247693878,
          -0.8728613885960235,
          0.8914441421994455,
          1.5761950339719883,
          -1.3717201448056051,
          1.3337188675745775,
          -0.022728635798502476,
          2.1905772534661017,
          0.6312529720703588,
          -1.0380398690782615,
          1.6329567828998433,
          0.20035279599071623,
          -0.7784045068351377,
          1.2532029356440353,
          -0.7709214851815889,
          -0.15009567530999388,
          -0.16439602171750148,
          0.15408902677376046,
          -0.30995291488325527,
          -0.11498077746145126,
          0.4083918780301276,
          -0.36918189473767477,
          1.415344496215347,
          -0.21976358236558427,
          2.6148405210002705,
          -1.5097530168154465,
          0.44936574046642674,
          0.07000168611707176,
          0.08650081185933392,
          0.9203281370471121,
          1.5903200193556177
         ],
         "yaxis": "y8"
        },
        {
         "line": {
          "color": "rgba(128, 128, 128, 1.0)",
          "dash": "solid",
          "shape": "linear",
          "width": 1.3
         },
         "marker": {
          "size": 2,
          "symbol": "circle"
         },
         "mode": "markers",
         "name": "C",
         "text": "",
         "type": "scatter",
         "x": [
          0.0894442250382196,
          -1.1636901974238956,
          -0.14222402464788517,
          2.0778243621370107,
          0.007891208853460787,
          1.5114211282301155,
          -0.5781301716748249,
          -0.6493464768341835,
          0.8804366298714607,
          -0.28659777359830724,
          -1.5497540650436465,
          0.06842940166910959,
          -0.8432149839111754,
          0.3625754416965515,
          1.7444769159705618,
          -1.7432789276671714,
          0.8127035469807969,
          0.03540155607319169,
          1.3149034064472398,
          -0.8091799746687368,
          0.5944092099911594,
          0.03851348232570403,
          0.5753884431301269,
          -0.14955590357202014,
          0.006847168151190288,
          -0.4779403451771194,
          -0.5121962485105361,
          0.39522619677635673,
          -0.7774209665066977,
          0.2010098882993933,
          -0.413765603541961,
          -1.837127240885446,
          -0.7430045491018606,
          0.3817020317037981,
          -2.2971459526257667,
          -0.930848336285178,
          -0.059242497738331006,
          -0.7226483965722095,
          0.9331620841320196,
          -0.007067825779079438,
          -0.24593939584039556,
          -0.23069547894684309,
          1.0131302346093156,
          2.16057042620193,
          0.12158079292653799,
          1.9895997640116458,
          0.8383931024137476,
          -0.008374359246434421,
          1.4147381393816199,
          -0.7975371494374897,
          1.6005923733589194,
          0.8461877996382429,
          0.6049372106916631,
          0.6167289385603898,
          -0.9841922062555499,
          -0.7090223222393144,
          -0.20062344927579204,
          -0.21840508922074062,
          0.46574555484211694,
          0.901984420014373,
          0.2751723113873585,
          -0.7373810854520237,
          1.2959580631458174,
          1.3275372519280928,
          -0.14695123385579606,
          -0.9368085763045358,
          0.4789197351621965,
          0.6776401387760087,
          0.5397652861837627,
          0.13821965496865166,
          -0.6589820202089064,
          -0.17053658113319353,
          -1.1714716606227185,
          -0.6338918773750294,
          1.4530407842838158,
          -0.3677987470750953,
          -0.578155120774312,
          2.1707062080560133,
          -0.035509206884830384,
          -0.8735811264138856,
          0.3147312144581037,
          0.4965454858722151,
          1.8680870347309269,
          0.6875958421101073,
          -1.2340194983831576,
          -1.0017507758501363,
          -0.24547889804649828,
          -1.5561944000977719,
          -1.2255841958311244,
          -1.8797420996939276,
          -1.1416902067245454,
          -0.8550160927407154,
          -0.48042608219442223,
          -0.27799480490922684,
          1.3749139157097308,
          0.27300356286191324,
          -0.8159390980627154,
          -0.01673684419022112,
          -1.126958887272344,
          0.1649610079367353
         ],
         "xaxis": "x9",
         "y": [
          -1.0443923988550883,
          0.5759995529236465,
          0.9054989998491968,
          0.6203644361671303,
          -0.06924857428643545,
          0.02450828462246479,
          0.829083324418259,
          -0.8179730543177922,
          1.287131551246612,
          2.35528249916397,
          0.6248232285928756,
          -0.9797254984790027,
          0.9098143402760405,
          0.3346415659201809,
          0.09350815869751432,
          -0.09885958176882112,
          0.09915361248980409,
          -0.5970247720274051,
          -1.6496275868366244,
          -1.9395735343061775,
          -0.9973024489511103,
          -0.16547273659582543,
          0.3945415979397608,
          -0.0416585702958144,
          -0.5265133052913373,
          -0.25915431437378605,
          -0.45914539801171333,
          0.3635293135932887,
          -1.9291580431323683,
          -0.6169138440693483,
          -0.7881260295130461,
          -0.7646199713213452,
          2.222560477265973,
          -0.736085636806195,
          0.19511887226317776,
          0.3930289680255666,
          1.164892302752009,
          0.7289276728446223,
          -0.10737424906375048,
          0.34697764144859505,
          1.4308048085034748,
          -0.10532418477598272,
          -0.3922722938914601,
          -0.2863748856102306,
          1.1679381125666788,
          -1.081180250408216,
          -0.5678364865562925,
          0.564016520048274,
          0.4952489232462605,
          -1.4171433403855391,
          -0.3039000655850409,
          -0.674666037911358,
          -1.6238999536508272,
          -0.6199556263538619,
          -0.15410436516655085,
          -0.3816543899426865,
          0.3095246620251357,
          0.18213390126551693,
          4.492097801899369e-05,
          0.954889837001447,
          -2.0180651247606236,
          0.5011430832113065,
          0.7019375990548377,
          -0.35420764781397024,
          0.02623113210256715,
          1.1800455384696376,
          -1.319921582094915,
          -0.6470961059887294,
          1.816145096173063,
          1.112974648388055,
          0.0701925987129905,
          0.21086210054882606,
          0.5295678049372673,
          -0.008261532654117363,
          -0.06907710975239476,
          0.9666428400665696,
          0.8687300425468045,
          -1.1217964199023274,
          -1.5739327047228504,
          0.6308878903193936,
          0.6317464761335823,
          0.14958164561674128,
          0.04132433833840389,
          -0.022922727963336456,
          -0.9517559263680294,
          1.4015792917121408,
          0.6038466356348323,
          0.26694932448701914,
          -0.1577614823606639,
          0.6886607585304464,
          -1.7766292844292435,
          -0.709652134541324,
          0.5700151717259795,
          1.236679805364241,
          1.0084774597557262,
          -0.18967335841858876,
          -0.17454619447005082,
          0.06888575607696995,
          -1.9019657294659444,
          -1.6073233387377233
         ],
         "yaxis": "y9"
        },
        {
         "line": {
          "color": "rgba(128, 128, 128, 1.0)",
          "dash": "solid",
          "shape": "linear",
          "width": 1.3
         },
         "marker": {
          "size": 2,
          "symbol": "circle"
         },
         "mode": "markers",
         "name": "C",
         "text": "",
         "type": "scatter",
         "x": [
          -1.3655200158258656,
          1.8038949899218248,
          0.10843718531566045,
          1.4355657023969033,
          -0.022422383228524325,
          -0.11741546053121543,
          0.6385468531906983,
          -0.08348409080065669,
          -0.650770612339167,
          0.3565848106287523,
          1.594711505005319,
          -1.014433488127197,
          0.6890127651066934,
          0.3977818554815641,
          -1.341690125875958,
          -0.6988102568559302,
          -0.36712508794464865,
          -1.0522588585848436,
          1.3882909633804152,
          -1.6094941778442455,
          -0.33120523917734057,
          -1.6903848972611626,
          0.2843131685488693,
          2.0035637132125133,
          -0.19697092284664577,
          -0.1514736478519328,
          -1.3298873967560545,
          0.8235919879503149,
          -0.8030815481501907,
          -1.7409748037034218,
          1.209499887557365,
          2.1416193669136336,
          1.4512468981049529,
          -0.5240122074515902,
          -0.37520021469507336,
          1.4354493635068033,
          1.0685554307252807,
          -0.8168828279085346,
          -1.5838185817713528,
          -0.4387628603968676,
          0.03990606955832411,
          2.6493819629058453,
          -1.1626131670879876,
          0.01333459287637117,
          -0.7313883942559631,
          0.8343779478478394,
          0.8029890061540522,
          -1.412959274261139,
          1.073032685859393,
          0.2267015121459549,
          1.143345332830039,
          2.496603362120481,
          0.9793209297274629,
          0.8583954260892992,
          -1.2895959623160749,
          0.2489351926348663,
          1.4711880643513884,
          0.9657769617053209,
          1.583826612796633,
          -0.4454618003166316,
          0.7445328747000158,
          1.0616834457354132,
          -1.3195277669201264,
          0.5047985700119586,
          -1.8297770264924418,
          -0.5786800269282291,
          1.9202916269657508,
          -1.0730822622527767,
          0.150800146046857,
          -1.2739672247693878,
          -0.8728613885960235,
          0.8914441421994455,
          1.5761950339719883,
          -1.3717201448056051,
          1.3337188675745775,
          -0.022728635798502476,
          2.1905772534661017,
          0.6312529720703588,
          -1.0380398690782615,
          1.6329567828998433,
          0.20035279599071623,
          -0.7784045068351377,
          1.2532029356440353,
          -0.7709214851815889,
          -0.15009567530999388,
          -0.16439602171750148,
          0.15408902677376046,
          -0.30995291488325527,
          -0.11498077746145126,
          0.4083918780301276,
          -0.36918189473767477,
          1.415344496215347,
          -0.21976358236558427,
          2.6148405210002705,
          -1.5097530168154465,
          0.44936574046642674,
          0.07000168611707176,
          0.08650081185933392,
          0.9203281370471121,
          1.5903200193556177
         ],
         "xaxis": "x10",
         "y": [
          -1.0443923988550883,
          0.5759995529236465,
          0.9054989998491968,
          0.6203644361671303,
          -0.06924857428643545,
          0.02450828462246479,
          0.829083324418259,
          -0.8179730543177922,
          1.287131551246612,
          2.35528249916397,
          0.6248232285928756,
          -0.9797254984790027,
          0.9098143402760405,
          0.3346415659201809,
          0.09350815869751432,
          -0.09885958176882112,
          0.09915361248980409,
          -0.5970247720274051,
          -1.6496275868366244,
          -1.9395735343061775,
          -0.9973024489511103,
          -0.16547273659582543,
          0.3945415979397608,
          -0.0416585702958144,
          -0.5265133052913373,
          -0.25915431437378605,
          -0.45914539801171333,
          0.3635293135932887,
          -1.9291580431323683,
          -0.6169138440693483,
          -0.7881260295130461,
          -0.7646199713213452,
          2.222560477265973,
          -0.736085636806195,
          0.19511887226317776,
          0.3930289680255666,
          1.164892302752009,
          0.7289276728446223,
          -0.10737424906375048,
          0.34697764144859505,
          1.4308048085034748,
          -0.10532418477598272,
          -0.3922722938914601,
          -0.2863748856102306,
          1.1679381125666788,
          -1.081180250408216,
          -0.5678364865562925,
          0.564016520048274,
          0.4952489232462605,
          -1.4171433403855391,
          -0.3039000655850409,
          -0.674666037911358,
          -1.6238999536508272,
          -0.6199556263538619,
          -0.15410436516655085,
          -0.3816543899426865,
          0.3095246620251357,
          0.18213390126551693,
          4.492097801899369e-05,
          0.954889837001447,
          -2.0180651247606236,
          0.5011430832113065,
          0.7019375990548377,
          -0.35420764781397024,
          0.02623113210256715,
          1.1800455384696376,
          -1.319921582094915,
          -0.6470961059887294,
          1.816145096173063,
          1.112974648388055,
          0.0701925987129905,
          0.21086210054882606,
          0.5295678049372673,
          -0.008261532654117363,
          -0.06907710975239476,
          0.9666428400665696,
          0.8687300425468045,
          -1.1217964199023274,
          -1.5739327047228504,
          0.6308878903193936,
          0.6317464761335823,
          0.14958164561674128,
          0.04132433833840389,
          -0.022922727963336456,
          -0.9517559263680294,
          1.4015792917121408,
          0.6038466356348323,
          0.26694932448701914,
          -0.1577614823606639,
          0.6886607585304464,
          -1.7766292844292435,
          -0.709652134541324,
          0.5700151717259795,
          1.236679805364241,
          1.0084774597557262,
          -0.18967335841858876,
          -0.17454619447005082,
          0.06888575607696995,
          -1.9019657294659444,
          -1.6073233387377233
         ],
         "yaxis": "y10"
        },
        {
         "histfunc": "count",
         "histnorm": "",
         "marker": {
          "color": "rgba(50, 171, 96, 1.0)",
          "line": {
           "color": "#4D5663",
           "width": 1.3
          }
         },
         "name": "C",
         "nbinsx": 10,
         "opacity": 0.8,
         "orientation": "v",
         "type": "histogram",
         "x": [
          -1.0443923988550883,
          0.5759995529236465,
          0.9054989998491968,
          0.6203644361671303,
          -0.06924857428643545,
          0.02450828462246479,
          0.829083324418259,
          -0.8179730543177922,
          1.287131551246612,
          2.35528249916397,
          0.6248232285928756,
          -0.9797254984790027,
          0.9098143402760405,
          0.3346415659201809,
          0.09350815869751432,
          -0.09885958176882112,
          0.09915361248980409,
          -0.5970247720274051,
          -1.6496275868366244,
          -1.9395735343061775,
          -0.9973024489511103,
          -0.16547273659582543,
          0.3945415979397608,
          -0.0416585702958144,
          -0.5265133052913373,
          -0.25915431437378605,
          -0.45914539801171333,
          0.3635293135932887,
          -1.9291580431323683,
          -0.6169138440693483,
          -0.7881260295130461,
          -0.7646199713213452,
          2.222560477265973,
          -0.736085636806195,
          0.19511887226317776,
          0.3930289680255666,
          1.164892302752009,
          0.7289276728446223,
          -0.10737424906375048,
          0.34697764144859505,
          1.4308048085034748,
          -0.10532418477598272,
          -0.3922722938914601,
          -0.2863748856102306,
          1.1679381125666788,
          -1.081180250408216,
          -0.5678364865562925,
          0.564016520048274,
          0.4952489232462605,
          -1.4171433403855391,
          -0.3039000655850409,
          -0.674666037911358,
          -1.6238999536508272,
          -0.6199556263538619,
          -0.15410436516655085,
          -0.3816543899426865,
          0.3095246620251357,
          0.18213390126551693,
          4.492097801899369e-05,
          0.954889837001447,
          -2.0180651247606236,
          0.5011430832113065,
          0.7019375990548377,
          -0.35420764781397024,
          0.02623113210256715,
          1.1800455384696376,
          -1.319921582094915,
          -0.6470961059887294,
          1.816145096173063,
          1.112974648388055,
          0.0701925987129905,
          0.21086210054882606,
          0.5295678049372673,
          -0.008261532654117363,
          -0.06907710975239476,
          0.9666428400665696,
          0.8687300425468045,
          -1.1217964199023274,
          -1.5739327047228504,
          0.6308878903193936,
          0.6317464761335823,
          0.14958164561674128,
          0.04132433833840389,
          -0.022922727963336456,
          -0.9517559263680294,
          1.4015792917121408,
          0.6038466356348323,
          0.26694932448701914,
          -0.1577614823606639,
          0.6886607585304464,
          -1.7766292844292435,
          -0.709652134541324,
          0.5700151717259795,
          1.236679805364241,
          1.0084774597557262,
          -0.18967335841858876,
          -0.17454619447005082,
          0.06888575607696995,
          -1.9019657294659444,
          -1.6073233387377233
         ],
         "xaxis": "x11",
         "yaxis": "y11"
        },
        {
         "line": {
          "color": "rgba(128, 128, 128, 1.0)",
          "dash": "solid",
          "shape": "linear",
          "width": 1.3
         },
         "marker": {
          "size": 2,
          "symbol": "circle"
         },
         "mode": "markers",
         "name": "C",
         "text": "",
         "type": "scatter",
         "x": [
          0.49121024915659534,
          -0.6054208280330104,
          0.4286133751507561,
          0.5749791299996299,
          -1.4651647654724183,
          1.5091235424591303,
          -1.9028446965144412,
          0.8556574037290288,
          1.0184410347708033,
          0.16975296591159805,
          -1.0819803297839774,
          2.2897431306900065,
          1.5275189159802138,
          0.548235816602612,
          0.5189169567447889,
          0.225315009495835,
          0.5325987480959407,
          0.664647475231488,
          1.4104501919810468,
          -1.0471501792872175,
          0.7748136152235511,
          0.3867417476639088,
          -0.28077710498348185,
          -1.6231256705971266,
          -0.285245216581967,
          0.3981051276950406,
          -1.0612838474336348,
          0.4022015086996178,
          -0.8322587093790262,
          0.6651191410496203,
          1.2579646460569598,
          0.01684876411202814,
          0.45152140974726257,
          -2.136011881929804,
          -0.07110882406206066,
          -0.8350381719926955,
          -0.7096150691234179,
          0.0833020807038666,
          -1.2810627177009017,
          -0.5627280130124556,
          0.3423593122646959,
          -0.38033636926180336,
          -2.4683585500783534,
          1.4915813469249055,
          0.23922250306859477,
          1.0417385489456086,
          0.6521999486033947,
          1.4655723982644033,
          -1.8355261359209765,
          0.013260204635078612,
          -0.9888656867572325,
          0.8225639406761003,
          -2.6833171397996676,
          -0.6609511765107219,
          -0.745568929564417,
          1.746436407878108,
          -0.4053585682370533,
          -0.28814461539863484,
          0.7502246863560132,
          1.2099094927051703,
          0.7767443473779333,
          -0.9653578660164819,
          1.1780862842340172,
          -0.4905071894476108,
          1.5358221313058311,
          -0.7151415875177684,
          -0.1735930908244306,
          -0.09704506911224087,
          0.8231424686940455,
          1.199028806085445,
          -1.188384939751405,
          -0.40143860096391515,
          -0.12640927825109832,
          0.8614192962420617,
          -1.2342541720865574,
          0.21648117015489163,
          1.6235951677327358,
          0.4467158869038937,
          0.1563263832875724,
          0.11919124064187522,
          -1.5373422092171551,
          -1.5125276057454,
          -1.328436814796126,
          -0.6673350516205485,
          0.9296382051593038,
          -0.706515671269773,
          -0.3177655840393208,
          0.3073804944759816,
          -0.9851963314047077,
          1.6905939706242712,
          0.1281989805328292,
          0.31804404398677755,
          1.2562240009626575,
          -0.08291136730888701,
          0.17879678765892845,
          -2.7675719398666687,
          0.8889994754497441,
          2.325165108614538,
          2.368083968830104,
          0.8826354593944352
         ],
         "xaxis": "x12",
         "y": [
          -1.0443923988550883,
          0.5759995529236465,
          0.9054989998491968,
          0.6203644361671303,
          -0.06924857428643545,
          0.02450828462246479,
          0.829083324418259,
          -0.8179730543177922,
          1.287131551246612,
          2.35528249916397,
          0.6248232285928756,
          -0.9797254984790027,
          0.9098143402760405,
          0.3346415659201809,
          0.09350815869751432,
          -0.09885958176882112,
          0.09915361248980409,
          -0.5970247720274051,
          -1.6496275868366244,
          -1.9395735343061775,
          -0.9973024489511103,
          -0.16547273659582543,
          0.3945415979397608,
          -0.0416585702958144,
          -0.5265133052913373,
          -0.25915431437378605,
          -0.45914539801171333,
          0.3635293135932887,
          -1.9291580431323683,
          -0.6169138440693483,
          -0.7881260295130461,
          -0.7646199713213452,
          2.222560477265973,
          -0.736085636806195,
          0.19511887226317776,
          0.3930289680255666,
          1.164892302752009,
          0.7289276728446223,
          -0.10737424906375048,
          0.34697764144859505,
          1.4308048085034748,
          -0.10532418477598272,
          -0.3922722938914601,
          -0.2863748856102306,
          1.1679381125666788,
          -1.081180250408216,
          -0.5678364865562925,
          0.564016520048274,
          0.4952489232462605,
          -1.4171433403855391,
          -0.3039000655850409,
          -0.674666037911358,
          -1.6238999536508272,
          -0.6199556263538619,
          -0.15410436516655085,
          -0.3816543899426865,
          0.3095246620251357,
          0.18213390126551693,
          4.492097801899369e-05,
          0.954889837001447,
          -2.0180651247606236,
          0.5011430832113065,
          0.7019375990548377,
          -0.35420764781397024,
          0.02623113210256715,
          1.1800455384696376,
          -1.319921582094915,
          -0.6470961059887294,
          1.816145096173063,
          1.112974648388055,
          0.0701925987129905,
          0.21086210054882606,
          0.5295678049372673,
          -0.008261532654117363,
          -0.06907710975239476,
          0.9666428400665696,
          0.8687300425468045,
          -1.1217964199023274,
          -1.5739327047228504,
          0.6308878903193936,
          0.6317464761335823,
          0.14958164561674128,
          0.04132433833840389,
          -0.022922727963336456,
          -0.9517559263680294,
          1.4015792917121408,
          0.6038466356348323,
          0.26694932448701914,
          -0.1577614823606639,
          0.6886607585304464,
          -1.7766292844292435,
          -0.709652134541324,
          0.5700151717259795,
          1.236679805364241,
          1.0084774597557262,
          -0.18967335841858876,
          -0.17454619447005082,
          0.06888575607696995,
          -1.9019657294659444,
          -1.6073233387377233
         ],
         "yaxis": "y12"
        },
        {
         "line": {
          "color": "rgba(128, 128, 128, 1.0)",
          "dash": "solid",
          "shape": "linear",
          "width": 1.3
         },
         "marker": {
          "size": 2,
          "symbol": "circle"
         },
         "mode": "markers",
         "name": "D",
         "text": "",
         "type": "scatter",
         "x": [
          0.0894442250382196,
          -1.1636901974238956,
          -0.14222402464788517,
          2.0778243621370107,
          0.007891208853460787,
          1.5114211282301155,
          -0.5781301716748249,
          -0.6493464768341835,
          0.8804366298714607,
          -0.28659777359830724,
          -1.5497540650436465,
          0.06842940166910959,
          -0.8432149839111754,
          0.3625754416965515,
          1.7444769159705618,
          -1.7432789276671714,
          0.8127035469807969,
          0.03540155607319169,
          1.3149034064472398,
          -0.8091799746687368,
          0.5944092099911594,
          0.03851348232570403,
          0.5753884431301269,
          -0.14955590357202014,
          0.006847168151190288,
          -0.4779403451771194,
          -0.5121962485105361,
          0.39522619677635673,
          -0.7774209665066977,
          0.2010098882993933,
          -0.413765603541961,
          -1.837127240885446,
          -0.7430045491018606,
          0.3817020317037981,
          -2.2971459526257667,
          -0.930848336285178,
          -0.059242497738331006,
          -0.7226483965722095,
          0.9331620841320196,
          -0.007067825779079438,
          -0.24593939584039556,
          -0.23069547894684309,
          1.0131302346093156,
          2.16057042620193,
          0.12158079292653799,
          1.9895997640116458,
          0.8383931024137476,
          -0.008374359246434421,
          1.4147381393816199,
          -0.7975371494374897,
          1.6005923733589194,
          0.8461877996382429,
          0.6049372106916631,
          0.6167289385603898,
          -0.9841922062555499,
          -0.7090223222393144,
          -0.20062344927579204,
          -0.21840508922074062,
          0.46574555484211694,
          0.901984420014373,
          0.2751723113873585,
          -0.7373810854520237,
          1.2959580631458174,
          1.3275372519280928,
          -0.14695123385579606,
          -0.9368085763045358,
          0.4789197351621965,
          0.6776401387760087,
          0.5397652861837627,
          0.13821965496865166,
          -0.6589820202089064,
          -0.17053658113319353,
          -1.1714716606227185,
          -0.6338918773750294,
          1.4530407842838158,
          -0.3677987470750953,
          -0.578155120774312,
          2.1707062080560133,
          -0.035509206884830384,
          -0.8735811264138856,
          0.3147312144581037,
          0.4965454858722151,
          1.8680870347309269,
          0.6875958421101073,
          -1.2340194983831576,
          -1.0017507758501363,
          -0.24547889804649828,
          -1.5561944000977719,
          -1.2255841958311244,
          -1.8797420996939276,
          -1.1416902067245454,
          -0.8550160927407154,
          -0.48042608219442223,
          -0.27799480490922684,
          1.3749139157097308,
          0.27300356286191324,
          -0.8159390980627154,
          -0.01673684419022112,
          -1.126958887272344,
          0.1649610079367353
         ],
         "xaxis": "x13",
         "y": [
          0.49121024915659534,
          -0.6054208280330104,
          0.4286133751507561,
          0.5749791299996299,
          -1.4651647654724183,
          1.5091235424591303,
          -1.9028446965144412,
          0.8556574037290288,
          1.0184410347708033,
          0.16975296591159805,
          -1.0819803297839774,
          2.2897431306900065,
          1.5275189159802138,
          0.548235816602612,
          0.5189169567447889,
          0.225315009495835,
          0.5325987480959407,
          0.664647475231488,
          1.4104501919810468,
          -1.0471501792872175,
          0.7748136152235511,
          0.3867417476639088,
          -0.28077710498348185,
          -1.6231256705971266,
          -0.285245216581967,
          0.3981051276950406,
          -1.0612838474336348,
          0.4022015086996178,
          -0.8322587093790262,
          0.6651191410496203,
          1.2579646460569598,
          0.01684876411202814,
          0.45152140974726257,
          -2.136011881929804,
          -0.07110882406206066,
          -0.8350381719926955,
          -0.7096150691234179,
          0.0833020807038666,
          -1.2810627177009017,
          -0.5627280130124556,
          0.3423593122646959,
          -0.38033636926180336,
          -2.4683585500783534,
          1.4915813469249055,
          0.23922250306859477,
          1.0417385489456086,
          0.6521999486033947,
          1.4655723982644033,
          -1.8355261359209765,
          0.013260204635078612,
          -0.9888656867572325,
          0.8225639406761003,
          -2.6833171397996676,
          -0.6609511765107219,
          -0.745568929564417,
          1.746436407878108,
          -0.4053585682370533,
          -0.28814461539863484,
          0.7502246863560132,
          1.2099094927051703,
          0.7767443473779333,
          -0.9653578660164819,
          1.1780862842340172,
          -0.4905071894476108,
          1.5358221313058311,
          -0.7151415875177684,
          -0.1735930908244306,
          -0.09704506911224087,
          0.8231424686940455,
          1.199028806085445,
          -1.188384939751405,
          -0.40143860096391515,
          -0.12640927825109832,
          0.8614192962420617,
          -1.2342541720865574,
          0.21648117015489163,
          1.6235951677327358,
          0.4467158869038937,
          0.1563263832875724,
          0.11919124064187522,
          -1.5373422092171551,
          -1.5125276057454,
          -1.328436814796126,
          -0.6673350516205485,
          0.9296382051593038,
          -0.706515671269773,
          -0.3177655840393208,
          0.3073804944759816,
          -0.9851963314047077,
          1.6905939706242712,
          0.1281989805328292,
          0.31804404398677755,
          1.2562240009626575,
          -0.08291136730888701,
          0.17879678765892845,
          -2.7675719398666687,
          0.8889994754497441,
          2.325165108614538,
          2.368083968830104,
          0.8826354593944352
         ],
         "yaxis": "y13"
        },
        {
         "line": {
          "color": "rgba(128, 128, 128, 1.0)",
          "dash": "solid",
          "shape": "linear",
          "width": 1.3
         },
         "marker": {
          "size": 2,
          "symbol": "circle"
         },
         "mode": "markers",
         "name": "D",
         "text": "",
         "type": "scatter",
         "x": [
          -1.3655200158258656,
          1.8038949899218248,
          0.10843718531566045,
          1.4355657023969033,
          -0.022422383228524325,
          -0.11741546053121543,
          0.6385468531906983,
          -0.08348409080065669,
          -0.650770612339167,
          0.3565848106287523,
          1.594711505005319,
          -1.014433488127197,
          0.6890127651066934,
          0.3977818554815641,
          -1.341690125875958,
          -0.6988102568559302,
          -0.36712508794464865,
          -1.0522588585848436,
          1.3882909633804152,
          -1.6094941778442455,
          -0.33120523917734057,
          -1.6903848972611626,
          0.2843131685488693,
          2.0035637132125133,
          -0.19697092284664577,
          -0.1514736478519328,
          -1.3298873967560545,
          0.8235919879503149,
          -0.8030815481501907,
          -1.7409748037034218,
          1.209499887557365,
          2.1416193669136336,
          1.4512468981049529,
          -0.5240122074515902,
          -0.37520021469507336,
          1.4354493635068033,
          1.0685554307252807,
          -0.8168828279085346,
          -1.5838185817713528,
          -0.4387628603968676,
          0.03990606955832411,
          2.6493819629058453,
          -1.1626131670879876,
          0.01333459287637117,
          -0.7313883942559631,
          0.8343779478478394,
          0.8029890061540522,
          -1.412959274261139,
          1.073032685859393,
          0.2267015121459549,
          1.143345332830039,
          2.496603362120481,
          0.9793209297274629,
          0.8583954260892992,
          -1.2895959623160749,
          0.2489351926348663,
          1.4711880643513884,
          0.9657769617053209,
          1.583826612796633,
          -0.4454618003166316,
          0.7445328747000158,
          1.0616834457354132,
          -1.3195277669201264,
          0.5047985700119586,
          -1.8297770264924418,
          -0.5786800269282291,
          1.9202916269657508,
          -1.0730822622527767,
          0.150800146046857,
          -1.2739672247693878,
          -0.8728613885960235,
          0.8914441421994455,
          1.5761950339719883,
          -1.3717201448056051,
          1.3337188675745775,
          -0.022728635798502476,
          2.1905772534661017,
          0.6312529720703588,
          -1.0380398690782615,
          1.6329567828998433,
          0.20035279599071623,
          -0.7784045068351377,
          1.2532029356440353,
          -0.7709214851815889,
          -0.15009567530999388,
          -0.16439602171750148,
          0.15408902677376046,
          -0.30995291488325527,
          -0.11498077746145126,
          0.4083918780301276,
          -0.36918189473767477,
          1.415344496215347,
          -0.21976358236558427,
          2.6148405210002705,
          -1.5097530168154465,
          0.44936574046642674,
          0.07000168611707176,
          0.08650081185933392,
          0.9203281370471121,
          1.5903200193556177
         ],
         "xaxis": "x14",
         "y": [
          0.49121024915659534,
          -0.6054208280330104,
          0.4286133751507561,
          0.5749791299996299,
          -1.4651647654724183,
          1.5091235424591303,
          -1.9028446965144412,
          0.8556574037290288,
          1.0184410347708033,
          0.16975296591159805,
          -1.0819803297839774,
          2.2897431306900065,
          1.5275189159802138,
          0.548235816602612,
          0.5189169567447889,
          0.225315009495835,
          0.5325987480959407,
          0.664647475231488,
          1.4104501919810468,
          -1.0471501792872175,
          0.7748136152235511,
          0.3867417476639088,
          -0.28077710498348185,
          -1.6231256705971266,
          -0.285245216581967,
          0.3981051276950406,
          -1.0612838474336348,
          0.4022015086996178,
          -0.8322587093790262,
          0.6651191410496203,
          1.2579646460569598,
          0.01684876411202814,
          0.45152140974726257,
          -2.136011881929804,
          -0.07110882406206066,
          -0.8350381719926955,
          -0.7096150691234179,
          0.0833020807038666,
          -1.2810627177009017,
          -0.5627280130124556,
          0.3423593122646959,
          -0.38033636926180336,
          -2.4683585500783534,
          1.4915813469249055,
          0.23922250306859477,
          1.0417385489456086,
          0.6521999486033947,
          1.4655723982644033,
          -1.8355261359209765,
          0.013260204635078612,
          -0.9888656867572325,
          0.8225639406761003,
          -2.6833171397996676,
          -0.6609511765107219,
          -0.745568929564417,
          1.746436407878108,
          -0.4053585682370533,
          -0.28814461539863484,
          0.7502246863560132,
          1.2099094927051703,
          0.7767443473779333,
          -0.9653578660164819,
          1.1780862842340172,
          -0.4905071894476108,
          1.5358221313058311,
          -0.7151415875177684,
          -0.1735930908244306,
          -0.09704506911224087,
          0.8231424686940455,
          1.199028806085445,
          -1.188384939751405,
          -0.40143860096391515,
          -0.12640927825109832,
          0.8614192962420617,
          -1.2342541720865574,
          0.21648117015489163,
          1.6235951677327358,
          0.4467158869038937,
          0.1563263832875724,
          0.11919124064187522,
          -1.5373422092171551,
          -1.5125276057454,
          -1.328436814796126,
          -0.6673350516205485,
          0.9296382051593038,
          -0.706515671269773,
          -0.3177655840393208,
          0.3073804944759816,
          -0.9851963314047077,
          1.6905939706242712,
          0.1281989805328292,
          0.31804404398677755,
          1.2562240009626575,
          -0.08291136730888701,
          0.17879678765892845,
          -2.7675719398666687,
          0.8889994754497441,
          2.325165108614538,
          2.368083968830104,
          0.8826354593944352
         ],
         "yaxis": "y14"
        },
        {
         "line": {
          "color": "rgba(128, 128, 128, 1.0)",
          "dash": "solid",
          "shape": "linear",
          "width": 1.3
         },
         "marker": {
          "size": 2,
          "symbol": "circle"
         },
         "mode": "markers",
         "name": "D",
         "text": "",
         "type": "scatter",
         "x": [
          -1.0443923988550883,
          0.5759995529236465,
          0.9054989998491968,
          0.6203644361671303,
          -0.06924857428643545,
          0.02450828462246479,
          0.829083324418259,
          -0.8179730543177922,
          1.287131551246612,
          2.35528249916397,
          0.6248232285928756,
          -0.9797254984790027,
          0.9098143402760405,
          0.3346415659201809,
          0.09350815869751432,
          -0.09885958176882112,
          0.09915361248980409,
          -0.5970247720274051,
          -1.6496275868366244,
          -1.9395735343061775,
          -0.9973024489511103,
          -0.16547273659582543,
          0.3945415979397608,
          -0.0416585702958144,
          -0.5265133052913373,
          -0.25915431437378605,
          -0.45914539801171333,
          0.3635293135932887,
          -1.9291580431323683,
          -0.6169138440693483,
          -0.7881260295130461,
          -0.7646199713213452,
          2.222560477265973,
          -0.736085636806195,
          0.19511887226317776,
          0.3930289680255666,
          1.164892302752009,
          0.7289276728446223,
          -0.10737424906375048,
          0.34697764144859505,
          1.4308048085034748,
          -0.10532418477598272,
          -0.3922722938914601,
          -0.2863748856102306,
          1.1679381125666788,
          -1.081180250408216,
          -0.5678364865562925,
          0.564016520048274,
          0.4952489232462605,
          -1.4171433403855391,
          -0.3039000655850409,
          -0.674666037911358,
          -1.6238999536508272,
          -0.6199556263538619,
          -0.15410436516655085,
          -0.3816543899426865,
          0.3095246620251357,
          0.18213390126551693,
          4.492097801899369e-05,
          0.954889837001447,
          -2.0180651247606236,
          0.5011430832113065,
          0.7019375990548377,
          -0.35420764781397024,
          0.02623113210256715,
          1.1800455384696376,
          -1.319921582094915,
          -0.6470961059887294,
          1.816145096173063,
          1.112974648388055,
          0.0701925987129905,
          0.21086210054882606,
          0.5295678049372673,
          -0.008261532654117363,
          -0.06907710975239476,
          0.9666428400665696,
          0.8687300425468045,
          -1.1217964199023274,
          -1.5739327047228504,
          0.6308878903193936,
          0.6317464761335823,
          0.14958164561674128,
          0.04132433833840389,
          -0.022922727963336456,
          -0.9517559263680294,
          1.4015792917121408,
          0.6038466356348323,
          0.26694932448701914,
          -0.1577614823606639,
          0.6886607585304464,
          -1.7766292844292435,
          -0.709652134541324,
          0.5700151717259795,
          1.236679805364241,
          1.0084774597557262,
          -0.18967335841858876,
          -0.17454619447005082,
          0.06888575607696995,
          -1.9019657294659444,
          -1.6073233387377233
         ],
         "xaxis": "x15",
         "y": [
          0.49121024915659534,
          -0.6054208280330104,
          0.4286133751507561,
          0.5749791299996299,
          -1.4651647654724183,
          1.5091235424591303,
          -1.9028446965144412,
          0.8556574037290288,
          1.0184410347708033,
          0.16975296591159805,
          -1.0819803297839774,
          2.2897431306900065,
          1.5275189159802138,
          0.548235816602612,
          0.5189169567447889,
          0.225315009495835,
          0.5325987480959407,
          0.664647475231488,
          1.4104501919810468,
          -1.0471501792872175,
          0.7748136152235511,
          0.3867417476639088,
          -0.28077710498348185,
          -1.6231256705971266,
          -0.285245216581967,
          0.3981051276950406,
          -1.0612838474336348,
          0.4022015086996178,
          -0.8322587093790262,
          0.6651191410496203,
          1.2579646460569598,
          0.01684876411202814,
          0.45152140974726257,
          -2.136011881929804,
          -0.07110882406206066,
          -0.8350381719926955,
          -0.7096150691234179,
          0.0833020807038666,
          -1.2810627177009017,
          -0.5627280130124556,
          0.3423593122646959,
          -0.38033636926180336,
          -2.4683585500783534,
          1.4915813469249055,
          0.23922250306859477,
          1.0417385489456086,
          0.6521999486033947,
          1.4655723982644033,
          -1.8355261359209765,
          0.013260204635078612,
          -0.9888656867572325,
          0.8225639406761003,
          -2.6833171397996676,
          -0.6609511765107219,
          -0.745568929564417,
          1.746436407878108,
          -0.4053585682370533,
          -0.28814461539863484,
          0.7502246863560132,
          1.2099094927051703,
          0.7767443473779333,
          -0.9653578660164819,
          1.1780862842340172,
          -0.4905071894476108,
          1.5358221313058311,
          -0.7151415875177684,
          -0.1735930908244306,
          -0.09704506911224087,
          0.8231424686940455,
          1.199028806085445,
          -1.188384939751405,
          -0.40143860096391515,
          -0.12640927825109832,
          0.8614192962420617,
          -1.2342541720865574,
          0.21648117015489163,
          1.6235951677327358,
          0.4467158869038937,
          0.1563263832875724,
          0.11919124064187522,
          -1.5373422092171551,
          -1.5125276057454,
          -1.328436814796126,
          -0.6673350516205485,
          0.9296382051593038,
          -0.706515671269773,
          -0.3177655840393208,
          0.3073804944759816,
          -0.9851963314047077,
          1.6905939706242712,
          0.1281989805328292,
          0.31804404398677755,
          1.2562240009626575,
          -0.08291136730888701,
          0.17879678765892845,
          -2.7675719398666687,
          0.8889994754497441,
          2.325165108614538,
          2.368083968830104,
          0.8826354593944352
         ],
         "yaxis": "y15"
        },
        {
         "histfunc": "count",
         "histnorm": "",
         "marker": {
          "color": "rgba(128, 0, 128, 1.0)",
          "line": {
           "color": "#4D5663",
           "width": 1.3
          }
         },
         "name": "D",
         "nbinsx": 10,
         "opacity": 0.8,
         "orientation": "v",
         "type": "histogram",
         "x": [
          0.49121024915659534,
          -0.6054208280330104,
          0.4286133751507561,
          0.5749791299996299,
          -1.4651647654724183,
          1.5091235424591303,
          -1.9028446965144412,
          0.8556574037290288,
          1.0184410347708033,
          0.16975296591159805,
          -1.0819803297839774,
          2.2897431306900065,
          1.5275189159802138,
          0.548235816602612,
          0.5189169567447889,
          0.225315009495835,
          0.5325987480959407,
          0.664647475231488,
          1.4104501919810468,
          -1.0471501792872175,
          0.7748136152235511,
          0.3867417476639088,
          -0.28077710498348185,
          -1.6231256705971266,
          -0.285245216581967,
          0.3981051276950406,
          -1.0612838474336348,
          0.4022015086996178,
          -0.8322587093790262,
          0.6651191410496203,
          1.2579646460569598,
          0.01684876411202814,
          0.45152140974726257,
          -2.136011881929804,
          -0.07110882406206066,
          -0.8350381719926955,
          -0.7096150691234179,
          0.0833020807038666,
          -1.2810627177009017,
          -0.5627280130124556,
          0.3423593122646959,
          -0.38033636926180336,
          -2.4683585500783534,
          1.4915813469249055,
          0.23922250306859477,
          1.0417385489456086,
          0.6521999486033947,
          1.4655723982644033,
          -1.8355261359209765,
          0.013260204635078612,
          -0.9888656867572325,
          0.8225639406761003,
          -2.6833171397996676,
          -0.6609511765107219,
          -0.745568929564417,
          1.746436407878108,
          -0.4053585682370533,
          -0.28814461539863484,
          0.7502246863560132,
          1.2099094927051703,
          0.7767443473779333,
          -0.9653578660164819,
          1.1780862842340172,
          -0.4905071894476108,
          1.5358221313058311,
          -0.7151415875177684,
          -0.1735930908244306,
          -0.09704506911224087,
          0.8231424686940455,
          1.199028806085445,
          -1.188384939751405,
          -0.40143860096391515,
          -0.12640927825109832,
          0.8614192962420617,
          -1.2342541720865574,
          0.21648117015489163,
          1.6235951677327358,
          0.4467158869038937,
          0.1563263832875724,
          0.11919124064187522,
          -1.5373422092171551,
          -1.5125276057454,
          -1.328436814796126,
          -0.6673350516205485,
          0.9296382051593038,
          -0.706515671269773,
          -0.3177655840393208,
          0.3073804944759816,
          -0.9851963314047077,
          1.6905939706242712,
          0.1281989805328292,
          0.31804404398677755,
          1.2562240009626575,
          -0.08291136730888701,
          0.17879678765892845,
          -2.7675719398666687,
          0.8889994754497441,
          2.325165108614538,
          2.368083968830104,
          0.8826354593944352
         ],
         "xaxis": "x16",
         "yaxis": "y16"
        }
       ],
       "layout": {
        "bargap": 0.02,
        "legend": {
         "bgcolor": "#F5F6F9",
         "font": {
          "color": "#4D5663"
         }
        },
        "paper_bgcolor": "#F5F6F9",
        "plot_bgcolor": "#F5F6F9",
        "showlegend": false,
        "template": {
         "data": {
          "bar": [
           {
            "error_x": {
             "color": "#2a3f5f"
            },
            "error_y": {
             "color": "#2a3f5f"
            },
            "marker": {
             "line": {
              "color": "#E5ECF6",
              "width": 0.5
             }
            },
            "type": "bar"
           }
          ],
          "barpolar": [
           {
            "marker": {
             "line": {
              "color": "#E5ECF6",
              "width": 0.5
             }
            },
            "type": "barpolar"
           }
          ],
          "carpet": [
           {
            "aaxis": {
             "endlinecolor": "#2a3f5f",
             "gridcolor": "white",
             "linecolor": "white",
             "minorgridcolor": "white",
             "startlinecolor": "#2a3f5f"
            },
            "baxis": {
             "endlinecolor": "#2a3f5f",
             "gridcolor": "white",
             "linecolor": "white",
             "minorgridcolor": "white",
             "startlinecolor": "#2a3f5f"
            },
            "type": "carpet"
           }
          ],
          "choropleth": [
           {
            "colorbar": {
             "outlinewidth": 0,
             "ticks": ""
            },
            "type": "choropleth"
           }
          ],
          "contour": [
           {
            "colorbar": {
             "outlinewidth": 0,
             "ticks": ""
            },
            "colorscale": [
             [
              0,
              "#0d0887"
             ],
             [
              0.1111111111111111,
              "#46039f"
             ],
             [
              0.2222222222222222,
              "#7201a8"
             ],
             [
              0.3333333333333333,
              "#9c179e"
             ],
             [
              0.4444444444444444,
              "#bd3786"
             ],
             [
              0.5555555555555556,
              "#d8576b"
             ],
             [
              0.6666666666666666,
              "#ed7953"
             ],
             [
              0.7777777777777778,
              "#fb9f3a"
             ],
             [
              0.8888888888888888,
              "#fdca26"
             ],
             [
              1,
              "#f0f921"
             ]
            ],
            "type": "contour"
           }
          ],
          "contourcarpet": [
           {
            "colorbar": {
             "outlinewidth": 0,
             "ticks": ""
            },
            "type": "contourcarpet"
           }
          ],
          "heatmap": [
           {
            "colorbar": {
             "outlinewidth": 0,
             "ticks": ""
            },
            "colorscale": [
             [
              0,
              "#0d0887"
             ],
             [
              0.1111111111111111,
              "#46039f"
             ],
             [
              0.2222222222222222,
              "#7201a8"
             ],
             [
              0.3333333333333333,
              "#9c179e"
             ],
             [
              0.4444444444444444,
              "#bd3786"
             ],
             [
              0.5555555555555556,
              "#d8576b"
             ],
             [
              0.6666666666666666,
              "#ed7953"
             ],
             [
              0.7777777777777778,
              "#fb9f3a"
             ],
             [
              0.8888888888888888,
              "#fdca26"
             ],
             [
              1,
              "#f0f921"
             ]
            ],
            "type": "heatmap"
           }
          ],
          "heatmapgl": [
           {
            "colorbar": {
             "outlinewidth": 0,
             "ticks": ""
            },
            "colorscale": [
             [
              0,
              "#0d0887"
             ],
             [
              0.1111111111111111,
              "#46039f"
             ],
             [
              0.2222222222222222,
              "#7201a8"
             ],
             [
              0.3333333333333333,
              "#9c179e"
             ],
             [
              0.4444444444444444,
              "#bd3786"
             ],
             [
              0.5555555555555556,
              "#d8576b"
             ],
             [
              0.6666666666666666,
              "#ed7953"
             ],
             [
              0.7777777777777778,
              "#fb9f3a"
             ],
             [
              0.8888888888888888,
              "#fdca26"
             ],
             [
              1,
              "#f0f921"
             ]
            ],
            "type": "heatmapgl"
           }
          ],
          "histogram": [
           {
            "marker": {
             "colorbar": {
              "outlinewidth": 0,
              "ticks": ""
             }
            },
            "type": "histogram"
           }
          ],
          "histogram2d": [
           {
            "colorbar": {
             "outlinewidth": 0,
             "ticks": ""
            },
            "colorscale": [
             [
              0,
              "#0d0887"
             ],
             [
              0.1111111111111111,
              "#46039f"
             ],
             [
              0.2222222222222222,
              "#7201a8"
             ],
             [
              0.3333333333333333,
              "#9c179e"
             ],
             [
              0.4444444444444444,
              "#bd3786"
             ],
             [
              0.5555555555555556,
              "#d8576b"
             ],
             [
              0.6666666666666666,
              "#ed7953"
             ],
             [
              0.7777777777777778,
              "#fb9f3a"
             ],
             [
              0.8888888888888888,
              "#fdca26"
             ],
             [
              1,
              "#f0f921"
             ]
            ],
            "type": "histogram2d"
           }
          ],
          "histogram2dcontour": [
           {
            "colorbar": {
             "outlinewidth": 0,
             "ticks": ""
            },
            "colorscale": [
             [
              0,
              "#0d0887"
             ],
             [
              0.1111111111111111,
              "#46039f"
             ],
             [
              0.2222222222222222,
              "#7201a8"
             ],
             [
              0.3333333333333333,
              "#9c179e"
             ],
             [
              0.4444444444444444,
              "#bd3786"
             ],
             [
              0.5555555555555556,
              "#d8576b"
             ],
             [
              0.6666666666666666,
              "#ed7953"
             ],
             [
              0.7777777777777778,
              "#fb9f3a"
             ],
             [
              0.8888888888888888,
              "#fdca26"
             ],
             [
              1,
              "#f0f921"
             ]
            ],
            "type": "histogram2dcontour"
           }
          ],
          "mesh3d": [
           {
            "colorbar": {
             "outlinewidth": 0,
             "ticks": ""
            },
            "type": "mesh3d"
           }
          ],
          "parcoords": [
           {
            "line": {
             "colorbar": {
              "outlinewidth": 0,
              "ticks": ""
             }
            },
            "type": "parcoords"
           }
          ],
          "pie": [
           {
            "automargin": true,
            "type": "pie"
           }
          ],
          "scatter": [
           {
            "marker": {
             "colorbar": {
              "outlinewidth": 0,
              "ticks": ""
             }
            },
            "type": "scatter"
           }
          ],
          "scatter3d": [
           {
            "line": {
             "colorbar": {
              "outlinewidth": 0,
              "ticks": ""
             }
            },
            "marker": {
             "colorbar": {
              "outlinewidth": 0,
              "ticks": ""
             }
            },
            "type": "scatter3d"
           }
          ],
          "scattercarpet": [
           {
            "marker": {
             "colorbar": {
              "outlinewidth": 0,
              "ticks": ""
             }
            },
            "type": "scattercarpet"
           }
          ],
          "scattergeo": [
           {
            "marker": {
             "colorbar": {
              "outlinewidth": 0,
              "ticks": ""
             }
            },
            "type": "scattergeo"
           }
          ],
          "scattergl": [
           {
            "marker": {
             "colorbar": {
              "outlinewidth": 0,
              "ticks": ""
             }
            },
            "type": "scattergl"
           }
          ],
          "scattermapbox": [
           {
            "marker": {
             "colorbar": {
              "outlinewidth": 0,
              "ticks": ""
             }
            },
            "type": "scattermapbox"
           }
          ],
          "scatterpolar": [
           {
            "marker": {
             "colorbar": {
              "outlinewidth": 0,
              "ticks": ""
             }
            },
            "type": "scatterpolar"
           }
          ],
          "scatterpolargl": [
           {
            "marker": {
             "colorbar": {
              "outlinewidth": 0,
              "ticks": ""
             }
            },
            "type": "scatterpolargl"
           }
          ],
          "scatterternary": [
           {
            "marker": {
             "colorbar": {
              "outlinewidth": 0,
              "ticks": ""
             }
            },
            "type": "scatterternary"
           }
          ],
          "surface": [
           {
            "colorbar": {
             "outlinewidth": 0,
             "ticks": ""
            },
            "colorscale": [
             [
              0,
              "#0d0887"
             ],
             [
              0.1111111111111111,
              "#46039f"
             ],
             [
              0.2222222222222222,
              "#7201a8"
             ],
             [
              0.3333333333333333,
              "#9c179e"
             ],
             [
              0.4444444444444444,
              "#bd3786"
             ],
             [
              0.5555555555555556,
              "#d8576b"
             ],
             [
              0.6666666666666666,
              "#ed7953"
             ],
             [
              0.7777777777777778,
              "#fb9f3a"
             ],
             [
              0.8888888888888888,
              "#fdca26"
             ],
             [
              1,
              "#f0f921"
             ]
            ],
            "type": "surface"
           }
          ],
          "table": [
           {
            "cells": {
             "fill": {
              "color": "#EBF0F8"
             },
             "line": {
              "color": "white"
             }
            },
            "header": {
             "fill": {
              "color": "#C8D4E3"
             },
             "line": {
              "color": "white"
             }
            },
            "type": "table"
           }
          ]
         },
         "layout": {
          "annotationdefaults": {
           "arrowcolor": "#2a3f5f",
           "arrowhead": 0,
           "arrowwidth": 1
          },
          "coloraxis": {
           "colorbar": {
            "outlinewidth": 0,
            "ticks": ""
           }
          },
          "colorscale": {
           "diverging": [
            [
             0,
             "#8e0152"
            ],
            [
             0.1,
             "#c51b7d"
            ],
            [
             0.2,
             "#de77ae"
            ],
            [
             0.3,
             "#f1b6da"
            ],
            [
             0.4,
             "#fde0ef"
            ],
            [
             0.5,
             "#f7f7f7"
            ],
            [
             0.6,
             "#e6f5d0"
            ],
            [
             0.7,
             "#b8e186"
            ],
            [
             0.8,
             "#7fbc41"
            ],
            [
             0.9,
             "#4d9221"
            ],
            [
             1,
             "#276419"
            ]
           ],
           "sequential": [
            [
             0,
             "#0d0887"
            ],
            [
             0.1111111111111111,
             "#46039f"
            ],
            [
             0.2222222222222222,
             "#7201a8"
            ],
            [
             0.3333333333333333,
             "#9c179e"
            ],
            [
             0.4444444444444444,
             "#bd3786"
            ],
            [
             0.5555555555555556,
             "#d8576b"
            ],
            [
             0.6666666666666666,
             "#ed7953"
            ],
            [
             0.7777777777777778,
             "#fb9f3a"
            ],
            [
             0.8888888888888888,
             "#fdca26"
            ],
            [
             1,
             "#f0f921"
            ]
           ],
           "sequentialminus": [
            [
             0,
             "#0d0887"
            ],
            [
             0.1111111111111111,
             "#46039f"
            ],
            [
             0.2222222222222222,
             "#7201a8"
            ],
            [
             0.3333333333333333,
             "#9c179e"
            ],
            [
             0.4444444444444444,
             "#bd3786"
            ],
            [
             0.5555555555555556,
             "#d8576b"
            ],
            [
             0.6666666666666666,
             "#ed7953"
            ],
            [
             0.7777777777777778,
             "#fb9f3a"
            ],
            [
             0.8888888888888888,
             "#fdca26"
            ],
            [
             1,
             "#f0f921"
            ]
           ]
          },
          "colorway": [
           "#636efa",
           "#EF553B",
           "#00cc96",
           "#ab63fa",
           "#FFA15A",
           "#19d3f3",
           "#FF6692",
           "#B6E880",
           "#FF97FF",
           "#FECB52"
          ],
          "font": {
           "color": "#2a3f5f"
          },
          "geo": {
           "bgcolor": "white",
           "lakecolor": "white",
           "landcolor": "#E5ECF6",
           "showlakes": true,
           "showland": true,
           "subunitcolor": "white"
          },
          "hoverlabel": {
           "align": "left"
          },
          "hovermode": "closest",
          "mapbox": {
           "style": "light"
          },
          "paper_bgcolor": "white",
          "plot_bgcolor": "#E5ECF6",
          "polar": {
           "angularaxis": {
            "gridcolor": "white",
            "linecolor": "white",
            "ticks": ""
           },
           "bgcolor": "#E5ECF6",
           "radialaxis": {
            "gridcolor": "white",
            "linecolor": "white",
            "ticks": ""
           }
          },
          "scene": {
           "xaxis": {
            "backgroundcolor": "#E5ECF6",
            "gridcolor": "white",
            "gridwidth": 2,
            "linecolor": "white",
            "showbackground": true,
            "ticks": "",
            "zerolinecolor": "white"
           },
           "yaxis": {
            "backgroundcolor": "#E5ECF6",
            "gridcolor": "white",
            "gridwidth": 2,
            "linecolor": "white",
            "showbackground": true,
            "ticks": "",
            "zerolinecolor": "white"
           },
           "zaxis": {
            "backgroundcolor": "#E5ECF6",
            "gridcolor": "white",
            "gridwidth": 2,
            "linecolor": "white",
            "showbackground": true,
            "ticks": "",
            "zerolinecolor": "white"
           }
          },
          "shapedefaults": {
           "line": {
            "color": "#2a3f5f"
           }
          },
          "ternary": {
           "aaxis": {
            "gridcolor": "white",
            "linecolor": "white",
            "ticks": ""
           },
           "baxis": {
            "gridcolor": "white",
            "linecolor": "white",
            "ticks": ""
           },
           "bgcolor": "#E5ECF6",
           "caxis": {
            "gridcolor": "white",
            "linecolor": "white",
            "ticks": ""
           }
          },
          "title": {
           "x": 0.05
          },
          "xaxis": {
           "automargin": true,
           "gridcolor": "white",
           "linecolor": "white",
           "ticks": "",
           "title": {
            "standoff": 15
           },
           "zerolinecolor": "white",
           "zerolinewidth": 2
          },
          "yaxis": {
           "automargin": true,
           "gridcolor": "white",
           "linecolor": "white",
           "ticks": "",
           "title": {
            "standoff": 15
           },
           "zerolinecolor": "white",
           "zerolinewidth": 2
          }
         }
        },
        "title": {
         "font": {
          "color": "#4D5663"
         }
        },
        "xaxis": {
         "anchor": "y",
         "domain": [
          0,
          0.2125
         ],
         "gridcolor": "#E1E5ED",
         "showgrid": false,
         "tickfont": {
          "color": "#4D5663"
         },
         "title": {
          "font": {
           "color": "#4D5663"
          },
          "text": ""
         },
         "zerolinecolor": "#E1E5ED"
        },
        "xaxis10": {
         "anchor": "y10",
         "domain": [
          0.2625,
          0.475
         ],
         "gridcolor": "#E1E5ED",
         "showgrid": false,
         "tickfont": {
          "color": "#4D5663"
         },
         "title": {
          "font": {
           "color": "#4D5663"
          },
          "text": ""
         },
         "zerolinecolor": "#E1E5ED"
        },
        "xaxis11": {
         "anchor": "y11",
         "domain": [
          0.525,
          0.7375
         ],
         "gridcolor": "#E1E5ED",
         "showgrid": false,
         "tickfont": {
          "color": "#4D5663"
         },
         "title": {
          "font": {
           "color": "#4D5663"
          },
          "text": ""
         },
         "zerolinecolor": "#E1E5ED"
        },
        "xaxis12": {
         "anchor": "y12",
         "domain": [
          0.7875,
          1
         ],
         "gridcolor": "#E1E5ED",
         "showgrid": false,
         "tickfont": {
          "color": "#4D5663"
         },
         "title": {
          "font": {
           "color": "#4D5663"
          },
          "text": ""
         },
         "zerolinecolor": "#E1E5ED"
        },
        "xaxis13": {
         "anchor": "y13",
         "domain": [
          0,
          0.2125
         ],
         "gridcolor": "#E1E5ED",
         "showgrid": false,
         "tickfont": {
          "color": "#4D5663"
         },
         "title": {
          "font": {
           "color": "#4D5663"
          },
          "text": ""
         },
         "zerolinecolor": "#E1E5ED"
        },
        "xaxis14": {
         "anchor": "y14",
         "domain": [
          0.2625,
          0.475
         ],
         "gridcolor": "#E1E5ED",
         "showgrid": false,
         "tickfont": {
          "color": "#4D5663"
         },
         "title": {
          "font": {
           "color": "#4D5663"
          },
          "text": ""
         },
         "zerolinecolor": "#E1E5ED"
        },
        "xaxis15": {
         "anchor": "y15",
         "domain": [
          0.525,
          0.7375
         ],
         "gridcolor": "#E1E5ED",
         "showgrid": false,
         "tickfont": {
          "color": "#4D5663"
         },
         "title": {
          "font": {
           "color": "#4D5663"
          },
          "text": ""
         },
         "zerolinecolor": "#E1E5ED"
        },
        "xaxis16": {
         "anchor": "y16",
         "domain": [
          0.7875,
          1
         ],
         "gridcolor": "#E1E5ED",
         "showgrid": false,
         "tickfont": {
          "color": "#4D5663"
         },
         "title": {
          "font": {
           "color": "#4D5663"
          },
          "text": ""
         },
         "zerolinecolor": "#E1E5ED"
        },
        "xaxis2": {
         "anchor": "y2",
         "domain": [
          0.2625,
          0.475
         ],
         "gridcolor": "#E1E5ED",
         "showgrid": false,
         "tickfont": {
          "color": "#4D5663"
         },
         "title": {
          "font": {
           "color": "#4D5663"
          },
          "text": ""
         },
         "zerolinecolor": "#E1E5ED"
        },
        "xaxis3": {
         "anchor": "y3",
         "domain": [
          0.525,
          0.7375
         ],
         "gridcolor": "#E1E5ED",
         "showgrid": false,
         "tickfont": {
          "color": "#4D5663"
         },
         "title": {
          "font": {
           "color": "#4D5663"
          },
          "text": ""
         },
         "zerolinecolor": "#E1E5ED"
        },
        "xaxis4": {
         "anchor": "y4",
         "domain": [
          0.7875,
          1
         ],
         "gridcolor": "#E1E5ED",
         "showgrid": false,
         "tickfont": {
          "color": "#4D5663"
         },
         "title": {
          "font": {
           "color": "#4D5663"
          },
          "text": ""
         },
         "zerolinecolor": "#E1E5ED"
        },
        "xaxis5": {
         "anchor": "y5",
         "domain": [
          0,
          0.2125
         ],
         "gridcolor": "#E1E5ED",
         "showgrid": false,
         "tickfont": {
          "color": "#4D5663"
         },
         "title": {
          "font": {
           "color": "#4D5663"
          },
          "text": ""
         },
         "zerolinecolor": "#E1E5ED"
        },
        "xaxis6": {
         "anchor": "y6",
         "domain": [
          0.2625,
          0.475
         ],
         "gridcolor": "#E1E5ED",
         "showgrid": false,
         "tickfont": {
          "color": "#4D5663"
         },
         "title": {
          "font": {
           "color": "#4D5663"
          },
          "text": ""
         },
         "zerolinecolor": "#E1E5ED"
        },
        "xaxis7": {
         "anchor": "y7",
         "domain": [
          0.525,
          0.7375
         ],
         "gridcolor": "#E1E5ED",
         "showgrid": false,
         "tickfont": {
          "color": "#4D5663"
         },
         "title": {
          "font": {
           "color": "#4D5663"
          },
          "text": ""
         },
         "zerolinecolor": "#E1E5ED"
        },
        "xaxis8": {
         "anchor": "y8",
         "domain": [
          0.7875,
          1
         ],
         "gridcolor": "#E1E5ED",
         "showgrid": false,
         "tickfont": {
          "color": "#4D5663"
         },
         "title": {
          "font": {
           "color": "#4D5663"
          },
          "text": ""
         },
         "zerolinecolor": "#E1E5ED"
        },
        "xaxis9": {
         "anchor": "y9",
         "domain": [
          0,
          0.2125
         ],
         "gridcolor": "#E1E5ED",
         "showgrid": false,
         "tickfont": {
          "color": "#4D5663"
         },
         "title": {
          "font": {
           "color": "#4D5663"
          },
          "text": ""
         },
         "zerolinecolor": "#E1E5ED"
        },
        "yaxis": {
         "anchor": "x",
         "domain": [
          0.8025,
          1
         ],
         "gridcolor": "#E1E5ED",
         "showgrid": false,
         "tickfont": {
          "color": "#4D5663"
         },
         "title": {
          "font": {
           "color": "#4D5663"
          },
          "text": ""
         },
         "zerolinecolor": "#E1E5ED"
        },
        "yaxis10": {
         "anchor": "x10",
         "domain": [
          0.2675,
          0.465
         ],
         "gridcolor": "#E1E5ED",
         "showgrid": false,
         "tickfont": {
          "color": "#4D5663"
         },
         "title": {
          "font": {
           "color": "#4D5663"
          },
          "text": ""
         },
         "zerolinecolor": "#E1E5ED"
        },
        "yaxis11": {
         "anchor": "x11",
         "domain": [
          0.2675,
          0.465
         ],
         "gridcolor": "#E1E5ED",
         "showgrid": false,
         "tickfont": {
          "color": "#4D5663"
         },
         "title": {
          "font": {
           "color": "#4D5663"
          },
          "text": ""
         },
         "zerolinecolor": "#E1E5ED"
        },
        "yaxis12": {
         "anchor": "x12",
         "domain": [
          0.2675,
          0.465
         ],
         "gridcolor": "#E1E5ED",
         "showgrid": false,
         "tickfont": {
          "color": "#4D5663"
         },
         "title": {
          "font": {
           "color": "#4D5663"
          },
          "text": ""
         },
         "zerolinecolor": "#E1E5ED"
        },
        "yaxis13": {
         "anchor": "x13",
         "domain": [
          0,
          0.1975
         ],
         "gridcolor": "#E1E5ED",
         "showgrid": false,
         "tickfont": {
          "color": "#4D5663"
         },
         "title": {
          "font": {
           "color": "#4D5663"
          },
          "text": ""
         },
         "zerolinecolor": "#E1E5ED"
        },
        "yaxis14": {
         "anchor": "x14",
         "domain": [
          0,
          0.1975
         ],
         "gridcolor": "#E1E5ED",
         "showgrid": false,
         "tickfont": {
          "color": "#4D5663"
         },
         "title": {
          "font": {
           "color": "#4D5663"
          },
          "text": ""
         },
         "zerolinecolor": "#E1E5ED"
        },
        "yaxis15": {
         "anchor": "x15",
         "domain": [
          0,
          0.1975
         ],
         "gridcolor": "#E1E5ED",
         "showgrid": false,
         "tickfont": {
          "color": "#4D5663"
         },
         "title": {
          "font": {
           "color": "#4D5663"
          },
          "text": ""
         },
         "zerolinecolor": "#E1E5ED"
        },
        "yaxis16": {
         "anchor": "x16",
         "domain": [
          0,
          0.1975
         ],
         "gridcolor": "#E1E5ED",
         "showgrid": false,
         "tickfont": {
          "color": "#4D5663"
         },
         "title": {
          "font": {
           "color": "#4D5663"
          },
          "text": ""
         },
         "zerolinecolor": "#E1E5ED"
        },
        "yaxis2": {
         "anchor": "x2",
         "domain": [
          0.8025,
          1
         ],
         "gridcolor": "#E1E5ED",
         "showgrid": false,
         "tickfont": {
          "color": "#4D5663"
         },
         "title": {
          "font": {
           "color": "#4D5663"
          },
          "text": ""
         },
         "zerolinecolor": "#E1E5ED"
        },
        "yaxis3": {
         "anchor": "x3",
         "domain": [
          0.8025,
          1
         ],
         "gridcolor": "#E1E5ED",
         "showgrid": false,
         "tickfont": {
          "color": "#4D5663"
         },
         "title": {
          "font": {
           "color": "#4D5663"
          },
          "text": ""
         },
         "zerolinecolor": "#E1E5ED"
        },
        "yaxis4": {
         "anchor": "x4",
         "domain": [
          0.8025,
          1
         ],
         "gridcolor": "#E1E5ED",
         "showgrid": false,
         "tickfont": {
          "color": "#4D5663"
         },
         "title": {
          "font": {
           "color": "#4D5663"
          },
          "text": ""
         },
         "zerolinecolor": "#E1E5ED"
        },
        "yaxis5": {
         "anchor": "x5",
         "domain": [
          0.535,
          0.7325
         ],
         "gridcolor": "#E1E5ED",
         "showgrid": false,
         "tickfont": {
          "color": "#4D5663"
         },
         "title": {
          "font": {
           "color": "#4D5663"
          },
          "text": ""
         },
         "zerolinecolor": "#E1E5ED"
        },
        "yaxis6": {
         "anchor": "x6",
         "domain": [
          0.535,
          0.7325
         ],
         "gridcolor": "#E1E5ED",
         "showgrid": false,
         "tickfont": {
          "color": "#4D5663"
         },
         "title": {
          "font": {
           "color": "#4D5663"
          },
          "text": ""
         },
         "zerolinecolor": "#E1E5ED"
        },
        "yaxis7": {
         "anchor": "x7",
         "domain": [
          0.535,
          0.7325
         ],
         "gridcolor": "#E1E5ED",
         "showgrid": false,
         "tickfont": {
          "color": "#4D5663"
         },
         "title": {
          "font": {
           "color": "#4D5663"
          },
          "text": ""
         },
         "zerolinecolor": "#E1E5ED"
        },
        "yaxis8": {
         "anchor": "x8",
         "domain": [
          0.535,
          0.7325
         ],
         "gridcolor": "#E1E5ED",
         "showgrid": false,
         "tickfont": {
          "color": "#4D5663"
         },
         "title": {
          "font": {
           "color": "#4D5663"
          },
          "text": ""
         },
         "zerolinecolor": "#E1E5ED"
        },
        "yaxis9": {
         "anchor": "x9",
         "domain": [
          0.2675,
          0.465
         ],
         "gridcolor": "#E1E5ED",
         "showgrid": false,
         "tickfont": {
          "color": "#4D5663"
         },
         "title": {
          "font": {
           "color": "#4D5663"
          },
          "text": ""
         },
         "zerolinecolor": "#E1E5ED"
        }
       }
      },
      "text/html": [
       "<div>\n",
       "        \n",
       "        \n",
       "            <div id=\"44177535-a765-4e53-93ee-b1a4b82c05b8\" class=\"plotly-graph-div\" style=\"height:525px; width:100%;\"></div>\n",
       "            <script type=\"text/javascript\">\n",
       "                require([\"plotly\"], function(Plotly) {\n",
       "                    window.PLOTLYENV=window.PLOTLYENV || {};\n",
       "                    window.PLOTLYENV.BASE_URL='https://plot.ly';\n",
       "                    \n",
       "                if (document.getElementById(\"44177535-a765-4e53-93ee-b1a4b82c05b8\")) {\n",
       "                    Plotly.newPlot(\n",
       "                        '44177535-a765-4e53-93ee-b1a4b82c05b8',\n",
       "                        [{\"histfunc\": \"count\", \"histnorm\": \"\", \"marker\": {\"color\": \"rgba(255, 153, 51, 1.0)\", \"line\": {\"color\": \"#4D5663\", \"width\": 1.3}}, \"name\": \"A\", \"nbinsx\": 10, \"opacity\": 0.8, \"orientation\": \"v\", \"type\": \"histogram\", \"x\": [0.0894442250382196, -1.1636901974238956, -0.14222402464788517, 2.0778243621370107, 0.007891208853460787, 1.5114211282301155, -0.5781301716748249, -0.6493464768341835, 0.8804366298714607, -0.28659777359830724, -1.5497540650436465, 0.06842940166910959, -0.8432149839111754, 0.3625754416965515, 1.7444769159705618, -1.7432789276671714, 0.8127035469807969, 0.03540155607319169, 1.3149034064472398, -0.8091799746687368, 0.5944092099911594, 0.03851348232570403, 0.5753884431301269, -0.14955590357202014, 0.006847168151190288, -0.4779403451771194, -0.5121962485105361, 0.39522619677635673, -0.7774209665066977, 0.2010098882993933, -0.413765603541961, -1.837127240885446, -0.7430045491018606, 0.3817020317037981, -2.2971459526257667, -0.930848336285178, -0.059242497738331006, -0.7226483965722095, 0.9331620841320196, -0.007067825779079438, -0.24593939584039556, -0.23069547894684309, 1.0131302346093156, 2.16057042620193, 0.12158079292653799, 1.9895997640116458, 0.8383931024137476, -0.008374359246434421, 1.4147381393816199, -0.7975371494374897, 1.6005923733589194, 0.8461877996382429, 0.6049372106916631, 0.6167289385603898, -0.9841922062555499, -0.7090223222393144, -0.20062344927579204, -0.21840508922074062, 0.46574555484211694, 0.901984420014373, 0.2751723113873585, -0.7373810854520237, 1.2959580631458174, 1.3275372519280928, -0.14695123385579606, -0.9368085763045358, 0.4789197351621965, 0.6776401387760087, 0.5397652861837627, 0.13821965496865166, -0.6589820202089064, -0.17053658113319353, -1.1714716606227185, -0.6338918773750294, 1.4530407842838158, -0.3677987470750953, -0.578155120774312, 2.1707062080560133, -0.035509206884830384, -0.8735811264138856, 0.3147312144581037, 0.4965454858722151, 1.8680870347309269, 0.6875958421101073, -1.2340194983831576, -1.0017507758501363, -0.24547889804649828, -1.5561944000977719, -1.2255841958311244, -1.8797420996939276, -1.1416902067245454, -0.8550160927407154, -0.48042608219442223, -0.27799480490922684, 1.3749139157097308, 0.27300356286191324, -0.8159390980627154, -0.01673684419022112, -1.126958887272344, 0.1649610079367353], \"xaxis\": \"x\", \"yaxis\": \"y\"}, {\"line\": {\"color\": \"rgba(128, 128, 128, 1.0)\", \"dash\": \"solid\", \"shape\": \"linear\", \"width\": 1.3}, \"marker\": {\"size\": 2, \"symbol\": \"circle\"}, \"mode\": \"markers\", \"name\": \"A\", \"text\": \"\", \"type\": \"scatter\", \"x\": [-1.3655200158258656, 1.8038949899218248, 0.10843718531566045, 1.4355657023969033, -0.022422383228524325, -0.11741546053121543, 0.6385468531906983, -0.08348409080065669, -0.650770612339167, 0.3565848106287523, 1.594711505005319, -1.014433488127197, 0.6890127651066934, 0.3977818554815641, -1.341690125875958, -0.6988102568559302, -0.36712508794464865, -1.0522588585848436, 1.3882909633804152, -1.6094941778442455, -0.33120523917734057, -1.6903848972611626, 0.2843131685488693, 2.0035637132125133, -0.19697092284664577, -0.1514736478519328, -1.3298873967560545, 0.8235919879503149, -0.8030815481501907, -1.7409748037034218, 1.209499887557365, 2.1416193669136336, 1.4512468981049529, -0.5240122074515902, -0.37520021469507336, 1.4354493635068033, 1.0685554307252807, -0.8168828279085346, -1.5838185817713528, -0.4387628603968676, 0.03990606955832411, 2.6493819629058453, -1.1626131670879876, 0.01333459287637117, -0.7313883942559631, 0.8343779478478394, 0.8029890061540522, -1.412959274261139, 1.073032685859393, 0.2267015121459549, 1.143345332830039, 2.496603362120481, 0.9793209297274629, 0.8583954260892992, -1.2895959623160749, 0.2489351926348663, 1.4711880643513884, 0.9657769617053209, 1.583826612796633, -0.4454618003166316, 0.7445328747000158, 1.0616834457354132, -1.3195277669201264, 0.5047985700119586, -1.8297770264924418, -0.5786800269282291, 1.9202916269657508, -1.0730822622527767, 0.150800146046857, -1.2739672247693878, -0.8728613885960235, 0.8914441421994455, 1.5761950339719883, -1.3717201448056051, 1.3337188675745775, -0.022728635798502476, 2.1905772534661017, 0.6312529720703588, -1.0380398690782615, 1.6329567828998433, 0.20035279599071623, -0.7784045068351377, 1.2532029356440353, -0.7709214851815889, -0.15009567530999388, -0.16439602171750148, 0.15408902677376046, -0.30995291488325527, -0.11498077746145126, 0.4083918780301276, -0.36918189473767477, 1.415344496215347, -0.21976358236558427, 2.6148405210002705, -1.5097530168154465, 0.44936574046642674, 0.07000168611707176, 0.08650081185933392, 0.9203281370471121, 1.5903200193556177], \"xaxis\": \"x2\", \"y\": [0.0894442250382196, -1.1636901974238956, -0.14222402464788517, 2.0778243621370107, 0.007891208853460787, 1.5114211282301155, -0.5781301716748249, -0.6493464768341835, 0.8804366298714607, -0.28659777359830724, -1.5497540650436465, 0.06842940166910959, -0.8432149839111754, 0.3625754416965515, 1.7444769159705618, -1.7432789276671714, 0.8127035469807969, 0.03540155607319169, 1.3149034064472398, -0.8091799746687368, 0.5944092099911594, 0.03851348232570403, 0.5753884431301269, -0.14955590357202014, 0.006847168151190288, -0.4779403451771194, -0.5121962485105361, 0.39522619677635673, -0.7774209665066977, 0.2010098882993933, -0.413765603541961, -1.837127240885446, -0.7430045491018606, 0.3817020317037981, -2.2971459526257667, -0.930848336285178, -0.059242497738331006, -0.7226483965722095, 0.9331620841320196, -0.007067825779079438, -0.24593939584039556, -0.23069547894684309, 1.0131302346093156, 2.16057042620193, 0.12158079292653799, 1.9895997640116458, 0.8383931024137476, -0.008374359246434421, 1.4147381393816199, -0.7975371494374897, 1.6005923733589194, 0.8461877996382429, 0.6049372106916631, 0.6167289385603898, -0.9841922062555499, -0.7090223222393144, -0.20062344927579204, -0.21840508922074062, 0.46574555484211694, 0.901984420014373, 0.2751723113873585, -0.7373810854520237, 1.2959580631458174, 1.3275372519280928, -0.14695123385579606, -0.9368085763045358, 0.4789197351621965, 0.6776401387760087, 0.5397652861837627, 0.13821965496865166, -0.6589820202089064, -0.17053658113319353, -1.1714716606227185, -0.6338918773750294, 1.4530407842838158, -0.3677987470750953, -0.578155120774312, 2.1707062080560133, -0.035509206884830384, -0.8735811264138856, 0.3147312144581037, 0.4965454858722151, 1.8680870347309269, 0.6875958421101073, -1.2340194983831576, -1.0017507758501363, -0.24547889804649828, -1.5561944000977719, -1.2255841958311244, -1.8797420996939276, -1.1416902067245454, -0.8550160927407154, -0.48042608219442223, -0.27799480490922684, 1.3749139157097308, 0.27300356286191324, -0.8159390980627154, -0.01673684419022112, -1.126958887272344, 0.1649610079367353], \"yaxis\": \"y2\"}, {\"line\": {\"color\": \"rgba(128, 128, 128, 1.0)\", \"dash\": \"solid\", \"shape\": \"linear\", \"width\": 1.3}, \"marker\": {\"size\": 2, \"symbol\": \"circle\"}, \"mode\": \"markers\", \"name\": \"A\", \"text\": \"\", \"type\": \"scatter\", \"x\": [-1.0443923988550883, 0.5759995529236465, 0.9054989998491968, 0.6203644361671303, -0.06924857428643545, 0.02450828462246479, 0.829083324418259, -0.8179730543177922, 1.287131551246612, 2.35528249916397, 0.6248232285928756, -0.9797254984790027, 0.9098143402760405, 0.3346415659201809, 0.09350815869751432, -0.09885958176882112, 0.09915361248980409, -0.5970247720274051, -1.6496275868366244, -1.9395735343061775, -0.9973024489511103, -0.16547273659582543, 0.3945415979397608, -0.0416585702958144, -0.5265133052913373, -0.25915431437378605, -0.45914539801171333, 0.3635293135932887, -1.9291580431323683, -0.6169138440693483, -0.7881260295130461, -0.7646199713213452, 2.222560477265973, -0.736085636806195, 0.19511887226317776, 0.3930289680255666, 1.164892302752009, 0.7289276728446223, -0.10737424906375048, 0.34697764144859505, 1.4308048085034748, -0.10532418477598272, -0.3922722938914601, -0.2863748856102306, 1.1679381125666788, -1.081180250408216, -0.5678364865562925, 0.564016520048274, 0.4952489232462605, -1.4171433403855391, -0.3039000655850409, -0.674666037911358, -1.6238999536508272, -0.6199556263538619, -0.15410436516655085, -0.3816543899426865, 0.3095246620251357, 0.18213390126551693, 4.492097801899369e-05, 0.954889837001447, -2.0180651247606236, 0.5011430832113065, 0.7019375990548377, -0.35420764781397024, 0.02623113210256715, 1.1800455384696376, -1.319921582094915, -0.6470961059887294, 1.816145096173063, 1.112974648388055, 0.0701925987129905, 0.21086210054882606, 0.5295678049372673, -0.008261532654117363, -0.06907710975239476, 0.9666428400665696, 0.8687300425468045, -1.1217964199023274, -1.5739327047228504, 0.6308878903193936, 0.6317464761335823, 0.14958164561674128, 0.04132433833840389, -0.022922727963336456, -0.9517559263680294, 1.4015792917121408, 0.6038466356348323, 0.26694932448701914, -0.1577614823606639, 0.6886607585304464, -1.7766292844292435, -0.709652134541324, 0.5700151717259795, 1.236679805364241, 1.0084774597557262, -0.18967335841858876, -0.17454619447005082, 0.06888575607696995, -1.9019657294659444, -1.6073233387377233], \"xaxis\": \"x3\", \"y\": [0.0894442250382196, -1.1636901974238956, -0.14222402464788517, 2.0778243621370107, 0.007891208853460787, 1.5114211282301155, -0.5781301716748249, -0.6493464768341835, 0.8804366298714607, -0.28659777359830724, -1.5497540650436465, 0.06842940166910959, -0.8432149839111754, 0.3625754416965515, 1.7444769159705618, -1.7432789276671714, 0.8127035469807969, 0.03540155607319169, 1.3149034064472398, -0.8091799746687368, 0.5944092099911594, 0.03851348232570403, 0.5753884431301269, -0.14955590357202014, 0.006847168151190288, -0.4779403451771194, -0.5121962485105361, 0.39522619677635673, -0.7774209665066977, 0.2010098882993933, -0.413765603541961, -1.837127240885446, -0.7430045491018606, 0.3817020317037981, -2.2971459526257667, -0.930848336285178, -0.059242497738331006, -0.7226483965722095, 0.9331620841320196, -0.007067825779079438, -0.24593939584039556, -0.23069547894684309, 1.0131302346093156, 2.16057042620193, 0.12158079292653799, 1.9895997640116458, 0.8383931024137476, -0.008374359246434421, 1.4147381393816199, -0.7975371494374897, 1.6005923733589194, 0.8461877996382429, 0.6049372106916631, 0.6167289385603898, -0.9841922062555499, -0.7090223222393144, -0.20062344927579204, -0.21840508922074062, 0.46574555484211694, 0.901984420014373, 0.2751723113873585, -0.7373810854520237, 1.2959580631458174, 1.3275372519280928, -0.14695123385579606, -0.9368085763045358, 0.4789197351621965, 0.6776401387760087, 0.5397652861837627, 0.13821965496865166, -0.6589820202089064, -0.17053658113319353, -1.1714716606227185, -0.6338918773750294, 1.4530407842838158, -0.3677987470750953, -0.578155120774312, 2.1707062080560133, -0.035509206884830384, -0.8735811264138856, 0.3147312144581037, 0.4965454858722151, 1.8680870347309269, 0.6875958421101073, -1.2340194983831576, -1.0017507758501363, -0.24547889804649828, -1.5561944000977719, -1.2255841958311244, -1.8797420996939276, -1.1416902067245454, -0.8550160927407154, -0.48042608219442223, -0.27799480490922684, 1.3749139157097308, 0.27300356286191324, -0.8159390980627154, -0.01673684419022112, -1.126958887272344, 0.1649610079367353], \"yaxis\": \"y3\"}, {\"line\": {\"color\": \"rgba(128, 128, 128, 1.0)\", \"dash\": \"solid\", \"shape\": \"linear\", \"width\": 1.3}, \"marker\": {\"size\": 2, \"symbol\": \"circle\"}, \"mode\": \"markers\", \"name\": \"A\", \"text\": \"\", \"type\": \"scatter\", \"x\": [0.49121024915659534, -0.6054208280330104, 0.4286133751507561, 0.5749791299996299, -1.4651647654724183, 1.5091235424591303, -1.9028446965144412, 0.8556574037290288, 1.0184410347708033, 0.16975296591159805, -1.0819803297839774, 2.2897431306900065, 1.5275189159802138, 0.548235816602612, 0.5189169567447889, 0.225315009495835, 0.5325987480959407, 0.664647475231488, 1.4104501919810468, -1.0471501792872175, 0.7748136152235511, 0.3867417476639088, -0.28077710498348185, -1.6231256705971266, -0.285245216581967, 0.3981051276950406, -1.0612838474336348, 0.4022015086996178, -0.8322587093790262, 0.6651191410496203, 1.2579646460569598, 0.01684876411202814, 0.45152140974726257, -2.136011881929804, -0.07110882406206066, -0.8350381719926955, -0.7096150691234179, 0.0833020807038666, -1.2810627177009017, -0.5627280130124556, 0.3423593122646959, -0.38033636926180336, -2.4683585500783534, 1.4915813469249055, 0.23922250306859477, 1.0417385489456086, 0.6521999486033947, 1.4655723982644033, -1.8355261359209765, 0.013260204635078612, -0.9888656867572325, 0.8225639406761003, -2.6833171397996676, -0.6609511765107219, -0.745568929564417, 1.746436407878108, -0.4053585682370533, -0.28814461539863484, 0.7502246863560132, 1.2099094927051703, 0.7767443473779333, -0.9653578660164819, 1.1780862842340172, -0.4905071894476108, 1.5358221313058311, -0.7151415875177684, -0.1735930908244306, -0.09704506911224087, 0.8231424686940455, 1.199028806085445, -1.188384939751405, -0.40143860096391515, -0.12640927825109832, 0.8614192962420617, -1.2342541720865574, 0.21648117015489163, 1.6235951677327358, 0.4467158869038937, 0.1563263832875724, 0.11919124064187522, -1.5373422092171551, -1.5125276057454, -1.328436814796126, -0.6673350516205485, 0.9296382051593038, -0.706515671269773, -0.3177655840393208, 0.3073804944759816, -0.9851963314047077, 1.6905939706242712, 0.1281989805328292, 0.31804404398677755, 1.2562240009626575, -0.08291136730888701, 0.17879678765892845, -2.7675719398666687, 0.8889994754497441, 2.325165108614538, 2.368083968830104, 0.8826354593944352], \"xaxis\": \"x4\", \"y\": [0.0894442250382196, -1.1636901974238956, -0.14222402464788517, 2.0778243621370107, 0.007891208853460787, 1.5114211282301155, -0.5781301716748249, -0.6493464768341835, 0.8804366298714607, -0.28659777359830724, -1.5497540650436465, 0.06842940166910959, -0.8432149839111754, 0.3625754416965515, 1.7444769159705618, -1.7432789276671714, 0.8127035469807969, 0.03540155607319169, 1.3149034064472398, -0.8091799746687368, 0.5944092099911594, 0.03851348232570403, 0.5753884431301269, -0.14955590357202014, 0.006847168151190288, -0.4779403451771194, -0.5121962485105361, 0.39522619677635673, -0.7774209665066977, 0.2010098882993933, -0.413765603541961, -1.837127240885446, -0.7430045491018606, 0.3817020317037981, -2.2971459526257667, -0.930848336285178, -0.059242497738331006, -0.7226483965722095, 0.9331620841320196, -0.007067825779079438, -0.24593939584039556, -0.23069547894684309, 1.0131302346093156, 2.16057042620193, 0.12158079292653799, 1.9895997640116458, 0.8383931024137476, -0.008374359246434421, 1.4147381393816199, -0.7975371494374897, 1.6005923733589194, 0.8461877996382429, 0.6049372106916631, 0.6167289385603898, -0.9841922062555499, -0.7090223222393144, -0.20062344927579204, -0.21840508922074062, 0.46574555484211694, 0.901984420014373, 0.2751723113873585, -0.7373810854520237, 1.2959580631458174, 1.3275372519280928, -0.14695123385579606, -0.9368085763045358, 0.4789197351621965, 0.6776401387760087, 0.5397652861837627, 0.13821965496865166, -0.6589820202089064, -0.17053658113319353, -1.1714716606227185, -0.6338918773750294, 1.4530407842838158, -0.3677987470750953, -0.578155120774312, 2.1707062080560133, -0.035509206884830384, -0.8735811264138856, 0.3147312144581037, 0.4965454858722151, 1.8680870347309269, 0.6875958421101073, -1.2340194983831576, -1.0017507758501363, -0.24547889804649828, -1.5561944000977719, -1.2255841958311244, -1.8797420996939276, -1.1416902067245454, -0.8550160927407154, -0.48042608219442223, -0.27799480490922684, 1.3749139157097308, 0.27300356286191324, -0.8159390980627154, -0.01673684419022112, -1.126958887272344, 0.1649610079367353], \"yaxis\": \"y4\"}, {\"line\": {\"color\": \"rgba(128, 128, 128, 1.0)\", \"dash\": \"solid\", \"shape\": \"linear\", \"width\": 1.3}, \"marker\": {\"size\": 2, \"symbol\": \"circle\"}, \"mode\": \"markers\", \"name\": \"B\", \"text\": \"\", \"type\": \"scatter\", \"x\": [0.0894442250382196, -1.1636901974238956, -0.14222402464788517, 2.0778243621370107, 0.007891208853460787, 1.5114211282301155, -0.5781301716748249, -0.6493464768341835, 0.8804366298714607, -0.28659777359830724, -1.5497540650436465, 0.06842940166910959, -0.8432149839111754, 0.3625754416965515, 1.7444769159705618, -1.7432789276671714, 0.8127035469807969, 0.03540155607319169, 1.3149034064472398, -0.8091799746687368, 0.5944092099911594, 0.03851348232570403, 0.5753884431301269, -0.14955590357202014, 0.006847168151190288, -0.4779403451771194, -0.5121962485105361, 0.39522619677635673, -0.7774209665066977, 0.2010098882993933, -0.413765603541961, -1.837127240885446, -0.7430045491018606, 0.3817020317037981, -2.2971459526257667, -0.930848336285178, -0.059242497738331006, -0.7226483965722095, 0.9331620841320196, -0.007067825779079438, -0.24593939584039556, -0.23069547894684309, 1.0131302346093156, 2.16057042620193, 0.12158079292653799, 1.9895997640116458, 0.8383931024137476, -0.008374359246434421, 1.4147381393816199, -0.7975371494374897, 1.6005923733589194, 0.8461877996382429, 0.6049372106916631, 0.6167289385603898, -0.9841922062555499, -0.7090223222393144, -0.20062344927579204, -0.21840508922074062, 0.46574555484211694, 0.901984420014373, 0.2751723113873585, -0.7373810854520237, 1.2959580631458174, 1.3275372519280928, -0.14695123385579606, -0.9368085763045358, 0.4789197351621965, 0.6776401387760087, 0.5397652861837627, 0.13821965496865166, -0.6589820202089064, -0.17053658113319353, -1.1714716606227185, -0.6338918773750294, 1.4530407842838158, -0.3677987470750953, -0.578155120774312, 2.1707062080560133, -0.035509206884830384, -0.8735811264138856, 0.3147312144581037, 0.4965454858722151, 1.8680870347309269, 0.6875958421101073, -1.2340194983831576, -1.0017507758501363, -0.24547889804649828, -1.5561944000977719, -1.2255841958311244, -1.8797420996939276, -1.1416902067245454, -0.8550160927407154, -0.48042608219442223, -0.27799480490922684, 1.3749139157097308, 0.27300356286191324, -0.8159390980627154, -0.01673684419022112, -1.126958887272344, 0.1649610079367353], \"xaxis\": \"x5\", \"y\": [-1.3655200158258656, 1.8038949899218248, 0.10843718531566045, 1.4355657023969033, -0.022422383228524325, -0.11741546053121543, 0.6385468531906983, -0.08348409080065669, -0.650770612339167, 0.3565848106287523, 1.594711505005319, -1.014433488127197, 0.6890127651066934, 0.3977818554815641, -1.341690125875958, -0.6988102568559302, -0.36712508794464865, -1.0522588585848436, 1.3882909633804152, -1.6094941778442455, -0.33120523917734057, -1.6903848972611626, 0.2843131685488693, 2.0035637132125133, -0.19697092284664577, -0.1514736478519328, -1.3298873967560545, 0.8235919879503149, -0.8030815481501907, -1.7409748037034218, 1.209499887557365, 2.1416193669136336, 1.4512468981049529, -0.5240122074515902, -0.37520021469507336, 1.4354493635068033, 1.0685554307252807, -0.8168828279085346, -1.5838185817713528, -0.4387628603968676, 0.03990606955832411, 2.6493819629058453, -1.1626131670879876, 0.01333459287637117, -0.7313883942559631, 0.8343779478478394, 0.8029890061540522, -1.412959274261139, 1.073032685859393, 0.2267015121459549, 1.143345332830039, 2.496603362120481, 0.9793209297274629, 0.8583954260892992, -1.2895959623160749, 0.2489351926348663, 1.4711880643513884, 0.9657769617053209, 1.583826612796633, -0.4454618003166316, 0.7445328747000158, 1.0616834457354132, -1.3195277669201264, 0.5047985700119586, -1.8297770264924418, -0.5786800269282291, 1.9202916269657508, -1.0730822622527767, 0.150800146046857, -1.2739672247693878, -0.8728613885960235, 0.8914441421994455, 1.5761950339719883, -1.3717201448056051, 1.3337188675745775, -0.022728635798502476, 2.1905772534661017, 0.6312529720703588, -1.0380398690782615, 1.6329567828998433, 0.20035279599071623, -0.7784045068351377, 1.2532029356440353, -0.7709214851815889, -0.15009567530999388, -0.16439602171750148, 0.15408902677376046, -0.30995291488325527, -0.11498077746145126, 0.4083918780301276, -0.36918189473767477, 1.415344496215347, -0.21976358236558427, 2.6148405210002705, -1.5097530168154465, 0.44936574046642674, 0.07000168611707176, 0.08650081185933392, 0.9203281370471121, 1.5903200193556177], \"yaxis\": \"y5\"}, {\"histfunc\": \"count\", \"histnorm\": \"\", \"marker\": {\"color\": \"rgba(55, 128, 191, 1.0)\", \"line\": {\"color\": \"#4D5663\", \"width\": 1.3}}, \"name\": \"B\", \"nbinsx\": 10, \"opacity\": 0.8, \"orientation\": \"v\", \"type\": \"histogram\", \"x\": [-1.3655200158258656, 1.8038949899218248, 0.10843718531566045, 1.4355657023969033, -0.022422383228524325, -0.11741546053121543, 0.6385468531906983, -0.08348409080065669, -0.650770612339167, 0.3565848106287523, 1.594711505005319, -1.014433488127197, 0.6890127651066934, 0.3977818554815641, -1.341690125875958, -0.6988102568559302, -0.36712508794464865, -1.0522588585848436, 1.3882909633804152, -1.6094941778442455, -0.33120523917734057, -1.6903848972611626, 0.2843131685488693, 2.0035637132125133, -0.19697092284664577, -0.1514736478519328, -1.3298873967560545, 0.8235919879503149, -0.8030815481501907, -1.7409748037034218, 1.209499887557365, 2.1416193669136336, 1.4512468981049529, -0.5240122074515902, -0.37520021469507336, 1.4354493635068033, 1.0685554307252807, -0.8168828279085346, -1.5838185817713528, -0.4387628603968676, 0.03990606955832411, 2.6493819629058453, -1.1626131670879876, 0.01333459287637117, -0.7313883942559631, 0.8343779478478394, 0.8029890061540522, -1.412959274261139, 1.073032685859393, 0.2267015121459549, 1.143345332830039, 2.496603362120481, 0.9793209297274629, 0.8583954260892992, -1.2895959623160749, 0.2489351926348663, 1.4711880643513884, 0.9657769617053209, 1.583826612796633, -0.4454618003166316, 0.7445328747000158, 1.0616834457354132, -1.3195277669201264, 0.5047985700119586, -1.8297770264924418, -0.5786800269282291, 1.9202916269657508, -1.0730822622527767, 0.150800146046857, -1.2739672247693878, -0.8728613885960235, 0.8914441421994455, 1.5761950339719883, -1.3717201448056051, 1.3337188675745775, -0.022728635798502476, 2.1905772534661017, 0.6312529720703588, -1.0380398690782615, 1.6329567828998433, 0.20035279599071623, -0.7784045068351377, 1.2532029356440353, -0.7709214851815889, -0.15009567530999388, -0.16439602171750148, 0.15408902677376046, -0.30995291488325527, -0.11498077746145126, 0.4083918780301276, -0.36918189473767477, 1.415344496215347, -0.21976358236558427, 2.6148405210002705, -1.5097530168154465, 0.44936574046642674, 0.07000168611707176, 0.08650081185933392, 0.9203281370471121, 1.5903200193556177], \"xaxis\": \"x6\", \"yaxis\": \"y6\"}, {\"line\": {\"color\": \"rgba(128, 128, 128, 1.0)\", \"dash\": \"solid\", \"shape\": \"linear\", \"width\": 1.3}, \"marker\": {\"size\": 2, \"symbol\": \"circle\"}, \"mode\": \"markers\", \"name\": \"B\", \"text\": \"\", \"type\": \"scatter\", \"x\": [-1.0443923988550883, 0.5759995529236465, 0.9054989998491968, 0.6203644361671303, -0.06924857428643545, 0.02450828462246479, 0.829083324418259, -0.8179730543177922, 1.287131551246612, 2.35528249916397, 0.6248232285928756, -0.9797254984790027, 0.9098143402760405, 0.3346415659201809, 0.09350815869751432, -0.09885958176882112, 0.09915361248980409, -0.5970247720274051, -1.6496275868366244, -1.9395735343061775, -0.9973024489511103, -0.16547273659582543, 0.3945415979397608, -0.0416585702958144, -0.5265133052913373, -0.25915431437378605, -0.45914539801171333, 0.3635293135932887, -1.9291580431323683, -0.6169138440693483, -0.7881260295130461, -0.7646199713213452, 2.222560477265973, -0.736085636806195, 0.19511887226317776, 0.3930289680255666, 1.164892302752009, 0.7289276728446223, -0.10737424906375048, 0.34697764144859505, 1.4308048085034748, -0.10532418477598272, -0.3922722938914601, -0.2863748856102306, 1.1679381125666788, -1.081180250408216, -0.5678364865562925, 0.564016520048274, 0.4952489232462605, -1.4171433403855391, -0.3039000655850409, -0.674666037911358, -1.6238999536508272, -0.6199556263538619, -0.15410436516655085, -0.3816543899426865, 0.3095246620251357, 0.18213390126551693, 4.492097801899369e-05, 0.954889837001447, -2.0180651247606236, 0.5011430832113065, 0.7019375990548377, -0.35420764781397024, 0.02623113210256715, 1.1800455384696376, -1.319921582094915, -0.6470961059887294, 1.816145096173063, 1.112974648388055, 0.0701925987129905, 0.21086210054882606, 0.5295678049372673, -0.008261532654117363, -0.06907710975239476, 0.9666428400665696, 0.8687300425468045, -1.1217964199023274, -1.5739327047228504, 0.6308878903193936, 0.6317464761335823, 0.14958164561674128, 0.04132433833840389, -0.022922727963336456, -0.9517559263680294, 1.4015792917121408, 0.6038466356348323, 0.26694932448701914, -0.1577614823606639, 0.6886607585304464, -1.7766292844292435, -0.709652134541324, 0.5700151717259795, 1.236679805364241, 1.0084774597557262, -0.18967335841858876, -0.17454619447005082, 0.06888575607696995, -1.9019657294659444, -1.6073233387377233], \"xaxis\": \"x7\", \"y\": [-1.3655200158258656, 1.8038949899218248, 0.10843718531566045, 1.4355657023969033, -0.022422383228524325, -0.11741546053121543, 0.6385468531906983, -0.08348409080065669, -0.650770612339167, 0.3565848106287523, 1.594711505005319, -1.014433488127197, 0.6890127651066934, 0.3977818554815641, -1.341690125875958, -0.6988102568559302, -0.36712508794464865, -1.0522588585848436, 1.3882909633804152, -1.6094941778442455, -0.33120523917734057, -1.6903848972611626, 0.2843131685488693, 2.0035637132125133, -0.19697092284664577, -0.1514736478519328, -1.3298873967560545, 0.8235919879503149, -0.8030815481501907, -1.7409748037034218, 1.209499887557365, 2.1416193669136336, 1.4512468981049529, -0.5240122074515902, -0.37520021469507336, 1.4354493635068033, 1.0685554307252807, -0.8168828279085346, -1.5838185817713528, -0.4387628603968676, 0.03990606955832411, 2.6493819629058453, -1.1626131670879876, 0.01333459287637117, -0.7313883942559631, 0.8343779478478394, 0.8029890061540522, -1.412959274261139, 1.073032685859393, 0.2267015121459549, 1.143345332830039, 2.496603362120481, 0.9793209297274629, 0.8583954260892992, -1.2895959623160749, 0.2489351926348663, 1.4711880643513884, 0.9657769617053209, 1.583826612796633, -0.4454618003166316, 0.7445328747000158, 1.0616834457354132, -1.3195277669201264, 0.5047985700119586, -1.8297770264924418, -0.5786800269282291, 1.9202916269657508, -1.0730822622527767, 0.150800146046857, -1.2739672247693878, -0.8728613885960235, 0.8914441421994455, 1.5761950339719883, -1.3717201448056051, 1.3337188675745775, -0.022728635798502476, 2.1905772534661017, 0.6312529720703588, -1.0380398690782615, 1.6329567828998433, 0.20035279599071623, -0.7784045068351377, 1.2532029356440353, -0.7709214851815889, -0.15009567530999388, -0.16439602171750148, 0.15408902677376046, -0.30995291488325527, -0.11498077746145126, 0.4083918780301276, -0.36918189473767477, 1.415344496215347, -0.21976358236558427, 2.6148405210002705, -1.5097530168154465, 0.44936574046642674, 0.07000168611707176, 0.08650081185933392, 0.9203281370471121, 1.5903200193556177], \"yaxis\": \"y7\"}, {\"line\": {\"color\": \"rgba(128, 128, 128, 1.0)\", \"dash\": \"solid\", \"shape\": \"linear\", \"width\": 1.3}, \"marker\": {\"size\": 2, \"symbol\": \"circle\"}, \"mode\": \"markers\", \"name\": \"B\", \"text\": \"\", \"type\": \"scatter\", \"x\": [0.49121024915659534, -0.6054208280330104, 0.4286133751507561, 0.5749791299996299, -1.4651647654724183, 1.5091235424591303, -1.9028446965144412, 0.8556574037290288, 1.0184410347708033, 0.16975296591159805, -1.0819803297839774, 2.2897431306900065, 1.5275189159802138, 0.548235816602612, 0.5189169567447889, 0.225315009495835, 0.5325987480959407, 0.664647475231488, 1.4104501919810468, -1.0471501792872175, 0.7748136152235511, 0.3867417476639088, -0.28077710498348185, -1.6231256705971266, -0.285245216581967, 0.3981051276950406, -1.0612838474336348, 0.4022015086996178, -0.8322587093790262, 0.6651191410496203, 1.2579646460569598, 0.01684876411202814, 0.45152140974726257, -2.136011881929804, -0.07110882406206066, -0.8350381719926955, -0.7096150691234179, 0.0833020807038666, -1.2810627177009017, -0.5627280130124556, 0.3423593122646959, -0.38033636926180336, -2.4683585500783534, 1.4915813469249055, 0.23922250306859477, 1.0417385489456086, 0.6521999486033947, 1.4655723982644033, -1.8355261359209765, 0.013260204635078612, -0.9888656867572325, 0.8225639406761003, -2.6833171397996676, -0.6609511765107219, -0.745568929564417, 1.746436407878108, -0.4053585682370533, -0.28814461539863484, 0.7502246863560132, 1.2099094927051703, 0.7767443473779333, -0.9653578660164819, 1.1780862842340172, -0.4905071894476108, 1.5358221313058311, -0.7151415875177684, -0.1735930908244306, -0.09704506911224087, 0.8231424686940455, 1.199028806085445, -1.188384939751405, -0.40143860096391515, -0.12640927825109832, 0.8614192962420617, -1.2342541720865574, 0.21648117015489163, 1.6235951677327358, 0.4467158869038937, 0.1563263832875724, 0.11919124064187522, -1.5373422092171551, -1.5125276057454, -1.328436814796126, -0.6673350516205485, 0.9296382051593038, -0.706515671269773, -0.3177655840393208, 0.3073804944759816, -0.9851963314047077, 1.6905939706242712, 0.1281989805328292, 0.31804404398677755, 1.2562240009626575, -0.08291136730888701, 0.17879678765892845, -2.7675719398666687, 0.8889994754497441, 2.325165108614538, 2.368083968830104, 0.8826354593944352], \"xaxis\": \"x8\", \"y\": [-1.3655200158258656, 1.8038949899218248, 0.10843718531566045, 1.4355657023969033, -0.022422383228524325, -0.11741546053121543, 0.6385468531906983, -0.08348409080065669, -0.650770612339167, 0.3565848106287523, 1.594711505005319, -1.014433488127197, 0.6890127651066934, 0.3977818554815641, -1.341690125875958, -0.6988102568559302, -0.36712508794464865, -1.0522588585848436, 1.3882909633804152, -1.6094941778442455, -0.33120523917734057, -1.6903848972611626, 0.2843131685488693, 2.0035637132125133, -0.19697092284664577, -0.1514736478519328, -1.3298873967560545, 0.8235919879503149, -0.8030815481501907, -1.7409748037034218, 1.209499887557365, 2.1416193669136336, 1.4512468981049529, -0.5240122074515902, -0.37520021469507336, 1.4354493635068033, 1.0685554307252807, -0.8168828279085346, -1.5838185817713528, -0.4387628603968676, 0.03990606955832411, 2.6493819629058453, -1.1626131670879876, 0.01333459287637117, -0.7313883942559631, 0.8343779478478394, 0.8029890061540522, -1.412959274261139, 1.073032685859393, 0.2267015121459549, 1.143345332830039, 2.496603362120481, 0.9793209297274629, 0.8583954260892992, -1.2895959623160749, 0.2489351926348663, 1.4711880643513884, 0.9657769617053209, 1.583826612796633, -0.4454618003166316, 0.7445328747000158, 1.0616834457354132, -1.3195277669201264, 0.5047985700119586, -1.8297770264924418, -0.5786800269282291, 1.9202916269657508, -1.0730822622527767, 0.150800146046857, -1.2739672247693878, -0.8728613885960235, 0.8914441421994455, 1.5761950339719883, -1.3717201448056051, 1.3337188675745775, -0.022728635798502476, 2.1905772534661017, 0.6312529720703588, -1.0380398690782615, 1.6329567828998433, 0.20035279599071623, -0.7784045068351377, 1.2532029356440353, -0.7709214851815889, -0.15009567530999388, -0.16439602171750148, 0.15408902677376046, -0.30995291488325527, -0.11498077746145126, 0.4083918780301276, -0.36918189473767477, 1.415344496215347, -0.21976358236558427, 2.6148405210002705, -1.5097530168154465, 0.44936574046642674, 0.07000168611707176, 0.08650081185933392, 0.9203281370471121, 1.5903200193556177], \"yaxis\": \"y8\"}, {\"line\": {\"color\": \"rgba(128, 128, 128, 1.0)\", \"dash\": \"solid\", \"shape\": \"linear\", \"width\": 1.3}, \"marker\": {\"size\": 2, \"symbol\": \"circle\"}, \"mode\": \"markers\", \"name\": \"C\", \"text\": \"\", \"type\": \"scatter\", \"x\": [0.0894442250382196, -1.1636901974238956, -0.14222402464788517, 2.0778243621370107, 0.007891208853460787, 1.5114211282301155, -0.5781301716748249, -0.6493464768341835, 0.8804366298714607, -0.28659777359830724, -1.5497540650436465, 0.06842940166910959, -0.8432149839111754, 0.3625754416965515, 1.7444769159705618, -1.7432789276671714, 0.8127035469807969, 0.03540155607319169, 1.3149034064472398, -0.8091799746687368, 0.5944092099911594, 0.03851348232570403, 0.5753884431301269, -0.14955590357202014, 0.006847168151190288, -0.4779403451771194, -0.5121962485105361, 0.39522619677635673, -0.7774209665066977, 0.2010098882993933, -0.413765603541961, -1.837127240885446, -0.7430045491018606, 0.3817020317037981, -2.2971459526257667, -0.930848336285178, -0.059242497738331006, -0.7226483965722095, 0.9331620841320196, -0.007067825779079438, -0.24593939584039556, -0.23069547894684309, 1.0131302346093156, 2.16057042620193, 0.12158079292653799, 1.9895997640116458, 0.8383931024137476, -0.008374359246434421, 1.4147381393816199, -0.7975371494374897, 1.6005923733589194, 0.8461877996382429, 0.6049372106916631, 0.6167289385603898, -0.9841922062555499, -0.7090223222393144, -0.20062344927579204, -0.21840508922074062, 0.46574555484211694, 0.901984420014373, 0.2751723113873585, -0.7373810854520237, 1.2959580631458174, 1.3275372519280928, -0.14695123385579606, -0.9368085763045358, 0.4789197351621965, 0.6776401387760087, 0.5397652861837627, 0.13821965496865166, -0.6589820202089064, -0.17053658113319353, -1.1714716606227185, -0.6338918773750294, 1.4530407842838158, -0.3677987470750953, -0.578155120774312, 2.1707062080560133, -0.035509206884830384, -0.8735811264138856, 0.3147312144581037, 0.4965454858722151, 1.8680870347309269, 0.6875958421101073, -1.2340194983831576, -1.0017507758501363, -0.24547889804649828, -1.5561944000977719, -1.2255841958311244, -1.8797420996939276, -1.1416902067245454, -0.8550160927407154, -0.48042608219442223, -0.27799480490922684, 1.3749139157097308, 0.27300356286191324, -0.8159390980627154, -0.01673684419022112, -1.126958887272344, 0.1649610079367353], \"xaxis\": \"x9\", \"y\": [-1.0443923988550883, 0.5759995529236465, 0.9054989998491968, 0.6203644361671303, -0.06924857428643545, 0.02450828462246479, 0.829083324418259, -0.8179730543177922, 1.287131551246612, 2.35528249916397, 0.6248232285928756, -0.9797254984790027, 0.9098143402760405, 0.3346415659201809, 0.09350815869751432, -0.09885958176882112, 0.09915361248980409, -0.5970247720274051, -1.6496275868366244, -1.9395735343061775, -0.9973024489511103, -0.16547273659582543, 0.3945415979397608, -0.0416585702958144, -0.5265133052913373, -0.25915431437378605, -0.45914539801171333, 0.3635293135932887, -1.9291580431323683, -0.6169138440693483, -0.7881260295130461, -0.7646199713213452, 2.222560477265973, -0.736085636806195, 0.19511887226317776, 0.3930289680255666, 1.164892302752009, 0.7289276728446223, -0.10737424906375048, 0.34697764144859505, 1.4308048085034748, -0.10532418477598272, -0.3922722938914601, -0.2863748856102306, 1.1679381125666788, -1.081180250408216, -0.5678364865562925, 0.564016520048274, 0.4952489232462605, -1.4171433403855391, -0.3039000655850409, -0.674666037911358, -1.6238999536508272, -0.6199556263538619, -0.15410436516655085, -0.3816543899426865, 0.3095246620251357, 0.18213390126551693, 4.492097801899369e-05, 0.954889837001447, -2.0180651247606236, 0.5011430832113065, 0.7019375990548377, -0.35420764781397024, 0.02623113210256715, 1.1800455384696376, -1.319921582094915, -0.6470961059887294, 1.816145096173063, 1.112974648388055, 0.0701925987129905, 0.21086210054882606, 0.5295678049372673, -0.008261532654117363, -0.06907710975239476, 0.9666428400665696, 0.8687300425468045, -1.1217964199023274, -1.5739327047228504, 0.6308878903193936, 0.6317464761335823, 0.14958164561674128, 0.04132433833840389, -0.022922727963336456, -0.9517559263680294, 1.4015792917121408, 0.6038466356348323, 0.26694932448701914, -0.1577614823606639, 0.6886607585304464, -1.7766292844292435, -0.709652134541324, 0.5700151717259795, 1.236679805364241, 1.0084774597557262, -0.18967335841858876, -0.17454619447005082, 0.06888575607696995, -1.9019657294659444, -1.6073233387377233], \"yaxis\": \"y9\"}, {\"line\": {\"color\": \"rgba(128, 128, 128, 1.0)\", \"dash\": \"solid\", \"shape\": \"linear\", \"width\": 1.3}, \"marker\": {\"size\": 2, \"symbol\": \"circle\"}, \"mode\": \"markers\", \"name\": \"C\", \"text\": \"\", \"type\": \"scatter\", \"x\": [-1.3655200158258656, 1.8038949899218248, 0.10843718531566045, 1.4355657023969033, -0.022422383228524325, -0.11741546053121543, 0.6385468531906983, -0.08348409080065669, -0.650770612339167, 0.3565848106287523, 1.594711505005319, -1.014433488127197, 0.6890127651066934, 0.3977818554815641, -1.341690125875958, -0.6988102568559302, -0.36712508794464865, -1.0522588585848436, 1.3882909633804152, -1.6094941778442455, -0.33120523917734057, -1.6903848972611626, 0.2843131685488693, 2.0035637132125133, -0.19697092284664577, -0.1514736478519328, -1.3298873967560545, 0.8235919879503149, -0.8030815481501907, -1.7409748037034218, 1.209499887557365, 2.1416193669136336, 1.4512468981049529, -0.5240122074515902, -0.37520021469507336, 1.4354493635068033, 1.0685554307252807, -0.8168828279085346, -1.5838185817713528, -0.4387628603968676, 0.03990606955832411, 2.6493819629058453, -1.1626131670879876, 0.01333459287637117, -0.7313883942559631, 0.8343779478478394, 0.8029890061540522, -1.412959274261139, 1.073032685859393, 0.2267015121459549, 1.143345332830039, 2.496603362120481, 0.9793209297274629, 0.8583954260892992, -1.2895959623160749, 0.2489351926348663, 1.4711880643513884, 0.9657769617053209, 1.583826612796633, -0.4454618003166316, 0.7445328747000158, 1.0616834457354132, -1.3195277669201264, 0.5047985700119586, -1.8297770264924418, -0.5786800269282291, 1.9202916269657508, -1.0730822622527767, 0.150800146046857, -1.2739672247693878, -0.8728613885960235, 0.8914441421994455, 1.5761950339719883, -1.3717201448056051, 1.3337188675745775, -0.022728635798502476, 2.1905772534661017, 0.6312529720703588, -1.0380398690782615, 1.6329567828998433, 0.20035279599071623, -0.7784045068351377, 1.2532029356440353, -0.7709214851815889, -0.15009567530999388, -0.16439602171750148, 0.15408902677376046, -0.30995291488325527, -0.11498077746145126, 0.4083918780301276, -0.36918189473767477, 1.415344496215347, -0.21976358236558427, 2.6148405210002705, -1.5097530168154465, 0.44936574046642674, 0.07000168611707176, 0.08650081185933392, 0.9203281370471121, 1.5903200193556177], \"xaxis\": \"x10\", \"y\": [-1.0443923988550883, 0.5759995529236465, 0.9054989998491968, 0.6203644361671303, -0.06924857428643545, 0.02450828462246479, 0.829083324418259, -0.8179730543177922, 1.287131551246612, 2.35528249916397, 0.6248232285928756, -0.9797254984790027, 0.9098143402760405, 0.3346415659201809, 0.09350815869751432, -0.09885958176882112, 0.09915361248980409, -0.5970247720274051, -1.6496275868366244, -1.9395735343061775, -0.9973024489511103, -0.16547273659582543, 0.3945415979397608, -0.0416585702958144, -0.5265133052913373, -0.25915431437378605, -0.45914539801171333, 0.3635293135932887, -1.9291580431323683, -0.6169138440693483, -0.7881260295130461, -0.7646199713213452, 2.222560477265973, -0.736085636806195, 0.19511887226317776, 0.3930289680255666, 1.164892302752009, 0.7289276728446223, -0.10737424906375048, 0.34697764144859505, 1.4308048085034748, -0.10532418477598272, -0.3922722938914601, -0.2863748856102306, 1.1679381125666788, -1.081180250408216, -0.5678364865562925, 0.564016520048274, 0.4952489232462605, -1.4171433403855391, -0.3039000655850409, -0.674666037911358, -1.6238999536508272, -0.6199556263538619, -0.15410436516655085, -0.3816543899426865, 0.3095246620251357, 0.18213390126551693, 4.492097801899369e-05, 0.954889837001447, -2.0180651247606236, 0.5011430832113065, 0.7019375990548377, -0.35420764781397024, 0.02623113210256715, 1.1800455384696376, -1.319921582094915, -0.6470961059887294, 1.816145096173063, 1.112974648388055, 0.0701925987129905, 0.21086210054882606, 0.5295678049372673, -0.008261532654117363, -0.06907710975239476, 0.9666428400665696, 0.8687300425468045, -1.1217964199023274, -1.5739327047228504, 0.6308878903193936, 0.6317464761335823, 0.14958164561674128, 0.04132433833840389, -0.022922727963336456, -0.9517559263680294, 1.4015792917121408, 0.6038466356348323, 0.26694932448701914, -0.1577614823606639, 0.6886607585304464, -1.7766292844292435, -0.709652134541324, 0.5700151717259795, 1.236679805364241, 1.0084774597557262, -0.18967335841858876, -0.17454619447005082, 0.06888575607696995, -1.9019657294659444, -1.6073233387377233], \"yaxis\": \"y10\"}, {\"histfunc\": \"count\", \"histnorm\": \"\", \"marker\": {\"color\": \"rgba(50, 171, 96, 1.0)\", \"line\": {\"color\": \"#4D5663\", \"width\": 1.3}}, \"name\": \"C\", \"nbinsx\": 10, \"opacity\": 0.8, \"orientation\": \"v\", \"type\": \"histogram\", \"x\": [-1.0443923988550883, 0.5759995529236465, 0.9054989998491968, 0.6203644361671303, -0.06924857428643545, 0.02450828462246479, 0.829083324418259, -0.8179730543177922, 1.287131551246612, 2.35528249916397, 0.6248232285928756, -0.9797254984790027, 0.9098143402760405, 0.3346415659201809, 0.09350815869751432, -0.09885958176882112, 0.09915361248980409, -0.5970247720274051, -1.6496275868366244, -1.9395735343061775, -0.9973024489511103, -0.16547273659582543, 0.3945415979397608, -0.0416585702958144, -0.5265133052913373, -0.25915431437378605, -0.45914539801171333, 0.3635293135932887, -1.9291580431323683, -0.6169138440693483, -0.7881260295130461, -0.7646199713213452, 2.222560477265973, -0.736085636806195, 0.19511887226317776, 0.3930289680255666, 1.164892302752009, 0.7289276728446223, -0.10737424906375048, 0.34697764144859505, 1.4308048085034748, -0.10532418477598272, -0.3922722938914601, -0.2863748856102306, 1.1679381125666788, -1.081180250408216, -0.5678364865562925, 0.564016520048274, 0.4952489232462605, -1.4171433403855391, -0.3039000655850409, -0.674666037911358, -1.6238999536508272, -0.6199556263538619, -0.15410436516655085, -0.3816543899426865, 0.3095246620251357, 0.18213390126551693, 4.492097801899369e-05, 0.954889837001447, -2.0180651247606236, 0.5011430832113065, 0.7019375990548377, -0.35420764781397024, 0.02623113210256715, 1.1800455384696376, -1.319921582094915, -0.6470961059887294, 1.816145096173063, 1.112974648388055, 0.0701925987129905, 0.21086210054882606, 0.5295678049372673, -0.008261532654117363, -0.06907710975239476, 0.9666428400665696, 0.8687300425468045, -1.1217964199023274, -1.5739327047228504, 0.6308878903193936, 0.6317464761335823, 0.14958164561674128, 0.04132433833840389, -0.022922727963336456, -0.9517559263680294, 1.4015792917121408, 0.6038466356348323, 0.26694932448701914, -0.1577614823606639, 0.6886607585304464, -1.7766292844292435, -0.709652134541324, 0.5700151717259795, 1.236679805364241, 1.0084774597557262, -0.18967335841858876, -0.17454619447005082, 0.06888575607696995, -1.9019657294659444, -1.6073233387377233], \"xaxis\": \"x11\", \"yaxis\": \"y11\"}, {\"line\": {\"color\": \"rgba(128, 128, 128, 1.0)\", \"dash\": \"solid\", \"shape\": \"linear\", \"width\": 1.3}, \"marker\": {\"size\": 2, \"symbol\": \"circle\"}, \"mode\": \"markers\", \"name\": \"C\", \"text\": \"\", \"type\": \"scatter\", \"x\": [0.49121024915659534, -0.6054208280330104, 0.4286133751507561, 0.5749791299996299, -1.4651647654724183, 1.5091235424591303, -1.9028446965144412, 0.8556574037290288, 1.0184410347708033, 0.16975296591159805, -1.0819803297839774, 2.2897431306900065, 1.5275189159802138, 0.548235816602612, 0.5189169567447889, 0.225315009495835, 0.5325987480959407, 0.664647475231488, 1.4104501919810468, -1.0471501792872175, 0.7748136152235511, 0.3867417476639088, -0.28077710498348185, -1.6231256705971266, -0.285245216581967, 0.3981051276950406, -1.0612838474336348, 0.4022015086996178, -0.8322587093790262, 0.6651191410496203, 1.2579646460569598, 0.01684876411202814, 0.45152140974726257, -2.136011881929804, -0.07110882406206066, -0.8350381719926955, -0.7096150691234179, 0.0833020807038666, -1.2810627177009017, -0.5627280130124556, 0.3423593122646959, -0.38033636926180336, -2.4683585500783534, 1.4915813469249055, 0.23922250306859477, 1.0417385489456086, 0.6521999486033947, 1.4655723982644033, -1.8355261359209765, 0.013260204635078612, -0.9888656867572325, 0.8225639406761003, -2.6833171397996676, -0.6609511765107219, -0.745568929564417, 1.746436407878108, -0.4053585682370533, -0.28814461539863484, 0.7502246863560132, 1.2099094927051703, 0.7767443473779333, -0.9653578660164819, 1.1780862842340172, -0.4905071894476108, 1.5358221313058311, -0.7151415875177684, -0.1735930908244306, -0.09704506911224087, 0.8231424686940455, 1.199028806085445, -1.188384939751405, -0.40143860096391515, -0.12640927825109832, 0.8614192962420617, -1.2342541720865574, 0.21648117015489163, 1.6235951677327358, 0.4467158869038937, 0.1563263832875724, 0.11919124064187522, -1.5373422092171551, -1.5125276057454, -1.328436814796126, -0.6673350516205485, 0.9296382051593038, -0.706515671269773, -0.3177655840393208, 0.3073804944759816, -0.9851963314047077, 1.6905939706242712, 0.1281989805328292, 0.31804404398677755, 1.2562240009626575, -0.08291136730888701, 0.17879678765892845, -2.7675719398666687, 0.8889994754497441, 2.325165108614538, 2.368083968830104, 0.8826354593944352], \"xaxis\": \"x12\", \"y\": [-1.0443923988550883, 0.5759995529236465, 0.9054989998491968, 0.6203644361671303, -0.06924857428643545, 0.02450828462246479, 0.829083324418259, -0.8179730543177922, 1.287131551246612, 2.35528249916397, 0.6248232285928756, -0.9797254984790027, 0.9098143402760405, 0.3346415659201809, 0.09350815869751432, -0.09885958176882112, 0.09915361248980409, -0.5970247720274051, -1.6496275868366244, -1.9395735343061775, -0.9973024489511103, -0.16547273659582543, 0.3945415979397608, -0.0416585702958144, -0.5265133052913373, -0.25915431437378605, -0.45914539801171333, 0.3635293135932887, -1.9291580431323683, -0.6169138440693483, -0.7881260295130461, -0.7646199713213452, 2.222560477265973, -0.736085636806195, 0.19511887226317776, 0.3930289680255666, 1.164892302752009, 0.7289276728446223, -0.10737424906375048, 0.34697764144859505, 1.4308048085034748, -0.10532418477598272, -0.3922722938914601, -0.2863748856102306, 1.1679381125666788, -1.081180250408216, -0.5678364865562925, 0.564016520048274, 0.4952489232462605, -1.4171433403855391, -0.3039000655850409, -0.674666037911358, -1.6238999536508272, -0.6199556263538619, -0.15410436516655085, -0.3816543899426865, 0.3095246620251357, 0.18213390126551693, 4.492097801899369e-05, 0.954889837001447, -2.0180651247606236, 0.5011430832113065, 0.7019375990548377, -0.35420764781397024, 0.02623113210256715, 1.1800455384696376, -1.319921582094915, -0.6470961059887294, 1.816145096173063, 1.112974648388055, 0.0701925987129905, 0.21086210054882606, 0.5295678049372673, -0.008261532654117363, -0.06907710975239476, 0.9666428400665696, 0.8687300425468045, -1.1217964199023274, -1.5739327047228504, 0.6308878903193936, 0.6317464761335823, 0.14958164561674128, 0.04132433833840389, -0.022922727963336456, -0.9517559263680294, 1.4015792917121408, 0.6038466356348323, 0.26694932448701914, -0.1577614823606639, 0.6886607585304464, -1.7766292844292435, -0.709652134541324, 0.5700151717259795, 1.236679805364241, 1.0084774597557262, -0.18967335841858876, -0.17454619447005082, 0.06888575607696995, -1.9019657294659444, -1.6073233387377233], \"yaxis\": \"y12\"}, {\"line\": {\"color\": \"rgba(128, 128, 128, 1.0)\", \"dash\": \"solid\", \"shape\": \"linear\", \"width\": 1.3}, \"marker\": {\"size\": 2, \"symbol\": \"circle\"}, \"mode\": \"markers\", \"name\": \"D\", \"text\": \"\", \"type\": \"scatter\", \"x\": [0.0894442250382196, -1.1636901974238956, -0.14222402464788517, 2.0778243621370107, 0.007891208853460787, 1.5114211282301155, -0.5781301716748249, -0.6493464768341835, 0.8804366298714607, -0.28659777359830724, -1.5497540650436465, 0.06842940166910959, -0.8432149839111754, 0.3625754416965515, 1.7444769159705618, -1.7432789276671714, 0.8127035469807969, 0.03540155607319169, 1.3149034064472398, -0.8091799746687368, 0.5944092099911594, 0.03851348232570403, 0.5753884431301269, -0.14955590357202014, 0.006847168151190288, -0.4779403451771194, -0.5121962485105361, 0.39522619677635673, -0.7774209665066977, 0.2010098882993933, -0.413765603541961, -1.837127240885446, -0.7430045491018606, 0.3817020317037981, -2.2971459526257667, -0.930848336285178, -0.059242497738331006, -0.7226483965722095, 0.9331620841320196, -0.007067825779079438, -0.24593939584039556, -0.23069547894684309, 1.0131302346093156, 2.16057042620193, 0.12158079292653799, 1.9895997640116458, 0.8383931024137476, -0.008374359246434421, 1.4147381393816199, -0.7975371494374897, 1.6005923733589194, 0.8461877996382429, 0.6049372106916631, 0.6167289385603898, -0.9841922062555499, -0.7090223222393144, -0.20062344927579204, -0.21840508922074062, 0.46574555484211694, 0.901984420014373, 0.2751723113873585, -0.7373810854520237, 1.2959580631458174, 1.3275372519280928, -0.14695123385579606, -0.9368085763045358, 0.4789197351621965, 0.6776401387760087, 0.5397652861837627, 0.13821965496865166, -0.6589820202089064, -0.17053658113319353, -1.1714716606227185, -0.6338918773750294, 1.4530407842838158, -0.3677987470750953, -0.578155120774312, 2.1707062080560133, -0.035509206884830384, -0.8735811264138856, 0.3147312144581037, 0.4965454858722151, 1.8680870347309269, 0.6875958421101073, -1.2340194983831576, -1.0017507758501363, -0.24547889804649828, -1.5561944000977719, -1.2255841958311244, -1.8797420996939276, -1.1416902067245454, -0.8550160927407154, -0.48042608219442223, -0.27799480490922684, 1.3749139157097308, 0.27300356286191324, -0.8159390980627154, -0.01673684419022112, -1.126958887272344, 0.1649610079367353], \"xaxis\": \"x13\", \"y\": [0.49121024915659534, -0.6054208280330104, 0.4286133751507561, 0.5749791299996299, -1.4651647654724183, 1.5091235424591303, -1.9028446965144412, 0.8556574037290288, 1.0184410347708033, 0.16975296591159805, -1.0819803297839774, 2.2897431306900065, 1.5275189159802138, 0.548235816602612, 0.5189169567447889, 0.225315009495835, 0.5325987480959407, 0.664647475231488, 1.4104501919810468, -1.0471501792872175, 0.7748136152235511, 0.3867417476639088, -0.28077710498348185, -1.6231256705971266, -0.285245216581967, 0.3981051276950406, -1.0612838474336348, 0.4022015086996178, -0.8322587093790262, 0.6651191410496203, 1.2579646460569598, 0.01684876411202814, 0.45152140974726257, -2.136011881929804, -0.07110882406206066, -0.8350381719926955, -0.7096150691234179, 0.0833020807038666, -1.2810627177009017, -0.5627280130124556, 0.3423593122646959, -0.38033636926180336, -2.4683585500783534, 1.4915813469249055, 0.23922250306859477, 1.0417385489456086, 0.6521999486033947, 1.4655723982644033, -1.8355261359209765, 0.013260204635078612, -0.9888656867572325, 0.8225639406761003, -2.6833171397996676, -0.6609511765107219, -0.745568929564417, 1.746436407878108, -0.4053585682370533, -0.28814461539863484, 0.7502246863560132, 1.2099094927051703, 0.7767443473779333, -0.9653578660164819, 1.1780862842340172, -0.4905071894476108, 1.5358221313058311, -0.7151415875177684, -0.1735930908244306, -0.09704506911224087, 0.8231424686940455, 1.199028806085445, -1.188384939751405, -0.40143860096391515, -0.12640927825109832, 0.8614192962420617, -1.2342541720865574, 0.21648117015489163, 1.6235951677327358, 0.4467158869038937, 0.1563263832875724, 0.11919124064187522, -1.5373422092171551, -1.5125276057454, -1.328436814796126, -0.6673350516205485, 0.9296382051593038, -0.706515671269773, -0.3177655840393208, 0.3073804944759816, -0.9851963314047077, 1.6905939706242712, 0.1281989805328292, 0.31804404398677755, 1.2562240009626575, -0.08291136730888701, 0.17879678765892845, -2.7675719398666687, 0.8889994754497441, 2.325165108614538, 2.368083968830104, 0.8826354593944352], \"yaxis\": \"y13\"}, {\"line\": {\"color\": \"rgba(128, 128, 128, 1.0)\", \"dash\": \"solid\", \"shape\": \"linear\", \"width\": 1.3}, \"marker\": {\"size\": 2, \"symbol\": \"circle\"}, \"mode\": \"markers\", \"name\": \"D\", \"text\": \"\", \"type\": \"scatter\", \"x\": [-1.3655200158258656, 1.8038949899218248, 0.10843718531566045, 1.4355657023969033, -0.022422383228524325, -0.11741546053121543, 0.6385468531906983, -0.08348409080065669, -0.650770612339167, 0.3565848106287523, 1.594711505005319, -1.014433488127197, 0.6890127651066934, 0.3977818554815641, -1.341690125875958, -0.6988102568559302, -0.36712508794464865, -1.0522588585848436, 1.3882909633804152, -1.6094941778442455, -0.33120523917734057, -1.6903848972611626, 0.2843131685488693, 2.0035637132125133, -0.19697092284664577, -0.1514736478519328, -1.3298873967560545, 0.8235919879503149, -0.8030815481501907, -1.7409748037034218, 1.209499887557365, 2.1416193669136336, 1.4512468981049529, -0.5240122074515902, -0.37520021469507336, 1.4354493635068033, 1.0685554307252807, -0.8168828279085346, -1.5838185817713528, -0.4387628603968676, 0.03990606955832411, 2.6493819629058453, -1.1626131670879876, 0.01333459287637117, -0.7313883942559631, 0.8343779478478394, 0.8029890061540522, -1.412959274261139, 1.073032685859393, 0.2267015121459549, 1.143345332830039, 2.496603362120481, 0.9793209297274629, 0.8583954260892992, -1.2895959623160749, 0.2489351926348663, 1.4711880643513884, 0.9657769617053209, 1.583826612796633, -0.4454618003166316, 0.7445328747000158, 1.0616834457354132, -1.3195277669201264, 0.5047985700119586, -1.8297770264924418, -0.5786800269282291, 1.9202916269657508, -1.0730822622527767, 0.150800146046857, -1.2739672247693878, -0.8728613885960235, 0.8914441421994455, 1.5761950339719883, -1.3717201448056051, 1.3337188675745775, -0.022728635798502476, 2.1905772534661017, 0.6312529720703588, -1.0380398690782615, 1.6329567828998433, 0.20035279599071623, -0.7784045068351377, 1.2532029356440353, -0.7709214851815889, -0.15009567530999388, -0.16439602171750148, 0.15408902677376046, -0.30995291488325527, -0.11498077746145126, 0.4083918780301276, -0.36918189473767477, 1.415344496215347, -0.21976358236558427, 2.6148405210002705, -1.5097530168154465, 0.44936574046642674, 0.07000168611707176, 0.08650081185933392, 0.9203281370471121, 1.5903200193556177], \"xaxis\": \"x14\", \"y\": [0.49121024915659534, -0.6054208280330104, 0.4286133751507561, 0.5749791299996299, -1.4651647654724183, 1.5091235424591303, -1.9028446965144412, 0.8556574037290288, 1.0184410347708033, 0.16975296591159805, -1.0819803297839774, 2.2897431306900065, 1.5275189159802138, 0.548235816602612, 0.5189169567447889, 0.225315009495835, 0.5325987480959407, 0.664647475231488, 1.4104501919810468, -1.0471501792872175, 0.7748136152235511, 0.3867417476639088, -0.28077710498348185, -1.6231256705971266, -0.285245216581967, 0.3981051276950406, -1.0612838474336348, 0.4022015086996178, -0.8322587093790262, 0.6651191410496203, 1.2579646460569598, 0.01684876411202814, 0.45152140974726257, -2.136011881929804, -0.07110882406206066, -0.8350381719926955, -0.7096150691234179, 0.0833020807038666, -1.2810627177009017, -0.5627280130124556, 0.3423593122646959, -0.38033636926180336, -2.4683585500783534, 1.4915813469249055, 0.23922250306859477, 1.0417385489456086, 0.6521999486033947, 1.4655723982644033, -1.8355261359209765, 0.013260204635078612, -0.9888656867572325, 0.8225639406761003, -2.6833171397996676, -0.6609511765107219, -0.745568929564417, 1.746436407878108, -0.4053585682370533, -0.28814461539863484, 0.7502246863560132, 1.2099094927051703, 0.7767443473779333, -0.9653578660164819, 1.1780862842340172, -0.4905071894476108, 1.5358221313058311, -0.7151415875177684, -0.1735930908244306, -0.09704506911224087, 0.8231424686940455, 1.199028806085445, -1.188384939751405, -0.40143860096391515, -0.12640927825109832, 0.8614192962420617, -1.2342541720865574, 0.21648117015489163, 1.6235951677327358, 0.4467158869038937, 0.1563263832875724, 0.11919124064187522, -1.5373422092171551, -1.5125276057454, -1.328436814796126, -0.6673350516205485, 0.9296382051593038, -0.706515671269773, -0.3177655840393208, 0.3073804944759816, -0.9851963314047077, 1.6905939706242712, 0.1281989805328292, 0.31804404398677755, 1.2562240009626575, -0.08291136730888701, 0.17879678765892845, -2.7675719398666687, 0.8889994754497441, 2.325165108614538, 2.368083968830104, 0.8826354593944352], \"yaxis\": \"y14\"}, {\"line\": {\"color\": \"rgba(128, 128, 128, 1.0)\", \"dash\": \"solid\", \"shape\": \"linear\", \"width\": 1.3}, \"marker\": {\"size\": 2, \"symbol\": \"circle\"}, \"mode\": \"markers\", \"name\": \"D\", \"text\": \"\", \"type\": \"scatter\", \"x\": [-1.0443923988550883, 0.5759995529236465, 0.9054989998491968, 0.6203644361671303, -0.06924857428643545, 0.02450828462246479, 0.829083324418259, -0.8179730543177922, 1.287131551246612, 2.35528249916397, 0.6248232285928756, -0.9797254984790027, 0.9098143402760405, 0.3346415659201809, 0.09350815869751432, -0.09885958176882112, 0.09915361248980409, -0.5970247720274051, -1.6496275868366244, -1.9395735343061775, -0.9973024489511103, -0.16547273659582543, 0.3945415979397608, -0.0416585702958144, -0.5265133052913373, -0.25915431437378605, -0.45914539801171333, 0.3635293135932887, -1.9291580431323683, -0.6169138440693483, -0.7881260295130461, -0.7646199713213452, 2.222560477265973, -0.736085636806195, 0.19511887226317776, 0.3930289680255666, 1.164892302752009, 0.7289276728446223, -0.10737424906375048, 0.34697764144859505, 1.4308048085034748, -0.10532418477598272, -0.3922722938914601, -0.2863748856102306, 1.1679381125666788, -1.081180250408216, -0.5678364865562925, 0.564016520048274, 0.4952489232462605, -1.4171433403855391, -0.3039000655850409, -0.674666037911358, -1.6238999536508272, -0.6199556263538619, -0.15410436516655085, -0.3816543899426865, 0.3095246620251357, 0.18213390126551693, 4.492097801899369e-05, 0.954889837001447, -2.0180651247606236, 0.5011430832113065, 0.7019375990548377, -0.35420764781397024, 0.02623113210256715, 1.1800455384696376, -1.319921582094915, -0.6470961059887294, 1.816145096173063, 1.112974648388055, 0.0701925987129905, 0.21086210054882606, 0.5295678049372673, -0.008261532654117363, -0.06907710975239476, 0.9666428400665696, 0.8687300425468045, -1.1217964199023274, -1.5739327047228504, 0.6308878903193936, 0.6317464761335823, 0.14958164561674128, 0.04132433833840389, -0.022922727963336456, -0.9517559263680294, 1.4015792917121408, 0.6038466356348323, 0.26694932448701914, -0.1577614823606639, 0.6886607585304464, -1.7766292844292435, -0.709652134541324, 0.5700151717259795, 1.236679805364241, 1.0084774597557262, -0.18967335841858876, -0.17454619447005082, 0.06888575607696995, -1.9019657294659444, -1.6073233387377233], \"xaxis\": \"x15\", \"y\": [0.49121024915659534, -0.6054208280330104, 0.4286133751507561, 0.5749791299996299, -1.4651647654724183, 1.5091235424591303, -1.9028446965144412, 0.8556574037290288, 1.0184410347708033, 0.16975296591159805, -1.0819803297839774, 2.2897431306900065, 1.5275189159802138, 0.548235816602612, 0.5189169567447889, 0.225315009495835, 0.5325987480959407, 0.664647475231488, 1.4104501919810468, -1.0471501792872175, 0.7748136152235511, 0.3867417476639088, -0.28077710498348185, -1.6231256705971266, -0.285245216581967, 0.3981051276950406, -1.0612838474336348, 0.4022015086996178, -0.8322587093790262, 0.6651191410496203, 1.2579646460569598, 0.01684876411202814, 0.45152140974726257, -2.136011881929804, -0.07110882406206066, -0.8350381719926955, -0.7096150691234179, 0.0833020807038666, -1.2810627177009017, -0.5627280130124556, 0.3423593122646959, -0.38033636926180336, -2.4683585500783534, 1.4915813469249055, 0.23922250306859477, 1.0417385489456086, 0.6521999486033947, 1.4655723982644033, -1.8355261359209765, 0.013260204635078612, -0.9888656867572325, 0.8225639406761003, -2.6833171397996676, -0.6609511765107219, -0.745568929564417, 1.746436407878108, -0.4053585682370533, -0.28814461539863484, 0.7502246863560132, 1.2099094927051703, 0.7767443473779333, -0.9653578660164819, 1.1780862842340172, -0.4905071894476108, 1.5358221313058311, -0.7151415875177684, -0.1735930908244306, -0.09704506911224087, 0.8231424686940455, 1.199028806085445, -1.188384939751405, -0.40143860096391515, -0.12640927825109832, 0.8614192962420617, -1.2342541720865574, 0.21648117015489163, 1.6235951677327358, 0.4467158869038937, 0.1563263832875724, 0.11919124064187522, -1.5373422092171551, -1.5125276057454, -1.328436814796126, -0.6673350516205485, 0.9296382051593038, -0.706515671269773, -0.3177655840393208, 0.3073804944759816, -0.9851963314047077, 1.6905939706242712, 0.1281989805328292, 0.31804404398677755, 1.2562240009626575, -0.08291136730888701, 0.17879678765892845, -2.7675719398666687, 0.8889994754497441, 2.325165108614538, 2.368083968830104, 0.8826354593944352], \"yaxis\": \"y15\"}, {\"histfunc\": \"count\", \"histnorm\": \"\", \"marker\": {\"color\": \"rgba(128, 0, 128, 1.0)\", \"line\": {\"color\": \"#4D5663\", \"width\": 1.3}}, \"name\": \"D\", \"nbinsx\": 10, \"opacity\": 0.8, \"orientation\": \"v\", \"type\": \"histogram\", \"x\": [0.49121024915659534, -0.6054208280330104, 0.4286133751507561, 0.5749791299996299, -1.4651647654724183, 1.5091235424591303, -1.9028446965144412, 0.8556574037290288, 1.0184410347708033, 0.16975296591159805, -1.0819803297839774, 2.2897431306900065, 1.5275189159802138, 0.548235816602612, 0.5189169567447889, 0.225315009495835, 0.5325987480959407, 0.664647475231488, 1.4104501919810468, -1.0471501792872175, 0.7748136152235511, 0.3867417476639088, -0.28077710498348185, -1.6231256705971266, -0.285245216581967, 0.3981051276950406, -1.0612838474336348, 0.4022015086996178, -0.8322587093790262, 0.6651191410496203, 1.2579646460569598, 0.01684876411202814, 0.45152140974726257, -2.136011881929804, -0.07110882406206066, -0.8350381719926955, -0.7096150691234179, 0.0833020807038666, -1.2810627177009017, -0.5627280130124556, 0.3423593122646959, -0.38033636926180336, -2.4683585500783534, 1.4915813469249055, 0.23922250306859477, 1.0417385489456086, 0.6521999486033947, 1.4655723982644033, -1.8355261359209765, 0.013260204635078612, -0.9888656867572325, 0.8225639406761003, -2.6833171397996676, -0.6609511765107219, -0.745568929564417, 1.746436407878108, -0.4053585682370533, -0.28814461539863484, 0.7502246863560132, 1.2099094927051703, 0.7767443473779333, -0.9653578660164819, 1.1780862842340172, -0.4905071894476108, 1.5358221313058311, -0.7151415875177684, -0.1735930908244306, -0.09704506911224087, 0.8231424686940455, 1.199028806085445, -1.188384939751405, -0.40143860096391515, -0.12640927825109832, 0.8614192962420617, -1.2342541720865574, 0.21648117015489163, 1.6235951677327358, 0.4467158869038937, 0.1563263832875724, 0.11919124064187522, -1.5373422092171551, -1.5125276057454, -1.328436814796126, -0.6673350516205485, 0.9296382051593038, -0.706515671269773, -0.3177655840393208, 0.3073804944759816, -0.9851963314047077, 1.6905939706242712, 0.1281989805328292, 0.31804404398677755, 1.2562240009626575, -0.08291136730888701, 0.17879678765892845, -2.7675719398666687, 0.8889994754497441, 2.325165108614538, 2.368083968830104, 0.8826354593944352], \"xaxis\": \"x16\", \"yaxis\": \"y16\"}],\n",
       "                        {\"bargap\": 0.02, \"legend\": {\"bgcolor\": \"#F5F6F9\", \"font\": {\"color\": \"#4D5663\"}}, \"paper_bgcolor\": \"#F5F6F9\", \"plot_bgcolor\": \"#F5F6F9\", \"showlegend\": false, \"template\": {\"data\": {\"bar\": [{\"error_x\": {\"color\": \"#2a3f5f\"}, \"error_y\": {\"color\": \"#2a3f5f\"}, \"marker\": {\"line\": {\"color\": \"#E5ECF6\", \"width\": 0.5}}, \"type\": \"bar\"}], \"barpolar\": [{\"marker\": {\"line\": {\"color\": \"#E5ECF6\", \"width\": 0.5}}, \"type\": \"barpolar\"}], \"carpet\": [{\"aaxis\": {\"endlinecolor\": \"#2a3f5f\", \"gridcolor\": \"white\", \"linecolor\": \"white\", \"minorgridcolor\": \"white\", \"startlinecolor\": \"#2a3f5f\"}, \"baxis\": {\"endlinecolor\": \"#2a3f5f\", \"gridcolor\": \"white\", \"linecolor\": \"white\", \"minorgridcolor\": \"white\", \"startlinecolor\": \"#2a3f5f\"}, \"type\": \"carpet\"}], \"choropleth\": [{\"colorbar\": {\"outlinewidth\": 0, \"ticks\": \"\"}, \"type\": \"choropleth\"}], \"contour\": [{\"colorbar\": {\"outlinewidth\": 0, \"ticks\": \"\"}, \"colorscale\": [[0.0, \"#0d0887\"], [0.1111111111111111, \"#46039f\"], [0.2222222222222222, \"#7201a8\"], [0.3333333333333333, \"#9c179e\"], [0.4444444444444444, \"#bd3786\"], [0.5555555555555556, \"#d8576b\"], [0.6666666666666666, \"#ed7953\"], [0.7777777777777778, \"#fb9f3a\"], [0.8888888888888888, \"#fdca26\"], [1.0, \"#f0f921\"]], \"type\": \"contour\"}], \"contourcarpet\": [{\"colorbar\": {\"outlinewidth\": 0, \"ticks\": \"\"}, \"type\": \"contourcarpet\"}], \"heatmap\": [{\"colorbar\": {\"outlinewidth\": 0, \"ticks\": \"\"}, \"colorscale\": [[0.0, \"#0d0887\"], [0.1111111111111111, \"#46039f\"], [0.2222222222222222, \"#7201a8\"], [0.3333333333333333, \"#9c179e\"], [0.4444444444444444, \"#bd3786\"], [0.5555555555555556, \"#d8576b\"], [0.6666666666666666, \"#ed7953\"], [0.7777777777777778, \"#fb9f3a\"], [0.8888888888888888, \"#fdca26\"], [1.0, \"#f0f921\"]], \"type\": \"heatmap\"}], \"heatmapgl\": [{\"colorbar\": {\"outlinewidth\": 0, \"ticks\": \"\"}, \"colorscale\": [[0.0, \"#0d0887\"], [0.1111111111111111, \"#46039f\"], [0.2222222222222222, \"#7201a8\"], [0.3333333333333333, \"#9c179e\"], [0.4444444444444444, \"#bd3786\"], [0.5555555555555556, \"#d8576b\"], [0.6666666666666666, \"#ed7953\"], [0.7777777777777778, \"#fb9f3a\"], [0.8888888888888888, \"#fdca26\"], [1.0, \"#f0f921\"]], \"type\": \"heatmapgl\"}], \"histogram\": [{\"marker\": {\"colorbar\": {\"outlinewidth\": 0, \"ticks\": \"\"}}, \"type\": \"histogram\"}], \"histogram2d\": [{\"colorbar\": {\"outlinewidth\": 0, \"ticks\": \"\"}, \"colorscale\": [[0.0, \"#0d0887\"], [0.1111111111111111, \"#46039f\"], [0.2222222222222222, \"#7201a8\"], [0.3333333333333333, \"#9c179e\"], [0.4444444444444444, \"#bd3786\"], [0.5555555555555556, \"#d8576b\"], [0.6666666666666666, \"#ed7953\"], [0.7777777777777778, \"#fb9f3a\"], [0.8888888888888888, \"#fdca26\"], [1.0, \"#f0f921\"]], \"type\": \"histogram2d\"}], \"histogram2dcontour\": [{\"colorbar\": {\"outlinewidth\": 0, \"ticks\": \"\"}, \"colorscale\": [[0.0, \"#0d0887\"], [0.1111111111111111, \"#46039f\"], [0.2222222222222222, \"#7201a8\"], [0.3333333333333333, \"#9c179e\"], [0.4444444444444444, \"#bd3786\"], [0.5555555555555556, \"#d8576b\"], [0.6666666666666666, \"#ed7953\"], [0.7777777777777778, \"#fb9f3a\"], [0.8888888888888888, \"#fdca26\"], [1.0, \"#f0f921\"]], \"type\": \"histogram2dcontour\"}], \"mesh3d\": [{\"colorbar\": {\"outlinewidth\": 0, \"ticks\": \"\"}, \"type\": \"mesh3d\"}], \"parcoords\": [{\"line\": {\"colorbar\": {\"outlinewidth\": 0, \"ticks\": \"\"}}, \"type\": \"parcoords\"}], \"pie\": [{\"automargin\": true, \"type\": \"pie\"}], \"scatter\": [{\"marker\": {\"colorbar\": {\"outlinewidth\": 0, \"ticks\": \"\"}}, \"type\": \"scatter\"}], \"scatter3d\": [{\"line\": {\"colorbar\": {\"outlinewidth\": 0, \"ticks\": \"\"}}, \"marker\": {\"colorbar\": {\"outlinewidth\": 0, \"ticks\": \"\"}}, \"type\": \"scatter3d\"}], \"scattercarpet\": [{\"marker\": {\"colorbar\": {\"outlinewidth\": 0, \"ticks\": \"\"}}, \"type\": \"scattercarpet\"}], \"scattergeo\": [{\"marker\": {\"colorbar\": {\"outlinewidth\": 0, \"ticks\": \"\"}}, \"type\": \"scattergeo\"}], \"scattergl\": [{\"marker\": {\"colorbar\": {\"outlinewidth\": 0, \"ticks\": \"\"}}, \"type\": \"scattergl\"}], \"scattermapbox\": [{\"marker\": {\"colorbar\": {\"outlinewidth\": 0, \"ticks\": \"\"}}, \"type\": \"scattermapbox\"}], \"scatterpolar\": [{\"marker\": {\"colorbar\": {\"outlinewidth\": 0, \"ticks\": \"\"}}, \"type\": \"scatterpolar\"}], \"scatterpolargl\": [{\"marker\": {\"colorbar\": {\"outlinewidth\": 0, \"ticks\": \"\"}}, \"type\": \"scatterpolargl\"}], \"scatterternary\": [{\"marker\": {\"colorbar\": {\"outlinewidth\": 0, \"ticks\": \"\"}}, \"type\": \"scatterternary\"}], \"surface\": [{\"colorbar\": {\"outlinewidth\": 0, \"ticks\": \"\"}, \"colorscale\": [[0.0, \"#0d0887\"], [0.1111111111111111, \"#46039f\"], [0.2222222222222222, \"#7201a8\"], [0.3333333333333333, \"#9c179e\"], [0.4444444444444444, \"#bd3786\"], [0.5555555555555556, \"#d8576b\"], [0.6666666666666666, \"#ed7953\"], [0.7777777777777778, \"#fb9f3a\"], [0.8888888888888888, \"#fdca26\"], [1.0, \"#f0f921\"]], \"type\": \"surface\"}], \"table\": [{\"cells\": {\"fill\": {\"color\": \"#EBF0F8\"}, \"line\": {\"color\": \"white\"}}, \"header\": {\"fill\": {\"color\": \"#C8D4E3\"}, \"line\": {\"color\": \"white\"}}, \"type\": \"table\"}]}, \"layout\": {\"annotationdefaults\": {\"arrowcolor\": \"#2a3f5f\", \"arrowhead\": 0, \"arrowwidth\": 1}, \"coloraxis\": {\"colorbar\": {\"outlinewidth\": 0, \"ticks\": \"\"}}, \"colorscale\": {\"diverging\": [[0, \"#8e0152\"], [0.1, \"#c51b7d\"], [0.2, \"#de77ae\"], [0.3, \"#f1b6da\"], [0.4, \"#fde0ef\"], [0.5, \"#f7f7f7\"], [0.6, \"#e6f5d0\"], [0.7, \"#b8e186\"], [0.8, \"#7fbc41\"], [0.9, \"#4d9221\"], [1, \"#276419\"]], \"sequential\": [[0.0, \"#0d0887\"], [0.1111111111111111, \"#46039f\"], [0.2222222222222222, \"#7201a8\"], [0.3333333333333333, \"#9c179e\"], [0.4444444444444444, \"#bd3786\"], [0.5555555555555556, \"#d8576b\"], [0.6666666666666666, \"#ed7953\"], [0.7777777777777778, \"#fb9f3a\"], [0.8888888888888888, \"#fdca26\"], [1.0, \"#f0f921\"]], \"sequentialminus\": [[0.0, \"#0d0887\"], [0.1111111111111111, \"#46039f\"], [0.2222222222222222, \"#7201a8\"], [0.3333333333333333, \"#9c179e\"], [0.4444444444444444, \"#bd3786\"], [0.5555555555555556, \"#d8576b\"], [0.6666666666666666, \"#ed7953\"], [0.7777777777777778, \"#fb9f3a\"], [0.8888888888888888, \"#fdca26\"], [1.0, \"#f0f921\"]]}, \"colorway\": [\"#636efa\", \"#EF553B\", \"#00cc96\", \"#ab63fa\", \"#FFA15A\", \"#19d3f3\", \"#FF6692\", \"#B6E880\", \"#FF97FF\", \"#FECB52\"], \"font\": {\"color\": \"#2a3f5f\"}, \"geo\": {\"bgcolor\": \"white\", \"lakecolor\": \"white\", \"landcolor\": \"#E5ECF6\", \"showlakes\": true, \"showland\": true, \"subunitcolor\": \"white\"}, \"hoverlabel\": {\"align\": \"left\"}, \"hovermode\": \"closest\", \"mapbox\": {\"style\": \"light\"}, \"paper_bgcolor\": \"white\", \"plot_bgcolor\": \"#E5ECF6\", \"polar\": {\"angularaxis\": {\"gridcolor\": \"white\", \"linecolor\": \"white\", \"ticks\": \"\"}, \"bgcolor\": \"#E5ECF6\", \"radialaxis\": {\"gridcolor\": \"white\", \"linecolor\": \"white\", \"ticks\": \"\"}}, \"scene\": {\"xaxis\": {\"backgroundcolor\": \"#E5ECF6\", \"gridcolor\": \"white\", \"gridwidth\": 2, \"linecolor\": \"white\", \"showbackground\": true, \"ticks\": \"\", \"zerolinecolor\": \"white\"}, \"yaxis\": {\"backgroundcolor\": \"#E5ECF6\", \"gridcolor\": \"white\", \"gridwidth\": 2, \"linecolor\": \"white\", \"showbackground\": true, \"ticks\": \"\", \"zerolinecolor\": \"white\"}, \"zaxis\": {\"backgroundcolor\": \"#E5ECF6\", \"gridcolor\": \"white\", \"gridwidth\": 2, \"linecolor\": \"white\", \"showbackground\": true, \"ticks\": \"\", \"zerolinecolor\": \"white\"}}, \"shapedefaults\": {\"line\": {\"color\": \"#2a3f5f\"}}, \"ternary\": {\"aaxis\": {\"gridcolor\": \"white\", \"linecolor\": \"white\", \"ticks\": \"\"}, \"baxis\": {\"gridcolor\": \"white\", \"linecolor\": \"white\", \"ticks\": \"\"}, \"bgcolor\": \"#E5ECF6\", \"caxis\": {\"gridcolor\": \"white\", \"linecolor\": \"white\", \"ticks\": \"\"}}, \"title\": {\"x\": 0.05}, \"xaxis\": {\"automargin\": true, \"gridcolor\": \"white\", \"linecolor\": \"white\", \"ticks\": \"\", \"title\": {\"standoff\": 15}, \"zerolinecolor\": \"white\", \"zerolinewidth\": 2}, \"yaxis\": {\"automargin\": true, \"gridcolor\": \"white\", \"linecolor\": \"white\", \"ticks\": \"\", \"title\": {\"standoff\": 15}, \"zerolinecolor\": \"white\", \"zerolinewidth\": 2}}}, \"title\": {\"font\": {\"color\": \"#4D5663\"}}, \"xaxis\": {\"anchor\": \"y\", \"domain\": [0.0, 0.2125], \"gridcolor\": \"#E1E5ED\", \"showgrid\": false, \"tickfont\": {\"color\": \"#4D5663\"}, \"title\": {\"font\": {\"color\": \"#4D5663\"}, \"text\": \"\"}, \"zerolinecolor\": \"#E1E5ED\"}, \"xaxis10\": {\"anchor\": \"y10\", \"domain\": [0.2625, 0.475], \"gridcolor\": \"#E1E5ED\", \"showgrid\": false, \"tickfont\": {\"color\": \"#4D5663\"}, \"title\": {\"font\": {\"color\": \"#4D5663\"}, \"text\": \"\"}, \"zerolinecolor\": \"#E1E5ED\"}, \"xaxis11\": {\"anchor\": \"y11\", \"domain\": [0.525, 0.7375], \"gridcolor\": \"#E1E5ED\", \"showgrid\": false, \"tickfont\": {\"color\": \"#4D5663\"}, \"title\": {\"font\": {\"color\": \"#4D5663\"}, \"text\": \"\"}, \"zerolinecolor\": \"#E1E5ED\"}, \"xaxis12\": {\"anchor\": \"y12\", \"domain\": [0.7875, 1.0], \"gridcolor\": \"#E1E5ED\", \"showgrid\": false, \"tickfont\": {\"color\": \"#4D5663\"}, \"title\": {\"font\": {\"color\": \"#4D5663\"}, \"text\": \"\"}, \"zerolinecolor\": \"#E1E5ED\"}, \"xaxis13\": {\"anchor\": \"y13\", \"domain\": [0.0, 0.2125], \"gridcolor\": \"#E1E5ED\", \"showgrid\": false, \"tickfont\": {\"color\": \"#4D5663\"}, \"title\": {\"font\": {\"color\": \"#4D5663\"}, \"text\": \"\"}, \"zerolinecolor\": \"#E1E5ED\"}, \"xaxis14\": {\"anchor\": \"y14\", \"domain\": [0.2625, 0.475], \"gridcolor\": \"#E1E5ED\", \"showgrid\": false, \"tickfont\": {\"color\": \"#4D5663\"}, \"title\": {\"font\": {\"color\": \"#4D5663\"}, \"text\": \"\"}, \"zerolinecolor\": \"#E1E5ED\"}, \"xaxis15\": {\"anchor\": \"y15\", \"domain\": [0.525, 0.7375], \"gridcolor\": \"#E1E5ED\", \"showgrid\": false, \"tickfont\": {\"color\": \"#4D5663\"}, \"title\": {\"font\": {\"color\": \"#4D5663\"}, \"text\": \"\"}, \"zerolinecolor\": \"#E1E5ED\"}, \"xaxis16\": {\"anchor\": \"y16\", \"domain\": [0.7875, 1.0], \"gridcolor\": \"#E1E5ED\", \"showgrid\": false, \"tickfont\": {\"color\": \"#4D5663\"}, \"title\": {\"font\": {\"color\": \"#4D5663\"}, \"text\": \"\"}, \"zerolinecolor\": \"#E1E5ED\"}, \"xaxis2\": {\"anchor\": \"y2\", \"domain\": [0.2625, 0.475], \"gridcolor\": \"#E1E5ED\", \"showgrid\": false, \"tickfont\": {\"color\": \"#4D5663\"}, \"title\": {\"font\": {\"color\": \"#4D5663\"}, \"text\": \"\"}, \"zerolinecolor\": \"#E1E5ED\"}, \"xaxis3\": {\"anchor\": \"y3\", \"domain\": [0.525, 0.7375], \"gridcolor\": \"#E1E5ED\", \"showgrid\": false, \"tickfont\": {\"color\": \"#4D5663\"}, \"title\": {\"font\": {\"color\": \"#4D5663\"}, \"text\": \"\"}, \"zerolinecolor\": \"#E1E5ED\"}, \"xaxis4\": {\"anchor\": \"y4\", \"domain\": [0.7875, 1.0], \"gridcolor\": \"#E1E5ED\", \"showgrid\": false, \"tickfont\": {\"color\": \"#4D5663\"}, \"title\": {\"font\": {\"color\": \"#4D5663\"}, \"text\": \"\"}, \"zerolinecolor\": \"#E1E5ED\"}, \"xaxis5\": {\"anchor\": \"y5\", \"domain\": [0.0, 0.2125], \"gridcolor\": \"#E1E5ED\", \"showgrid\": false, \"tickfont\": {\"color\": \"#4D5663\"}, \"title\": {\"font\": {\"color\": \"#4D5663\"}, \"text\": \"\"}, \"zerolinecolor\": \"#E1E5ED\"}, \"xaxis6\": {\"anchor\": \"y6\", \"domain\": [0.2625, 0.475], \"gridcolor\": \"#E1E5ED\", \"showgrid\": false, \"tickfont\": {\"color\": \"#4D5663\"}, \"title\": {\"font\": {\"color\": \"#4D5663\"}, \"text\": \"\"}, \"zerolinecolor\": \"#E1E5ED\"}, \"xaxis7\": {\"anchor\": \"y7\", \"domain\": [0.525, 0.7375], \"gridcolor\": \"#E1E5ED\", \"showgrid\": false, \"tickfont\": {\"color\": \"#4D5663\"}, \"title\": {\"font\": {\"color\": \"#4D5663\"}, \"text\": \"\"}, \"zerolinecolor\": \"#E1E5ED\"}, \"xaxis8\": {\"anchor\": \"y8\", \"domain\": [0.7875, 1.0], \"gridcolor\": \"#E1E5ED\", \"showgrid\": false, \"tickfont\": {\"color\": \"#4D5663\"}, \"title\": {\"font\": {\"color\": \"#4D5663\"}, \"text\": \"\"}, \"zerolinecolor\": \"#E1E5ED\"}, \"xaxis9\": {\"anchor\": \"y9\", \"domain\": [0.0, 0.2125], \"gridcolor\": \"#E1E5ED\", \"showgrid\": false, \"tickfont\": {\"color\": \"#4D5663\"}, \"title\": {\"font\": {\"color\": \"#4D5663\"}, \"text\": \"\"}, \"zerolinecolor\": \"#E1E5ED\"}, \"yaxis\": {\"anchor\": \"x\", \"domain\": [0.8025, 1.0], \"gridcolor\": \"#E1E5ED\", \"showgrid\": false, \"tickfont\": {\"color\": \"#4D5663\"}, \"title\": {\"font\": {\"color\": \"#4D5663\"}, \"text\": \"\"}, \"zerolinecolor\": \"#E1E5ED\"}, \"yaxis10\": {\"anchor\": \"x10\", \"domain\": [0.2675, 0.465], \"gridcolor\": \"#E1E5ED\", \"showgrid\": false, \"tickfont\": {\"color\": \"#4D5663\"}, \"title\": {\"font\": {\"color\": \"#4D5663\"}, \"text\": \"\"}, \"zerolinecolor\": \"#E1E5ED\"}, \"yaxis11\": {\"anchor\": \"x11\", \"domain\": [0.2675, 0.465], \"gridcolor\": \"#E1E5ED\", \"showgrid\": false, \"tickfont\": {\"color\": \"#4D5663\"}, \"title\": {\"font\": {\"color\": \"#4D5663\"}, \"text\": \"\"}, \"zerolinecolor\": \"#E1E5ED\"}, \"yaxis12\": {\"anchor\": \"x12\", \"domain\": [0.2675, 0.465], \"gridcolor\": \"#E1E5ED\", \"showgrid\": false, \"tickfont\": {\"color\": \"#4D5663\"}, \"title\": {\"font\": {\"color\": \"#4D5663\"}, \"text\": \"\"}, \"zerolinecolor\": \"#E1E5ED\"}, \"yaxis13\": {\"anchor\": \"x13\", \"domain\": [0.0, 0.1975], \"gridcolor\": \"#E1E5ED\", \"showgrid\": false, \"tickfont\": {\"color\": \"#4D5663\"}, \"title\": {\"font\": {\"color\": \"#4D5663\"}, \"text\": \"\"}, \"zerolinecolor\": \"#E1E5ED\"}, \"yaxis14\": {\"anchor\": \"x14\", \"domain\": [0.0, 0.1975], \"gridcolor\": \"#E1E5ED\", \"showgrid\": false, \"tickfont\": {\"color\": \"#4D5663\"}, \"title\": {\"font\": {\"color\": \"#4D5663\"}, \"text\": \"\"}, \"zerolinecolor\": \"#E1E5ED\"}, \"yaxis15\": {\"anchor\": \"x15\", \"domain\": [0.0, 0.1975], \"gridcolor\": \"#E1E5ED\", \"showgrid\": false, \"tickfont\": {\"color\": \"#4D5663\"}, \"title\": {\"font\": {\"color\": \"#4D5663\"}, \"text\": \"\"}, \"zerolinecolor\": \"#E1E5ED\"}, \"yaxis16\": {\"anchor\": \"x16\", \"domain\": [0.0, 0.1975], \"gridcolor\": \"#E1E5ED\", \"showgrid\": false, \"tickfont\": {\"color\": \"#4D5663\"}, \"title\": {\"font\": {\"color\": \"#4D5663\"}, \"text\": \"\"}, \"zerolinecolor\": \"#E1E5ED\"}, \"yaxis2\": {\"anchor\": \"x2\", \"domain\": [0.8025, 1.0], \"gridcolor\": \"#E1E5ED\", \"showgrid\": false, \"tickfont\": {\"color\": \"#4D5663\"}, \"title\": {\"font\": {\"color\": \"#4D5663\"}, \"text\": \"\"}, \"zerolinecolor\": \"#E1E5ED\"}, \"yaxis3\": {\"anchor\": \"x3\", \"domain\": [0.8025, 1.0], \"gridcolor\": \"#E1E5ED\", \"showgrid\": false, \"tickfont\": {\"color\": \"#4D5663\"}, \"title\": {\"font\": {\"color\": \"#4D5663\"}, \"text\": \"\"}, \"zerolinecolor\": \"#E1E5ED\"}, \"yaxis4\": {\"anchor\": \"x4\", \"domain\": [0.8025, 1.0], \"gridcolor\": \"#E1E5ED\", \"showgrid\": false, \"tickfont\": {\"color\": \"#4D5663\"}, \"title\": {\"font\": {\"color\": \"#4D5663\"}, \"text\": \"\"}, \"zerolinecolor\": \"#E1E5ED\"}, \"yaxis5\": {\"anchor\": \"x5\", \"domain\": [0.535, 0.7325], \"gridcolor\": \"#E1E5ED\", \"showgrid\": false, \"tickfont\": {\"color\": \"#4D5663\"}, \"title\": {\"font\": {\"color\": \"#4D5663\"}, \"text\": \"\"}, \"zerolinecolor\": \"#E1E5ED\"}, \"yaxis6\": {\"anchor\": \"x6\", \"domain\": [0.535, 0.7325], \"gridcolor\": \"#E1E5ED\", \"showgrid\": false, \"tickfont\": {\"color\": \"#4D5663\"}, \"title\": {\"font\": {\"color\": \"#4D5663\"}, \"text\": \"\"}, \"zerolinecolor\": \"#E1E5ED\"}, \"yaxis7\": {\"anchor\": \"x7\", \"domain\": [0.535, 0.7325], \"gridcolor\": \"#E1E5ED\", \"showgrid\": false, \"tickfont\": {\"color\": \"#4D5663\"}, \"title\": {\"font\": {\"color\": \"#4D5663\"}, \"text\": \"\"}, \"zerolinecolor\": \"#E1E5ED\"}, \"yaxis8\": {\"anchor\": \"x8\", \"domain\": [0.535, 0.7325], \"gridcolor\": \"#E1E5ED\", \"showgrid\": false, \"tickfont\": {\"color\": \"#4D5663\"}, \"title\": {\"font\": {\"color\": \"#4D5663\"}, \"text\": \"\"}, \"zerolinecolor\": \"#E1E5ED\"}, \"yaxis9\": {\"anchor\": \"x9\", \"domain\": [0.2675, 0.465], \"gridcolor\": \"#E1E5ED\", \"showgrid\": false, \"tickfont\": {\"color\": \"#4D5663\"}, \"title\": {\"font\": {\"color\": \"#4D5663\"}, \"text\": \"\"}, \"zerolinecolor\": \"#E1E5ED\"}},\n",
       "                        {\"showLink\": true, \"linkText\": \"Export to plot.ly\", \"plotlyServerURL\": \"https://plot.ly\", \"responsive\": true}\n",
       "                    ).then(function(){\n",
       "                            \n",
       "var gd = document.getElementById('44177535-a765-4e53-93ee-b1a4b82c05b8');\n",
       "var x = new MutationObserver(function (mutations, observer) {{\n",
       "        var display = window.getComputedStyle(gd).display;\n",
       "        if (!display || display === 'none') {{\n",
       "            console.log([gd, 'removed!']);\n",
       "            Plotly.purge(gd);\n",
       "            observer.disconnect();\n",
       "        }}\n",
       "}});\n",
       "\n",
       "// Listen for the removal of the full notebook cells\n",
       "var notebookContainer = gd.closest('#notebook-container');\n",
       "if (notebookContainer) {{\n",
       "    x.observe(notebookContainer, {childList: true});\n",
       "}}\n",
       "\n",
       "// Listen for the clearing of the current output cell\n",
       "var outputEl = gd.closest('.output');\n",
       "if (outputEl) {{\n",
       "    x.observe(outputEl, {childList: true});\n",
       "}}\n",
       "\n",
       "                        })\n",
       "                };\n",
       "                });\n",
       "            </script>\n",
       "        </div>"
      ]
     },
     "metadata": {},
     "output_type": "display_data"
    }
   ],
   "source": [
    "df.scatter_matrix()"
   ]
  },
  {
   "cell_type": "code",
   "execution_count": null,
   "metadata": {},
   "outputs": [],
   "source": []
  }
 ],
 "metadata": {
  "kernelspec": {
   "display_name": "Python 3",
   "language": "python",
   "name": "python3"
  },
  "language_info": {
   "codemirror_mode": {
    "name": "ipython",
    "version": 3
   },
   "file_extension": ".py",
   "mimetype": "text/x-python",
   "name": "python",
   "nbconvert_exporter": "python",
   "pygments_lexer": "ipython3",
   "version": "3.7.4"
  }
 },
 "nbformat": 4,
 "nbformat_minor": 2
}
